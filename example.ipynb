{
 "cells": [
  {
   "cell_type": "markdown",
   "id": "d32290f2",
   "metadata": {},
   "source": [
    "# Large-scale Inventory Networks Optimizing Based on the Guaranteed Service Model"
   ]
  },
  {
   "cell_type": "markdown",
   "id": "10aad0c7",
   "metadata": {},
   "source": [
    "Optimizing inventory policy on a large-scale inventory network is challenging since it might involve massive nodes and many shared materials.\n",
    "Two critical issues are: \n",
    "- choosing which nodes to place inventory \n",
    "- how much to set\n",
    "\n",
    "The guaranteed service model (GSM) is one of the main approaches to optimizing network inventory policy.\n",
    "\n",
    "This library provides several approaches to optimizing network inventory policy to solve the guaranteed service model (GSM). \n",
    "Users can input GSM instances in the required format and then call approaches to optimize policy. \n",
    "Or use our GSM instance generator to generate data for numerical tests.\n",
    "\n",
    "This library is based on our paper:\n",
    "- Optimizing Large-scale Inventory Networks: An Iterative Decomposition Approach (link).  \n",
    "\n",
    "This paper is a pre-print at present and has not yet been peer-reviewed. "
   ]
  },
  {
   "cell_type": "markdown",
   "id": "9a5a87f0",
   "metadata": {},
   "source": [
    "### Approaches considered:\n",
    "- **Dynamic programming (DP)** from (Graves and Willems 2000).\n",
    "  This approach is built for tree networks, it takes advantage of the fact that each node in any tree can be labeled with unique indices such that every node except one has at most one adjacent node with an index higher than its own. \n",
    "  This approach can find the optimal solution for assembly and distribution problems with tree structure. \n",
    "- **Heuristic general networks algorithm (HGNA)** from (Humair and Willems 2011)\n",
    "  This paper combines the above DP algorithm with a branch-and-bound scheme and provides an exact solution approach called **general networks algorithms (GNA)**. \n",
    "  GNA can find optimal solutions on general networks, but it takes a long time to find the solution for large-scale problems (a 2,025-nodes problem takes 577,190.78 seconds to find the optimal solution in their paper). \n",
    "  They provide two faster heuristics: **HGNA** and **TGNA**. HGNA is motivated by the structure of the formulation's dual space, whereas TGNA simply terminates the optimization algorithm after a fixed number of iterations.\n",
    "  We found that HGNA takes a long time to converge on large-scale problems but performs better than TGNA. \n",
    "  We add a parameter m*ax iter num* to terminate the HGNA after a fixed number of iterations like TGNA. \n",
    "  Note that HGNA is based on a modified form of the DP algorithm. In fact, when the network is a tree, HGNA runs the above DP algorithm. That is, HGNA finds the optimal solution for the tree structure problem.\n",
    "- **Piecewise linear approximation (PWL)** from (Magnanti et al. 2006)\n",
    "  This approach uses piecewise linear functions to approximate the objective function of GSM. Doing that turns the original GSM into a mixed integer programming problem and can be solved with a MIP solver.\n",
    "- **Dynamic sloping (DS)** and **iterative mixed integer programming (IMIP)** from (Shu and Karimi 2009). The first uses continuous approximation, while the second employs a two-piece linear approximation to approximate the concave objective function. \n",
    "- **Simple sequential linear programming (Simple-SLP)** from (Huang et al. 2022).\n",
    "  This approach use sequential linear programming to find several local solutions and return the local solution with the least cost as the solution.\n",
    "- **Iterative fixing with sequential linear programming (IF-SLP)** from (Huang et al. 2022).\n",
    "  Similar to the Simple-SLP, in each round search for the local solution, this approach fix the variable values of stable nodes every *stable finding iter* iterations.\n",
    "- **Iterative decomposition with sequential linear programming (ID-SLP)** from (Huang et al. 2022).\n",
    "  This approach uses local solutions to decompose the large-scale graph into small sub-graphs iteratively. It combines the fast local solution-finding approach, SLP, with the optimal approach for tree problems (dynamic programming). Numerical results show that this approach performs best especially when the graph size is large and the graph structure is complex. "
   ]
  },
  {
   "cell_type": "markdown",
   "id": "358d9ef6",
   "metadata": {},
   "source": [
    "## GSM Instance: generating, saving and loading"
   ]
  },
  {
   "cell_type": "code",
   "execution_count": 1,
   "id": "58b6291e",
   "metadata": {},
   "outputs": [],
   "source": [
    "from data_process import *"
   ]
  },
  {
   "cell_type": "markdown",
   "id": "19973279",
   "metadata": {},
   "source": [
    "### Generating"
   ]
  },
  {
   "cell_type": "code",
   "execution_count": 2,
   "id": "274b5b6d",
   "metadata": {},
   "outputs": [],
   "source": [
    "# generating a graph\n",
    "nodes_num = 1000\n",
    "edges_num = 5000\n",
    "graph_type = 'general'\n",
    "graph = generate_graph(nodes_num, edges_num, graph_type)"
   ]
  },
  {
   "cell_type": "code",
   "execution_count": 3,
   "id": "0e4df8f1",
   "metadata": {},
   "outputs": [],
   "source": [
    "# generating an instance\n",
    "gsm_instance = generate_gsm_instance(graph)"
   ]
  },
  {
   "cell_type": "markdown",
   "id": "4051a97a",
   "metadata": {},
   "source": [
    "### Saving"
   ]
  },
  {
   "cell_type": "code",
   "execution_count": 4,
   "id": "de8b82b4",
   "metadata": {},
   "outputs": [],
   "source": [
    "# write to csv\n",
    "write_to_csv(gsm_instance, data_dir='')"
   ]
  },
  {
   "cell_type": "code",
   "execution_count": 5,
   "id": "d26f3c09",
   "metadata": {},
   "outputs": [],
   "source": [
    "# write to pickle\n",
    "write_to_pickle(gsm_instance, data_dir='')"
   ]
  },
  {
   "cell_type": "markdown",
   "id": "012cc4e8",
   "metadata": {},
   "source": [
    "### Loading"
   ]
  },
  {
   "cell_type": "code",
   "execution_count": 2,
   "id": "2920c36f",
   "metadata": {},
   "outputs": [],
   "source": [
    "# load from csv\n",
    "gsm_instance = load_from_csv('')"
   ]
  },
  {
   "cell_type": "code",
   "execution_count": 3,
   "id": "0c9b8ea3",
   "metadata": {},
   "outputs": [],
   "source": [
    "# load from pickle\n",
    "gsm_instance = load_from_pickle('')"
   ]
  },
  {
   "cell_type": "markdown",
   "id": "61e2029d",
   "metadata": {},
   "source": [
    "## Policy optimizing"
   ]
  },
  {
   "cell_type": "markdown",
   "id": "448d1526",
   "metadata": {},
   "source": []
  }
 ],
 "metadata": {
  "kernelspec": {
   "display_name": "py39",
   "language": "python",
   "name": "py39"
  },
  "language_info": {
   "codemirror_mode": {
    "name": "ipython",
    "version": 3
   },
   "file_extension": ".py",
   "mimetype": "text/x-python",
   "name": "python",
   "nbconvert_exporter": "python",
   "pygments_lexer": "ipython3",
   "version": "3.9.10"
  }
 },
 "nbformat": 4,
 "nbformat_minor": 5
}
