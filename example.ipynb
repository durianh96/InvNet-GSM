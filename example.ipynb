{
 "cells": [
  {
   "cell_type": "markdown",
   "source": [
    "# Inventory Network Optimization (InvNet) Lab"
   ],
   "metadata": {
    "collapsed": false,
    "pycharm": {
     "name": "#%% md\n"
    }
   }
  },
  {
   "cell_type": "markdown",
   "source": [
    "If you encounter any significant bugs, then please contact [Diyuan Huang](huang.diyuan96@gmail.com).\n",
    "\n",
    "Optimizing inventory placement on a large-scale inventory network is challenging since it might involve massive nodes and many shared materials.\n",
    "\n",
    "From a structural perspective, a supply chain can be viewed as a collection of connected facilities, ranging from suppliers' warehouses,factories, and distribution centers to the end sales channels. The flow of materials through these facilities can be modeled as an inventory network. The material at each facility is a potential inventory stocking node, and the transportation and assembly relationships are directed edges. In practice, the inventory network is complex and usually not a simple linear or tree structure, especially when the production process is incorporated in the network, because this process often has a large number of components, and many of these are shared to produce different assemblies.\n",
    "\n",
    "![Prototype of an inventory\n",
    "network](pics/inventory_network.png)\n",
    "\n",
    "Two critical issues that arise for inventory networks are:\n",
    "- choosing which nodes to place inventory \n",
    "- how much to set\n",
    "\n",
    "The guaranteed service model (GSM) is one of the main approaches to optimizing network inventory policy.\n",
    "\n",
    "This library provides several approaches  to solve the GSM to optimize network inventory policy.\n",
    "Users can input GSM instances in the required format and then call approaches to optimize policy.\n",
    "Or use our GSM instance generator to generate data for numerical tests.\n",
    "\n",
    "This library is based on our paper:\n",
    "- Optimizing Large-scale Inventory Networks: An Iterative Decomposition Approach (link).  \n",
    "\n",
    "This paper is a pre-print at present and has not yet been peer-reviewed. "
   ],
   "metadata": {
    "collapsed": false,
    "pycharm": {
     "name": "#%% md\n"
    }
   }
  },
  {
   "cell_type": "markdown",
   "source": [
    "Eight approaches of solving GSM are provided in this library: \n",
    "\n",
    "- **Dynamic programming (DP)** from (Graves and Willems 2000).\n",
    "  This approach was designed for tree networks; it takes advantage of the fact that in any tree, each node can be labeled with a unique index such that every node except one has at most one adjacent node with an index higher than its own. DP can find the optimal solution for assembly and distribution problems that have a tree structure.\n",
    "\n",
    "- **Piecewise linear approximation (PWL)** from (Magnanti et al. 2006).\n",
    "  This approach uses piecewise linear functions to approximate the GSM's objective function. This turns the original GSM into a mixed integer programming (MIP) problem that can be solved with an MIP solver.\n",
    "\n",
    "- **Dynamic sloping (DS)** and **iterative mixed integer programming (IMIP)** from (Shu and Karimi 2009). \n",
    "  This paper provides two efficient iterative heuristics, DS and IMIP. The DS uses continuous approximation, while the IMIP employs a two-piece linear approximation to approximate the concave objective function. Accordingly, the DS needs to solve a linear problem and the IMIP needs to solve a MIP problem iteratively. In their numerical studies, the IMIP outperforms the DS in solution quality consistently and the latter outperforms the former in solution speed consistently. A noteworthy feature of these two approaches is that the quality of solutions does not deteriorate with an increase in network size.\n",
    "  \n",
    "- **Heuristic general networks algorithm (HGNA)** from (Humair and Willems 2011).\n",
    "  This paper combines the DP algorithm with a branch-and-bound scheme and provides an exact solution approach called the **general networks algorithm (GNA)**.\n",
    "  GNA can find optimal solutions for general networks, but takes a long time to find the solution for large-scale problems (the authors provide an example 2,025-node problem that takes 577,190.78 seconds to find the optimal solution). The authors also provide two faster heuristics: **HGNA** and **TGNA**. \n",
    "  HGNA is motivated by the structure of the formulation's dual space, whereas TGNA simply terminates the optimization algorithm after a fixed number of iterations. We found that HGNA takes a long time to converge on large-scale problems but performs better than TGNA. We add a parameter *max iter num* to terminate HGNA after a fixed number of iterations, like TGNA.\n",
    "\n",
    "  Note that HGNA is based on a modified form of the DP algorithm. When the network is a tree, HGNA runs the DP algorithm. \n",
    "\n",
    "- **Simple sequential linear programming (Simple-SLP)** from (Huang et al. 2022).\n",
    "  This approach use sequential linear programming (SLP) to find several local solutions and return the local solution with the least cost as the solution.\n",
    "- **Iterative fixing with sequential linear programming (IF-SLP)** from (Huang et al. 2022).\n",
    "  This approach search for local solutions using SLP and fix the variable values of stable nodes every *stable finding iter* iterations.\n",
    "\n",
    "- **Iterative decomposition with sequential linear programming (ID-SLP)** from (Huang et al. 2022).\n",
    "  This approach exploits information about local solutions to iteratively decompose the large-scale network into small sub-networks. It combines the fast local solution-finding algorithm, sequential linear programming, with dynamic programming, the optimal algorithm for tree problems. Numerical results show that this approach performs better than above approaches, especially when the network is large and its structure is complex. "
   ],
   "metadata": {
    "collapsed": false,
    "pycharm": {
     "name": "#%% md\n"
    }
   }
  },
  {
   "cell_type": "markdown",
   "source": [
    "We recommend the users to (Graves and Willems 2000), (Eruguz et al. 2016) and (Huang et al. 2022) for more details about the basics of GSM and descriptions of these approaches."
   ],
   "metadata": {
    "collapsed": false,
    "pycharm": {
     "name": "#%% md\n"
    }
   }
  },
  {
   "cell_type": "markdown",
   "source": [
    "## GSM Instance: generating, saving and loading"
   ],
   "metadata": {
    "collapsed": false,
    "pycharm": {
     "name": "#%% md\n"
    }
   }
  },
  {
   "cell_type": "markdown",
   "source": [
    "A GSM instance contains a graph, the proportions for all edges, and all nodes' properties related to GSM, including the demand functions, holding costs,lead times, and service time requirements for demand nodes. We break down the generation process into two parts: graph generation and property generation."
   ],
   "metadata": {
    "collapsed": false,
    "pycharm": {
     "name": "#%% md\n"
    }
   }
  },
  {
   "cell_type": "markdown",
   "source": [
    "We highly recommend generating related data at least once to understand how to prepare their own instance for users who want to import their self-data."
   ],
   "metadata": {
    "collapsed": false,
    "pycharm": {
     "name": "#%% md\n"
    }
   }
  },
  {
   "cell_type": "markdown",
   "source": [
    "### Instance generating"
   ],
   "metadata": {
    "collapsed": false,
    "pycharm": {
     "name": "#%% md\n"
    }
   }
  },
  {
   "cell_type": "markdown",
   "source": [
    "First, we import our generators:"
   ],
   "metadata": {
    "collapsed": false,
    "pycharm": {
     "name": "#%% md\n"
    }
   }
  },
  {
   "cell_type": "code",
   "execution_count": null,
   "outputs": [],
   "source": [
    "from data_process import *"
   ],
   "metadata": {
    "collapsed": false,
    "pycharm": {
     "name": "#%%\n"
    }
   }
  },
  {
   "cell_type": "markdown",
   "source": [
    "Second, we generate a graph. Users need to specify the following three parameters:\n",
    "\n",
    "- *nodes num*: the number of nodes.\n",
    "- *edges num*: the number of edges (can be empty for serial, assembly, and distribution graph).\n",
    "- *graph type*: the graph structure, it can be 'serial', 'assembly', 'distribution' and 'general'."
   ],
   "metadata": {
    "collapsed": false,
    "pycharm": {
     "name": "#%% md\n"
    }
   }
  },
  {
   "cell_type": "markdown",
   "source": [
    "For example, we can generate a general structure graph with 1000 nodes and 5000 edges: "
   ],
   "metadata": {
    "collapsed": false,
    "pycharm": {
     "name": "#%% md\n"
    }
   }
  },
  {
   "cell_type": "code",
   "execution_count": null,
   "outputs": [],
   "source": [
    "nodes_num = 1000\n",
    "edges_num = 5000\n",
    "graph_type = 'general'\n",
    "graph = generate_graph(nodes_num=nodes_num, edges_num=edges_num, graph_type=graph_type)"
   ],
   "metadata": {
    "collapsed": false,
    "pycharm": {
     "name": "#%%\n"
    }
   }
  },
  {
   "cell_type": "markdown",
   "source": [
    "Third, we generate related properties of GSM on a given graph. Users need to specify the following parameters:\n",
    "\n",
    "- Edge proportion range: *qty lb* and *qty ub*.\n",
    "- Lead time range: *lt lb* and *lt ub*.\n",
    "- Holding cost range: *hc lb* and *hc ub*.\n",
    "- Service time requirement range parameters: *sla lt lb* and *sla lt ub*.\n",
    "- Demand mean range: *mu lb* and *mu ub*.\n",
    "- Demand standard deviation range: *sigma lb* and *sigma ub*."
   ],
   "metadata": {
    "collapsed": false,
    "pycharm": {
     "name": "#%% md\n"
    }
   }
  },
  {
   "cell_type": "code",
   "execution_count": null,
   "outputs": [],
   "source": [
    "# generating an instance\n",
    "instance_id = 'INSTANCE_01'\n",
    "gsm_instance = generate_gsm_instance(graph=graph, \n",
    "                                     instance_id=instance_id, \n",
    "                                     qty_lb=1,\n",
    "                                     qty_ub=3,\n",
    "                                     lt_lb=1,\n",
    "                                     lt_ub=10,\n",
    "                                     hc_lb=0,\n",
    "                                     hc_ub=1,\n",
    "                                     sla_lt_lb=0,\n",
    "                                     sla_lt_ub=10,\n",
    "                                     mu_lb=0,\n",
    "                                     mu_ub=100,\n",
    "                                     sigma_lb=0,\n",
    "                                     sigma_ub=10)"
   ],
   "metadata": {
    "collapsed": false,
    "pycharm": {
     "name": "#%%\n"
    }
   }
  },
  {
   "cell_type": "markdown",
   "source": [
    "### Instance saving and loading"
   ],
   "metadata": {
    "collapsed": false,
    "pycharm": {
     "name": "#%% md\n"
    }
   }
  },
  {
   "cell_type": "markdown",
   "source": [
    "We provide function 'write_instance_to_csv' and 'load_instance_from_csv' to save and load instances respectively:"
   ],
   "metadata": {
    "collapsed": false,
    "pycharm": {
     "name": "#%% md\n"
    }
   }
  },
  {
   "cell_type": "code",
   "execution_count": null,
   "outputs": [],
   "source": [
    "# write to csv\n",
    "instance_data_dir = 'data/' + instance_id + '/'\n",
    "write_instance_to_csv(gsm_instance=gsm_instance, data_dir=instance_data_dir)"
   ],
   "metadata": {
    "collapsed": false,
    "pycharm": {
     "name": "#%%\n"
    }
   }
  },
  {
   "cell_type": "code",
   "execution_count": null,
   "outputs": [],
   "source": [
    "# load from csv\n",
    "load_instance_from_csv(data_dir=instance_data_dir)"
   ],
   "metadata": {
    "collapsed": false,
    "pycharm": {
     "name": "#%%\n"
    }
   }
  },
  {
   "cell_type": "markdown",
   "source": [
    "For users who want to import their own instance data, they need provides three data files:\n",
    "- 'instance_info.csv'\n",
    "- 'node.csv'\n",
    "- 'edge.csv'"
   ],
   "metadata": {
    "collapsed": false,
    "pycharm": {
     "name": "#%% md\n"
    }
   }
  },
  {
   "cell_type": "markdown",
   "source": [
    "'instance_info.csv' has three columns:\n",
    "- *instance_id*: the unique index of the given instance.\n",
    "- *tau*: the service level quantile of GSM.\n",
    "- *pooling_factor*: the pooling factor of normal demand bound functions of GSM."
   ],
   "metadata": {
    "collapsed": false,
    "pycharm": {
     "name": "#%% md\n"
    }
   }
  },
  {
   "cell_type": "code",
   "execution_count": null,
   "outputs": [],
   "source": [
    "instance_info_df = pd.read_csv(instance_data_dir + 'instance_info.csv')\n",
    "instance_info_df"
   ],
   "metadata": {
    "collapsed": false,
    "pycharm": {
     "name": "#%%\n"
    }
   }
  },
  {
   "cell_type": "markdown",
   "source": [
    "'edge.csv' provides the graph edges information, each row is one edge of graph. This file contains three columns:\n",
    "- *pred*: the predecessor of this edge.\n",
    "- *succ*: the successor of this edge.\n",
    "- *quantity*: the proportion indicating how many units of upstream node $i$'s materials are needed for each downstream node $j$."
   ],
   "metadata": {
    "collapsed": false,
    "pycharm": {
     "name": "#%% md\n"
    }
   }
  },
  {
   "cell_type": "code",
   "execution_count": null,
   "outputs": [],
   "source": [
    "edge_df = pd.read_csv(instance_data_dir + 'edge.csv')\n",
    "edge_df.head()"
   ],
   "metadata": {
    "collapsed": false,
    "pycharm": {
     "name": "#%%\n"
    }
   }
  },
  {
   "cell_type": "markdown",
   "source": [
    "'node.csv' provides the properties of nodes in the graph. It contains six columns:\n",
    "- *node_id*: the unique index of the node.\n",
    "- *lt*: the lead time of the node.\n",
    "- *hc*: the holding cost of the node.\n",
    "- *sla*: the service time requirement of the node.\n",
    "- *mu*: the mean of the node's demand for each period.\n",
    "- *sigma*: the std of the node's demand for each period."
   ],
   "metadata": {
    "collapsed": false,
    "pycharm": {
     "name": "#%% md\n"
    }
   }
  },
  {
   "cell_type": "code",
   "execution_count": 18,
   "id": "a39184d7",
   "metadata": {
    "pycharm": {
     "name": "#%%\n"
    }
   },
   "outputs": [
    {
     "data": {
      "text/html": [
       "<div>\n",
       "<style scoped>\n",
       "    .dataframe tbody tr th:only-of-type {\n",
       "        vertical-align: middle;\n",
       "    }\n",
       "\n",
       "    .dataframe tbody tr th {\n",
       "        vertical-align: top;\n",
       "    }\n",
       "\n",
       "    .dataframe thead th {\n",
       "        text-align: right;\n",
       "    }\n",
       "</style>\n",
       "<table border=\"1\" class=\"dataframe\">\n",
       "  <thead>\n",
       "    <tr style=\"text-align: right;\">\n",
       "      <th></th>\n",
       "      <th>node_id</th>\n",
       "      <th>lt</th>\n",
       "      <th>hc</th>\n",
       "      <th>sla</th>\n",
       "      <th>mu</th>\n",
       "      <th>sigma</th>\n",
       "    </tr>\n",
       "  </thead>\n",
       "  <tbody>\n",
       "    <tr>\n",
       "      <th>0</th>\n",
       "      <td>N000783</td>\n",
       "      <td>6.0</td>\n",
       "      <td>2.331568e+06</td>\n",
       "      <td>NaN</td>\n",
       "      <td>NaN</td>\n",
       "      <td>NaN</td>\n",
       "    </tr>\n",
       "    <tr>\n",
       "      <th>1</th>\n",
       "      <td>N000422</td>\n",
       "      <td>3.0</td>\n",
       "      <td>2.961675e+01</td>\n",
       "      <td>NaN</td>\n",
       "      <td>NaN</td>\n",
       "      <td>NaN</td>\n",
       "    </tr>\n",
       "    <tr>\n",
       "      <th>2</th>\n",
       "      <td>N000658</td>\n",
       "      <td>3.0</td>\n",
       "      <td>3.007234e+05</td>\n",
       "      <td>NaN</td>\n",
       "      <td>NaN</td>\n",
       "      <td>NaN</td>\n",
       "    </tr>\n",
       "    <tr>\n",
       "      <th>3</th>\n",
       "      <td>N000631</td>\n",
       "      <td>7.0</td>\n",
       "      <td>4.409390e+02</td>\n",
       "      <td>NaN</td>\n",
       "      <td>NaN</td>\n",
       "      <td>NaN</td>\n",
       "    </tr>\n",
       "    <tr>\n",
       "      <th>4</th>\n",
       "      <td>N000742</td>\n",
       "      <td>3.0</td>\n",
       "      <td>1.660007e+05</td>\n",
       "      <td>NaN</td>\n",
       "      <td>NaN</td>\n",
       "      <td>NaN</td>\n",
       "    </tr>\n",
       "  </tbody>\n",
       "</table>\n",
       "</div>"
      ],
      "text/plain": [
       "   node_id   lt            hc  sla  mu  sigma\n",
       "0  N000783  6.0  2.331568e+06  NaN NaN    NaN\n",
       "1  N000422  3.0  2.961675e+01  NaN NaN    NaN\n",
       "2  N000658  3.0  3.007234e+05  NaN NaN    NaN\n",
       "3  N000631  7.0  4.409390e+02  NaN NaN    NaN\n",
       "4  N000742  3.0  1.660007e+05  NaN NaN    NaN"
      ]
     },
     "execution_count": 18,
     "metadata": {},
     "output_type": "execute_result"
    }
   ],
   "source": [
    "node_df = pd.read_csv(instance_data_dir + 'node.csv')\n",
    "node_df.head()"
   ]
  },
  {
   "cell_type": "markdown",
   "id": "61e2029d",
   "metadata": {
    "pycharm": {
     "name": "#%% md\n"
    }
   },
   "source": [
    "## Inventory policy optimizing"
   ]
  },
  {
   "cell_type": "markdown",
   "id": "bc36a5e8",
   "metadata": {
    "pycharm": {
     "name": "#%% md\n"
    }
   },
   "source": [
    "To optimize the inventory policy on given GSM instance, users first need to create a task, and specify:\n",
    "- *task id*: the unique index of the task.\n",
    "- *gsm_instance*\n",
    "- *approach name*: the solving approach. "
   ]
  },
  {
   "cell_type": "markdown",
   "id": "46174aa0",
   "metadata": {
    "pycharm": {
     "name": "#%% md\n"
    }
   },
   "source": [
    "As mentioned before, we provide eight approaches:\n",
    "- 'DP'\n",
    "- 'PWL'\n",
    "- 'HGNA'\n",
    "- 'DS'\n",
    "- 'IMIP'\n",
    "- 'Simple-SLP'\n",
    "- 'IF-SLP'\n",
    "- 'ID-SLP'\n",
    "\n",
    "The default parameters of these approaches is given in 'default_paras.py'. More details about them can be found in (Huang et al. 2022)."
   ]
  },
  {
   "cell_type": "markdown",
   "id": "57e5b1c9",
   "metadata": {
    "pycharm": {
     "name": "#%% md\n"
    }
   },
   "source": [
    "For example, we can create a task to solve the above instance with iterative decomposition approach:"
   ]
  },
  {
   "cell_type": "code",
   "execution_count": 19,
   "id": "34f68240",
   "metadata": {
    "pycharm": {
     "name": "#%%\n"
    }
   },
   "outputs": [],
   "source": [
    "from domain.task import Task\n",
    "task_id = 'TASK_01'\n",
    "task = Task(task_id=task_id, gsm_instance=gsm_instance, approach_name='ID-SLP')"
   ]
  },
  {
   "cell_type": "markdown",
   "id": "af976d95",
   "metadata": {
    "pycharm": {
     "name": "#%% md\n"
    }
   },
   "source": [
    "Users can specify the solver for approaches that involve solving linear or integer programming problems. \n",
    "We provide Gurobi (https://www.gurobi.com/) and COPT (https://www.shanshu.ai/copt) choices with their naive Python interface. We also use pyomo 6.4.2 for unified modeling in our library so that the reader can use any solver supported by pyomo."
   ]
  },
  {
   "cell_type": "markdown",
   "id": "c2892469",
   "metadata": {
    "pycharm": {
     "name": "#%% md\n"
    }
   },
   "source": [
    "We provide five choices of solver:\n",
    "- *GRB* uses the Gurobi interface of Python.\n",
    "- *COPT* uses the COPT interface of Python.\n",
    "- *PYO_GRB* uses the pyomo to model and solve with Gurobi.\n",
    "- *PYO_COPT* uses the pyomo to model and solve with COPT.\n",
    "- *PYO_CBC* uses the pyomo to model and solve with COIN-CBC."
   ]
  },
  {
   "cell_type": "markdown",
   "id": "c11f1f81",
   "metadata": {
    "pycharm": {
     "name": "#%% md\n"
    }
   },
   "source": [
    "For more solvers such as Cplex, GLPK and SCIP, users can slightly modify the code of approach to add support."
   ]
  },
  {
   "cell_type": "markdown",
   "id": "9e16a30c",
   "metadata": {
    "pycharm": {
     "name": "#%% md\n"
    }
   },
   "source": [
    "Here, we use Gurobi to optimize the inventory policy and write files:"
   ]
  },
  {
   "cell_type": "code",
   "execution_count": null,
   "id": "402584f7",
   "metadata": {
    "pycharm": {
     "name": "#%%\n"
    }
   },
   "outputs": [],
   "source": [
    "task.run(solver='GRB')\n",
    "task_data_dir = instance_data_dir + task_id + '/'\n",
    "task.write_to_csv(data_dir=task_data_dir)"
   ]
  },
  {
   "cell_type": "markdown",
   "id": "448d1526",
   "metadata": {
    "pycharm": {
     "name": "#%% md\n"
    }
   },
   "source": [
    "## Reference\n",
    "- Eruguz AS, Sahin E, Jemai Z, Dallery Y (2016) A comprehensive survey of guaranteed-service models for multi-echelon inventory optimization. International Journal of Production Economics 172:110–125. https://doi.org/10.1016/j.ijpe.2015.11.017\n",
    "- Graves SC, Willems SP (2000) Optimizing strategic safety stock placement in supply chains. M&SOM 2:68–83. https://doi.org/10.1287/msom.2.1.68.23267\n",
    "- Huang D, Yu J, Yang C (2022) Optimizing Large-scale Inventory Networks: An Iterative Decomposition Approach.\n",
    "- Humair S, Willems SP (2011) TECHNICAL NOTE—Optimizing Strategic Safety Stock Placement in General Acyclic Networks. Operations Research 59:781–787. https://doi.org/10.1287/opre.1100.0913\n",
    "- Magnanti TL, Shen Z-JM, Shu J, et al (2006) Inventory placement in acyclic supply chain networks. Operations Research Letters 34:228–238\n",
    "- Shu J, Karimi IA (2009) Efficient heuristics for inventory placement in acyclic networks. Computers & Operations Research 36:2899–2904. https://doi.org/10.1016/j.cor.2009.01.001\n"
   ]
  },
  {
   "cell_type": "markdown",
   "id": "27744db6",
   "metadata": {
    "pycharm": {
     "name": "#%% md\n"
    }
   },
   "source": []
  }
 ],
 "metadata": {
  "kernelspec": {
   "display_name": "py39",
   "language": "python",
   "name": "py39"
  },
  "language_info": {
   "codemirror_mode": {
    "name": "ipython",
    "version": 3
   },
   "file_extension": ".py",
   "mimetype": "text/x-python",
   "name": "python",
   "nbconvert_exporter": "python",
   "pygments_lexer": "ipython3",
   "version": "3.9.10"
  }
 },
 "nbformat": 4,
 "nbformat_minor": 5
}