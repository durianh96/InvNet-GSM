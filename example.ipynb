{
 "cells": [
  {
   "cell_type": "markdown",
   "id": "d32290f2",
   "metadata": {},
   "source": [
    "# Large-scale Inventory Networks Optimizing Based on the Guaranteed Service Model"
   ]
  },
  {
   "cell_type": "markdown",
   "id": "10aad0c7",
   "metadata": {},
   "source": [
    "Optimizing inventory policy on a large-scale inventory network is challenging since it might involve massive nodes and many shared materials.\n",
    "Two critical issues are: \n",
    "- choosing which nodes to place inventory \n",
    "- how much to set\n",
    "\n",
    "The guaranteed service model (GSM) is one of the main approaches to optimizing network inventory policy.\n",
    "\n",
    "This library provides several approaches to optimizing network inventory policy to solve the guaranteed service model (GSM). \n",
    "Users can input GSM instances in the required format and then call approaches to optimize policy. \n",
    "Or use our GSM instance generator to generate data for numerical tests.\n",
    "\n",
    "This library is based on our paper:\n",
    "- Optimizing Large-scale Inventory Networks: An Iterative Decomposition Approach (link).  \n",
    "\n",
    "This paper is a pre-print at present and has not yet been peer-reviewed. "
   ]
  },
  {
   "cell_type": "markdown",
   "id": "9a5a87f0",
   "metadata": {},
   "source": [
    "Eight approaches of solving GSM are provided in this library: \n",
    "\n",
    "- **Dynamic programming (DP)** from (Graves and Willems 2000).\n",
    "  This approach is built for tree networks, it takes advantage of the fact that each node in any tree can be labeled with unique indices such that every node except one has at most one adjacent node with an index higher than its own. \n",
    "  This approach can find the optimal solution for assembly and distribution problems with tree structure. \n",
    "- **Heuristic general networks algorithm (HGNA)** from (Humair and Willems 2011)\n",
    "  This paper combines the above DP algorithm with a branch-and-bound scheme and provides an exact solution approach called **general networks algorithms (GNA)**. \n",
    "  GNA can find optimal solutions on general networks, but it takes a long time to find the solution for large-scale problems (a 2,025-nodes problem takes 577,190.78 seconds to find the optimal solution in their paper). \n",
    "  They provide two faster heuristics: **HGNA** and **TGNA**. HGNA is motivated by the structure of the formulation's dual space, whereas TGNA simply terminates the optimization algorithm after a fixed number of iterations.\n",
    "  We found that HGNA takes a long time to converge on large-scale problems but performs better than TGNA. \n",
    "  We add a parameter *max iter num* to terminate the HGNA after a fixed number of iterations like TGNA. \n",
    "  Note that HGNA is based on a modified form of the DP algorithm. In fact, when the network is a tree, HGNA runs the above DP algorithm. That is, HGNA finds the optimal solution for the tree structure problem.\n",
    "- **Piecewise linear approximation (PWL)** from (Magnanti et al. 2006)\n",
    "  This approach uses piecewise linear functions to approximate the objective function of GSM. Doing that turns the original GSM into a mixed integer programming problem and can be solved with a MIP solver.\n",
    "- **Dynamic sloping (DS)** and **iterative mixed integer programming (IMIP)** from (Shu and Karimi 2009). The first uses continuous approximation, while the second employs a two-piece linear approximation to approximate the concave objective function. \n",
    "- **Simple sequential linear programming (Simple-SLP)** from \"(Huang et al. 2022)\".\n",
    "  This approach use sequential linear programming to find several local solutions and return the local solution with the least cost as the solution.\n",
    "- **Iterative fixing with sequential linear programming (IF-SLP)** from (Huang et al. 2022).\n",
    "  Similar to the Simple-SLP, in each round search for the local solution, this approach fix the variable values of stable nodes every *stable finding iter* iterations.\n",
    "- **Iterative decomposition with sequential linear programming (ID-SLP)** from (Huang et al. 2022).\n",
    "  This approach uses local solutions to decompose the large-scale graph into small sub-graphs iteratively. It combines the fast local solution-finding approach, SLP, with the optimal approach for tree problems (dynamic programming). Numerical results show that this approach performs best especially when the graph size is large and the graph structure is complex. "
   ]
  },
  {
   "cell_type": "markdown",
   "id": "2be7fbbb",
   "metadata": {},
   "source": [
    "We recommend the users to (Graves and Willems 2000), (Eruguz et al. 2016) and (Huang et al. 2022) for more details about the basics of GSM and descriptions of these approaches."
   ]
  },
  {
   "cell_type": "markdown",
   "id": "358d9ef6",
   "metadata": {},
   "source": [
    "## GSM Instance: generating, saving and loading"
   ]
  },
  {
   "cell_type": "markdown",
   "id": "a35b07b5",
   "metadata": {},
   "source": [
    "One GSM instance contains a graph, all edges' proportions, and all nodes' properties related to GSM, including demand function, holding cost rate, lead time, and service time requirement for demand node.\n",
    "We break the generation process into two parts: graph generation and properties generation."
   ]
  },
  {
   "cell_type": "markdown",
   "id": "24fd9070",
   "metadata": {},
   "source": [
    "We highly recommend generating related data at least once to understand how to prepare their own instance for users who want to import their self-data."
   ]
  },
  {
   "cell_type": "markdown",
   "id": "19973279",
   "metadata": {},
   "source": [
    "### Instance generating"
   ]
  },
  {
   "cell_type": "markdown",
   "id": "eb77b091",
   "metadata": {},
   "source": [
    "First, we import our generators:"
   ]
  },
  {
   "cell_type": "code",
   "execution_count": 11,
   "id": "58b6291e",
   "metadata": {},
   "outputs": [],
   "source": [
    "from data_process import *"
   ]
  },
  {
   "cell_type": "markdown",
   "id": "28f5b149",
   "metadata": {},
   "source": [
    "Second, we generate a graph. Users need to specify the following three parameters:\n",
    "\n",
    "- *nodes num*: the number of nodes.\n",
    "- *edges num*: the number of edges (can be empty for serial, assembly, and distribution graph).\n",
    "- *graph type*: the graph structure, it can be 'serial', 'assembly', 'distribution' and 'general'."
   ]
  },
  {
   "cell_type": "markdown",
   "id": "9dcdf93f",
   "metadata": {},
   "source": [
    "For example, we can generate a general structure graph with 1000 nodes and 5000 edges: "
   ]
  },
  {
   "cell_type": "code",
   "execution_count": 12,
   "id": "274b5b6d",
   "metadata": {},
   "outputs": [],
   "source": [
    "nodes_num = 1000\n",
    "edges_num = 5000\n",
    "graph_type = 'general'\n",
    "graph = generate_graph(nodes_num=nodes_num, edges_num=edges_num, graph_type=graph_type)"
   ]
  },
  {
   "cell_type": "markdown",
   "id": "da3dd3bb",
   "metadata": {},
   "source": [
    "Third, we generate related properties of GSM on a given graph. Users need to specify the following parameters:\n",
    "\n",
    "- Edge proportion range: *qty lb* and *qty ub*.\n",
    "- Lead time range: *lt lb* and *lt ub*.\n",
    "- Holding cost rate range: *hc lb* and *hc ub*.\n",
    "- Service time requirement range parameters: *sla lt lb* and *sla lt ub*.\n",
    "- Demand mean range: *mu lb* and *mu ub*.\n",
    "- Demand standard deviation range: *sigma lb* and *sigma ub*."
   ]
  },
  {
   "cell_type": "code",
   "execution_count": 13,
   "id": "0e4df8f1",
   "metadata": {},
   "outputs": [],
   "source": [
    "# generating an instance\n",
    "instance_id = 'INSTANCE_01'\n",
    "gsm_instance = generate_gsm_instance(graph=graph, \n",
    "                                     instance_id=instance_id, \n",
    "                                     qty_lb=1,\n",
    "                                     qty_ub=3,\n",
    "                                     lt_lb=1,\n",
    "                                     lt_ub=10,\n",
    "                                     hc_lb=0,\n",
    "                                     hc_ub=1,\n",
    "                                     sla_lt_lb=0,\n",
    "                                     sla_lt_ub=10,\n",
    "                                     mu_lb=0,\n",
    "                                     mu_ub=100,\n",
    "                                     sigma_lb=0,\n",
    "                                     sigma_ub=10)"
   ]
  },
  {
   "cell_type": "markdown",
   "id": "4051a97a",
   "metadata": {},
   "source": [
    "### Instance saving and loading"
   ]
  },
  {
   "cell_type": "markdown",
   "id": "40876c9a",
   "metadata": {},
   "source": [
    "We provide function 'write_instance_to_csv' and 'load_instance_from_csv' to save and load instances respectively:"
   ]
  },
  {
   "cell_type": "code",
   "execution_count": 14,
   "id": "de8b82b4",
   "metadata": {},
   "outputs": [],
   "source": [
    "# write to csv\n",
    "instance_data_dir = 'data/' + instance_id + '/'\n",
    "write_instance_to_csv(gsm_instance=gsm_instance, data_dir=instance_data_dir)"
   ]
  },
  {
   "cell_type": "code",
   "execution_count": 15,
   "id": "d26f3c09",
   "metadata": {},
   "outputs": [
    {
     "data": {
      "text/plain": [
       "<domain.gsm.GSMInstance at 0x169baf220>"
      ]
     },
     "execution_count": 15,
     "metadata": {},
     "output_type": "execute_result"
    }
   ],
   "source": [
    "# load from csv\n",
    "load_instance_from_csv(data_dir=instance_data_dir)"
   ]
  },
  {
   "cell_type": "markdown",
   "id": "096aff4a",
   "metadata": {},
   "source": [
    "For users who want to import their own instance data, they need provides three data files:\n",
    "- 'instance_info.csv'\n",
    "- 'node.csv'\n",
    "- 'edge.csv'"
   ]
  },
  {
   "cell_type": "markdown",
   "id": "0e8ac07c",
   "metadata": {},
   "source": [
    "'instance_info.csv' has three columns:\n",
    "- *instance_id*: the unique index of the given instance.\n",
    "- *tau*: the service level quantile of GSM.\n",
    "- *pooling_factor*: the pooling factor of normal demand bound functions of GSM."
   ]
  },
  {
   "cell_type": "code",
   "execution_count": 16,
   "id": "cb4942a6",
   "metadata": {},
   "outputs": [
    {
     "data": {
      "text/html": [
       "<div>\n",
       "<style scoped>\n",
       "    .dataframe tbody tr th:only-of-type {\n",
       "        vertical-align: middle;\n",
       "    }\n",
       "\n",
       "    .dataframe tbody tr th {\n",
       "        vertical-align: top;\n",
       "    }\n",
       "\n",
       "    .dataframe thead th {\n",
       "        text-align: right;\n",
       "    }\n",
       "</style>\n",
       "<table border=\"1\" class=\"dataframe\">\n",
       "  <thead>\n",
       "    <tr style=\"text-align: right;\">\n",
       "      <th></th>\n",
       "      <th>instance_info</th>\n",
       "      <th>value</th>\n",
       "    </tr>\n",
       "  </thead>\n",
       "  <tbody>\n",
       "    <tr>\n",
       "      <th>0</th>\n",
       "      <td>instance_id</td>\n",
       "      <td>INSTANCE_01</td>\n",
       "    </tr>\n",
       "    <tr>\n",
       "      <th>1</th>\n",
       "      <td>tau</td>\n",
       "      <td>0.95</td>\n",
       "    </tr>\n",
       "    <tr>\n",
       "      <th>2</th>\n",
       "      <td>pooling_factor</td>\n",
       "      <td>2</td>\n",
       "    </tr>\n",
       "  </tbody>\n",
       "</table>\n",
       "</div>"
      ],
      "text/plain": [
       "    instance_info        value\n",
       "0     instance_id  INSTANCE_01\n",
       "1             tau         0.95\n",
       "2  pooling_factor            2"
      ]
     },
     "execution_count": 16,
     "metadata": {},
     "output_type": "execute_result"
    }
   ],
   "source": [
    "instance_info_df = pd.read_csv(instance_data_dir + 'instance_info.csv')\n",
    "instance_info_df"
   ]
  },
  {
   "cell_type": "markdown",
   "id": "6840b75e",
   "metadata": {},
   "source": [
    "'edge.csv' provides the graph edges information, each row is one edge of graph. This file contains three columns:\n",
    "- *pred*: the predecessor of this edge.\n",
    "- *succ*: the successor of this edge.\n",
    "- *quantity*: the proportion indicating how many units of upstream node $i$'s materials are needed for each downstream node $j$."
   ]
  },
  {
   "cell_type": "code",
   "execution_count": 17,
   "id": "2bbf2666",
   "metadata": {},
   "outputs": [
    {
     "data": {
      "text/html": [
       "<div>\n",
       "<style scoped>\n",
       "    .dataframe tbody tr th:only-of-type {\n",
       "        vertical-align: middle;\n",
       "    }\n",
       "\n",
       "    .dataframe tbody tr th {\n",
       "        vertical-align: top;\n",
       "    }\n",
       "\n",
       "    .dataframe thead th {\n",
       "        text-align: right;\n",
       "    }\n",
       "</style>\n",
       "<table border=\"1\" class=\"dataframe\">\n",
       "  <thead>\n",
       "    <tr style=\"text-align: right;\">\n",
       "      <th></th>\n",
       "      <th>pred</th>\n",
       "      <th>succ</th>\n",
       "      <th>quantity</th>\n",
       "    </tr>\n",
       "  </thead>\n",
       "  <tbody>\n",
       "    <tr>\n",
       "      <th>0</th>\n",
       "      <td>N000000</td>\n",
       "      <td>N000224</td>\n",
       "      <td>2.210904</td>\n",
       "    </tr>\n",
       "    <tr>\n",
       "      <th>1</th>\n",
       "      <td>N000002</td>\n",
       "      <td>N000758</td>\n",
       "      <td>1.650182</td>\n",
       "    </tr>\n",
       "    <tr>\n",
       "      <th>2</th>\n",
       "      <td>N000008</td>\n",
       "      <td>N000337</td>\n",
       "      <td>2.922625</td>\n",
       "    </tr>\n",
       "    <tr>\n",
       "      <th>3</th>\n",
       "      <td>N000009</td>\n",
       "      <td>N000039</td>\n",
       "      <td>1.309693</td>\n",
       "    </tr>\n",
       "    <tr>\n",
       "      <th>4</th>\n",
       "      <td>N000011</td>\n",
       "      <td>N000237</td>\n",
       "      <td>2.592944</td>\n",
       "    </tr>\n",
       "  </tbody>\n",
       "</table>\n",
       "</div>"
      ],
      "text/plain": [
       "      pred     succ  quantity\n",
       "0  N000000  N000224  2.210904\n",
       "1  N000002  N000758  1.650182\n",
       "2  N000008  N000337  2.922625\n",
       "3  N000009  N000039  1.309693\n",
       "4  N000011  N000237  2.592944"
      ]
     },
     "execution_count": 17,
     "metadata": {},
     "output_type": "execute_result"
    }
   ],
   "source": [
    "edge_df = pd.read_csv(instance_data_dir + 'edge.csv')\n",
    "edge_df.head()"
   ]
  },
  {
   "cell_type": "markdown",
   "id": "0a032a48",
   "metadata": {},
   "source": [
    "'node.csv' provides the properties of nodes in the graph. It contains six columns:\n",
    "- *node_id*: the unique index of the node.\n",
    "- *lt*: the lead time of the node.\n",
    "- *hc*: the holding cost rate of the node.\n",
    "- *sla*: the service time requirement of the node.\n",
    "- *mu*: the mean of the node's demand for each period.\n",
    "- *sigma*: the std of the node's demand for each period."
   ]
  },
  {
   "cell_type": "code",
   "execution_count": 18,
   "id": "a39184d7",
   "metadata": {},
   "outputs": [
    {
     "data": {
      "text/html": [
       "<div>\n",
       "<style scoped>\n",
       "    .dataframe tbody tr th:only-of-type {\n",
       "        vertical-align: middle;\n",
       "    }\n",
       "\n",
       "    .dataframe tbody tr th {\n",
       "        vertical-align: top;\n",
       "    }\n",
       "\n",
       "    .dataframe thead th {\n",
       "        text-align: right;\n",
       "    }\n",
       "</style>\n",
       "<table border=\"1\" class=\"dataframe\">\n",
       "  <thead>\n",
       "    <tr style=\"text-align: right;\">\n",
       "      <th></th>\n",
       "      <th>node_id</th>\n",
       "      <th>lt</th>\n",
       "      <th>hc</th>\n",
       "      <th>sla</th>\n",
       "      <th>mu</th>\n",
       "      <th>sigma</th>\n",
       "    </tr>\n",
       "  </thead>\n",
       "  <tbody>\n",
       "    <tr>\n",
       "      <th>0</th>\n",
       "      <td>N000783</td>\n",
       "      <td>6.0</td>\n",
       "      <td>2.331568e+06</td>\n",
       "      <td>NaN</td>\n",
       "      <td>NaN</td>\n",
       "      <td>NaN</td>\n",
       "    </tr>\n",
       "    <tr>\n",
       "      <th>1</th>\n",
       "      <td>N000422</td>\n",
       "      <td>3.0</td>\n",
       "      <td>2.961675e+01</td>\n",
       "      <td>NaN</td>\n",
       "      <td>NaN</td>\n",
       "      <td>NaN</td>\n",
       "    </tr>\n",
       "    <tr>\n",
       "      <th>2</th>\n",
       "      <td>N000658</td>\n",
       "      <td>3.0</td>\n",
       "      <td>3.007234e+05</td>\n",
       "      <td>NaN</td>\n",
       "      <td>NaN</td>\n",
       "      <td>NaN</td>\n",
       "    </tr>\n",
       "    <tr>\n",
       "      <th>3</th>\n",
       "      <td>N000631</td>\n",
       "      <td>7.0</td>\n",
       "      <td>4.409390e+02</td>\n",
       "      <td>NaN</td>\n",
       "      <td>NaN</td>\n",
       "      <td>NaN</td>\n",
       "    </tr>\n",
       "    <tr>\n",
       "      <th>4</th>\n",
       "      <td>N000742</td>\n",
       "      <td>3.0</td>\n",
       "      <td>1.660007e+05</td>\n",
       "      <td>NaN</td>\n",
       "      <td>NaN</td>\n",
       "      <td>NaN</td>\n",
       "    </tr>\n",
       "  </tbody>\n",
       "</table>\n",
       "</div>"
      ],
      "text/plain": [
       "   node_id   lt            hc  sla  mu  sigma\n",
       "0  N000783  6.0  2.331568e+06  NaN NaN    NaN\n",
       "1  N000422  3.0  2.961675e+01  NaN NaN    NaN\n",
       "2  N000658  3.0  3.007234e+05  NaN NaN    NaN\n",
       "3  N000631  7.0  4.409390e+02  NaN NaN    NaN\n",
       "4  N000742  3.0  1.660007e+05  NaN NaN    NaN"
      ]
     },
     "execution_count": 18,
     "metadata": {},
     "output_type": "execute_result"
    }
   ],
   "source": [
    "node_df = pd.read_csv(instance_data_dir + 'node.csv')\n",
    "node_df.head()"
   ]
  },
  {
   "cell_type": "markdown",
   "id": "61e2029d",
   "metadata": {},
   "source": [
    "## Inventory policy optimizing"
   ]
  },
  {
   "cell_type": "markdown",
   "id": "bc36a5e8",
   "metadata": {},
   "source": [
    "To optimize the inventory policy on given GSM instance, users first need to create a task, and specify:\n",
    "- *task id*: the unique index of the task.\n",
    "- *gsm_instance*\n",
    "- *approach name*: the solving approach. "
   ]
  },
  {
   "cell_type": "markdown",
   "id": "46174aa0",
   "metadata": {},
   "source": [
    "As mentioned before, we provide eight approaches:\n",
    "- 'DP'\n",
    "- 'PWL'\n",
    "- 'HGNA'\n",
    "- 'DS'\n",
    "- 'IMIP'\n",
    "- 'Simple-SLP'\n",
    "- 'IF-SLP'\n",
    "- 'ID-SLP'\n",
    "\n",
    "The default parameters of these approaches is given in 'default_paras.py'. More details about them can be found in (Huang et al. 2022)."
   ]
  },
  {
   "cell_type": "markdown",
   "id": "57e5b1c9",
   "metadata": {},
   "source": [
    "For example, we can create a task to solve the above instance with iterative decomposition approach:"
   ]
  },
  {
   "cell_type": "code",
   "execution_count": 19,
   "id": "34f68240",
   "metadata": {},
   "outputs": [],
   "source": [
    "from domain.task import Task\n",
    "task_id = 'TASK_01'\n",
    "task = Task(task_id=task_id, gsm_instance=gsm_instance, approach_name='ID-SLP')"
   ]
  },
  {
   "cell_type": "markdown",
   "id": "af976d95",
   "metadata": {},
   "source": [
    "Users can specify the solver for approaches that involve solving linear or integer programming problems. \n",
    "We provide Gurobi (https://www.gurobi.com/) and COPT (https://www.shanshu.ai/copt) choices with their naive Python interface. We also use pyomo 6.4.2 for unified modeling in our library so that the reader can use any solver supported by pyomo."
   ]
  },
  {
   "cell_type": "markdown",
   "id": "c2892469",
   "metadata": {},
   "source": [
    "We provide five choices of solver:\n",
    "- *GRB* uses the Gurobi interface of Python.\n",
    "- *COPT* uses the COPT interface of Python.\n",
    "- *PYO_GRB* uses the pyomo to model and solve with Gurobi.\n",
    "- *PYO_COPT* uses the pyomo to model and solve with COPT.\n",
    "- *PYO_CBC* uses the pyomo to model and solve with COIN-CBC."
   ]
  },
  {
   "cell_type": "markdown",
   "id": "c11f1f81",
   "metadata": {},
   "source": [
    "For more solvers such as Cplex, GLPK and SCIP, users can slightly modify the code of approach to add support."
   ]
  },
  {
   "cell_type": "markdown",
   "id": "9e16a30c",
   "metadata": {},
   "source": [
    "Here, we use Gurobi to optimize the inventory policy and write files:"
   ]
  },
  {
   "cell_type": "code",
   "execution_count": 20,
   "id": "402584f7",
   "metadata": {},
   "outputs": [
    {
     "name": "stdout",
     "output_type": "stream",
     "text": [
      "Set parameter MIPGap to value 0.01\n"
     ]
    },
    {
     "name": "stderr",
     "output_type": "stream",
     "text": [
      "2022-09-26 14:11:12,033 - /Users/durian/Nutstore Files/Research/ID-SLP/public_code/approach/base_slp.py[line:108] - INFO: Set parameter MIPGap to value 0.01\n"
     ]
    },
    {
     "name": "stdout",
     "output_type": "stream",
     "text": [
      "Set parameter MIPGap to value 0.01\n"
     ]
    },
    {
     "name": "stderr",
     "output_type": "stream",
     "text": [
      "2022-09-26 14:11:12,145 - /Users/durian/Nutstore Files/Research/ID-SLP/public_code/approach/base_slp.py[line:108] - INFO: Set parameter MIPGap to value 0.01\n"
     ]
    },
    {
     "name": "stdout",
     "output_type": "stream",
     "text": [
      "Set parameter MIPGap to value 0.01\n"
     ]
    },
    {
     "name": "stderr",
     "output_type": "stream",
     "text": [
      "2022-09-26 14:11:12,252 - /Users/durian/Nutstore Files/Research/ID-SLP/public_code/approach/base_slp.py[line:108] - INFO: Set parameter MIPGap to value 0.01\n"
     ]
    },
    {
     "name": "stdout",
     "output_type": "stream",
     "text": [
      "Set parameter MIPGap to value 0.01\n"
     ]
    },
    {
     "name": "stderr",
     "output_type": "stream",
     "text": [
      "2022-09-26 14:11:12,371 - /Users/durian/Nutstore Files/Research/ID-SLP/public_code/approach/base_slp.py[line:108] - INFO: Set parameter MIPGap to value 0.01\n"
     ]
    },
    {
     "name": "stdout",
     "output_type": "stream",
     "text": [
      "Set parameter MIPGap to value 0.01\n"
     ]
    },
    {
     "name": "stderr",
     "output_type": "stream",
     "text": [
      "2022-09-26 14:11:12,478 - /Users/durian/Nutstore Files/Research/ID-SLP/public_code/approach/base_slp.py[line:108] - INFO: Set parameter MIPGap to value 0.01\n"
     ]
    },
    {
     "name": "stdout",
     "output_type": "stream",
     "text": [
      "Set parameter MIPGap to value 0.01\n"
     ]
    },
    {
     "name": "stderr",
     "output_type": "stream",
     "text": [
      "2022-09-26 14:11:12,704 - /Users/durian/Nutstore Files/Research/ID-SLP/public_code/approach/base_slp.py[line:108] - INFO: Set parameter MIPGap to value 0.01\n"
     ]
    },
    {
     "name": "stdout",
     "output_type": "stream",
     "text": [
      "Set parameter MIPGap to value 0.01\n"
     ]
    },
    {
     "name": "stderr",
     "output_type": "stream",
     "text": [
      "2022-09-26 14:11:12,809 - /Users/durian/Nutstore Files/Research/ID-SLP/public_code/approach/base_slp.py[line:108] - INFO: Set parameter MIPGap to value 0.01\n"
     ]
    },
    {
     "name": "stdout",
     "output_type": "stream",
     "text": [
      "Set parameter MIPGap to value 0.01\n"
     ]
    },
    {
     "name": "stderr",
     "output_type": "stream",
     "text": [
      "2022-09-26 14:11:12,910 - /Users/durian/Nutstore Files/Research/ID-SLP/public_code/approach/base_slp.py[line:108] - INFO: Set parameter MIPGap to value 0.01\n"
     ]
    },
    {
     "name": "stdout",
     "output_type": "stream",
     "text": [
      "Set parameter MIPGap to value 0.01\n"
     ]
    },
    {
     "name": "stderr",
     "output_type": "stream",
     "text": [
      "2022-09-26 14:11:13,019 - /Users/durian/Nutstore Files/Research/ID-SLP/public_code/approach/base_slp.py[line:108] - INFO: Set parameter MIPGap to value 0.01\n"
     ]
    },
    {
     "name": "stdout",
     "output_type": "stream",
     "text": [
      "Set parameter MIPGap to value 0.01\n"
     ]
    },
    {
     "name": "stderr",
     "output_type": "stream",
     "text": [
      "2022-09-26 14:11:13,122 - /Users/durian/Nutstore Files/Research/ID-SLP/public_code/approach/base_slp.py[line:108] - INFO: Set parameter MIPGap to value 0.01\n"
     ]
    },
    {
     "name": "stdout",
     "output_type": "stream",
     "text": [
      "Set parameter MIPGap to value 0.01\n"
     ]
    },
    {
     "name": "stderr",
     "output_type": "stream",
     "text": [
      "2022-09-26 14:11:13,228 - /Users/durian/Nutstore Files/Research/ID-SLP/public_code/approach/base_slp.py[line:108] - INFO: Set parameter MIPGap to value 0.01\n"
     ]
    },
    {
     "name": "stdout",
     "output_type": "stream",
     "text": [
      "Set parameter MIPGap to value 0.01\n"
     ]
    },
    {
     "name": "stderr",
     "output_type": "stream",
     "text": [
      "2022-09-26 14:11:13,330 - /Users/durian/Nutstore Files/Research/ID-SLP/public_code/approach/base_slp.py[line:108] - INFO: Set parameter MIPGap to value 0.01\n"
     ]
    },
    {
     "name": "stdout",
     "output_type": "stream",
     "text": [
      "Set parameter MIPGap to value 0.01\n"
     ]
    },
    {
     "name": "stderr",
     "output_type": "stream",
     "text": [
      "2022-09-26 14:11:13,432 - /Users/durian/Nutstore Files/Research/ID-SLP/public_code/approach/base_slp.py[line:108] - INFO: Set parameter MIPGap to value 0.01\n"
     ]
    },
    {
     "name": "stdout",
     "output_type": "stream",
     "text": [
      "Set parameter MIPGap to value 0.01\n"
     ]
    },
    {
     "name": "stderr",
     "output_type": "stream",
     "text": [
      "2022-09-26 14:11:13,531 - /Users/durian/Nutstore Files/Research/ID-SLP/public_code/approach/base_slp.py[line:108] - INFO: Set parameter MIPGap to value 0.01\n"
     ]
    },
    {
     "name": "stdout",
     "output_type": "stream",
     "text": [
      "Set parameter MIPGap to value 0.01\n"
     ]
    },
    {
     "name": "stderr",
     "output_type": "stream",
     "text": [
      "2022-09-26 14:11:13,633 - /Users/durian/Nutstore Files/Research/ID-SLP/public_code/approach/base_slp.py[line:108] - INFO: Set parameter MIPGap to value 0.01\n"
     ]
    },
    {
     "name": "stdout",
     "output_type": "stream",
     "text": [
      "Set parameter MIPGap to value 0.01\n"
     ]
    },
    {
     "name": "stderr",
     "output_type": "stream",
     "text": [
      "2022-09-26 14:11:13,737 - /Users/durian/Nutstore Files/Research/ID-SLP/public_code/approach/base_slp.py[line:108] - INFO: Set parameter MIPGap to value 0.01\n"
     ]
    },
    {
     "name": "stdout",
     "output_type": "stream",
     "text": [
      "Set parameter MIPGap to value 0.01\n"
     ]
    },
    {
     "name": "stderr",
     "output_type": "stream",
     "text": [
      "2022-09-26 14:11:13,839 - /Users/durian/Nutstore Files/Research/ID-SLP/public_code/approach/base_slp.py[line:108] - INFO: Set parameter MIPGap to value 0.01\n"
     ]
    },
    {
     "name": "stdout",
     "output_type": "stream",
     "text": [
      "Set parameter MIPGap to value 0.01\n"
     ]
    },
    {
     "name": "stderr",
     "output_type": "stream",
     "text": [
      "2022-09-26 14:11:13,942 - /Users/durian/Nutstore Files/Research/ID-SLP/public_code/approach/base_slp.py[line:108] - INFO: Set parameter MIPGap to value 0.01\n"
     ]
    },
    {
     "name": "stdout",
     "output_type": "stream",
     "text": [
      "Set parameter MIPGap to value 0.01\n"
     ]
    },
    {
     "name": "stderr",
     "output_type": "stream",
     "text": [
      "2022-09-26 14:11:14,109 - /Users/durian/Nutstore Files/Research/ID-SLP/public_code/approach/base_slp.py[line:108] - INFO: Set parameter MIPGap to value 0.01\n"
     ]
    },
    {
     "name": "stdout",
     "output_type": "stream",
     "text": [
      "Set parameter MIPGap to value 0.01\n"
     ]
    },
    {
     "name": "stderr",
     "output_type": "stream",
     "text": [
      "2022-09-26 14:11:14,208 - /Users/durian/Nutstore Files/Research/ID-SLP/public_code/approach/base_slp.py[line:108] - INFO: Set parameter MIPGap to value 0.01\n"
     ]
    },
    {
     "name": "stdout",
     "output_type": "stream",
     "text": [
      "Set parameter MIPGap to value 0.01\n"
     ]
    },
    {
     "name": "stderr",
     "output_type": "stream",
     "text": [
      "2022-09-26 14:11:14,312 - /Users/durian/Nutstore Files/Research/ID-SLP/public_code/approach/base_slp.py[line:108] - INFO: Set parameter MIPGap to value 0.01\n"
     ]
    },
    {
     "name": "stdout",
     "output_type": "stream",
     "text": [
      "Set parameter MIPGap to value 0.01\n"
     ]
    },
    {
     "name": "stderr",
     "output_type": "stream",
     "text": [
      "2022-09-26 14:11:14,415 - /Users/durian/Nutstore Files/Research/ID-SLP/public_code/approach/base_slp.py[line:108] - INFO: Set parameter MIPGap to value 0.01\n"
     ]
    },
    {
     "name": "stdout",
     "output_type": "stream",
     "text": [
      "Set parameter MIPGap to value 0.01\n"
     ]
    },
    {
     "name": "stderr",
     "output_type": "stream",
     "text": [
      "2022-09-26 14:11:14,519 - /Users/durian/Nutstore Files/Research/ID-SLP/public_code/approach/base_slp.py[line:108] - INFO: Set parameter MIPGap to value 0.01\n"
     ]
    },
    {
     "name": "stdout",
     "output_type": "stream",
     "text": [
      "Set parameter MIPGap to value 0.01\n"
     ]
    },
    {
     "name": "stderr",
     "output_type": "stream",
     "text": [
      "2022-09-26 14:11:14,624 - /Users/durian/Nutstore Files/Research/ID-SLP/public_code/approach/base_slp.py[line:108] - INFO: Set parameter MIPGap to value 0.01\n"
     ]
    },
    {
     "name": "stdout",
     "output_type": "stream",
     "text": [
      "Set parameter MIPGap to value 0.01\n"
     ]
    },
    {
     "name": "stderr",
     "output_type": "stream",
     "text": [
      "2022-09-26 14:11:14,725 - /Users/durian/Nutstore Files/Research/ID-SLP/public_code/approach/base_slp.py[line:108] - INFO: Set parameter MIPGap to value 0.01\n"
     ]
    },
    {
     "name": "stdout",
     "output_type": "stream",
     "text": [
      "Set parameter MIPGap to value 0.01\n"
     ]
    },
    {
     "name": "stderr",
     "output_type": "stream",
     "text": [
      "2022-09-26 14:11:14,829 - /Users/durian/Nutstore Files/Research/ID-SLP/public_code/approach/base_slp.py[line:108] - INFO: Set parameter MIPGap to value 0.01\n"
     ]
    },
    {
     "name": "stdout",
     "output_type": "stream",
     "text": [
      "Set parameter MIPGap to value 0.01\n"
     ]
    },
    {
     "name": "stderr",
     "output_type": "stream",
     "text": [
      "2022-09-26 14:11:14,932 - /Users/durian/Nutstore Files/Research/ID-SLP/public_code/approach/base_slp.py[line:108] - INFO: Set parameter MIPGap to value 0.01\n"
     ]
    },
    {
     "name": "stdout",
     "output_type": "stream",
     "text": [
      "Set parameter MIPGap to value 0.01\n"
     ]
    },
    {
     "name": "stderr",
     "output_type": "stream",
     "text": [
      "2022-09-26 14:11:15,036 - /Users/durian/Nutstore Files/Research/ID-SLP/public_code/approach/base_slp.py[line:108] - INFO: Set parameter MIPGap to value 0.01\n"
     ]
    },
    {
     "name": "stdout",
     "output_type": "stream",
     "text": [
      "Set parameter MIPGap to value 0.01\n"
     ]
    },
    {
     "name": "stderr",
     "output_type": "stream",
     "text": [
      "2022-09-26 14:11:15,138 - /Users/durian/Nutstore Files/Research/ID-SLP/public_code/approach/base_slp.py[line:108] - INFO: Set parameter MIPGap to value 0.01\n"
     ]
    },
    {
     "name": "stdout",
     "output_type": "stream",
     "text": [
      "This graph can be decomposed\n",
      "Set parameter MIPGap to value 0.01\n"
     ]
    },
    {
     "name": "stderr",
     "output_type": "stream",
     "text": [
      "2022-09-26 14:11:15,460 - /Users/durian/Nutstore Files/Research/ID-SLP/public_code/approach/base_slp.py[line:108] - INFO: Set parameter MIPGap to value 0.01\n"
     ]
    },
    {
     "name": "stdout",
     "output_type": "stream",
     "text": [
      "Set parameter MIPGap to value 0.01\n"
     ]
    },
    {
     "name": "stderr",
     "output_type": "stream",
     "text": [
      "2022-09-26 14:11:15,602 - /Users/durian/Nutstore Files/Research/ID-SLP/public_code/approach/base_slp.py[line:108] - INFO: Set parameter MIPGap to value 0.01\n"
     ]
    },
    {
     "name": "stdout",
     "output_type": "stream",
     "text": [
      "Set parameter MIPGap to value 0.01\n"
     ]
    },
    {
     "name": "stderr",
     "output_type": "stream",
     "text": [
      "2022-09-26 14:11:15,677 - /Users/durian/Nutstore Files/Research/ID-SLP/public_code/approach/base_slp.py[line:108] - INFO: Set parameter MIPGap to value 0.01\n"
     ]
    },
    {
     "name": "stdout",
     "output_type": "stream",
     "text": [
      "Set parameter MIPGap to value 0.01\n"
     ]
    },
    {
     "name": "stderr",
     "output_type": "stream",
     "text": [
      "2022-09-26 14:11:15,752 - /Users/durian/Nutstore Files/Research/ID-SLP/public_code/approach/base_slp.py[line:108] - INFO: Set parameter MIPGap to value 0.01\n"
     ]
    },
    {
     "name": "stdout",
     "output_type": "stream",
     "text": [
      "Set parameter MIPGap to value 0.01\n"
     ]
    },
    {
     "name": "stderr",
     "output_type": "stream",
     "text": [
      "2022-09-26 14:11:15,827 - /Users/durian/Nutstore Files/Research/ID-SLP/public_code/approach/base_slp.py[line:108] - INFO: Set parameter MIPGap to value 0.01\n"
     ]
    },
    {
     "name": "stdout",
     "output_type": "stream",
     "text": [
      "Set parameter MIPGap to value 0.01\n"
     ]
    },
    {
     "name": "stderr",
     "output_type": "stream",
     "text": [
      "2022-09-26 14:11:15,900 - /Users/durian/Nutstore Files/Research/ID-SLP/public_code/approach/base_slp.py[line:108] - INFO: Set parameter MIPGap to value 0.01\n"
     ]
    },
    {
     "name": "stdout",
     "output_type": "stream",
     "text": [
      "Set parameter MIPGap to value 0.01\n"
     ]
    },
    {
     "name": "stderr",
     "output_type": "stream",
     "text": [
      "2022-09-26 14:11:15,974 - /Users/durian/Nutstore Files/Research/ID-SLP/public_code/approach/base_slp.py[line:108] - INFO: Set parameter MIPGap to value 0.01\n"
     ]
    },
    {
     "name": "stdout",
     "output_type": "stream",
     "text": [
      "Set parameter MIPGap to value 0.01\n"
     ]
    },
    {
     "name": "stderr",
     "output_type": "stream",
     "text": [
      "2022-09-26 14:11:16,054 - /Users/durian/Nutstore Files/Research/ID-SLP/public_code/approach/base_slp.py[line:108] - INFO: Set parameter MIPGap to value 0.01\n"
     ]
    },
    {
     "name": "stdout",
     "output_type": "stream",
     "text": [
      "Set parameter MIPGap to value 0.01\n"
     ]
    },
    {
     "name": "stderr",
     "output_type": "stream",
     "text": [
      "2022-09-26 14:11:16,136 - /Users/durian/Nutstore Files/Research/ID-SLP/public_code/approach/base_slp.py[line:108] - INFO: Set parameter MIPGap to value 0.01\n"
     ]
    },
    {
     "name": "stdout",
     "output_type": "stream",
     "text": [
      "Set parameter MIPGap to value 0.01\n"
     ]
    },
    {
     "name": "stderr",
     "output_type": "stream",
     "text": [
      "2022-09-26 14:11:16,214 - /Users/durian/Nutstore Files/Research/ID-SLP/public_code/approach/base_slp.py[line:108] - INFO: Set parameter MIPGap to value 0.01\n"
     ]
    },
    {
     "name": "stdout",
     "output_type": "stream",
     "text": [
      "Set parameter MIPGap to value 0.01\n"
     ]
    },
    {
     "name": "stderr",
     "output_type": "stream",
     "text": [
      "2022-09-26 14:11:16,288 - /Users/durian/Nutstore Files/Research/ID-SLP/public_code/approach/base_slp.py[line:108] - INFO: Set parameter MIPGap to value 0.01\n"
     ]
    },
    {
     "name": "stdout",
     "output_type": "stream",
     "text": [
      "Set parameter MIPGap to value 0.01\n"
     ]
    },
    {
     "name": "stderr",
     "output_type": "stream",
     "text": [
      "2022-09-26 14:11:16,362 - /Users/durian/Nutstore Files/Research/ID-SLP/public_code/approach/base_slp.py[line:108] - INFO: Set parameter MIPGap to value 0.01\n"
     ]
    },
    {
     "name": "stdout",
     "output_type": "stream",
     "text": [
      "Set parameter MIPGap to value 0.01\n"
     ]
    },
    {
     "name": "stderr",
     "output_type": "stream",
     "text": [
      "2022-09-26 14:11:16,437 - /Users/durian/Nutstore Files/Research/ID-SLP/public_code/approach/base_slp.py[line:108] - INFO: Set parameter MIPGap to value 0.01\n"
     ]
    },
    {
     "name": "stdout",
     "output_type": "stream",
     "text": [
      "Set parameter MIPGap to value 0.01\n"
     ]
    },
    {
     "name": "stderr",
     "output_type": "stream",
     "text": [
      "2022-09-26 14:11:16,511 - /Users/durian/Nutstore Files/Research/ID-SLP/public_code/approach/base_slp.py[line:108] - INFO: Set parameter MIPGap to value 0.01\n"
     ]
    },
    {
     "name": "stdout",
     "output_type": "stream",
     "text": [
      "Set parameter MIPGap to value 0.01\n"
     ]
    },
    {
     "name": "stderr",
     "output_type": "stream",
     "text": [
      "2022-09-26 14:11:16,586 - /Users/durian/Nutstore Files/Research/ID-SLP/public_code/approach/base_slp.py[line:108] - INFO: Set parameter MIPGap to value 0.01\n"
     ]
    },
    {
     "name": "stdout",
     "output_type": "stream",
     "text": [
      "Set parameter MIPGap to value 0.01\n"
     ]
    },
    {
     "name": "stderr",
     "output_type": "stream",
     "text": [
      "2022-09-26 14:11:16,661 - /Users/durian/Nutstore Files/Research/ID-SLP/public_code/approach/base_slp.py[line:108] - INFO: Set parameter MIPGap to value 0.01\n"
     ]
    },
    {
     "name": "stdout",
     "output_type": "stream",
     "text": [
      "Set parameter MIPGap to value 0.01\n"
     ]
    },
    {
     "name": "stderr",
     "output_type": "stream",
     "text": [
      "2022-09-26 14:11:16,736 - /Users/durian/Nutstore Files/Research/ID-SLP/public_code/approach/base_slp.py[line:108] - INFO: Set parameter MIPGap to value 0.01\n"
     ]
    },
    {
     "name": "stdout",
     "output_type": "stream",
     "text": [
      "Set parameter MIPGap to value 0.01\n"
     ]
    },
    {
     "name": "stderr",
     "output_type": "stream",
     "text": [
      "2022-09-26 14:11:16,810 - /Users/durian/Nutstore Files/Research/ID-SLP/public_code/approach/base_slp.py[line:108] - INFO: Set parameter MIPGap to value 0.01\n"
     ]
    },
    {
     "name": "stdout",
     "output_type": "stream",
     "text": [
      "Set parameter MIPGap to value 0.01\n"
     ]
    },
    {
     "name": "stderr",
     "output_type": "stream",
     "text": [
      "2022-09-26 14:11:16,885 - /Users/durian/Nutstore Files/Research/ID-SLP/public_code/approach/base_slp.py[line:108] - INFO: Set parameter MIPGap to value 0.01\n"
     ]
    },
    {
     "name": "stdout",
     "output_type": "stream",
     "text": [
      "Set parameter MIPGap to value 0.01\n"
     ]
    },
    {
     "name": "stderr",
     "output_type": "stream",
     "text": [
      "2022-09-26 14:11:16,959 - /Users/durian/Nutstore Files/Research/ID-SLP/public_code/approach/base_slp.py[line:108] - INFO: Set parameter MIPGap to value 0.01\n"
     ]
    },
    {
     "name": "stdout",
     "output_type": "stream",
     "text": [
      "Set parameter MIPGap to value 0.01\n"
     ]
    },
    {
     "name": "stderr",
     "output_type": "stream",
     "text": [
      "2022-09-26 14:11:17,038 - /Users/durian/Nutstore Files/Research/ID-SLP/public_code/approach/base_slp.py[line:108] - INFO: Set parameter MIPGap to value 0.01\n"
     ]
    },
    {
     "name": "stdout",
     "output_type": "stream",
     "text": [
      "Set parameter MIPGap to value 0.01\n"
     ]
    },
    {
     "name": "stderr",
     "output_type": "stream",
     "text": [
      "2022-09-26 14:11:17,181 - /Users/durian/Nutstore Files/Research/ID-SLP/public_code/approach/base_slp.py[line:108] - INFO: Set parameter MIPGap to value 0.01\n"
     ]
    },
    {
     "name": "stdout",
     "output_type": "stream",
     "text": [
      "Set parameter MIPGap to value 0.01\n"
     ]
    },
    {
     "name": "stderr",
     "output_type": "stream",
     "text": [
      "2022-09-26 14:11:17,258 - /Users/durian/Nutstore Files/Research/ID-SLP/public_code/approach/base_slp.py[line:108] - INFO: Set parameter MIPGap to value 0.01\n"
     ]
    },
    {
     "name": "stdout",
     "output_type": "stream",
     "text": [
      "Set parameter MIPGap to value 0.01\n"
     ]
    },
    {
     "name": "stderr",
     "output_type": "stream",
     "text": [
      "2022-09-26 14:11:17,333 - /Users/durian/Nutstore Files/Research/ID-SLP/public_code/approach/base_slp.py[line:108] - INFO: Set parameter MIPGap to value 0.01\n"
     ]
    },
    {
     "name": "stdout",
     "output_type": "stream",
     "text": [
      "Set parameter MIPGap to value 0.01\n"
     ]
    },
    {
     "name": "stderr",
     "output_type": "stream",
     "text": [
      "2022-09-26 14:11:17,408 - /Users/durian/Nutstore Files/Research/ID-SLP/public_code/approach/base_slp.py[line:108] - INFO: Set parameter MIPGap to value 0.01\n"
     ]
    },
    {
     "name": "stdout",
     "output_type": "stream",
     "text": [
      "Set parameter MIPGap to value 0.01\n"
     ]
    },
    {
     "name": "stderr",
     "output_type": "stream",
     "text": [
      "2022-09-26 14:11:17,484 - /Users/durian/Nutstore Files/Research/ID-SLP/public_code/approach/base_slp.py[line:108] - INFO: Set parameter MIPGap to value 0.01\n"
     ]
    },
    {
     "name": "stdout",
     "output_type": "stream",
     "text": [
      "Set parameter MIPGap to value 0.01\n"
     ]
    },
    {
     "name": "stderr",
     "output_type": "stream",
     "text": [
      "2022-09-26 14:11:17,560 - /Users/durian/Nutstore Files/Research/ID-SLP/public_code/approach/base_slp.py[line:108] - INFO: Set parameter MIPGap to value 0.01\n"
     ]
    },
    {
     "name": "stdout",
     "output_type": "stream",
     "text": [
      "Set parameter MIPGap to value 0.01\n"
     ]
    },
    {
     "name": "stderr",
     "output_type": "stream",
     "text": [
      "2022-09-26 14:11:17,635 - /Users/durian/Nutstore Files/Research/ID-SLP/public_code/approach/base_slp.py[line:108] - INFO: Set parameter MIPGap to value 0.01\n"
     ]
    },
    {
     "name": "stdout",
     "output_type": "stream",
     "text": [
      "Set parameter MIPGap to value 0.01\n"
     ]
    },
    {
     "name": "stderr",
     "output_type": "stream",
     "text": [
      "2022-09-26 14:11:17,710 - /Users/durian/Nutstore Files/Research/ID-SLP/public_code/approach/base_slp.py[line:108] - INFO: Set parameter MIPGap to value 0.01\n"
     ]
    },
    {
     "name": "stdout",
     "output_type": "stream",
     "text": [
      "Set parameter MIPGap to value 0.01\n"
     ]
    },
    {
     "name": "stderr",
     "output_type": "stream",
     "text": [
      "2022-09-26 14:11:17,785 - /Users/durian/Nutstore Files/Research/ID-SLP/public_code/approach/base_slp.py[line:108] - INFO: Set parameter MIPGap to value 0.01\n"
     ]
    },
    {
     "name": "stdout",
     "output_type": "stream",
     "text": [
      "Set parameter MIPGap to value 0.01\n"
     ]
    },
    {
     "name": "stderr",
     "output_type": "stream",
     "text": [
      "2022-09-26 14:11:17,859 - /Users/durian/Nutstore Files/Research/ID-SLP/public_code/approach/base_slp.py[line:108] - INFO: Set parameter MIPGap to value 0.01\n"
     ]
    },
    {
     "name": "stdout",
     "output_type": "stream",
     "text": [
      "Set parameter MIPGap to value 0.01\n"
     ]
    },
    {
     "name": "stderr",
     "output_type": "stream",
     "text": [
      "2022-09-26 14:11:17,934 - /Users/durian/Nutstore Files/Research/ID-SLP/public_code/approach/base_slp.py[line:108] - INFO: Set parameter MIPGap to value 0.01\n"
     ]
    },
    {
     "name": "stdout",
     "output_type": "stream",
     "text": [
      "This graph can be decomposed\n",
      "Set parameter MIPGap to value 0.01\n"
     ]
    },
    {
     "name": "stderr",
     "output_type": "stream",
     "text": [
      "2022-09-26 14:11:18,094 - /Users/durian/Nutstore Files/Research/ID-SLP/public_code/approach/base_slp.py[line:108] - INFO: Set parameter MIPGap to value 0.01\n"
     ]
    },
    {
     "name": "stdout",
     "output_type": "stream",
     "text": [
      "Set parameter MIPGap to value 0.01\n"
     ]
    },
    {
     "name": "stderr",
     "output_type": "stream",
     "text": [
      "2022-09-26 14:11:18,147 - /Users/durian/Nutstore Files/Research/ID-SLP/public_code/approach/base_slp.py[line:108] - INFO: Set parameter MIPGap to value 0.01\n"
     ]
    },
    {
     "name": "stdout",
     "output_type": "stream",
     "text": [
      "Set parameter MIPGap to value 0.01\n"
     ]
    },
    {
     "name": "stderr",
     "output_type": "stream",
     "text": [
      "2022-09-26 14:11:18,199 - /Users/durian/Nutstore Files/Research/ID-SLP/public_code/approach/base_slp.py[line:108] - INFO: Set parameter MIPGap to value 0.01\n"
     ]
    },
    {
     "name": "stdout",
     "output_type": "stream",
     "text": [
      "Set parameter MIPGap to value 0.01\n"
     ]
    },
    {
     "name": "stderr",
     "output_type": "stream",
     "text": [
      "2022-09-26 14:11:18,251 - /Users/durian/Nutstore Files/Research/ID-SLP/public_code/approach/base_slp.py[line:108] - INFO: Set parameter MIPGap to value 0.01\n"
     ]
    },
    {
     "name": "stdout",
     "output_type": "stream",
     "text": [
      "Set parameter MIPGap to value 0.01\n"
     ]
    },
    {
     "name": "stderr",
     "output_type": "stream",
     "text": [
      "2022-09-26 14:11:18,303 - /Users/durian/Nutstore Files/Research/ID-SLP/public_code/approach/base_slp.py[line:108] - INFO: Set parameter MIPGap to value 0.01\n"
     ]
    },
    {
     "name": "stdout",
     "output_type": "stream",
     "text": [
      "Set parameter MIPGap to value 0.01\n"
     ]
    },
    {
     "name": "stderr",
     "output_type": "stream",
     "text": [
      "2022-09-26 14:11:18,354 - /Users/durian/Nutstore Files/Research/ID-SLP/public_code/approach/base_slp.py[line:108] - INFO: Set parameter MIPGap to value 0.01\n"
     ]
    },
    {
     "name": "stdout",
     "output_type": "stream",
     "text": [
      "Set parameter MIPGap to value 0.01\n"
     ]
    },
    {
     "name": "stderr",
     "output_type": "stream",
     "text": [
      "2022-09-26 14:11:18,406 - /Users/durian/Nutstore Files/Research/ID-SLP/public_code/approach/base_slp.py[line:108] - INFO: Set parameter MIPGap to value 0.01\n"
     ]
    },
    {
     "name": "stdout",
     "output_type": "stream",
     "text": [
      "Set parameter MIPGap to value 0.01\n"
     ]
    },
    {
     "name": "stderr",
     "output_type": "stream",
     "text": [
      "2022-09-26 14:11:18,458 - /Users/durian/Nutstore Files/Research/ID-SLP/public_code/approach/base_slp.py[line:108] - INFO: Set parameter MIPGap to value 0.01\n"
     ]
    },
    {
     "name": "stdout",
     "output_type": "stream",
     "text": [
      "Set parameter MIPGap to value 0.01\n"
     ]
    },
    {
     "name": "stderr",
     "output_type": "stream",
     "text": [
      "2022-09-26 14:11:18,510 - /Users/durian/Nutstore Files/Research/ID-SLP/public_code/approach/base_slp.py[line:108] - INFO: Set parameter MIPGap to value 0.01\n"
     ]
    },
    {
     "name": "stdout",
     "output_type": "stream",
     "text": [
      "Set parameter MIPGap to value 0.01\n"
     ]
    },
    {
     "name": "stderr",
     "output_type": "stream",
     "text": [
      "2022-09-26 14:11:18,562 - /Users/durian/Nutstore Files/Research/ID-SLP/public_code/approach/base_slp.py[line:108] - INFO: Set parameter MIPGap to value 0.01\n"
     ]
    },
    {
     "name": "stdout",
     "output_type": "stream",
     "text": [
      "Set parameter MIPGap to value 0.01\n"
     ]
    },
    {
     "name": "stderr",
     "output_type": "stream",
     "text": [
      "2022-09-26 14:11:18,683 - /Users/durian/Nutstore Files/Research/ID-SLP/public_code/approach/base_slp.py[line:108] - INFO: Set parameter MIPGap to value 0.01\n"
     ]
    },
    {
     "name": "stdout",
     "output_type": "stream",
     "text": [
      "Set parameter MIPGap to value 0.01\n"
     ]
    },
    {
     "name": "stderr",
     "output_type": "stream",
     "text": [
      "2022-09-26 14:11:18,735 - /Users/durian/Nutstore Files/Research/ID-SLP/public_code/approach/base_slp.py[line:108] - INFO: Set parameter MIPGap to value 0.01\n"
     ]
    },
    {
     "name": "stdout",
     "output_type": "stream",
     "text": [
      "Set parameter MIPGap to value 0.01\n"
     ]
    },
    {
     "name": "stderr",
     "output_type": "stream",
     "text": [
      "2022-09-26 14:11:18,788 - /Users/durian/Nutstore Files/Research/ID-SLP/public_code/approach/base_slp.py[line:108] - INFO: Set parameter MIPGap to value 0.01\n"
     ]
    },
    {
     "name": "stdout",
     "output_type": "stream",
     "text": [
      "Set parameter MIPGap to value 0.01\n"
     ]
    },
    {
     "name": "stderr",
     "output_type": "stream",
     "text": [
      "2022-09-26 14:11:18,841 - /Users/durian/Nutstore Files/Research/ID-SLP/public_code/approach/base_slp.py[line:108] - INFO: Set parameter MIPGap to value 0.01\n"
     ]
    },
    {
     "name": "stdout",
     "output_type": "stream",
     "text": [
      "Set parameter MIPGap to value 0.01\n"
     ]
    },
    {
     "name": "stderr",
     "output_type": "stream",
     "text": [
      "2022-09-26 14:11:18,893 - /Users/durian/Nutstore Files/Research/ID-SLP/public_code/approach/base_slp.py[line:108] - INFO: Set parameter MIPGap to value 0.01\n"
     ]
    },
    {
     "name": "stdout",
     "output_type": "stream",
     "text": [
      "Set parameter MIPGap to value 0.01\n"
     ]
    },
    {
     "name": "stderr",
     "output_type": "stream",
     "text": [
      "2022-09-26 14:11:18,945 - /Users/durian/Nutstore Files/Research/ID-SLP/public_code/approach/base_slp.py[line:108] - INFO: Set parameter MIPGap to value 0.01\n"
     ]
    },
    {
     "name": "stdout",
     "output_type": "stream",
     "text": [
      "Set parameter MIPGap to value 0.01\n"
     ]
    },
    {
     "name": "stderr",
     "output_type": "stream",
     "text": [
      "2022-09-26 14:11:18,997 - /Users/durian/Nutstore Files/Research/ID-SLP/public_code/approach/base_slp.py[line:108] - INFO: Set parameter MIPGap to value 0.01\n"
     ]
    },
    {
     "name": "stdout",
     "output_type": "stream",
     "text": [
      "Set parameter MIPGap to value 0.01\n"
     ]
    },
    {
     "name": "stderr",
     "output_type": "stream",
     "text": [
      "2022-09-26 14:11:19,049 - /Users/durian/Nutstore Files/Research/ID-SLP/public_code/approach/base_slp.py[line:108] - INFO: Set parameter MIPGap to value 0.01\n"
     ]
    },
    {
     "name": "stdout",
     "output_type": "stream",
     "text": [
      "Set parameter MIPGap to value 0.01\n"
     ]
    },
    {
     "name": "stderr",
     "output_type": "stream",
     "text": [
      "2022-09-26 14:11:19,105 - /Users/durian/Nutstore Files/Research/ID-SLP/public_code/approach/base_slp.py[line:108] - INFO: Set parameter MIPGap to value 0.01\n"
     ]
    },
    {
     "name": "stdout",
     "output_type": "stream",
     "text": [
      "Set parameter MIPGap to value 0.01\n"
     ]
    },
    {
     "name": "stderr",
     "output_type": "stream",
     "text": [
      "2022-09-26 14:11:19,157 - /Users/durian/Nutstore Files/Research/ID-SLP/public_code/approach/base_slp.py[line:108] - INFO: Set parameter MIPGap to value 0.01\n"
     ]
    },
    {
     "name": "stdout",
     "output_type": "stream",
     "text": [
      "Set parameter MIPGap to value 0.01\n"
     ]
    },
    {
     "name": "stderr",
     "output_type": "stream",
     "text": [
      "2022-09-26 14:11:19,210 - /Users/durian/Nutstore Files/Research/ID-SLP/public_code/approach/base_slp.py[line:108] - INFO: Set parameter MIPGap to value 0.01\n"
     ]
    },
    {
     "name": "stdout",
     "output_type": "stream",
     "text": [
      "Set parameter MIPGap to value 0.01\n"
     ]
    },
    {
     "name": "stderr",
     "output_type": "stream",
     "text": [
      "2022-09-26 14:11:19,266 - /Users/durian/Nutstore Files/Research/ID-SLP/public_code/approach/base_slp.py[line:108] - INFO: Set parameter MIPGap to value 0.01\n"
     ]
    },
    {
     "name": "stdout",
     "output_type": "stream",
     "text": [
      "Set parameter MIPGap to value 0.01\n"
     ]
    },
    {
     "name": "stderr",
     "output_type": "stream",
     "text": [
      "2022-09-26 14:11:19,319 - /Users/durian/Nutstore Files/Research/ID-SLP/public_code/approach/base_slp.py[line:108] - INFO: Set parameter MIPGap to value 0.01\n"
     ]
    },
    {
     "name": "stdout",
     "output_type": "stream",
     "text": [
      "Set parameter MIPGap to value 0.01\n"
     ]
    },
    {
     "name": "stderr",
     "output_type": "stream",
     "text": [
      "2022-09-26 14:11:19,372 - /Users/durian/Nutstore Files/Research/ID-SLP/public_code/approach/base_slp.py[line:108] - INFO: Set parameter MIPGap to value 0.01\n"
     ]
    },
    {
     "name": "stdout",
     "output_type": "stream",
     "text": [
      "Set parameter MIPGap to value 0.01\n"
     ]
    },
    {
     "name": "stderr",
     "output_type": "stream",
     "text": [
      "2022-09-26 14:11:19,425 - /Users/durian/Nutstore Files/Research/ID-SLP/public_code/approach/base_slp.py[line:108] - INFO: Set parameter MIPGap to value 0.01\n"
     ]
    },
    {
     "name": "stdout",
     "output_type": "stream",
     "text": [
      "Set parameter MIPGap to value 0.01\n"
     ]
    },
    {
     "name": "stderr",
     "output_type": "stream",
     "text": [
      "2022-09-26 14:11:19,477 - /Users/durian/Nutstore Files/Research/ID-SLP/public_code/approach/base_slp.py[line:108] - INFO: Set parameter MIPGap to value 0.01\n"
     ]
    },
    {
     "name": "stdout",
     "output_type": "stream",
     "text": [
      "Set parameter MIPGap to value 0.01\n"
     ]
    },
    {
     "name": "stderr",
     "output_type": "stream",
     "text": [
      "2022-09-26 14:11:19,530 - /Users/durian/Nutstore Files/Research/ID-SLP/public_code/approach/base_slp.py[line:108] - INFO: Set parameter MIPGap to value 0.01\n"
     ]
    },
    {
     "name": "stdout",
     "output_type": "stream",
     "text": [
      "Set parameter MIPGap to value 0.01\n"
     ]
    },
    {
     "name": "stderr",
     "output_type": "stream",
     "text": [
      "2022-09-26 14:11:19,582 - /Users/durian/Nutstore Files/Research/ID-SLP/public_code/approach/base_slp.py[line:108] - INFO: Set parameter MIPGap to value 0.01\n"
     ]
    },
    {
     "name": "stdout",
     "output_type": "stream",
     "text": [
      "Set parameter MIPGap to value 0.01\n"
     ]
    },
    {
     "name": "stderr",
     "output_type": "stream",
     "text": [
      "2022-09-26 14:11:19,634 - /Users/durian/Nutstore Files/Research/ID-SLP/public_code/approach/base_slp.py[line:108] - INFO: Set parameter MIPGap to value 0.01\n"
     ]
    },
    {
     "name": "stdout",
     "output_type": "stream",
     "text": [
      "Set parameter MIPGap to value 0.01\n"
     ]
    },
    {
     "name": "stderr",
     "output_type": "stream",
     "text": [
      "2022-09-26 14:11:19,687 - /Users/durian/Nutstore Files/Research/ID-SLP/public_code/approach/base_slp.py[line:108] - INFO: Set parameter MIPGap to value 0.01\n"
     ]
    },
    {
     "name": "stdout",
     "output_type": "stream",
     "text": [
      "Set parameter MIPGap to value 0.01\n"
     ]
    },
    {
     "name": "stderr",
     "output_type": "stream",
     "text": [
      "2022-09-26 14:11:19,740 - /Users/durian/Nutstore Files/Research/ID-SLP/public_code/approach/base_slp.py[line:108] - INFO: Set parameter MIPGap to value 0.01\n"
     ]
    },
    {
     "name": "stdout",
     "output_type": "stream",
     "text": [
      "This graph can be decomposed\n",
      "Set parameter MIPGap to value 0.01\n"
     ]
    },
    {
     "name": "stderr",
     "output_type": "stream",
     "text": [
      "2022-09-26 14:11:19,832 - /Users/durian/Nutstore Files/Research/ID-SLP/public_code/approach/base_slp.py[line:108] - INFO: Set parameter MIPGap to value 0.01\n"
     ]
    },
    {
     "name": "stdout",
     "output_type": "stream",
     "text": [
      "Set parameter MIPGap to value 0.01\n"
     ]
    },
    {
     "name": "stderr",
     "output_type": "stream",
     "text": [
      "2022-09-26 14:11:19,876 - /Users/durian/Nutstore Files/Research/ID-SLP/public_code/approach/base_slp.py[line:108] - INFO: Set parameter MIPGap to value 0.01\n"
     ]
    },
    {
     "name": "stdout",
     "output_type": "stream",
     "text": [
      "Set parameter MIPGap to value 0.01\n"
     ]
    },
    {
     "name": "stderr",
     "output_type": "stream",
     "text": [
      "2022-09-26 14:11:19,920 - /Users/durian/Nutstore Files/Research/ID-SLP/public_code/approach/base_slp.py[line:108] - INFO: Set parameter MIPGap to value 0.01\n"
     ]
    },
    {
     "name": "stdout",
     "output_type": "stream",
     "text": [
      "Set parameter MIPGap to value 0.01\n"
     ]
    },
    {
     "name": "stderr",
     "output_type": "stream",
     "text": [
      "2022-09-26 14:11:19,964 - /Users/durian/Nutstore Files/Research/ID-SLP/public_code/approach/base_slp.py[line:108] - INFO: Set parameter MIPGap to value 0.01\n"
     ]
    },
    {
     "name": "stdout",
     "output_type": "stream",
     "text": [
      "Set parameter MIPGap to value 0.01\n"
     ]
    },
    {
     "name": "stderr",
     "output_type": "stream",
     "text": [
      "2022-09-26 14:11:20,009 - /Users/durian/Nutstore Files/Research/ID-SLP/public_code/approach/base_slp.py[line:108] - INFO: Set parameter MIPGap to value 0.01\n"
     ]
    },
    {
     "name": "stdout",
     "output_type": "stream",
     "text": [
      "Set parameter MIPGap to value 0.01\n"
     ]
    },
    {
     "name": "stderr",
     "output_type": "stream",
     "text": [
      "2022-09-26 14:11:20,053 - /Users/durian/Nutstore Files/Research/ID-SLP/public_code/approach/base_slp.py[line:108] - INFO: Set parameter MIPGap to value 0.01\n"
     ]
    },
    {
     "name": "stdout",
     "output_type": "stream",
     "text": [
      "Set parameter MIPGap to value 0.01\n"
     ]
    },
    {
     "name": "stderr",
     "output_type": "stream",
     "text": [
      "2022-09-26 14:11:20,097 - /Users/durian/Nutstore Files/Research/ID-SLP/public_code/approach/base_slp.py[line:108] - INFO: Set parameter MIPGap to value 0.01\n"
     ]
    },
    {
     "name": "stdout",
     "output_type": "stream",
     "text": [
      "Set parameter MIPGap to value 0.01\n"
     ]
    },
    {
     "name": "stderr",
     "output_type": "stream",
     "text": [
      "2022-09-26 14:11:20,141 - /Users/durian/Nutstore Files/Research/ID-SLP/public_code/approach/base_slp.py[line:108] - INFO: Set parameter MIPGap to value 0.01\n"
     ]
    },
    {
     "name": "stdout",
     "output_type": "stream",
     "text": [
      "Set parameter MIPGap to value 0.01\n"
     ]
    },
    {
     "name": "stderr",
     "output_type": "stream",
     "text": [
      "2022-09-26 14:11:20,185 - /Users/durian/Nutstore Files/Research/ID-SLP/public_code/approach/base_slp.py[line:108] - INFO: Set parameter MIPGap to value 0.01\n"
     ]
    },
    {
     "name": "stdout",
     "output_type": "stream",
     "text": [
      "Set parameter MIPGap to value 0.01\n"
     ]
    },
    {
     "name": "stderr",
     "output_type": "stream",
     "text": [
      "2022-09-26 14:11:20,230 - /Users/durian/Nutstore Files/Research/ID-SLP/public_code/approach/base_slp.py[line:108] - INFO: Set parameter MIPGap to value 0.01\n"
     ]
    },
    {
     "name": "stdout",
     "output_type": "stream",
     "text": [
      "Set parameter MIPGap to value 0.01\n"
     ]
    },
    {
     "name": "stderr",
     "output_type": "stream",
     "text": [
      "2022-09-26 14:11:20,274 - /Users/durian/Nutstore Files/Research/ID-SLP/public_code/approach/base_slp.py[line:108] - INFO: Set parameter MIPGap to value 0.01\n"
     ]
    },
    {
     "name": "stdout",
     "output_type": "stream",
     "text": [
      "Set parameter MIPGap to value 0.01\n"
     ]
    },
    {
     "name": "stderr",
     "output_type": "stream",
     "text": [
      "2022-09-26 14:11:20,318 - /Users/durian/Nutstore Files/Research/ID-SLP/public_code/approach/base_slp.py[line:108] - INFO: Set parameter MIPGap to value 0.01\n"
     ]
    },
    {
     "name": "stdout",
     "output_type": "stream",
     "text": [
      "Set parameter MIPGap to value 0.01\n"
     ]
    },
    {
     "name": "stderr",
     "output_type": "stream",
     "text": [
      "2022-09-26 14:11:20,362 - /Users/durian/Nutstore Files/Research/ID-SLP/public_code/approach/base_slp.py[line:108] - INFO: Set parameter MIPGap to value 0.01\n"
     ]
    },
    {
     "name": "stdout",
     "output_type": "stream",
     "text": [
      "Set parameter MIPGap to value 0.01\n"
     ]
    },
    {
     "name": "stderr",
     "output_type": "stream",
     "text": [
      "2022-09-26 14:11:20,406 - /Users/durian/Nutstore Files/Research/ID-SLP/public_code/approach/base_slp.py[line:108] - INFO: Set parameter MIPGap to value 0.01\n"
     ]
    },
    {
     "name": "stdout",
     "output_type": "stream",
     "text": [
      "Set parameter MIPGap to value 0.01\n"
     ]
    },
    {
     "name": "stderr",
     "output_type": "stream",
     "text": [
      "2022-09-26 14:11:20,451 - /Users/durian/Nutstore Files/Research/ID-SLP/public_code/approach/base_slp.py[line:108] - INFO: Set parameter MIPGap to value 0.01\n"
     ]
    },
    {
     "name": "stdout",
     "output_type": "stream",
     "text": [
      "Set parameter MIPGap to value 0.01\n"
     ]
    },
    {
     "name": "stderr",
     "output_type": "stream",
     "text": [
      "2022-09-26 14:11:20,495 - /Users/durian/Nutstore Files/Research/ID-SLP/public_code/approach/base_slp.py[line:108] - INFO: Set parameter MIPGap to value 0.01\n"
     ]
    },
    {
     "name": "stdout",
     "output_type": "stream",
     "text": [
      "Set parameter MIPGap to value 0.01\n"
     ]
    },
    {
     "name": "stderr",
     "output_type": "stream",
     "text": [
      "2022-09-26 14:11:20,540 - /Users/durian/Nutstore Files/Research/ID-SLP/public_code/approach/base_slp.py[line:108] - INFO: Set parameter MIPGap to value 0.01\n"
     ]
    },
    {
     "name": "stdout",
     "output_type": "stream",
     "text": [
      "Set parameter MIPGap to value 0.01\n"
     ]
    },
    {
     "name": "stderr",
     "output_type": "stream",
     "text": [
      "2022-09-26 14:11:20,657 - /Users/durian/Nutstore Files/Research/ID-SLP/public_code/approach/base_slp.py[line:108] - INFO: Set parameter MIPGap to value 0.01\n"
     ]
    },
    {
     "name": "stdout",
     "output_type": "stream",
     "text": [
      "Set parameter MIPGap to value 0.01\n"
     ]
    },
    {
     "name": "stderr",
     "output_type": "stream",
     "text": [
      "2022-09-26 14:11:20,702 - /Users/durian/Nutstore Files/Research/ID-SLP/public_code/approach/base_slp.py[line:108] - INFO: Set parameter MIPGap to value 0.01\n"
     ]
    },
    {
     "name": "stdout",
     "output_type": "stream",
     "text": [
      "Set parameter MIPGap to value 0.01\n"
     ]
    },
    {
     "name": "stderr",
     "output_type": "stream",
     "text": [
      "2022-09-26 14:11:20,748 - /Users/durian/Nutstore Files/Research/ID-SLP/public_code/approach/base_slp.py[line:108] - INFO: Set parameter MIPGap to value 0.01\n"
     ]
    },
    {
     "name": "stdout",
     "output_type": "stream",
     "text": [
      "Set parameter MIPGap to value 0.01\n"
     ]
    },
    {
     "name": "stderr",
     "output_type": "stream",
     "text": [
      "2022-09-26 14:11:20,792 - /Users/durian/Nutstore Files/Research/ID-SLP/public_code/approach/base_slp.py[line:108] - INFO: Set parameter MIPGap to value 0.01\n"
     ]
    },
    {
     "name": "stdout",
     "output_type": "stream",
     "text": [
      "Set parameter MIPGap to value 0.01\n"
     ]
    },
    {
     "name": "stderr",
     "output_type": "stream",
     "text": [
      "2022-09-26 14:11:20,836 - /Users/durian/Nutstore Files/Research/ID-SLP/public_code/approach/base_slp.py[line:108] - INFO: Set parameter MIPGap to value 0.01\n"
     ]
    },
    {
     "name": "stdout",
     "output_type": "stream",
     "text": [
      "Set parameter MIPGap to value 0.01\n"
     ]
    },
    {
     "name": "stderr",
     "output_type": "stream",
     "text": [
      "2022-09-26 14:11:20,881 - /Users/durian/Nutstore Files/Research/ID-SLP/public_code/approach/base_slp.py[line:108] - INFO: Set parameter MIPGap to value 0.01\n"
     ]
    },
    {
     "name": "stdout",
     "output_type": "stream",
     "text": [
      "Set parameter MIPGap to value 0.01\n"
     ]
    },
    {
     "name": "stderr",
     "output_type": "stream",
     "text": [
      "2022-09-26 14:11:20,925 - /Users/durian/Nutstore Files/Research/ID-SLP/public_code/approach/base_slp.py[line:108] - INFO: Set parameter MIPGap to value 0.01\n"
     ]
    },
    {
     "name": "stdout",
     "output_type": "stream",
     "text": [
      "Set parameter MIPGap to value 0.01\n"
     ]
    },
    {
     "name": "stderr",
     "output_type": "stream",
     "text": [
      "2022-09-26 14:11:20,970 - /Users/durian/Nutstore Files/Research/ID-SLP/public_code/approach/base_slp.py[line:108] - INFO: Set parameter MIPGap to value 0.01\n"
     ]
    },
    {
     "name": "stdout",
     "output_type": "stream",
     "text": [
      "Set parameter MIPGap to value 0.01\n"
     ]
    },
    {
     "name": "stderr",
     "output_type": "stream",
     "text": [
      "2022-09-26 14:11:21,015 - /Users/durian/Nutstore Files/Research/ID-SLP/public_code/approach/base_slp.py[line:108] - INFO: Set parameter MIPGap to value 0.01\n"
     ]
    },
    {
     "name": "stdout",
     "output_type": "stream",
     "text": [
      "Set parameter MIPGap to value 0.01\n"
     ]
    },
    {
     "name": "stderr",
     "output_type": "stream",
     "text": [
      "2022-09-26 14:11:21,059 - /Users/durian/Nutstore Files/Research/ID-SLP/public_code/approach/base_slp.py[line:108] - INFO: Set parameter MIPGap to value 0.01\n"
     ]
    },
    {
     "name": "stdout",
     "output_type": "stream",
     "text": [
      "Set parameter MIPGap to value 0.01\n"
     ]
    },
    {
     "name": "stderr",
     "output_type": "stream",
     "text": [
      "2022-09-26 14:11:21,103 - /Users/durian/Nutstore Files/Research/ID-SLP/public_code/approach/base_slp.py[line:108] - INFO: Set parameter MIPGap to value 0.01\n"
     ]
    },
    {
     "name": "stdout",
     "output_type": "stream",
     "text": [
      "Set parameter MIPGap to value 0.01\n"
     ]
    },
    {
     "name": "stderr",
     "output_type": "stream",
     "text": [
      "2022-09-26 14:11:21,148 - /Users/durian/Nutstore Files/Research/ID-SLP/public_code/approach/base_slp.py[line:108] - INFO: Set parameter MIPGap to value 0.01\n"
     ]
    },
    {
     "name": "stdout",
     "output_type": "stream",
     "text": [
      "Set parameter MIPGap to value 0.01\n"
     ]
    },
    {
     "name": "stderr",
     "output_type": "stream",
     "text": [
      "2022-09-26 14:11:21,194 - /Users/durian/Nutstore Files/Research/ID-SLP/public_code/approach/base_slp.py[line:108] - INFO: Set parameter MIPGap to value 0.01\n"
     ]
    },
    {
     "name": "stdout",
     "output_type": "stream",
     "text": [
      "Set parameter MIPGap to value 0.01\n"
     ]
    },
    {
     "name": "stderr",
     "output_type": "stream",
     "text": [
      "2022-09-26 14:11:21,240 - /Users/durian/Nutstore Files/Research/ID-SLP/public_code/approach/base_slp.py[line:108] - INFO: Set parameter MIPGap to value 0.01\n"
     ]
    },
    {
     "name": "stdout",
     "output_type": "stream",
     "text": [
      "Set parameter MIPGap to value 0.01\n"
     ]
    },
    {
     "name": "stderr",
     "output_type": "stream",
     "text": [
      "2022-09-26 14:11:21,285 - /Users/durian/Nutstore Files/Research/ID-SLP/public_code/approach/base_slp.py[line:108] - INFO: Set parameter MIPGap to value 0.01\n"
     ]
    },
    {
     "name": "stdout",
     "output_type": "stream",
     "text": [
      "Set parameter MIPGap to value 0.01\n"
     ]
    },
    {
     "name": "stderr",
     "output_type": "stream",
     "text": [
      "2022-09-26 14:11:21,330 - /Users/durian/Nutstore Files/Research/ID-SLP/public_code/approach/base_slp.py[line:108] - INFO: Set parameter MIPGap to value 0.01\n"
     ]
    },
    {
     "name": "stdout",
     "output_type": "stream",
     "text": [
      "Set parameter MIPGap to value 0.01\n"
     ]
    },
    {
     "name": "stderr",
     "output_type": "stream",
     "text": [
      "2022-09-26 14:11:21,375 - /Users/durian/Nutstore Files/Research/ID-SLP/public_code/approach/base_slp.py[line:108] - INFO: Set parameter MIPGap to value 0.01\n"
     ]
    },
    {
     "name": "stdout",
     "output_type": "stream",
     "text": [
      "Set parameter MIPGap to value 0.01\n"
     ]
    },
    {
     "name": "stderr",
     "output_type": "stream",
     "text": [
      "2022-09-26 14:11:21,419 - /Users/durian/Nutstore Files/Research/ID-SLP/public_code/approach/base_slp.py[line:108] - INFO: Set parameter MIPGap to value 0.01\n"
     ]
    },
    {
     "name": "stdout",
     "output_type": "stream",
     "text": [
      "Set parameter MIPGap to value 0.01\n"
     ]
    },
    {
     "name": "stderr",
     "output_type": "stream",
     "text": [
      "2022-09-26 14:11:21,464 - /Users/durian/Nutstore Files/Research/ID-SLP/public_code/approach/base_slp.py[line:108] - INFO: Set parameter MIPGap to value 0.01\n"
     ]
    },
    {
     "name": "stdout",
     "output_type": "stream",
     "text": [
      "Set parameter MIPGap to value 0.01\n"
     ]
    },
    {
     "name": "stderr",
     "output_type": "stream",
     "text": [
      "2022-09-26 14:11:21,508 - /Users/durian/Nutstore Files/Research/ID-SLP/public_code/approach/base_slp.py[line:108] - INFO: Set parameter MIPGap to value 0.01\n"
     ]
    },
    {
     "name": "stdout",
     "output_type": "stream",
     "text": [
      "This graph can be decomposed\n",
      "Set parameter MIPGap to value 0.01\n"
     ]
    },
    {
     "name": "stderr",
     "output_type": "stream",
     "text": [
      "2022-09-26 14:11:21,584 - /Users/durian/Nutstore Files/Research/ID-SLP/public_code/approach/base_slp.py[line:108] - INFO: Set parameter MIPGap to value 0.01\n"
     ]
    },
    {
     "name": "stdout",
     "output_type": "stream",
     "text": [
      "Set parameter MIPGap to value 0.01\n"
     ]
    },
    {
     "name": "stderr",
     "output_type": "stream",
     "text": [
      "2022-09-26 14:11:21,626 - /Users/durian/Nutstore Files/Research/ID-SLP/public_code/approach/base_slp.py[line:108] - INFO: Set parameter MIPGap to value 0.01\n"
     ]
    },
    {
     "name": "stdout",
     "output_type": "stream",
     "text": [
      "Set parameter MIPGap to value 0.01\n"
     ]
    },
    {
     "name": "stderr",
     "output_type": "stream",
     "text": [
      "2022-09-26 14:11:21,668 - /Users/durian/Nutstore Files/Research/ID-SLP/public_code/approach/base_slp.py[line:108] - INFO: Set parameter MIPGap to value 0.01\n"
     ]
    },
    {
     "name": "stdout",
     "output_type": "stream",
     "text": [
      "Set parameter MIPGap to value 0.01\n"
     ]
    },
    {
     "name": "stderr",
     "output_type": "stream",
     "text": [
      "2022-09-26 14:11:21,711 - /Users/durian/Nutstore Files/Research/ID-SLP/public_code/approach/base_slp.py[line:108] - INFO: Set parameter MIPGap to value 0.01\n"
     ]
    },
    {
     "name": "stdout",
     "output_type": "stream",
     "text": [
      "Set parameter MIPGap to value 0.01\n"
     ]
    },
    {
     "name": "stderr",
     "output_type": "stream",
     "text": [
      "2022-09-26 14:11:21,754 - /Users/durian/Nutstore Files/Research/ID-SLP/public_code/approach/base_slp.py[line:108] - INFO: Set parameter MIPGap to value 0.01\n"
     ]
    },
    {
     "name": "stdout",
     "output_type": "stream",
     "text": [
      "Set parameter MIPGap to value 0.01\n"
     ]
    },
    {
     "name": "stderr",
     "output_type": "stream",
     "text": [
      "2022-09-26 14:11:21,797 - /Users/durian/Nutstore Files/Research/ID-SLP/public_code/approach/base_slp.py[line:108] - INFO: Set parameter MIPGap to value 0.01\n"
     ]
    },
    {
     "name": "stdout",
     "output_type": "stream",
     "text": [
      "Set parameter MIPGap to value 0.01\n"
     ]
    },
    {
     "name": "stderr",
     "output_type": "stream",
     "text": [
      "2022-09-26 14:11:21,842 - /Users/durian/Nutstore Files/Research/ID-SLP/public_code/approach/base_slp.py[line:108] - INFO: Set parameter MIPGap to value 0.01\n"
     ]
    },
    {
     "name": "stdout",
     "output_type": "stream",
     "text": [
      "Set parameter MIPGap to value 0.01\n"
     ]
    },
    {
     "name": "stderr",
     "output_type": "stream",
     "text": [
      "2022-09-26 14:11:21,885 - /Users/durian/Nutstore Files/Research/ID-SLP/public_code/approach/base_slp.py[line:108] - INFO: Set parameter MIPGap to value 0.01\n"
     ]
    },
    {
     "name": "stdout",
     "output_type": "stream",
     "text": [
      "Set parameter MIPGap to value 0.01\n"
     ]
    },
    {
     "name": "stderr",
     "output_type": "stream",
     "text": [
      "2022-09-26 14:11:21,927 - /Users/durian/Nutstore Files/Research/ID-SLP/public_code/approach/base_slp.py[line:108] - INFO: Set parameter MIPGap to value 0.01\n"
     ]
    },
    {
     "name": "stdout",
     "output_type": "stream",
     "text": [
      "Set parameter MIPGap to value 0.01\n"
     ]
    },
    {
     "name": "stderr",
     "output_type": "stream",
     "text": [
      "2022-09-26 14:11:21,969 - /Users/durian/Nutstore Files/Research/ID-SLP/public_code/approach/base_slp.py[line:108] - INFO: Set parameter MIPGap to value 0.01\n"
     ]
    },
    {
     "name": "stdout",
     "output_type": "stream",
     "text": [
      "Set parameter MIPGap to value 0.01\n"
     ]
    },
    {
     "name": "stderr",
     "output_type": "stream",
     "text": [
      "2022-09-26 14:11:22,011 - /Users/durian/Nutstore Files/Research/ID-SLP/public_code/approach/base_slp.py[line:108] - INFO: Set parameter MIPGap to value 0.01\n"
     ]
    },
    {
     "name": "stdout",
     "output_type": "stream",
     "text": [
      "Set parameter MIPGap to value 0.01\n"
     ]
    },
    {
     "name": "stderr",
     "output_type": "stream",
     "text": [
      "2022-09-26 14:11:22,053 - /Users/durian/Nutstore Files/Research/ID-SLP/public_code/approach/base_slp.py[line:108] - INFO: Set parameter MIPGap to value 0.01\n"
     ]
    },
    {
     "name": "stdout",
     "output_type": "stream",
     "text": [
      "Set parameter MIPGap to value 0.01\n"
     ]
    },
    {
     "name": "stderr",
     "output_type": "stream",
     "text": [
      "2022-09-26 14:11:22,095 - /Users/durian/Nutstore Files/Research/ID-SLP/public_code/approach/base_slp.py[line:108] - INFO: Set parameter MIPGap to value 0.01\n"
     ]
    },
    {
     "name": "stdout",
     "output_type": "stream",
     "text": [
      "Set parameter MIPGap to value 0.01\n"
     ]
    },
    {
     "name": "stderr",
     "output_type": "stream",
     "text": [
      "2022-09-26 14:11:22,137 - /Users/durian/Nutstore Files/Research/ID-SLP/public_code/approach/base_slp.py[line:108] - INFO: Set parameter MIPGap to value 0.01\n"
     ]
    },
    {
     "name": "stdout",
     "output_type": "stream",
     "text": [
      "Set parameter MIPGap to value 0.01\n"
     ]
    },
    {
     "name": "stderr",
     "output_type": "stream",
     "text": [
      "2022-09-26 14:11:22,179 - /Users/durian/Nutstore Files/Research/ID-SLP/public_code/approach/base_slp.py[line:108] - INFO: Set parameter MIPGap to value 0.01\n"
     ]
    },
    {
     "name": "stdout",
     "output_type": "stream",
     "text": [
      "Set parameter MIPGap to value 0.01\n"
     ]
    },
    {
     "name": "stderr",
     "output_type": "stream",
     "text": [
      "2022-09-26 14:11:22,222 - /Users/durian/Nutstore Files/Research/ID-SLP/public_code/approach/base_slp.py[line:108] - INFO: Set parameter MIPGap to value 0.01\n"
     ]
    },
    {
     "name": "stdout",
     "output_type": "stream",
     "text": [
      "Set parameter MIPGap to value 0.01\n"
     ]
    },
    {
     "name": "stderr",
     "output_type": "stream",
     "text": [
      "2022-09-26 14:11:22,266 - /Users/durian/Nutstore Files/Research/ID-SLP/public_code/approach/base_slp.py[line:108] - INFO: Set parameter MIPGap to value 0.01\n"
     ]
    },
    {
     "name": "stdout",
     "output_type": "stream",
     "text": [
      "Set parameter MIPGap to value 0.01\n"
     ]
    },
    {
     "name": "stderr",
     "output_type": "stream",
     "text": [
      "2022-09-26 14:11:22,309 - /Users/durian/Nutstore Files/Research/ID-SLP/public_code/approach/base_slp.py[line:108] - INFO: Set parameter MIPGap to value 0.01\n"
     ]
    },
    {
     "name": "stdout",
     "output_type": "stream",
     "text": [
      "Set parameter MIPGap to value 0.01\n"
     ]
    },
    {
     "name": "stderr",
     "output_type": "stream",
     "text": [
      "2022-09-26 14:11:22,351 - /Users/durian/Nutstore Files/Research/ID-SLP/public_code/approach/base_slp.py[line:108] - INFO: Set parameter MIPGap to value 0.01\n"
     ]
    },
    {
     "name": "stdout",
     "output_type": "stream",
     "text": [
      "Set parameter MIPGap to value 0.01\n"
     ]
    },
    {
     "name": "stderr",
     "output_type": "stream",
     "text": [
      "2022-09-26 14:11:22,393 - /Users/durian/Nutstore Files/Research/ID-SLP/public_code/approach/base_slp.py[line:108] - INFO: Set parameter MIPGap to value 0.01\n"
     ]
    },
    {
     "name": "stdout",
     "output_type": "stream",
     "text": [
      "Set parameter MIPGap to value 0.01\n"
     ]
    },
    {
     "name": "stderr",
     "output_type": "stream",
     "text": [
      "2022-09-26 14:11:22,435 - /Users/durian/Nutstore Files/Research/ID-SLP/public_code/approach/base_slp.py[line:108] - INFO: Set parameter MIPGap to value 0.01\n"
     ]
    },
    {
     "name": "stdout",
     "output_type": "stream",
     "text": [
      "Set parameter MIPGap to value 0.01\n"
     ]
    },
    {
     "name": "stderr",
     "output_type": "stream",
     "text": [
      "2022-09-26 14:11:22,478 - /Users/durian/Nutstore Files/Research/ID-SLP/public_code/approach/base_slp.py[line:108] - INFO: Set parameter MIPGap to value 0.01\n"
     ]
    },
    {
     "name": "stdout",
     "output_type": "stream",
     "text": [
      "Set parameter MIPGap to value 0.01\n"
     ]
    },
    {
     "name": "stderr",
     "output_type": "stream",
     "text": [
      "2022-09-26 14:11:22,520 - /Users/durian/Nutstore Files/Research/ID-SLP/public_code/approach/base_slp.py[line:108] - INFO: Set parameter MIPGap to value 0.01\n"
     ]
    },
    {
     "name": "stdout",
     "output_type": "stream",
     "text": [
      "Set parameter MIPGap to value 0.01\n"
     ]
    },
    {
     "name": "stderr",
     "output_type": "stream",
     "text": [
      "2022-09-26 14:11:22,563 - /Users/durian/Nutstore Files/Research/ID-SLP/public_code/approach/base_slp.py[line:108] - INFO: Set parameter MIPGap to value 0.01\n"
     ]
    },
    {
     "name": "stdout",
     "output_type": "stream",
     "text": [
      "Set parameter MIPGap to value 0.01\n"
     ]
    },
    {
     "name": "stderr",
     "output_type": "stream",
     "text": [
      "2022-09-26 14:11:22,605 - /Users/durian/Nutstore Files/Research/ID-SLP/public_code/approach/base_slp.py[line:108] - INFO: Set parameter MIPGap to value 0.01\n"
     ]
    },
    {
     "name": "stdout",
     "output_type": "stream",
     "text": [
      "Set parameter MIPGap to value 0.01\n"
     ]
    },
    {
     "name": "stderr",
     "output_type": "stream",
     "text": [
      "2022-09-26 14:11:22,648 - /Users/durian/Nutstore Files/Research/ID-SLP/public_code/approach/base_slp.py[line:108] - INFO: Set parameter MIPGap to value 0.01\n"
     ]
    },
    {
     "name": "stdout",
     "output_type": "stream",
     "text": [
      "Set parameter MIPGap to value 0.01\n"
     ]
    },
    {
     "name": "stderr",
     "output_type": "stream",
     "text": [
      "2022-09-26 14:11:22,691 - /Users/durian/Nutstore Files/Research/ID-SLP/public_code/approach/base_slp.py[line:108] - INFO: Set parameter MIPGap to value 0.01\n"
     ]
    },
    {
     "name": "stdout",
     "output_type": "stream",
     "text": [
      "Set parameter MIPGap to value 0.01\n"
     ]
    },
    {
     "name": "stderr",
     "output_type": "stream",
     "text": [
      "2022-09-26 14:11:22,733 - /Users/durian/Nutstore Files/Research/ID-SLP/public_code/approach/base_slp.py[line:108] - INFO: Set parameter MIPGap to value 0.01\n"
     ]
    },
    {
     "name": "stdout",
     "output_type": "stream",
     "text": [
      "Set parameter MIPGap to value 0.01\n"
     ]
    },
    {
     "name": "stderr",
     "output_type": "stream",
     "text": [
      "2022-09-26 14:11:22,776 - /Users/durian/Nutstore Files/Research/ID-SLP/public_code/approach/base_slp.py[line:108] - INFO: Set parameter MIPGap to value 0.01\n"
     ]
    },
    {
     "name": "stdout",
     "output_type": "stream",
     "text": [
      "Set parameter MIPGap to value 0.01\n"
     ]
    },
    {
     "name": "stderr",
     "output_type": "stream",
     "text": [
      "2022-09-26 14:11:22,818 - /Users/durian/Nutstore Files/Research/ID-SLP/public_code/approach/base_slp.py[line:108] - INFO: Set parameter MIPGap to value 0.01\n"
     ]
    },
    {
     "name": "stdout",
     "output_type": "stream",
     "text": [
      "Set parameter MIPGap to value 0.01\n"
     ]
    },
    {
     "name": "stderr",
     "output_type": "stream",
     "text": [
      "2022-09-26 14:11:22,862 - /Users/durian/Nutstore Files/Research/ID-SLP/public_code/approach/base_slp.py[line:108] - INFO: Set parameter MIPGap to value 0.01\n"
     ]
    },
    {
     "name": "stdout",
     "output_type": "stream",
     "text": [
      "Set parameter MIPGap to value 0.01\n"
     ]
    },
    {
     "name": "stderr",
     "output_type": "stream",
     "text": [
      "2022-09-26 14:11:22,905 - /Users/durian/Nutstore Files/Research/ID-SLP/public_code/approach/base_slp.py[line:108] - INFO: Set parameter MIPGap to value 0.01\n"
     ]
    },
    {
     "name": "stdout",
     "output_type": "stream",
     "text": [
      "Set parameter MIPGap to value 0.01\n"
     ]
    },
    {
     "name": "stderr",
     "output_type": "stream",
     "text": [
      "2022-09-26 14:11:22,948 - /Users/durian/Nutstore Files/Research/ID-SLP/public_code/approach/base_slp.py[line:108] - INFO: Set parameter MIPGap to value 0.01\n"
     ]
    },
    {
     "name": "stdout",
     "output_type": "stream",
     "text": [
      "Set parameter MIPGap to value 0.01\n"
     ]
    },
    {
     "name": "stderr",
     "output_type": "stream",
     "text": [
      "2022-09-26 14:11:22,990 - /Users/durian/Nutstore Files/Research/ID-SLP/public_code/approach/base_slp.py[line:108] - INFO: Set parameter MIPGap to value 0.01\n"
     ]
    },
    {
     "name": "stdout",
     "output_type": "stream",
     "text": [
      "Set parameter MIPGap to value 0.01\n"
     ]
    },
    {
     "name": "stderr",
     "output_type": "stream",
     "text": [
      "2022-09-26 14:11:23,033 - /Users/durian/Nutstore Files/Research/ID-SLP/public_code/approach/base_slp.py[line:108] - INFO: Set parameter MIPGap to value 0.01\n"
     ]
    },
    {
     "name": "stdout",
     "output_type": "stream",
     "text": [
      "Set parameter MIPGap to value 0.01\n"
     ]
    },
    {
     "name": "stderr",
     "output_type": "stream",
     "text": [
      "2022-09-26 14:11:23,076 - /Users/durian/Nutstore Files/Research/ID-SLP/public_code/approach/base_slp.py[line:108] - INFO: Set parameter MIPGap to value 0.01\n"
     ]
    },
    {
     "name": "stdout",
     "output_type": "stream",
     "text": [
      "Set parameter MIPGap to value 0.01\n"
     ]
    },
    {
     "name": "stderr",
     "output_type": "stream",
     "text": [
      "2022-09-26 14:11:23,119 - /Users/durian/Nutstore Files/Research/ID-SLP/public_code/approach/base_slp.py[line:108] - INFO: Set parameter MIPGap to value 0.01\n"
     ]
    },
    {
     "name": "stdout",
     "output_type": "stream",
     "text": [
      "This graph can be decomposed\n",
      "Set parameter MIPGap to value 0.01\n"
     ]
    },
    {
     "name": "stderr",
     "output_type": "stream",
     "text": [
      "2022-09-26 14:11:23,190 - /Users/durian/Nutstore Files/Research/ID-SLP/public_code/approach/base_slp.py[line:108] - INFO: Set parameter MIPGap to value 0.01\n"
     ]
    },
    {
     "name": "stdout",
     "output_type": "stream",
     "text": [
      "Set parameter MIPGap to value 0.01\n"
     ]
    },
    {
     "name": "stderr",
     "output_type": "stream",
     "text": [
      "2022-09-26 14:11:23,231 - /Users/durian/Nutstore Files/Research/ID-SLP/public_code/approach/base_slp.py[line:108] - INFO: Set parameter MIPGap to value 0.01\n"
     ]
    },
    {
     "name": "stdout",
     "output_type": "stream",
     "text": [
      "Set parameter MIPGap to value 0.01\n"
     ]
    },
    {
     "name": "stderr",
     "output_type": "stream",
     "text": [
      "2022-09-26 14:11:23,271 - /Users/durian/Nutstore Files/Research/ID-SLP/public_code/approach/base_slp.py[line:108] - INFO: Set parameter MIPGap to value 0.01\n"
     ]
    },
    {
     "name": "stdout",
     "output_type": "stream",
     "text": [
      "Set parameter MIPGap to value 0.01\n"
     ]
    },
    {
     "name": "stderr",
     "output_type": "stream",
     "text": [
      "2022-09-26 14:11:23,312 - /Users/durian/Nutstore Files/Research/ID-SLP/public_code/approach/base_slp.py[line:108] - INFO: Set parameter MIPGap to value 0.01\n"
     ]
    },
    {
     "name": "stdout",
     "output_type": "stream",
     "text": [
      "Set parameter MIPGap to value 0.01\n"
     ]
    },
    {
     "name": "stderr",
     "output_type": "stream",
     "text": [
      "2022-09-26 14:11:23,426 - /Users/durian/Nutstore Files/Research/ID-SLP/public_code/approach/base_slp.py[line:108] - INFO: Set parameter MIPGap to value 0.01\n"
     ]
    },
    {
     "name": "stdout",
     "output_type": "stream",
     "text": [
      "Set parameter MIPGap to value 0.01\n"
     ]
    },
    {
     "name": "stderr",
     "output_type": "stream",
     "text": [
      "2022-09-26 14:11:23,466 - /Users/durian/Nutstore Files/Research/ID-SLP/public_code/approach/base_slp.py[line:108] - INFO: Set parameter MIPGap to value 0.01\n"
     ]
    },
    {
     "name": "stdout",
     "output_type": "stream",
     "text": [
      "Set parameter MIPGap to value 0.01\n"
     ]
    },
    {
     "name": "stderr",
     "output_type": "stream",
     "text": [
      "2022-09-26 14:11:23,505 - /Users/durian/Nutstore Files/Research/ID-SLP/public_code/approach/base_slp.py[line:108] - INFO: Set parameter MIPGap to value 0.01\n"
     ]
    },
    {
     "name": "stdout",
     "output_type": "stream",
     "text": [
      "Set parameter MIPGap to value 0.01\n"
     ]
    },
    {
     "name": "stderr",
     "output_type": "stream",
     "text": [
      "2022-09-26 14:11:23,546 - /Users/durian/Nutstore Files/Research/ID-SLP/public_code/approach/base_slp.py[line:108] - INFO: Set parameter MIPGap to value 0.01\n"
     ]
    },
    {
     "name": "stdout",
     "output_type": "stream",
     "text": [
      "Set parameter MIPGap to value 0.01\n"
     ]
    },
    {
     "name": "stderr",
     "output_type": "stream",
     "text": [
      "2022-09-26 14:11:23,586 - /Users/durian/Nutstore Files/Research/ID-SLP/public_code/approach/base_slp.py[line:108] - INFO: Set parameter MIPGap to value 0.01\n"
     ]
    },
    {
     "name": "stdout",
     "output_type": "stream",
     "text": [
      "Set parameter MIPGap to value 0.01\n"
     ]
    },
    {
     "name": "stderr",
     "output_type": "stream",
     "text": [
      "2022-09-26 14:11:23,628 - /Users/durian/Nutstore Files/Research/ID-SLP/public_code/approach/base_slp.py[line:108] - INFO: Set parameter MIPGap to value 0.01\n"
     ]
    },
    {
     "name": "stdout",
     "output_type": "stream",
     "text": [
      "Set parameter MIPGap to value 0.01\n"
     ]
    },
    {
     "name": "stderr",
     "output_type": "stream",
     "text": [
      "2022-09-26 14:11:23,667 - /Users/durian/Nutstore Files/Research/ID-SLP/public_code/approach/base_slp.py[line:108] - INFO: Set parameter MIPGap to value 0.01\n"
     ]
    },
    {
     "name": "stdout",
     "output_type": "stream",
     "text": [
      "Set parameter MIPGap to value 0.01\n"
     ]
    },
    {
     "name": "stderr",
     "output_type": "stream",
     "text": [
      "2022-09-26 14:11:23,708 - /Users/durian/Nutstore Files/Research/ID-SLP/public_code/approach/base_slp.py[line:108] - INFO: Set parameter MIPGap to value 0.01\n"
     ]
    },
    {
     "name": "stdout",
     "output_type": "stream",
     "text": [
      "Set parameter MIPGap to value 0.01\n"
     ]
    },
    {
     "name": "stderr",
     "output_type": "stream",
     "text": [
      "2022-09-26 14:11:23,749 - /Users/durian/Nutstore Files/Research/ID-SLP/public_code/approach/base_slp.py[line:108] - INFO: Set parameter MIPGap to value 0.01\n"
     ]
    },
    {
     "name": "stdout",
     "output_type": "stream",
     "text": [
      "Set parameter MIPGap to value 0.01\n"
     ]
    },
    {
     "name": "stderr",
     "output_type": "stream",
     "text": [
      "2022-09-26 14:11:23,789 - /Users/durian/Nutstore Files/Research/ID-SLP/public_code/approach/base_slp.py[line:108] - INFO: Set parameter MIPGap to value 0.01\n"
     ]
    },
    {
     "name": "stdout",
     "output_type": "stream",
     "text": [
      "Set parameter MIPGap to value 0.01\n"
     ]
    },
    {
     "name": "stderr",
     "output_type": "stream",
     "text": [
      "2022-09-26 14:11:23,830 - /Users/durian/Nutstore Files/Research/ID-SLP/public_code/approach/base_slp.py[line:108] - INFO: Set parameter MIPGap to value 0.01\n"
     ]
    },
    {
     "name": "stdout",
     "output_type": "stream",
     "text": [
      "Set parameter MIPGap to value 0.01\n"
     ]
    },
    {
     "name": "stderr",
     "output_type": "stream",
     "text": [
      "2022-09-26 14:11:23,870 - /Users/durian/Nutstore Files/Research/ID-SLP/public_code/approach/base_slp.py[line:108] - INFO: Set parameter MIPGap to value 0.01\n"
     ]
    },
    {
     "name": "stdout",
     "output_type": "stream",
     "text": [
      "Set parameter MIPGap to value 0.01\n"
     ]
    },
    {
     "name": "stderr",
     "output_type": "stream",
     "text": [
      "2022-09-26 14:11:23,911 - /Users/durian/Nutstore Files/Research/ID-SLP/public_code/approach/base_slp.py[line:108] - INFO: Set parameter MIPGap to value 0.01\n"
     ]
    },
    {
     "name": "stdout",
     "output_type": "stream",
     "text": [
      "Set parameter MIPGap to value 0.01\n"
     ]
    },
    {
     "name": "stderr",
     "output_type": "stream",
     "text": [
      "2022-09-26 14:11:23,952 - /Users/durian/Nutstore Files/Research/ID-SLP/public_code/approach/base_slp.py[line:108] - INFO: Set parameter MIPGap to value 0.01\n"
     ]
    },
    {
     "name": "stdout",
     "output_type": "stream",
     "text": [
      "Set parameter MIPGap to value 0.01\n"
     ]
    },
    {
     "name": "stderr",
     "output_type": "stream",
     "text": [
      "2022-09-26 14:11:23,993 - /Users/durian/Nutstore Files/Research/ID-SLP/public_code/approach/base_slp.py[line:108] - INFO: Set parameter MIPGap to value 0.01\n"
     ]
    },
    {
     "name": "stdout",
     "output_type": "stream",
     "text": [
      "Set parameter MIPGap to value 0.01\n"
     ]
    },
    {
     "name": "stderr",
     "output_type": "stream",
     "text": [
      "2022-09-26 14:11:24,036 - /Users/durian/Nutstore Files/Research/ID-SLP/public_code/approach/base_slp.py[line:108] - INFO: Set parameter MIPGap to value 0.01\n"
     ]
    },
    {
     "name": "stdout",
     "output_type": "stream",
     "text": [
      "Set parameter MIPGap to value 0.01\n"
     ]
    },
    {
     "name": "stderr",
     "output_type": "stream",
     "text": [
      "2022-09-26 14:11:24,078 - /Users/durian/Nutstore Files/Research/ID-SLP/public_code/approach/base_slp.py[line:108] - INFO: Set parameter MIPGap to value 0.01\n"
     ]
    },
    {
     "name": "stdout",
     "output_type": "stream",
     "text": [
      "Set parameter MIPGap to value 0.01\n"
     ]
    },
    {
     "name": "stderr",
     "output_type": "stream",
     "text": [
      "2022-09-26 14:11:24,119 - /Users/durian/Nutstore Files/Research/ID-SLP/public_code/approach/base_slp.py[line:108] - INFO: Set parameter MIPGap to value 0.01\n"
     ]
    },
    {
     "name": "stdout",
     "output_type": "stream",
     "text": [
      "Set parameter MIPGap to value 0.01\n"
     ]
    },
    {
     "name": "stderr",
     "output_type": "stream",
     "text": [
      "2022-09-26 14:11:24,161 - /Users/durian/Nutstore Files/Research/ID-SLP/public_code/approach/base_slp.py[line:108] - INFO: Set parameter MIPGap to value 0.01\n"
     ]
    },
    {
     "name": "stdout",
     "output_type": "stream",
     "text": [
      "Set parameter MIPGap to value 0.01\n"
     ]
    },
    {
     "name": "stderr",
     "output_type": "stream",
     "text": [
      "2022-09-26 14:11:24,201 - /Users/durian/Nutstore Files/Research/ID-SLP/public_code/approach/base_slp.py[line:108] - INFO: Set parameter MIPGap to value 0.01\n"
     ]
    },
    {
     "name": "stdout",
     "output_type": "stream",
     "text": [
      "Set parameter MIPGap to value 0.01\n"
     ]
    },
    {
     "name": "stderr",
     "output_type": "stream",
     "text": [
      "2022-09-26 14:11:24,241 - /Users/durian/Nutstore Files/Research/ID-SLP/public_code/approach/base_slp.py[line:108] - INFO: Set parameter MIPGap to value 0.01\n"
     ]
    },
    {
     "name": "stdout",
     "output_type": "stream",
     "text": [
      "Set parameter MIPGap to value 0.01\n"
     ]
    },
    {
     "name": "stderr",
     "output_type": "stream",
     "text": [
      "2022-09-26 14:11:24,282 - /Users/durian/Nutstore Files/Research/ID-SLP/public_code/approach/base_slp.py[line:108] - INFO: Set parameter MIPGap to value 0.01\n"
     ]
    },
    {
     "name": "stdout",
     "output_type": "stream",
     "text": [
      "Set parameter MIPGap to value 0.01\n"
     ]
    },
    {
     "name": "stderr",
     "output_type": "stream",
     "text": [
      "2022-09-26 14:11:24,323 - /Users/durian/Nutstore Files/Research/ID-SLP/public_code/approach/base_slp.py[line:108] - INFO: Set parameter MIPGap to value 0.01\n"
     ]
    },
    {
     "name": "stdout",
     "output_type": "stream",
     "text": [
      "Set parameter MIPGap to value 0.01\n"
     ]
    },
    {
     "name": "stderr",
     "output_type": "stream",
     "text": [
      "2022-09-26 14:11:24,364 - /Users/durian/Nutstore Files/Research/ID-SLP/public_code/approach/base_slp.py[line:108] - INFO: Set parameter MIPGap to value 0.01\n"
     ]
    },
    {
     "name": "stdout",
     "output_type": "stream",
     "text": [
      "Set parameter MIPGap to value 0.01\n"
     ]
    },
    {
     "name": "stderr",
     "output_type": "stream",
     "text": [
      "2022-09-26 14:11:24,406 - /Users/durian/Nutstore Files/Research/ID-SLP/public_code/approach/base_slp.py[line:108] - INFO: Set parameter MIPGap to value 0.01\n"
     ]
    },
    {
     "name": "stdout",
     "output_type": "stream",
     "text": [
      "Set parameter MIPGap to value 0.01\n"
     ]
    },
    {
     "name": "stderr",
     "output_type": "stream",
     "text": [
      "2022-09-26 14:11:24,448 - /Users/durian/Nutstore Files/Research/ID-SLP/public_code/approach/base_slp.py[line:108] - INFO: Set parameter MIPGap to value 0.01\n"
     ]
    },
    {
     "name": "stdout",
     "output_type": "stream",
     "text": [
      "Set parameter MIPGap to value 0.01\n"
     ]
    },
    {
     "name": "stderr",
     "output_type": "stream",
     "text": [
      "2022-09-26 14:11:24,488 - /Users/durian/Nutstore Files/Research/ID-SLP/public_code/approach/base_slp.py[line:108] - INFO: Set parameter MIPGap to value 0.01\n"
     ]
    },
    {
     "name": "stdout",
     "output_type": "stream",
     "text": [
      "Set parameter MIPGap to value 0.01\n"
     ]
    },
    {
     "name": "stderr",
     "output_type": "stream",
     "text": [
      "2022-09-26 14:11:24,529 - /Users/durian/Nutstore Files/Research/ID-SLP/public_code/approach/base_slp.py[line:108] - INFO: Set parameter MIPGap to value 0.01\n"
     ]
    },
    {
     "name": "stdout",
     "output_type": "stream",
     "text": [
      "Set parameter MIPGap to value 0.01\n"
     ]
    },
    {
     "name": "stderr",
     "output_type": "stream",
     "text": [
      "2022-09-26 14:11:24,569 - /Users/durian/Nutstore Files/Research/ID-SLP/public_code/approach/base_slp.py[line:108] - INFO: Set parameter MIPGap to value 0.01\n"
     ]
    },
    {
     "name": "stdout",
     "output_type": "stream",
     "text": [
      "Set parameter MIPGap to value 0.01\n"
     ]
    },
    {
     "name": "stderr",
     "output_type": "stream",
     "text": [
      "2022-09-26 14:11:24,612 - /Users/durian/Nutstore Files/Research/ID-SLP/public_code/approach/base_slp.py[line:108] - INFO: Set parameter MIPGap to value 0.01\n"
     ]
    },
    {
     "name": "stdout",
     "output_type": "stream",
     "text": [
      "Set parameter MIPGap to value 0.01\n"
     ]
    },
    {
     "name": "stderr",
     "output_type": "stream",
     "text": [
      "2022-09-26 14:11:24,654 - /Users/durian/Nutstore Files/Research/ID-SLP/public_code/approach/base_slp.py[line:108] - INFO: Set parameter MIPGap to value 0.01\n"
     ]
    },
    {
     "name": "stdout",
     "output_type": "stream",
     "text": [
      "Set parameter MIPGap to value 0.01\n"
     ]
    },
    {
     "name": "stderr",
     "output_type": "stream",
     "text": [
      "2022-09-26 14:11:24,696 - /Users/durian/Nutstore Files/Research/ID-SLP/public_code/approach/base_slp.py[line:108] - INFO: Set parameter MIPGap to value 0.01\n"
     ]
    },
    {
     "name": "stdout",
     "output_type": "stream",
     "text": [
      "Set parameter MIPGap to value 0.01\n"
     ]
    },
    {
     "name": "stderr",
     "output_type": "stream",
     "text": [
      "2022-09-26 14:11:24,736 - /Users/durian/Nutstore Files/Research/ID-SLP/public_code/approach/base_slp.py[line:108] - INFO: Set parameter MIPGap to value 0.01\n"
     ]
    },
    {
     "name": "stdout",
     "output_type": "stream",
     "text": [
      "Set parameter MIPGap to value 0.01\n"
     ]
    },
    {
     "name": "stderr",
     "output_type": "stream",
     "text": [
      "2022-09-26 14:11:24,777 - /Users/durian/Nutstore Files/Research/ID-SLP/public_code/approach/base_slp.py[line:108] - INFO: Set parameter MIPGap to value 0.01\n"
     ]
    },
    {
     "name": "stdout",
     "output_type": "stream",
     "text": [
      "Set parameter MIPGap to value 0.01\n"
     ]
    },
    {
     "name": "stderr",
     "output_type": "stream",
     "text": [
      "2022-09-26 14:11:24,818 - /Users/durian/Nutstore Files/Research/ID-SLP/public_code/approach/base_slp.py[line:108] - INFO: Set parameter MIPGap to value 0.01\n"
     ]
    },
    {
     "name": "stdout",
     "output_type": "stream",
     "text": [
      "Set parameter MIPGap to value 0.01\n"
     ]
    },
    {
     "name": "stderr",
     "output_type": "stream",
     "text": [
      "2022-09-26 14:11:24,859 - /Users/durian/Nutstore Files/Research/ID-SLP/public_code/approach/base_slp.py[line:108] - INFO: Set parameter MIPGap to value 0.01\n"
     ]
    },
    {
     "name": "stdout",
     "output_type": "stream",
     "text": [
      "Set parameter MIPGap to value 0.01\n"
     ]
    },
    {
     "name": "stderr",
     "output_type": "stream",
     "text": [
      "2022-09-26 14:11:24,899 - /Users/durian/Nutstore Files/Research/ID-SLP/public_code/approach/base_slp.py[line:108] - INFO: Set parameter MIPGap to value 0.01\n"
     ]
    },
    {
     "name": "stdout",
     "output_type": "stream",
     "text": [
      "Set parameter MIPGap to value 0.01\n"
     ]
    },
    {
     "name": "stderr",
     "output_type": "stream",
     "text": [
      "2022-09-26 14:11:24,940 - /Users/durian/Nutstore Files/Research/ID-SLP/public_code/approach/base_slp.py[line:108] - INFO: Set parameter MIPGap to value 0.01\n"
     ]
    },
    {
     "name": "stdout",
     "output_type": "stream",
     "text": [
      "Set parameter MIPGap to value 0.01\n"
     ]
    },
    {
     "name": "stderr",
     "output_type": "stream",
     "text": [
      "2022-09-26 14:11:24,981 - /Users/durian/Nutstore Files/Research/ID-SLP/public_code/approach/base_slp.py[line:108] - INFO: Set parameter MIPGap to value 0.01\n"
     ]
    },
    {
     "name": "stdout",
     "output_type": "stream",
     "text": [
      "This graph can be decomposed\n",
      "Set parameter MIPGap to value 0.01\n"
     ]
    },
    {
     "name": "stderr",
     "output_type": "stream",
     "text": [
      "2022-09-26 14:11:25,050 - /Users/durian/Nutstore Files/Research/ID-SLP/public_code/approach/base_slp.py[line:108] - INFO: Set parameter MIPGap to value 0.01\n"
     ]
    },
    {
     "name": "stdout",
     "output_type": "stream",
     "text": [
      "Set parameter MIPGap to value 0.01\n"
     ]
    },
    {
     "name": "stderr",
     "output_type": "stream",
     "text": [
      "2022-09-26 14:11:25,090 - /Users/durian/Nutstore Files/Research/ID-SLP/public_code/approach/base_slp.py[line:108] - INFO: Set parameter MIPGap to value 0.01\n"
     ]
    },
    {
     "name": "stdout",
     "output_type": "stream",
     "text": [
      "Set parameter MIPGap to value 0.01\n"
     ]
    },
    {
     "name": "stderr",
     "output_type": "stream",
     "text": [
      "2022-09-26 14:11:25,129 - /Users/durian/Nutstore Files/Research/ID-SLP/public_code/approach/base_slp.py[line:108] - INFO: Set parameter MIPGap to value 0.01\n"
     ]
    },
    {
     "name": "stdout",
     "output_type": "stream",
     "text": [
      "Set parameter MIPGap to value 0.01\n"
     ]
    },
    {
     "name": "stderr",
     "output_type": "stream",
     "text": [
      "2022-09-26 14:11:25,168 - /Users/durian/Nutstore Files/Research/ID-SLP/public_code/approach/base_slp.py[line:108] - INFO: Set parameter MIPGap to value 0.01\n"
     ]
    },
    {
     "name": "stdout",
     "output_type": "stream",
     "text": [
      "Set parameter MIPGap to value 0.01\n"
     ]
    },
    {
     "name": "stderr",
     "output_type": "stream",
     "text": [
      "2022-09-26 14:11:25,207 - /Users/durian/Nutstore Files/Research/ID-SLP/public_code/approach/base_slp.py[line:108] - INFO: Set parameter MIPGap to value 0.01\n"
     ]
    },
    {
     "name": "stdout",
     "output_type": "stream",
     "text": [
      "Set parameter MIPGap to value 0.01\n"
     ]
    },
    {
     "name": "stderr",
     "output_type": "stream",
     "text": [
      "2022-09-26 14:11:25,245 - /Users/durian/Nutstore Files/Research/ID-SLP/public_code/approach/base_slp.py[line:108] - INFO: Set parameter MIPGap to value 0.01\n"
     ]
    },
    {
     "name": "stdout",
     "output_type": "stream",
     "text": [
      "Set parameter MIPGap to value 0.01\n"
     ]
    },
    {
     "name": "stderr",
     "output_type": "stream",
     "text": [
      "2022-09-26 14:11:25,283 - /Users/durian/Nutstore Files/Research/ID-SLP/public_code/approach/base_slp.py[line:108] - INFO: Set parameter MIPGap to value 0.01\n"
     ]
    },
    {
     "name": "stdout",
     "output_type": "stream",
     "text": [
      "Set parameter MIPGap to value 0.01\n"
     ]
    },
    {
     "name": "stderr",
     "output_type": "stream",
     "text": [
      "2022-09-26 14:11:25,322 - /Users/durian/Nutstore Files/Research/ID-SLP/public_code/approach/base_slp.py[line:108] - INFO: Set parameter MIPGap to value 0.01\n"
     ]
    },
    {
     "name": "stdout",
     "output_type": "stream",
     "text": [
      "Set parameter MIPGap to value 0.01\n"
     ]
    },
    {
     "name": "stderr",
     "output_type": "stream",
     "text": [
      "2022-09-26 14:11:25,360 - /Users/durian/Nutstore Files/Research/ID-SLP/public_code/approach/base_slp.py[line:108] - INFO: Set parameter MIPGap to value 0.01\n"
     ]
    },
    {
     "name": "stdout",
     "output_type": "stream",
     "text": [
      "Set parameter MIPGap to value 0.01\n"
     ]
    },
    {
     "name": "stderr",
     "output_type": "stream",
     "text": [
      "2022-09-26 14:11:25,400 - /Users/durian/Nutstore Files/Research/ID-SLP/public_code/approach/base_slp.py[line:108] - INFO: Set parameter MIPGap to value 0.01\n"
     ]
    },
    {
     "name": "stdout",
     "output_type": "stream",
     "text": [
      "Set parameter MIPGap to value 0.01\n"
     ]
    },
    {
     "name": "stderr",
     "output_type": "stream",
     "text": [
      "2022-09-26 14:11:25,439 - /Users/durian/Nutstore Files/Research/ID-SLP/public_code/approach/base_slp.py[line:108] - INFO: Set parameter MIPGap to value 0.01\n"
     ]
    },
    {
     "name": "stdout",
     "output_type": "stream",
     "text": [
      "Set parameter MIPGap to value 0.01\n"
     ]
    },
    {
     "name": "stderr",
     "output_type": "stream",
     "text": [
      "2022-09-26 14:11:25,478 - /Users/durian/Nutstore Files/Research/ID-SLP/public_code/approach/base_slp.py[line:108] - INFO: Set parameter MIPGap to value 0.01\n"
     ]
    },
    {
     "name": "stdout",
     "output_type": "stream",
     "text": [
      "Set parameter MIPGap to value 0.01\n"
     ]
    },
    {
     "name": "stderr",
     "output_type": "stream",
     "text": [
      "2022-09-26 14:11:25,517 - /Users/durian/Nutstore Files/Research/ID-SLP/public_code/approach/base_slp.py[line:108] - INFO: Set parameter MIPGap to value 0.01\n"
     ]
    },
    {
     "name": "stdout",
     "output_type": "stream",
     "text": [
      "Set parameter MIPGap to value 0.01\n"
     ]
    },
    {
     "name": "stderr",
     "output_type": "stream",
     "text": [
      "2022-09-26 14:11:25,556 - /Users/durian/Nutstore Files/Research/ID-SLP/public_code/approach/base_slp.py[line:108] - INFO: Set parameter MIPGap to value 0.01\n"
     ]
    },
    {
     "name": "stdout",
     "output_type": "stream",
     "text": [
      "Set parameter MIPGap to value 0.01\n"
     ]
    },
    {
     "name": "stderr",
     "output_type": "stream",
     "text": [
      "2022-09-26 14:11:25,595 - /Users/durian/Nutstore Files/Research/ID-SLP/public_code/approach/base_slp.py[line:108] - INFO: Set parameter MIPGap to value 0.01\n"
     ]
    },
    {
     "name": "stdout",
     "output_type": "stream",
     "text": [
      "Set parameter MIPGap to value 0.01\n"
     ]
    },
    {
     "name": "stderr",
     "output_type": "stream",
     "text": [
      "2022-09-26 14:11:25,635 - /Users/durian/Nutstore Files/Research/ID-SLP/public_code/approach/base_slp.py[line:108] - INFO: Set parameter MIPGap to value 0.01\n"
     ]
    },
    {
     "name": "stdout",
     "output_type": "stream",
     "text": [
      "Set parameter MIPGap to value 0.01\n"
     ]
    },
    {
     "name": "stderr",
     "output_type": "stream",
     "text": [
      "2022-09-26 14:11:25,675 - /Users/durian/Nutstore Files/Research/ID-SLP/public_code/approach/base_slp.py[line:108] - INFO: Set parameter MIPGap to value 0.01\n"
     ]
    },
    {
     "name": "stdout",
     "output_type": "stream",
     "text": [
      "Set parameter MIPGap to value 0.01\n"
     ]
    },
    {
     "name": "stderr",
     "output_type": "stream",
     "text": [
      "2022-09-26 14:11:25,713 - /Users/durian/Nutstore Files/Research/ID-SLP/public_code/approach/base_slp.py[line:108] - INFO: Set parameter MIPGap to value 0.01\n"
     ]
    },
    {
     "name": "stdout",
     "output_type": "stream",
     "text": [
      "Set parameter MIPGap to value 0.01\n"
     ]
    },
    {
     "name": "stderr",
     "output_type": "stream",
     "text": [
      "2022-09-26 14:11:25,752 - /Users/durian/Nutstore Files/Research/ID-SLP/public_code/approach/base_slp.py[line:108] - INFO: Set parameter MIPGap to value 0.01\n"
     ]
    },
    {
     "name": "stdout",
     "output_type": "stream",
     "text": [
      "Set parameter MIPGap to value 0.01\n"
     ]
    },
    {
     "name": "stderr",
     "output_type": "stream",
     "text": [
      "2022-09-26 14:11:25,792 - /Users/durian/Nutstore Files/Research/ID-SLP/public_code/approach/base_slp.py[line:108] - INFO: Set parameter MIPGap to value 0.01\n"
     ]
    },
    {
     "name": "stdout",
     "output_type": "stream",
     "text": [
      "Set parameter MIPGap to value 0.01\n"
     ]
    },
    {
     "name": "stderr",
     "output_type": "stream",
     "text": [
      "2022-09-26 14:11:25,833 - /Users/durian/Nutstore Files/Research/ID-SLP/public_code/approach/base_slp.py[line:108] - INFO: Set parameter MIPGap to value 0.01\n"
     ]
    },
    {
     "name": "stdout",
     "output_type": "stream",
     "text": [
      "Set parameter MIPGap to value 0.01\n"
     ]
    },
    {
     "name": "stderr",
     "output_type": "stream",
     "text": [
      "2022-09-26 14:11:25,872 - /Users/durian/Nutstore Files/Research/ID-SLP/public_code/approach/base_slp.py[line:108] - INFO: Set parameter MIPGap to value 0.01\n"
     ]
    },
    {
     "name": "stdout",
     "output_type": "stream",
     "text": [
      "Set parameter MIPGap to value 0.01\n"
     ]
    },
    {
     "name": "stderr",
     "output_type": "stream",
     "text": [
      "2022-09-26 14:11:25,910 - /Users/durian/Nutstore Files/Research/ID-SLP/public_code/approach/base_slp.py[line:108] - INFO: Set parameter MIPGap to value 0.01\n"
     ]
    },
    {
     "name": "stdout",
     "output_type": "stream",
     "text": [
      "Set parameter MIPGap to value 0.01\n"
     ]
    },
    {
     "name": "stderr",
     "output_type": "stream",
     "text": [
      "2022-09-26 14:11:25,949 - /Users/durian/Nutstore Files/Research/ID-SLP/public_code/approach/base_slp.py[line:108] - INFO: Set parameter MIPGap to value 0.01\n"
     ]
    },
    {
     "name": "stdout",
     "output_type": "stream",
     "text": [
      "Set parameter MIPGap to value 0.01\n"
     ]
    },
    {
     "name": "stderr",
     "output_type": "stream",
     "text": [
      "2022-09-26 14:11:25,987 - /Users/durian/Nutstore Files/Research/ID-SLP/public_code/approach/base_slp.py[line:108] - INFO: Set parameter MIPGap to value 0.01\n"
     ]
    },
    {
     "name": "stdout",
     "output_type": "stream",
     "text": [
      "Set parameter MIPGap to value 0.01\n"
     ]
    },
    {
     "name": "stderr",
     "output_type": "stream",
     "text": [
      "2022-09-26 14:11:26,027 - /Users/durian/Nutstore Files/Research/ID-SLP/public_code/approach/base_slp.py[line:108] - INFO: Set parameter MIPGap to value 0.01\n"
     ]
    },
    {
     "name": "stdout",
     "output_type": "stream",
     "text": [
      "Set parameter MIPGap to value 0.01\n"
     ]
    },
    {
     "name": "stderr",
     "output_type": "stream",
     "text": [
      "2022-09-26 14:11:26,065 - /Users/durian/Nutstore Files/Research/ID-SLP/public_code/approach/base_slp.py[line:108] - INFO: Set parameter MIPGap to value 0.01\n"
     ]
    },
    {
     "name": "stdout",
     "output_type": "stream",
     "text": [
      "Set parameter MIPGap to value 0.01\n"
     ]
    },
    {
     "name": "stderr",
     "output_type": "stream",
     "text": [
      "2022-09-26 14:11:26,104 - /Users/durian/Nutstore Files/Research/ID-SLP/public_code/approach/base_slp.py[line:108] - INFO: Set parameter MIPGap to value 0.01\n"
     ]
    },
    {
     "name": "stdout",
     "output_type": "stream",
     "text": [
      "Set parameter MIPGap to value 0.01\n"
     ]
    },
    {
     "name": "stderr",
     "output_type": "stream",
     "text": [
      "2022-09-26 14:11:26,142 - /Users/durian/Nutstore Files/Research/ID-SLP/public_code/approach/base_slp.py[line:108] - INFO: Set parameter MIPGap to value 0.01\n"
     ]
    },
    {
     "name": "stdout",
     "output_type": "stream",
     "text": [
      "Set parameter MIPGap to value 0.01\n"
     ]
    },
    {
     "name": "stderr",
     "output_type": "stream",
     "text": [
      "2022-09-26 14:11:26,181 - /Users/durian/Nutstore Files/Research/ID-SLP/public_code/approach/base_slp.py[line:108] - INFO: Set parameter MIPGap to value 0.01\n"
     ]
    },
    {
     "name": "stdout",
     "output_type": "stream",
     "text": [
      "Set parameter MIPGap to value 0.01\n"
     ]
    },
    {
     "name": "stderr",
     "output_type": "stream",
     "text": [
      "2022-09-26 14:11:26,220 - /Users/durian/Nutstore Files/Research/ID-SLP/public_code/approach/base_slp.py[line:108] - INFO: Set parameter MIPGap to value 0.01\n"
     ]
    },
    {
     "name": "stdout",
     "output_type": "stream",
     "text": [
      "Set parameter MIPGap to value 0.01\n"
     ]
    },
    {
     "name": "stderr",
     "output_type": "stream",
     "text": [
      "2022-09-26 14:11:26,333 - /Users/durian/Nutstore Files/Research/ID-SLP/public_code/approach/base_slp.py[line:108] - INFO: Set parameter MIPGap to value 0.01\n"
     ]
    },
    {
     "name": "stdout",
     "output_type": "stream",
     "text": [
      "Set parameter MIPGap to value 0.01\n"
     ]
    },
    {
     "name": "stderr",
     "output_type": "stream",
     "text": [
      "2022-09-26 14:11:26,372 - /Users/durian/Nutstore Files/Research/ID-SLP/public_code/approach/base_slp.py[line:108] - INFO: Set parameter MIPGap to value 0.01\n"
     ]
    },
    {
     "name": "stdout",
     "output_type": "stream",
     "text": [
      "Set parameter MIPGap to value 0.01\n"
     ]
    },
    {
     "name": "stderr",
     "output_type": "stream",
     "text": [
      "2022-09-26 14:11:26,412 - /Users/durian/Nutstore Files/Research/ID-SLP/public_code/approach/base_slp.py[line:108] - INFO: Set parameter MIPGap to value 0.01\n"
     ]
    },
    {
     "name": "stdout",
     "output_type": "stream",
     "text": [
      "Set parameter MIPGap to value 0.01\n"
     ]
    },
    {
     "name": "stderr",
     "output_type": "stream",
     "text": [
      "2022-09-26 14:11:26,450 - /Users/durian/Nutstore Files/Research/ID-SLP/public_code/approach/base_slp.py[line:108] - INFO: Set parameter MIPGap to value 0.01\n"
     ]
    },
    {
     "name": "stdout",
     "output_type": "stream",
     "text": [
      "Set parameter MIPGap to value 0.01\n"
     ]
    },
    {
     "name": "stderr",
     "output_type": "stream",
     "text": [
      "2022-09-26 14:11:26,489 - /Users/durian/Nutstore Files/Research/ID-SLP/public_code/approach/base_slp.py[line:108] - INFO: Set parameter MIPGap to value 0.01\n"
     ]
    },
    {
     "name": "stdout",
     "output_type": "stream",
     "text": [
      "Set parameter MIPGap to value 0.01\n"
     ]
    },
    {
     "name": "stderr",
     "output_type": "stream",
     "text": [
      "2022-09-26 14:11:26,527 - /Users/durian/Nutstore Files/Research/ID-SLP/public_code/approach/base_slp.py[line:108] - INFO: Set parameter MIPGap to value 0.01\n"
     ]
    },
    {
     "name": "stdout",
     "output_type": "stream",
     "text": [
      "Set parameter MIPGap to value 0.01\n"
     ]
    },
    {
     "name": "stderr",
     "output_type": "stream",
     "text": [
      "2022-09-26 14:11:26,565 - /Users/durian/Nutstore Files/Research/ID-SLP/public_code/approach/base_slp.py[line:108] - INFO: Set parameter MIPGap to value 0.01\n"
     ]
    },
    {
     "name": "stdout",
     "output_type": "stream",
     "text": [
      "Set parameter MIPGap to value 0.01\n"
     ]
    },
    {
     "name": "stderr",
     "output_type": "stream",
     "text": [
      "2022-09-26 14:11:26,604 - /Users/durian/Nutstore Files/Research/ID-SLP/public_code/approach/base_slp.py[line:108] - INFO: Set parameter MIPGap to value 0.01\n"
     ]
    },
    {
     "name": "stdout",
     "output_type": "stream",
     "text": [
      "This graph can be decomposed\n",
      "Set parameter MIPGap to value 0.01\n"
     ]
    },
    {
     "name": "stderr",
     "output_type": "stream",
     "text": [
      "2022-09-26 14:11:26,675 - /Users/durian/Nutstore Files/Research/ID-SLP/public_code/approach/base_slp.py[line:108] - INFO: Set parameter MIPGap to value 0.01\n"
     ]
    },
    {
     "name": "stdout",
     "output_type": "stream",
     "text": [
      "Set parameter MIPGap to value 0.01\n"
     ]
    },
    {
     "name": "stderr",
     "output_type": "stream",
     "text": [
      "2022-09-26 14:11:26,717 - /Users/durian/Nutstore Files/Research/ID-SLP/public_code/approach/base_slp.py[line:108] - INFO: Set parameter MIPGap to value 0.01\n"
     ]
    },
    {
     "name": "stdout",
     "output_type": "stream",
     "text": [
      "Set parameter MIPGap to value 0.01\n"
     ]
    },
    {
     "name": "stderr",
     "output_type": "stream",
     "text": [
      "2022-09-26 14:11:26,755 - /Users/durian/Nutstore Files/Research/ID-SLP/public_code/approach/base_slp.py[line:108] - INFO: Set parameter MIPGap to value 0.01\n"
     ]
    },
    {
     "name": "stdout",
     "output_type": "stream",
     "text": [
      "Set parameter MIPGap to value 0.01\n"
     ]
    },
    {
     "name": "stderr",
     "output_type": "stream",
     "text": [
      "2022-09-26 14:11:26,793 - /Users/durian/Nutstore Files/Research/ID-SLP/public_code/approach/base_slp.py[line:108] - INFO: Set parameter MIPGap to value 0.01\n"
     ]
    },
    {
     "name": "stdout",
     "output_type": "stream",
     "text": [
      "Set parameter MIPGap to value 0.01\n"
     ]
    },
    {
     "name": "stderr",
     "output_type": "stream",
     "text": [
      "2022-09-26 14:11:26,829 - /Users/durian/Nutstore Files/Research/ID-SLP/public_code/approach/base_slp.py[line:108] - INFO: Set parameter MIPGap to value 0.01\n"
     ]
    },
    {
     "name": "stdout",
     "output_type": "stream",
     "text": [
      "Set parameter MIPGap to value 0.01\n"
     ]
    },
    {
     "name": "stderr",
     "output_type": "stream",
     "text": [
      "2022-09-26 14:11:26,869 - /Users/durian/Nutstore Files/Research/ID-SLP/public_code/approach/base_slp.py[line:108] - INFO: Set parameter MIPGap to value 0.01\n"
     ]
    },
    {
     "name": "stdout",
     "output_type": "stream",
     "text": [
      "Set parameter MIPGap to value 0.01\n"
     ]
    },
    {
     "name": "stderr",
     "output_type": "stream",
     "text": [
      "2022-09-26 14:11:26,905 - /Users/durian/Nutstore Files/Research/ID-SLP/public_code/approach/base_slp.py[line:108] - INFO: Set parameter MIPGap to value 0.01\n"
     ]
    },
    {
     "name": "stdout",
     "output_type": "stream",
     "text": [
      "Set parameter MIPGap to value 0.01\n"
     ]
    },
    {
     "name": "stderr",
     "output_type": "stream",
     "text": [
      "2022-09-26 14:11:26,941 - /Users/durian/Nutstore Files/Research/ID-SLP/public_code/approach/base_slp.py[line:108] - INFO: Set parameter MIPGap to value 0.01\n"
     ]
    },
    {
     "name": "stdout",
     "output_type": "stream",
     "text": [
      "Set parameter MIPGap to value 0.01\n"
     ]
    },
    {
     "name": "stderr",
     "output_type": "stream",
     "text": [
      "2022-09-26 14:11:26,976 - /Users/durian/Nutstore Files/Research/ID-SLP/public_code/approach/base_slp.py[line:108] - INFO: Set parameter MIPGap to value 0.01\n"
     ]
    },
    {
     "name": "stdout",
     "output_type": "stream",
     "text": [
      "Set parameter MIPGap to value 0.01\n"
     ]
    },
    {
     "name": "stderr",
     "output_type": "stream",
     "text": [
      "2022-09-26 14:11:27,012 - /Users/durian/Nutstore Files/Research/ID-SLP/public_code/approach/base_slp.py[line:108] - INFO: Set parameter MIPGap to value 0.01\n"
     ]
    },
    {
     "name": "stdout",
     "output_type": "stream",
     "text": [
      "Set parameter MIPGap to value 0.01\n"
     ]
    },
    {
     "name": "stderr",
     "output_type": "stream",
     "text": [
      "2022-09-26 14:11:27,048 - /Users/durian/Nutstore Files/Research/ID-SLP/public_code/approach/base_slp.py[line:108] - INFO: Set parameter MIPGap to value 0.01\n"
     ]
    },
    {
     "name": "stdout",
     "output_type": "stream",
     "text": [
      "Set parameter MIPGap to value 0.01\n"
     ]
    },
    {
     "name": "stderr",
     "output_type": "stream",
     "text": [
      "2022-09-26 14:11:27,083 - /Users/durian/Nutstore Files/Research/ID-SLP/public_code/approach/base_slp.py[line:108] - INFO: Set parameter MIPGap to value 0.01\n"
     ]
    },
    {
     "name": "stdout",
     "output_type": "stream",
     "text": [
      "Set parameter MIPGap to value 0.01\n"
     ]
    },
    {
     "name": "stderr",
     "output_type": "stream",
     "text": [
      "2022-09-26 14:11:27,118 - /Users/durian/Nutstore Files/Research/ID-SLP/public_code/approach/base_slp.py[line:108] - INFO: Set parameter MIPGap to value 0.01\n"
     ]
    },
    {
     "name": "stdout",
     "output_type": "stream",
     "text": [
      "Set parameter MIPGap to value 0.01\n"
     ]
    },
    {
     "name": "stderr",
     "output_type": "stream",
     "text": [
      "2022-09-26 14:11:27,154 - /Users/durian/Nutstore Files/Research/ID-SLP/public_code/approach/base_slp.py[line:108] - INFO: Set parameter MIPGap to value 0.01\n"
     ]
    },
    {
     "name": "stdout",
     "output_type": "stream",
     "text": [
      "Set parameter MIPGap to value 0.01\n"
     ]
    },
    {
     "name": "stderr",
     "output_type": "stream",
     "text": [
      "2022-09-26 14:11:27,190 - /Users/durian/Nutstore Files/Research/ID-SLP/public_code/approach/base_slp.py[line:108] - INFO: Set parameter MIPGap to value 0.01\n"
     ]
    },
    {
     "name": "stdout",
     "output_type": "stream",
     "text": [
      "Set parameter MIPGap to value 0.01\n"
     ]
    },
    {
     "name": "stderr",
     "output_type": "stream",
     "text": [
      "2022-09-26 14:11:27,225 - /Users/durian/Nutstore Files/Research/ID-SLP/public_code/approach/base_slp.py[line:108] - INFO: Set parameter MIPGap to value 0.01\n"
     ]
    },
    {
     "name": "stdout",
     "output_type": "stream",
     "text": [
      "Set parameter MIPGap to value 0.01\n"
     ]
    },
    {
     "name": "stderr",
     "output_type": "stream",
     "text": [
      "2022-09-26 14:11:27,261 - /Users/durian/Nutstore Files/Research/ID-SLP/public_code/approach/base_slp.py[line:108] - INFO: Set parameter MIPGap to value 0.01\n"
     ]
    },
    {
     "name": "stdout",
     "output_type": "stream",
     "text": [
      "Set parameter MIPGap to value 0.01\n"
     ]
    },
    {
     "name": "stderr",
     "output_type": "stream",
     "text": [
      "2022-09-26 14:11:27,297 - /Users/durian/Nutstore Files/Research/ID-SLP/public_code/approach/base_slp.py[line:108] - INFO: Set parameter MIPGap to value 0.01\n"
     ]
    },
    {
     "name": "stdout",
     "output_type": "stream",
     "text": [
      "Set parameter MIPGap to value 0.01\n"
     ]
    },
    {
     "name": "stderr",
     "output_type": "stream",
     "text": [
      "2022-09-26 14:11:27,334 - /Users/durian/Nutstore Files/Research/ID-SLP/public_code/approach/base_slp.py[line:108] - INFO: Set parameter MIPGap to value 0.01\n"
     ]
    },
    {
     "name": "stdout",
     "output_type": "stream",
     "text": [
      "Set parameter MIPGap to value 0.01\n"
     ]
    },
    {
     "name": "stderr",
     "output_type": "stream",
     "text": [
      "2022-09-26 14:11:27,370 - /Users/durian/Nutstore Files/Research/ID-SLP/public_code/approach/base_slp.py[line:108] - INFO: Set parameter MIPGap to value 0.01\n"
     ]
    },
    {
     "name": "stdout",
     "output_type": "stream",
     "text": [
      "Set parameter MIPGap to value 0.01\n"
     ]
    },
    {
     "name": "stderr",
     "output_type": "stream",
     "text": [
      "2022-09-26 14:11:27,405 - /Users/durian/Nutstore Files/Research/ID-SLP/public_code/approach/base_slp.py[line:108] - INFO: Set parameter MIPGap to value 0.01\n"
     ]
    },
    {
     "name": "stdout",
     "output_type": "stream",
     "text": [
      "Set parameter MIPGap to value 0.01\n"
     ]
    },
    {
     "name": "stderr",
     "output_type": "stream",
     "text": [
      "2022-09-26 14:11:27,440 - /Users/durian/Nutstore Files/Research/ID-SLP/public_code/approach/base_slp.py[line:108] - INFO: Set parameter MIPGap to value 0.01\n"
     ]
    },
    {
     "name": "stdout",
     "output_type": "stream",
     "text": [
      "Set parameter MIPGap to value 0.01\n"
     ]
    },
    {
     "name": "stderr",
     "output_type": "stream",
     "text": [
      "2022-09-26 14:11:27,475 - /Users/durian/Nutstore Files/Research/ID-SLP/public_code/approach/base_slp.py[line:108] - INFO: Set parameter MIPGap to value 0.01\n"
     ]
    },
    {
     "name": "stdout",
     "output_type": "stream",
     "text": [
      "Set parameter MIPGap to value 0.01\n"
     ]
    },
    {
     "name": "stderr",
     "output_type": "stream",
     "text": [
      "2022-09-26 14:11:27,510 - /Users/durian/Nutstore Files/Research/ID-SLP/public_code/approach/base_slp.py[line:108] - INFO: Set parameter MIPGap to value 0.01\n"
     ]
    },
    {
     "name": "stdout",
     "output_type": "stream",
     "text": [
      "Set parameter MIPGap to value 0.01\n"
     ]
    },
    {
     "name": "stderr",
     "output_type": "stream",
     "text": [
      "2022-09-26 14:11:27,548 - /Users/durian/Nutstore Files/Research/ID-SLP/public_code/approach/base_slp.py[line:108] - INFO: Set parameter MIPGap to value 0.01\n"
     ]
    },
    {
     "name": "stdout",
     "output_type": "stream",
     "text": [
      "Set parameter MIPGap to value 0.01\n"
     ]
    },
    {
     "name": "stderr",
     "output_type": "stream",
     "text": [
      "2022-09-26 14:11:27,584 - /Users/durian/Nutstore Files/Research/ID-SLP/public_code/approach/base_slp.py[line:108] - INFO: Set parameter MIPGap to value 0.01\n"
     ]
    },
    {
     "name": "stdout",
     "output_type": "stream",
     "text": [
      "Set parameter MIPGap to value 0.01\n"
     ]
    },
    {
     "name": "stderr",
     "output_type": "stream",
     "text": [
      "2022-09-26 14:11:27,620 - /Users/durian/Nutstore Files/Research/ID-SLP/public_code/approach/base_slp.py[line:108] - INFO: Set parameter MIPGap to value 0.01\n"
     ]
    },
    {
     "name": "stdout",
     "output_type": "stream",
     "text": [
      "Set parameter MIPGap to value 0.01\n"
     ]
    },
    {
     "name": "stderr",
     "output_type": "stream",
     "text": [
      "2022-09-26 14:11:27,655 - /Users/durian/Nutstore Files/Research/ID-SLP/public_code/approach/base_slp.py[line:108] - INFO: Set parameter MIPGap to value 0.01\n"
     ]
    },
    {
     "name": "stdout",
     "output_type": "stream",
     "text": [
      "Set parameter MIPGap to value 0.01\n"
     ]
    },
    {
     "name": "stderr",
     "output_type": "stream",
     "text": [
      "2022-09-26 14:11:27,691 - /Users/durian/Nutstore Files/Research/ID-SLP/public_code/approach/base_slp.py[line:108] - INFO: Set parameter MIPGap to value 0.01\n"
     ]
    },
    {
     "name": "stdout",
     "output_type": "stream",
     "text": [
      "Set parameter MIPGap to value 0.01\n"
     ]
    },
    {
     "name": "stderr",
     "output_type": "stream",
     "text": [
      "2022-09-26 14:11:27,726 - /Users/durian/Nutstore Files/Research/ID-SLP/public_code/approach/base_slp.py[line:108] - INFO: Set parameter MIPGap to value 0.01\n"
     ]
    },
    {
     "name": "stdout",
     "output_type": "stream",
     "text": [
      "Set parameter MIPGap to value 0.01\n"
     ]
    },
    {
     "name": "stderr",
     "output_type": "stream",
     "text": [
      "2022-09-26 14:11:27,762 - /Users/durian/Nutstore Files/Research/ID-SLP/public_code/approach/base_slp.py[line:108] - INFO: Set parameter MIPGap to value 0.01\n"
     ]
    },
    {
     "name": "stdout",
     "output_type": "stream",
     "text": [
      "Set parameter MIPGap to value 0.01\n"
     ]
    },
    {
     "name": "stderr",
     "output_type": "stream",
     "text": [
      "2022-09-26 14:11:27,798 - /Users/durian/Nutstore Files/Research/ID-SLP/public_code/approach/base_slp.py[line:108] - INFO: Set parameter MIPGap to value 0.01\n"
     ]
    },
    {
     "name": "stdout",
     "output_type": "stream",
     "text": [
      "Set parameter MIPGap to value 0.01\n"
     ]
    },
    {
     "name": "stderr",
     "output_type": "stream",
     "text": [
      "2022-09-26 14:11:27,835 - /Users/durian/Nutstore Files/Research/ID-SLP/public_code/approach/base_slp.py[line:108] - INFO: Set parameter MIPGap to value 0.01\n"
     ]
    },
    {
     "name": "stdout",
     "output_type": "stream",
     "text": [
      "Set parameter MIPGap to value 0.01\n"
     ]
    },
    {
     "name": "stderr",
     "output_type": "stream",
     "text": [
      "2022-09-26 14:11:27,872 - /Users/durian/Nutstore Files/Research/ID-SLP/public_code/approach/base_slp.py[line:108] - INFO: Set parameter MIPGap to value 0.01\n"
     ]
    },
    {
     "name": "stdout",
     "output_type": "stream",
     "text": [
      "Set parameter MIPGap to value 0.01\n"
     ]
    },
    {
     "name": "stderr",
     "output_type": "stream",
     "text": [
      "2022-09-26 14:11:27,908 - /Users/durian/Nutstore Files/Research/ID-SLP/public_code/approach/base_slp.py[line:108] - INFO: Set parameter MIPGap to value 0.01\n"
     ]
    },
    {
     "name": "stdout",
     "output_type": "stream",
     "text": [
      "This graph can be decomposed\n",
      "Set parameter MIPGap to value 0.01\n"
     ]
    },
    {
     "name": "stderr",
     "output_type": "stream",
     "text": [
      "2022-09-26 14:11:27,968 - /Users/durian/Nutstore Files/Research/ID-SLP/public_code/approach/base_slp.py[line:108] - INFO: Set parameter MIPGap to value 0.01\n"
     ]
    },
    {
     "name": "stdout",
     "output_type": "stream",
     "text": [
      "Set parameter MIPGap to value 0.01\n"
     ]
    },
    {
     "name": "stderr",
     "output_type": "stream",
     "text": [
      "2022-09-26 14:11:28,002 - /Users/durian/Nutstore Files/Research/ID-SLP/public_code/approach/base_slp.py[line:108] - INFO: Set parameter MIPGap to value 0.01\n"
     ]
    },
    {
     "name": "stdout",
     "output_type": "stream",
     "text": [
      "Set parameter MIPGap to value 0.01\n"
     ]
    },
    {
     "name": "stderr",
     "output_type": "stream",
     "text": [
      "2022-09-26 14:11:28,036 - /Users/durian/Nutstore Files/Research/ID-SLP/public_code/approach/base_slp.py[line:108] - INFO: Set parameter MIPGap to value 0.01\n"
     ]
    },
    {
     "name": "stdout",
     "output_type": "stream",
     "text": [
      "Set parameter MIPGap to value 0.01\n"
     ]
    },
    {
     "name": "stderr",
     "output_type": "stream",
     "text": [
      "2022-09-26 14:11:28,070 - /Users/durian/Nutstore Files/Research/ID-SLP/public_code/approach/base_slp.py[line:108] - INFO: Set parameter MIPGap to value 0.01\n"
     ]
    },
    {
     "name": "stdout",
     "output_type": "stream",
     "text": [
      "Set parameter MIPGap to value 0.01\n"
     ]
    },
    {
     "name": "stderr",
     "output_type": "stream",
     "text": [
      "2022-09-26 14:11:28,103 - /Users/durian/Nutstore Files/Research/ID-SLP/public_code/approach/base_slp.py[line:108] - INFO: Set parameter MIPGap to value 0.01\n"
     ]
    },
    {
     "name": "stdout",
     "output_type": "stream",
     "text": [
      "Set parameter MIPGap to value 0.01\n"
     ]
    },
    {
     "name": "stderr",
     "output_type": "stream",
     "text": [
      "2022-09-26 14:11:28,137 - /Users/durian/Nutstore Files/Research/ID-SLP/public_code/approach/base_slp.py[line:108] - INFO: Set parameter MIPGap to value 0.01\n"
     ]
    },
    {
     "name": "stdout",
     "output_type": "stream",
     "text": [
      "Set parameter MIPGap to value 0.01\n"
     ]
    },
    {
     "name": "stderr",
     "output_type": "stream",
     "text": [
      "2022-09-26 14:11:28,171 - /Users/durian/Nutstore Files/Research/ID-SLP/public_code/approach/base_slp.py[line:108] - INFO: Set parameter MIPGap to value 0.01\n"
     ]
    },
    {
     "name": "stdout",
     "output_type": "stream",
     "text": [
      "Set parameter MIPGap to value 0.01\n"
     ]
    },
    {
     "name": "stderr",
     "output_type": "stream",
     "text": [
      "2022-09-26 14:11:28,204 - /Users/durian/Nutstore Files/Research/ID-SLP/public_code/approach/base_slp.py[line:108] - INFO: Set parameter MIPGap to value 0.01\n"
     ]
    },
    {
     "name": "stdout",
     "output_type": "stream",
     "text": [
      "Set parameter MIPGap to value 0.01\n"
     ]
    },
    {
     "name": "stderr",
     "output_type": "stream",
     "text": [
      "2022-09-26 14:11:28,237 - /Users/durian/Nutstore Files/Research/ID-SLP/public_code/approach/base_slp.py[line:108] - INFO: Set parameter MIPGap to value 0.01\n"
     ]
    },
    {
     "name": "stdout",
     "output_type": "stream",
     "text": [
      "Set parameter MIPGap to value 0.01\n"
     ]
    },
    {
     "name": "stderr",
     "output_type": "stream",
     "text": [
      "2022-09-26 14:11:28,271 - /Users/durian/Nutstore Files/Research/ID-SLP/public_code/approach/base_slp.py[line:108] - INFO: Set parameter MIPGap to value 0.01\n"
     ]
    },
    {
     "name": "stdout",
     "output_type": "stream",
     "text": [
      "Set parameter MIPGap to value 0.01\n"
     ]
    },
    {
     "name": "stderr",
     "output_type": "stream",
     "text": [
      "2022-09-26 14:11:28,306 - /Users/durian/Nutstore Files/Research/ID-SLP/public_code/approach/base_slp.py[line:108] - INFO: Set parameter MIPGap to value 0.01\n"
     ]
    },
    {
     "name": "stdout",
     "output_type": "stream",
     "text": [
      "Set parameter MIPGap to value 0.01\n"
     ]
    },
    {
     "name": "stderr",
     "output_type": "stream",
     "text": [
      "2022-09-26 14:11:28,341 - /Users/durian/Nutstore Files/Research/ID-SLP/public_code/approach/base_slp.py[line:108] - INFO: Set parameter MIPGap to value 0.01\n"
     ]
    },
    {
     "name": "stdout",
     "output_type": "stream",
     "text": [
      "Set parameter MIPGap to value 0.01\n"
     ]
    },
    {
     "name": "stderr",
     "output_type": "stream",
     "text": [
      "2022-09-26 14:11:28,377 - /Users/durian/Nutstore Files/Research/ID-SLP/public_code/approach/base_slp.py[line:108] - INFO: Set parameter MIPGap to value 0.01\n"
     ]
    },
    {
     "name": "stdout",
     "output_type": "stream",
     "text": [
      "Set parameter MIPGap to value 0.01\n"
     ]
    },
    {
     "name": "stderr",
     "output_type": "stream",
     "text": [
      "2022-09-26 14:11:28,411 - /Users/durian/Nutstore Files/Research/ID-SLP/public_code/approach/base_slp.py[line:108] - INFO: Set parameter MIPGap to value 0.01\n"
     ]
    },
    {
     "name": "stdout",
     "output_type": "stream",
     "text": [
      "Set parameter MIPGap to value 0.01\n"
     ]
    },
    {
     "name": "stderr",
     "output_type": "stream",
     "text": [
      "2022-09-26 14:11:28,445 - /Users/durian/Nutstore Files/Research/ID-SLP/public_code/approach/base_slp.py[line:108] - INFO: Set parameter MIPGap to value 0.01\n"
     ]
    },
    {
     "name": "stdout",
     "output_type": "stream",
     "text": [
      "Set parameter MIPGap to value 0.01\n"
     ]
    },
    {
     "name": "stderr",
     "output_type": "stream",
     "text": [
      "2022-09-26 14:11:28,479 - /Users/durian/Nutstore Files/Research/ID-SLP/public_code/approach/base_slp.py[line:108] - INFO: Set parameter MIPGap to value 0.01\n"
     ]
    },
    {
     "name": "stdout",
     "output_type": "stream",
     "text": [
      "Set parameter MIPGap to value 0.01\n"
     ]
    },
    {
     "name": "stderr",
     "output_type": "stream",
     "text": [
      "2022-09-26 14:11:28,512 - /Users/durian/Nutstore Files/Research/ID-SLP/public_code/approach/base_slp.py[line:108] - INFO: Set parameter MIPGap to value 0.01\n"
     ]
    },
    {
     "name": "stdout",
     "output_type": "stream",
     "text": [
      "Set parameter MIPGap to value 0.01\n"
     ]
    },
    {
     "name": "stderr",
     "output_type": "stream",
     "text": [
      "2022-09-26 14:11:28,545 - /Users/durian/Nutstore Files/Research/ID-SLP/public_code/approach/base_slp.py[line:108] - INFO: Set parameter MIPGap to value 0.01\n"
     ]
    },
    {
     "name": "stdout",
     "output_type": "stream",
     "text": [
      "Set parameter MIPGap to value 0.01\n"
     ]
    },
    {
     "name": "stderr",
     "output_type": "stream",
     "text": [
      "2022-09-26 14:11:28,579 - /Users/durian/Nutstore Files/Research/ID-SLP/public_code/approach/base_slp.py[line:108] - INFO: Set parameter MIPGap to value 0.01\n"
     ]
    },
    {
     "name": "stdout",
     "output_type": "stream",
     "text": [
      "Set parameter MIPGap to value 0.01\n"
     ]
    },
    {
     "name": "stderr",
     "output_type": "stream",
     "text": [
      "2022-09-26 14:11:28,612 - /Users/durian/Nutstore Files/Research/ID-SLP/public_code/approach/base_slp.py[line:108] - INFO: Set parameter MIPGap to value 0.01\n"
     ]
    },
    {
     "name": "stdout",
     "output_type": "stream",
     "text": [
      "Set parameter MIPGap to value 0.01\n"
     ]
    },
    {
     "name": "stderr",
     "output_type": "stream",
     "text": [
      "2022-09-26 14:11:28,645 - /Users/durian/Nutstore Files/Research/ID-SLP/public_code/approach/base_slp.py[line:108] - INFO: Set parameter MIPGap to value 0.01\n"
     ]
    },
    {
     "name": "stdout",
     "output_type": "stream",
     "text": [
      "Set parameter MIPGap to value 0.01\n"
     ]
    },
    {
     "name": "stderr",
     "output_type": "stream",
     "text": [
      "2022-09-26 14:11:28,679 - /Users/durian/Nutstore Files/Research/ID-SLP/public_code/approach/base_slp.py[line:108] - INFO: Set parameter MIPGap to value 0.01\n"
     ]
    },
    {
     "name": "stdout",
     "output_type": "stream",
     "text": [
      "Set parameter MIPGap to value 0.01\n"
     ]
    },
    {
     "name": "stderr",
     "output_type": "stream",
     "text": [
      "2022-09-26 14:11:28,713 - /Users/durian/Nutstore Files/Research/ID-SLP/public_code/approach/base_slp.py[line:108] - INFO: Set parameter MIPGap to value 0.01\n"
     ]
    },
    {
     "name": "stdout",
     "output_type": "stream",
     "text": [
      "Set parameter MIPGap to value 0.01\n"
     ]
    },
    {
     "name": "stderr",
     "output_type": "stream",
     "text": [
      "2022-09-26 14:11:28,751 - /Users/durian/Nutstore Files/Research/ID-SLP/public_code/approach/base_slp.py[line:108] - INFO: Set parameter MIPGap to value 0.01\n"
     ]
    },
    {
     "name": "stdout",
     "output_type": "stream",
     "text": [
      "Set parameter MIPGap to value 0.01\n"
     ]
    },
    {
     "name": "stderr",
     "output_type": "stream",
     "text": [
      "2022-09-26 14:11:28,792 - /Users/durian/Nutstore Files/Research/ID-SLP/public_code/approach/base_slp.py[line:108] - INFO: Set parameter MIPGap to value 0.01\n"
     ]
    },
    {
     "name": "stdout",
     "output_type": "stream",
     "text": [
      "Set parameter MIPGap to value 0.01\n"
     ]
    },
    {
     "name": "stderr",
     "output_type": "stream",
     "text": [
      "2022-09-26 14:11:28,831 - /Users/durian/Nutstore Files/Research/ID-SLP/public_code/approach/base_slp.py[line:108] - INFO: Set parameter MIPGap to value 0.01\n"
     ]
    },
    {
     "name": "stdout",
     "output_type": "stream",
     "text": [
      "Set parameter MIPGap to value 0.01\n"
     ]
    },
    {
     "name": "stderr",
     "output_type": "stream",
     "text": [
      "2022-09-26 14:11:28,868 - /Users/durian/Nutstore Files/Research/ID-SLP/public_code/approach/base_slp.py[line:108] - INFO: Set parameter MIPGap to value 0.01\n"
     ]
    },
    {
     "name": "stdout",
     "output_type": "stream",
     "text": [
      "Set parameter MIPGap to value 0.01\n"
     ]
    },
    {
     "name": "stderr",
     "output_type": "stream",
     "text": [
      "2022-09-26 14:11:28,905 - /Users/durian/Nutstore Files/Research/ID-SLP/public_code/approach/base_slp.py[line:108] - INFO: Set parameter MIPGap to value 0.01\n"
     ]
    },
    {
     "name": "stdout",
     "output_type": "stream",
     "text": [
      "Set parameter MIPGap to value 0.01\n"
     ]
    },
    {
     "name": "stderr",
     "output_type": "stream",
     "text": [
      "2022-09-26 14:11:28,942 - /Users/durian/Nutstore Files/Research/ID-SLP/public_code/approach/base_slp.py[line:108] - INFO: Set parameter MIPGap to value 0.01\n"
     ]
    },
    {
     "name": "stdout",
     "output_type": "stream",
     "text": [
      "Set parameter MIPGap to value 0.01\n"
     ]
    },
    {
     "name": "stderr",
     "output_type": "stream",
     "text": [
      "2022-09-26 14:11:28,976 - /Users/durian/Nutstore Files/Research/ID-SLP/public_code/approach/base_slp.py[line:108] - INFO: Set parameter MIPGap to value 0.01\n"
     ]
    },
    {
     "name": "stdout",
     "output_type": "stream",
     "text": [
      "Set parameter MIPGap to value 0.01\n"
     ]
    },
    {
     "name": "stderr",
     "output_type": "stream",
     "text": [
      "2022-09-26 14:11:29,009 - /Users/durian/Nutstore Files/Research/ID-SLP/public_code/approach/base_slp.py[line:108] - INFO: Set parameter MIPGap to value 0.01\n"
     ]
    },
    {
     "name": "stdout",
     "output_type": "stream",
     "text": [
      "Set parameter MIPGap to value 0.01\n"
     ]
    },
    {
     "name": "stderr",
     "output_type": "stream",
     "text": [
      "2022-09-26 14:11:29,043 - /Users/durian/Nutstore Files/Research/ID-SLP/public_code/approach/base_slp.py[line:108] - INFO: Set parameter MIPGap to value 0.01\n"
     ]
    },
    {
     "name": "stdout",
     "output_type": "stream",
     "text": [
      "Set parameter MIPGap to value 0.01\n"
     ]
    },
    {
     "name": "stderr",
     "output_type": "stream",
     "text": [
      "2022-09-26 14:11:29,077 - /Users/durian/Nutstore Files/Research/ID-SLP/public_code/approach/base_slp.py[line:108] - INFO: Set parameter MIPGap to value 0.01\n"
     ]
    },
    {
     "name": "stdout",
     "output_type": "stream",
     "text": [
      "Set parameter MIPGap to value 0.01\n"
     ]
    },
    {
     "name": "stderr",
     "output_type": "stream",
     "text": [
      "2022-09-26 14:11:29,203 - /Users/durian/Nutstore Files/Research/ID-SLP/public_code/approach/base_slp.py[line:108] - INFO: Set parameter MIPGap to value 0.01\n"
     ]
    },
    {
     "name": "stdout",
     "output_type": "stream",
     "text": [
      "Set parameter MIPGap to value 0.01\n"
     ]
    },
    {
     "name": "stderr",
     "output_type": "stream",
     "text": [
      "2022-09-26 14:11:29,238 - /Users/durian/Nutstore Files/Research/ID-SLP/public_code/approach/base_slp.py[line:108] - INFO: Set parameter MIPGap to value 0.01\n"
     ]
    },
    {
     "name": "stdout",
     "output_type": "stream",
     "text": [
      "Set parameter MIPGap to value 0.01\n"
     ]
    },
    {
     "name": "stderr",
     "output_type": "stream",
     "text": [
      "2022-09-26 14:11:29,271 - /Users/durian/Nutstore Files/Research/ID-SLP/public_code/approach/base_slp.py[line:108] - INFO: Set parameter MIPGap to value 0.01\n"
     ]
    },
    {
     "name": "stdout",
     "output_type": "stream",
     "text": [
      "Set parameter MIPGap to value 0.01\n"
     ]
    },
    {
     "name": "stderr",
     "output_type": "stream",
     "text": [
      "2022-09-26 14:11:29,313 - /Users/durian/Nutstore Files/Research/ID-SLP/public_code/approach/base_slp.py[line:108] - INFO: Set parameter MIPGap to value 0.01\n"
     ]
    },
    {
     "name": "stdout",
     "output_type": "stream",
     "text": [
      "Set parameter MIPGap to value 0.01\n"
     ]
    },
    {
     "name": "stderr",
     "output_type": "stream",
     "text": [
      "2022-09-26 14:11:29,356 - /Users/durian/Nutstore Files/Research/ID-SLP/public_code/approach/base_slp.py[line:108] - INFO: Set parameter MIPGap to value 0.01\n"
     ]
    },
    {
     "name": "stdout",
     "output_type": "stream",
     "text": [
      "Set parameter MIPGap to value 0.01\n"
     ]
    },
    {
     "name": "stderr",
     "output_type": "stream",
     "text": [
      "2022-09-26 14:11:29,401 - /Users/durian/Nutstore Files/Research/ID-SLP/public_code/approach/base_slp.py[line:108] - INFO: Set parameter MIPGap to value 0.01\n"
     ]
    },
    {
     "name": "stdout",
     "output_type": "stream",
     "text": [
      "Set parameter MIPGap to value 0.01\n"
     ]
    },
    {
     "name": "stderr",
     "output_type": "stream",
     "text": [
      "2022-09-26 14:11:29,438 - /Users/durian/Nutstore Files/Research/ID-SLP/public_code/approach/base_slp.py[line:108] - INFO: Set parameter MIPGap to value 0.01\n"
     ]
    },
    {
     "name": "stdout",
     "output_type": "stream",
     "text": [
      "This graph can be decomposed\n",
      "Set parameter MIPGap to value 0.01\n"
     ]
    },
    {
     "name": "stderr",
     "output_type": "stream",
     "text": [
      "2022-09-26 14:11:29,498 - /Users/durian/Nutstore Files/Research/ID-SLP/public_code/approach/base_slp.py[line:108] - INFO: Set parameter MIPGap to value 0.01\n"
     ]
    },
    {
     "name": "stdout",
     "output_type": "stream",
     "text": [
      "Set parameter MIPGap to value 0.01\n"
     ]
    },
    {
     "name": "stderr",
     "output_type": "stream",
     "text": [
      "2022-09-26 14:11:29,531 - /Users/durian/Nutstore Files/Research/ID-SLP/public_code/approach/base_slp.py[line:108] - INFO: Set parameter MIPGap to value 0.01\n"
     ]
    },
    {
     "name": "stdout",
     "output_type": "stream",
     "text": [
      "Set parameter MIPGap to value 0.01\n"
     ]
    },
    {
     "name": "stderr",
     "output_type": "stream",
     "text": [
      "2022-09-26 14:11:29,565 - /Users/durian/Nutstore Files/Research/ID-SLP/public_code/approach/base_slp.py[line:108] - INFO: Set parameter MIPGap to value 0.01\n"
     ]
    },
    {
     "name": "stdout",
     "output_type": "stream",
     "text": [
      "Set parameter MIPGap to value 0.01\n"
     ]
    },
    {
     "name": "stderr",
     "output_type": "stream",
     "text": [
      "2022-09-26 14:11:29,598 - /Users/durian/Nutstore Files/Research/ID-SLP/public_code/approach/base_slp.py[line:108] - INFO: Set parameter MIPGap to value 0.01\n"
     ]
    },
    {
     "name": "stdout",
     "output_type": "stream",
     "text": [
      "Set parameter MIPGap to value 0.01\n"
     ]
    },
    {
     "name": "stderr",
     "output_type": "stream",
     "text": [
      "2022-09-26 14:11:29,631 - /Users/durian/Nutstore Files/Research/ID-SLP/public_code/approach/base_slp.py[line:108] - INFO: Set parameter MIPGap to value 0.01\n"
     ]
    },
    {
     "name": "stdout",
     "output_type": "stream",
     "text": [
      "Set parameter MIPGap to value 0.01\n"
     ]
    },
    {
     "name": "stderr",
     "output_type": "stream",
     "text": [
      "2022-09-26 14:11:29,664 - /Users/durian/Nutstore Files/Research/ID-SLP/public_code/approach/base_slp.py[line:108] - INFO: Set parameter MIPGap to value 0.01\n"
     ]
    },
    {
     "name": "stdout",
     "output_type": "stream",
     "text": [
      "Set parameter MIPGap to value 0.01\n"
     ]
    },
    {
     "name": "stderr",
     "output_type": "stream",
     "text": [
      "2022-09-26 14:11:29,698 - /Users/durian/Nutstore Files/Research/ID-SLP/public_code/approach/base_slp.py[line:108] - INFO: Set parameter MIPGap to value 0.01\n"
     ]
    },
    {
     "name": "stdout",
     "output_type": "stream",
     "text": [
      "Set parameter MIPGap to value 0.01\n"
     ]
    },
    {
     "name": "stderr",
     "output_type": "stream",
     "text": [
      "2022-09-26 14:11:29,733 - /Users/durian/Nutstore Files/Research/ID-SLP/public_code/approach/base_slp.py[line:108] - INFO: Set parameter MIPGap to value 0.01\n"
     ]
    },
    {
     "name": "stdout",
     "output_type": "stream",
     "text": [
      "Set parameter MIPGap to value 0.01\n"
     ]
    },
    {
     "name": "stderr",
     "output_type": "stream",
     "text": [
      "2022-09-26 14:11:29,770 - /Users/durian/Nutstore Files/Research/ID-SLP/public_code/approach/base_slp.py[line:108] - INFO: Set parameter MIPGap to value 0.01\n"
     ]
    },
    {
     "name": "stdout",
     "output_type": "stream",
     "text": [
      "Set parameter MIPGap to value 0.01\n"
     ]
    },
    {
     "name": "stderr",
     "output_type": "stream",
     "text": [
      "2022-09-26 14:11:29,806 - /Users/durian/Nutstore Files/Research/ID-SLP/public_code/approach/base_slp.py[line:108] - INFO: Set parameter MIPGap to value 0.01\n"
     ]
    },
    {
     "name": "stdout",
     "output_type": "stream",
     "text": [
      "Set parameter MIPGap to value 0.01\n"
     ]
    },
    {
     "name": "stderr",
     "output_type": "stream",
     "text": [
      "2022-09-26 14:11:29,842 - /Users/durian/Nutstore Files/Research/ID-SLP/public_code/approach/base_slp.py[line:108] - INFO: Set parameter MIPGap to value 0.01\n"
     ]
    },
    {
     "name": "stdout",
     "output_type": "stream",
     "text": [
      "Set parameter MIPGap to value 0.01\n"
     ]
    },
    {
     "name": "stderr",
     "output_type": "stream",
     "text": [
      "2022-09-26 14:11:29,878 - /Users/durian/Nutstore Files/Research/ID-SLP/public_code/approach/base_slp.py[line:108] - INFO: Set parameter MIPGap to value 0.01\n"
     ]
    },
    {
     "name": "stdout",
     "output_type": "stream",
     "text": [
      "Set parameter MIPGap to value 0.01\n"
     ]
    },
    {
     "name": "stderr",
     "output_type": "stream",
     "text": [
      "2022-09-26 14:11:29,914 - /Users/durian/Nutstore Files/Research/ID-SLP/public_code/approach/base_slp.py[line:108] - INFO: Set parameter MIPGap to value 0.01\n"
     ]
    },
    {
     "name": "stdout",
     "output_type": "stream",
     "text": [
      "Set parameter MIPGap to value 0.01\n"
     ]
    },
    {
     "name": "stderr",
     "output_type": "stream",
     "text": [
      "2022-09-26 14:11:29,947 - /Users/durian/Nutstore Files/Research/ID-SLP/public_code/approach/base_slp.py[line:108] - INFO: Set parameter MIPGap to value 0.01\n"
     ]
    },
    {
     "name": "stdout",
     "output_type": "stream",
     "text": [
      "Set parameter MIPGap to value 0.01\n"
     ]
    },
    {
     "name": "stderr",
     "output_type": "stream",
     "text": [
      "2022-09-26 14:11:29,982 - /Users/durian/Nutstore Files/Research/ID-SLP/public_code/approach/base_slp.py[line:108] - INFO: Set parameter MIPGap to value 0.01\n"
     ]
    },
    {
     "name": "stdout",
     "output_type": "stream",
     "text": [
      "Set parameter MIPGap to value 0.01\n"
     ]
    },
    {
     "name": "stderr",
     "output_type": "stream",
     "text": [
      "2022-09-26 14:11:30,015 - /Users/durian/Nutstore Files/Research/ID-SLP/public_code/approach/base_slp.py[line:108] - INFO: Set parameter MIPGap to value 0.01\n"
     ]
    },
    {
     "name": "stdout",
     "output_type": "stream",
     "text": [
      "Set parameter MIPGap to value 0.01\n"
     ]
    },
    {
     "name": "stderr",
     "output_type": "stream",
     "text": [
      "2022-09-26 14:11:30,048 - /Users/durian/Nutstore Files/Research/ID-SLP/public_code/approach/base_slp.py[line:108] - INFO: Set parameter MIPGap to value 0.01\n"
     ]
    },
    {
     "name": "stdout",
     "output_type": "stream",
     "text": [
      "Set parameter MIPGap to value 0.01\n"
     ]
    },
    {
     "name": "stderr",
     "output_type": "stream",
     "text": [
      "2022-09-26 14:11:30,081 - /Users/durian/Nutstore Files/Research/ID-SLP/public_code/approach/base_slp.py[line:108] - INFO: Set parameter MIPGap to value 0.01\n"
     ]
    },
    {
     "name": "stdout",
     "output_type": "stream",
     "text": [
      "Set parameter MIPGap to value 0.01\n"
     ]
    },
    {
     "name": "stderr",
     "output_type": "stream",
     "text": [
      "2022-09-26 14:11:30,116 - /Users/durian/Nutstore Files/Research/ID-SLP/public_code/approach/base_slp.py[line:108] - INFO: Set parameter MIPGap to value 0.01\n"
     ]
    },
    {
     "name": "stdout",
     "output_type": "stream",
     "text": [
      "Set parameter MIPGap to value 0.01\n"
     ]
    },
    {
     "name": "stderr",
     "output_type": "stream",
     "text": [
      "2022-09-26 14:11:30,152 - /Users/durian/Nutstore Files/Research/ID-SLP/public_code/approach/base_slp.py[line:108] - INFO: Set parameter MIPGap to value 0.01\n"
     ]
    },
    {
     "name": "stdout",
     "output_type": "stream",
     "text": [
      "Set parameter MIPGap to value 0.01\n"
     ]
    },
    {
     "name": "stderr",
     "output_type": "stream",
     "text": [
      "2022-09-26 14:11:30,187 - /Users/durian/Nutstore Files/Research/ID-SLP/public_code/approach/base_slp.py[line:108] - INFO: Set parameter MIPGap to value 0.01\n"
     ]
    },
    {
     "name": "stdout",
     "output_type": "stream",
     "text": [
      "Set parameter MIPGap to value 0.01\n"
     ]
    },
    {
     "name": "stderr",
     "output_type": "stream",
     "text": [
      "2022-09-26 14:11:30,223 - /Users/durian/Nutstore Files/Research/ID-SLP/public_code/approach/base_slp.py[line:108] - INFO: Set parameter MIPGap to value 0.01\n"
     ]
    },
    {
     "name": "stdout",
     "output_type": "stream",
     "text": [
      "Set parameter MIPGap to value 0.01\n"
     ]
    },
    {
     "name": "stderr",
     "output_type": "stream",
     "text": [
      "2022-09-26 14:11:30,259 - /Users/durian/Nutstore Files/Research/ID-SLP/public_code/approach/base_slp.py[line:108] - INFO: Set parameter MIPGap to value 0.01\n"
     ]
    },
    {
     "name": "stdout",
     "output_type": "stream",
     "text": [
      "Set parameter MIPGap to value 0.01\n"
     ]
    },
    {
     "name": "stderr",
     "output_type": "stream",
     "text": [
      "2022-09-26 14:11:30,296 - /Users/durian/Nutstore Files/Research/ID-SLP/public_code/approach/base_slp.py[line:108] - INFO: Set parameter MIPGap to value 0.01\n"
     ]
    },
    {
     "name": "stdout",
     "output_type": "stream",
     "text": [
      "Set parameter MIPGap to value 0.01\n"
     ]
    },
    {
     "name": "stderr",
     "output_type": "stream",
     "text": [
      "2022-09-26 14:11:30,332 - /Users/durian/Nutstore Files/Research/ID-SLP/public_code/approach/base_slp.py[line:108] - INFO: Set parameter MIPGap to value 0.01\n"
     ]
    },
    {
     "name": "stdout",
     "output_type": "stream",
     "text": [
      "Set parameter MIPGap to value 0.01\n"
     ]
    },
    {
     "name": "stderr",
     "output_type": "stream",
     "text": [
      "2022-09-26 14:11:30,367 - /Users/durian/Nutstore Files/Research/ID-SLP/public_code/approach/base_slp.py[line:108] - INFO: Set parameter MIPGap to value 0.01\n"
     ]
    },
    {
     "name": "stdout",
     "output_type": "stream",
     "text": [
      "Set parameter MIPGap to value 0.01\n"
     ]
    },
    {
     "name": "stderr",
     "output_type": "stream",
     "text": [
      "2022-09-26 14:11:30,399 - /Users/durian/Nutstore Files/Research/ID-SLP/public_code/approach/base_slp.py[line:108] - INFO: Set parameter MIPGap to value 0.01\n"
     ]
    },
    {
     "name": "stdout",
     "output_type": "stream",
     "text": [
      "Set parameter MIPGap to value 0.01\n"
     ]
    },
    {
     "name": "stderr",
     "output_type": "stream",
     "text": [
      "2022-09-26 14:11:30,432 - /Users/durian/Nutstore Files/Research/ID-SLP/public_code/approach/base_slp.py[line:108] - INFO: Set parameter MIPGap to value 0.01\n"
     ]
    },
    {
     "name": "stdout",
     "output_type": "stream",
     "text": [
      "Set parameter MIPGap to value 0.01\n"
     ]
    },
    {
     "name": "stderr",
     "output_type": "stream",
     "text": [
      "2022-09-26 14:11:30,464 - /Users/durian/Nutstore Files/Research/ID-SLP/public_code/approach/base_slp.py[line:108] - INFO: Set parameter MIPGap to value 0.01\n"
     ]
    },
    {
     "name": "stdout",
     "output_type": "stream",
     "text": [
      "Set parameter MIPGap to value 0.01\n"
     ]
    },
    {
     "name": "stderr",
     "output_type": "stream",
     "text": [
      "2022-09-26 14:11:30,497 - /Users/durian/Nutstore Files/Research/ID-SLP/public_code/approach/base_slp.py[line:108] - INFO: Set parameter MIPGap to value 0.01\n"
     ]
    },
    {
     "name": "stdout",
     "output_type": "stream",
     "text": [
      "Set parameter MIPGap to value 0.01\n"
     ]
    },
    {
     "name": "stderr",
     "output_type": "stream",
     "text": [
      "2022-09-26 14:11:30,530 - /Users/durian/Nutstore Files/Research/ID-SLP/public_code/approach/base_slp.py[line:108] - INFO: Set parameter MIPGap to value 0.01\n"
     ]
    },
    {
     "name": "stdout",
     "output_type": "stream",
     "text": [
      "Set parameter MIPGap to value 0.01\n"
     ]
    },
    {
     "name": "stderr",
     "output_type": "stream",
     "text": [
      "2022-09-26 14:11:30,564 - /Users/durian/Nutstore Files/Research/ID-SLP/public_code/approach/base_slp.py[line:108] - INFO: Set parameter MIPGap to value 0.01\n"
     ]
    },
    {
     "name": "stdout",
     "output_type": "stream",
     "text": [
      "Set parameter MIPGap to value 0.01\n"
     ]
    },
    {
     "name": "stderr",
     "output_type": "stream",
     "text": [
      "2022-09-26 14:11:30,598 - /Users/durian/Nutstore Files/Research/ID-SLP/public_code/approach/base_slp.py[line:108] - INFO: Set parameter MIPGap to value 0.01\n"
     ]
    },
    {
     "name": "stdout",
     "output_type": "stream",
     "text": [
      "Set parameter MIPGap to value 0.01\n"
     ]
    },
    {
     "name": "stderr",
     "output_type": "stream",
     "text": [
      "2022-09-26 14:11:30,633 - /Users/durian/Nutstore Files/Research/ID-SLP/public_code/approach/base_slp.py[line:108] - INFO: Set parameter MIPGap to value 0.01\n"
     ]
    },
    {
     "name": "stdout",
     "output_type": "stream",
     "text": [
      "Set parameter MIPGap to value 0.01\n"
     ]
    },
    {
     "name": "stderr",
     "output_type": "stream",
     "text": [
      "2022-09-26 14:11:30,668 - /Users/durian/Nutstore Files/Research/ID-SLP/public_code/approach/base_slp.py[line:108] - INFO: Set parameter MIPGap to value 0.01\n"
     ]
    },
    {
     "name": "stdout",
     "output_type": "stream",
     "text": [
      "Set parameter MIPGap to value 0.01\n"
     ]
    },
    {
     "name": "stderr",
     "output_type": "stream",
     "text": [
      "2022-09-26 14:11:30,701 - /Users/durian/Nutstore Files/Research/ID-SLP/public_code/approach/base_slp.py[line:108] - INFO: Set parameter MIPGap to value 0.01\n"
     ]
    },
    {
     "name": "stdout",
     "output_type": "stream",
     "text": [
      "This graph can be decomposed\n",
      "Set parameter MIPGap to value 0.01\n"
     ]
    },
    {
     "name": "stderr",
     "output_type": "stream",
     "text": [
      "2022-09-26 14:11:30,759 - /Users/durian/Nutstore Files/Research/ID-SLP/public_code/approach/base_slp.py[line:108] - INFO: Set parameter MIPGap to value 0.01\n"
     ]
    },
    {
     "name": "stdout",
     "output_type": "stream",
     "text": [
      "Set parameter MIPGap to value 0.01\n"
     ]
    },
    {
     "name": "stderr",
     "output_type": "stream",
     "text": [
      "2022-09-26 14:11:30,793 - /Users/durian/Nutstore Files/Research/ID-SLP/public_code/approach/base_slp.py[line:108] - INFO: Set parameter MIPGap to value 0.01\n"
     ]
    },
    {
     "name": "stdout",
     "output_type": "stream",
     "text": [
      "Set parameter MIPGap to value 0.01\n"
     ]
    },
    {
     "name": "stderr",
     "output_type": "stream",
     "text": [
      "2022-09-26 14:11:30,826 - /Users/durian/Nutstore Files/Research/ID-SLP/public_code/approach/base_slp.py[line:108] - INFO: Set parameter MIPGap to value 0.01\n"
     ]
    },
    {
     "name": "stdout",
     "output_type": "stream",
     "text": [
      "Set parameter MIPGap to value 0.01\n"
     ]
    },
    {
     "name": "stderr",
     "output_type": "stream",
     "text": [
      "2022-09-26 14:11:30,858 - /Users/durian/Nutstore Files/Research/ID-SLP/public_code/approach/base_slp.py[line:108] - INFO: Set parameter MIPGap to value 0.01\n"
     ]
    },
    {
     "name": "stdout",
     "output_type": "stream",
     "text": [
      "Set parameter MIPGap to value 0.01\n"
     ]
    },
    {
     "name": "stderr",
     "output_type": "stream",
     "text": [
      "2022-09-26 14:11:30,890 - /Users/durian/Nutstore Files/Research/ID-SLP/public_code/approach/base_slp.py[line:108] - INFO: Set parameter MIPGap to value 0.01\n"
     ]
    },
    {
     "name": "stdout",
     "output_type": "stream",
     "text": [
      "Set parameter MIPGap to value 0.01\n"
     ]
    },
    {
     "name": "stderr",
     "output_type": "stream",
     "text": [
      "2022-09-26 14:11:30,922 - /Users/durian/Nutstore Files/Research/ID-SLP/public_code/approach/base_slp.py[line:108] - INFO: Set parameter MIPGap to value 0.01\n"
     ]
    },
    {
     "name": "stdout",
     "output_type": "stream",
     "text": [
      "Set parameter MIPGap to value 0.01\n"
     ]
    },
    {
     "name": "stderr",
     "output_type": "stream",
     "text": [
      "2022-09-26 14:11:30,955 - /Users/durian/Nutstore Files/Research/ID-SLP/public_code/approach/base_slp.py[line:108] - INFO: Set parameter MIPGap to value 0.01\n"
     ]
    },
    {
     "name": "stdout",
     "output_type": "stream",
     "text": [
      "Set parameter MIPGap to value 0.01\n"
     ]
    },
    {
     "name": "stderr",
     "output_type": "stream",
     "text": [
      "2022-09-26 14:11:30,987 - /Users/durian/Nutstore Files/Research/ID-SLP/public_code/approach/base_slp.py[line:108] - INFO: Set parameter MIPGap to value 0.01\n"
     ]
    },
    {
     "name": "stdout",
     "output_type": "stream",
     "text": [
      "Set parameter MIPGap to value 0.01\n"
     ]
    },
    {
     "name": "stderr",
     "output_type": "stream",
     "text": [
      "2022-09-26 14:11:31,020 - /Users/durian/Nutstore Files/Research/ID-SLP/public_code/approach/base_slp.py[line:108] - INFO: Set parameter MIPGap to value 0.01\n"
     ]
    },
    {
     "name": "stdout",
     "output_type": "stream",
     "text": [
      "Set parameter MIPGap to value 0.01\n"
     ]
    },
    {
     "name": "stderr",
     "output_type": "stream",
     "text": [
      "2022-09-26 14:11:31,054 - /Users/durian/Nutstore Files/Research/ID-SLP/public_code/approach/base_slp.py[line:108] - INFO: Set parameter MIPGap to value 0.01\n"
     ]
    },
    {
     "name": "stdout",
     "output_type": "stream",
     "text": [
      "Set parameter MIPGap to value 0.01\n"
     ]
    },
    {
     "name": "stderr",
     "output_type": "stream",
     "text": [
      "2022-09-26 14:11:31,088 - /Users/durian/Nutstore Files/Research/ID-SLP/public_code/approach/base_slp.py[line:108] - INFO: Set parameter MIPGap to value 0.01\n"
     ]
    },
    {
     "name": "stdout",
     "output_type": "stream",
     "text": [
      "Set parameter MIPGap to value 0.01\n"
     ]
    },
    {
     "name": "stderr",
     "output_type": "stream",
     "text": [
      "2022-09-26 14:11:31,121 - /Users/durian/Nutstore Files/Research/ID-SLP/public_code/approach/base_slp.py[line:108] - INFO: Set parameter MIPGap to value 0.01\n"
     ]
    },
    {
     "name": "stdout",
     "output_type": "stream",
     "text": [
      "Set parameter MIPGap to value 0.01\n"
     ]
    },
    {
     "name": "stderr",
     "output_type": "stream",
     "text": [
      "2022-09-26 14:11:31,154 - /Users/durian/Nutstore Files/Research/ID-SLP/public_code/approach/base_slp.py[line:108] - INFO: Set parameter MIPGap to value 0.01\n"
     ]
    },
    {
     "name": "stdout",
     "output_type": "stream",
     "text": [
      "Set parameter MIPGap to value 0.01\n"
     ]
    },
    {
     "name": "stderr",
     "output_type": "stream",
     "text": [
      "2022-09-26 14:11:31,186 - /Users/durian/Nutstore Files/Research/ID-SLP/public_code/approach/base_slp.py[line:108] - INFO: Set parameter MIPGap to value 0.01\n"
     ]
    },
    {
     "name": "stdout",
     "output_type": "stream",
     "text": [
      "Set parameter MIPGap to value 0.01\n"
     ]
    },
    {
     "name": "stderr",
     "output_type": "stream",
     "text": [
      "2022-09-26 14:11:31,218 - /Users/durian/Nutstore Files/Research/ID-SLP/public_code/approach/base_slp.py[line:108] - INFO: Set parameter MIPGap to value 0.01\n"
     ]
    },
    {
     "name": "stdout",
     "output_type": "stream",
     "text": [
      "Set parameter MIPGap to value 0.01\n"
     ]
    },
    {
     "name": "stderr",
     "output_type": "stream",
     "text": [
      "2022-09-26 14:11:31,251 - /Users/durian/Nutstore Files/Research/ID-SLP/public_code/approach/base_slp.py[line:108] - INFO: Set parameter MIPGap to value 0.01\n"
     ]
    },
    {
     "name": "stdout",
     "output_type": "stream",
     "text": [
      "Set parameter MIPGap to value 0.01\n"
     ]
    },
    {
     "name": "stderr",
     "output_type": "stream",
     "text": [
      "2022-09-26 14:11:31,283 - /Users/durian/Nutstore Files/Research/ID-SLP/public_code/approach/base_slp.py[line:108] - INFO: Set parameter MIPGap to value 0.01\n"
     ]
    },
    {
     "name": "stdout",
     "output_type": "stream",
     "text": [
      "Set parameter MIPGap to value 0.01\n"
     ]
    },
    {
     "name": "stderr",
     "output_type": "stream",
     "text": [
      "2022-09-26 14:11:31,325 - /Users/durian/Nutstore Files/Research/ID-SLP/public_code/approach/base_slp.py[line:108] - INFO: Set parameter MIPGap to value 0.01\n"
     ]
    },
    {
     "name": "stdout",
     "output_type": "stream",
     "text": [
      "Set parameter MIPGap to value 0.01\n"
     ]
    },
    {
     "name": "stderr",
     "output_type": "stream",
     "text": [
      "2022-09-26 14:11:31,365 - /Users/durian/Nutstore Files/Research/ID-SLP/public_code/approach/base_slp.py[line:108] - INFO: Set parameter MIPGap to value 0.01\n"
     ]
    },
    {
     "name": "stdout",
     "output_type": "stream",
     "text": [
      "Set parameter MIPGap to value 0.01\n"
     ]
    },
    {
     "name": "stderr",
     "output_type": "stream",
     "text": [
      "2022-09-26 14:11:31,406 - /Users/durian/Nutstore Files/Research/ID-SLP/public_code/approach/base_slp.py[line:108] - INFO: Set parameter MIPGap to value 0.01\n"
     ]
    },
    {
     "name": "stdout",
     "output_type": "stream",
     "text": [
      "Set parameter MIPGap to value 0.01\n"
     ]
    },
    {
     "name": "stderr",
     "output_type": "stream",
     "text": [
      "2022-09-26 14:11:31,439 - /Users/durian/Nutstore Files/Research/ID-SLP/public_code/approach/base_slp.py[line:108] - INFO: Set parameter MIPGap to value 0.01\n"
     ]
    },
    {
     "name": "stdout",
     "output_type": "stream",
     "text": [
      "Set parameter MIPGap to value 0.01\n"
     ]
    },
    {
     "name": "stderr",
     "output_type": "stream",
     "text": [
      "2022-09-26 14:11:31,472 - /Users/durian/Nutstore Files/Research/ID-SLP/public_code/approach/base_slp.py[line:108] - INFO: Set parameter MIPGap to value 0.01\n"
     ]
    },
    {
     "name": "stdout",
     "output_type": "stream",
     "text": [
      "Set parameter MIPGap to value 0.01\n"
     ]
    },
    {
     "name": "stderr",
     "output_type": "stream",
     "text": [
      "2022-09-26 14:11:31,505 - /Users/durian/Nutstore Files/Research/ID-SLP/public_code/approach/base_slp.py[line:108] - INFO: Set parameter MIPGap to value 0.01\n"
     ]
    },
    {
     "name": "stdout",
     "output_type": "stream",
     "text": [
      "Set parameter MIPGap to value 0.01\n"
     ]
    },
    {
     "name": "stderr",
     "output_type": "stream",
     "text": [
      "2022-09-26 14:11:31,538 - /Users/durian/Nutstore Files/Research/ID-SLP/public_code/approach/base_slp.py[line:108] - INFO: Set parameter MIPGap to value 0.01\n"
     ]
    },
    {
     "name": "stdout",
     "output_type": "stream",
     "text": [
      "Set parameter MIPGap to value 0.01\n"
     ]
    },
    {
     "name": "stderr",
     "output_type": "stream",
     "text": [
      "2022-09-26 14:11:31,571 - /Users/durian/Nutstore Files/Research/ID-SLP/public_code/approach/base_slp.py[line:108] - INFO: Set parameter MIPGap to value 0.01\n"
     ]
    },
    {
     "name": "stdout",
     "output_type": "stream",
     "text": [
      "Set parameter MIPGap to value 0.01\n"
     ]
    },
    {
     "name": "stderr",
     "output_type": "stream",
     "text": [
      "2022-09-26 14:11:31,603 - /Users/durian/Nutstore Files/Research/ID-SLP/public_code/approach/base_slp.py[line:108] - INFO: Set parameter MIPGap to value 0.01\n"
     ]
    },
    {
     "name": "stdout",
     "output_type": "stream",
     "text": [
      "Set parameter MIPGap to value 0.01\n"
     ]
    },
    {
     "name": "stderr",
     "output_type": "stream",
     "text": [
      "2022-09-26 14:11:31,635 - /Users/durian/Nutstore Files/Research/ID-SLP/public_code/approach/base_slp.py[line:108] - INFO: Set parameter MIPGap to value 0.01\n"
     ]
    },
    {
     "name": "stdout",
     "output_type": "stream",
     "text": [
      "Set parameter MIPGap to value 0.01\n"
     ]
    },
    {
     "name": "stderr",
     "output_type": "stream",
     "text": [
      "2022-09-26 14:11:31,667 - /Users/durian/Nutstore Files/Research/ID-SLP/public_code/approach/base_slp.py[line:108] - INFO: Set parameter MIPGap to value 0.01\n"
     ]
    },
    {
     "name": "stdout",
     "output_type": "stream",
     "text": [
      "Set parameter MIPGap to value 0.01\n"
     ]
    },
    {
     "name": "stderr",
     "output_type": "stream",
     "text": [
      "2022-09-26 14:11:31,699 - /Users/durian/Nutstore Files/Research/ID-SLP/public_code/approach/base_slp.py[line:108] - INFO: Set parameter MIPGap to value 0.01\n"
     ]
    },
    {
     "name": "stdout",
     "output_type": "stream",
     "text": [
      "Set parameter MIPGap to value 0.01\n"
     ]
    },
    {
     "name": "stderr",
     "output_type": "stream",
     "text": [
      "2022-09-26 14:11:31,730 - /Users/durian/Nutstore Files/Research/ID-SLP/public_code/approach/base_slp.py[line:108] - INFO: Set parameter MIPGap to value 0.01\n"
     ]
    },
    {
     "name": "stdout",
     "output_type": "stream",
     "text": [
      "Set parameter MIPGap to value 0.01\n"
     ]
    },
    {
     "name": "stderr",
     "output_type": "stream",
     "text": [
      "2022-09-26 14:11:31,762 - /Users/durian/Nutstore Files/Research/ID-SLP/public_code/approach/base_slp.py[line:108] - INFO: Set parameter MIPGap to value 0.01\n"
     ]
    },
    {
     "name": "stdout",
     "output_type": "stream",
     "text": [
      "Set parameter MIPGap to value 0.01\n"
     ]
    },
    {
     "name": "stderr",
     "output_type": "stream",
     "text": [
      "2022-09-26 14:11:31,795 - /Users/durian/Nutstore Files/Research/ID-SLP/public_code/approach/base_slp.py[line:108] - INFO: Set parameter MIPGap to value 0.01\n"
     ]
    },
    {
     "name": "stdout",
     "output_type": "stream",
     "text": [
      "Set parameter MIPGap to value 0.01\n"
     ]
    },
    {
     "name": "stderr",
     "output_type": "stream",
     "text": [
      "2022-09-26 14:11:31,827 - /Users/durian/Nutstore Files/Research/ID-SLP/public_code/approach/base_slp.py[line:108] - INFO: Set parameter MIPGap to value 0.01\n"
     ]
    },
    {
     "name": "stdout",
     "output_type": "stream",
     "text": [
      "Set parameter MIPGap to value 0.01\n"
     ]
    },
    {
     "name": "stderr",
     "output_type": "stream",
     "text": [
      "2022-09-26 14:11:31,860 - /Users/durian/Nutstore Files/Research/ID-SLP/public_code/approach/base_slp.py[line:108] - INFO: Set parameter MIPGap to value 0.01\n"
     ]
    },
    {
     "name": "stdout",
     "output_type": "stream",
     "text": [
      "Set parameter MIPGap to value 0.01\n"
     ]
    },
    {
     "name": "stderr",
     "output_type": "stream",
     "text": [
      "2022-09-26 14:11:31,892 - /Users/durian/Nutstore Files/Research/ID-SLP/public_code/approach/base_slp.py[line:108] - INFO: Set parameter MIPGap to value 0.01\n"
     ]
    },
    {
     "name": "stdout",
     "output_type": "stream",
     "text": [
      "Set parameter MIPGap to value 0.01\n"
     ]
    },
    {
     "name": "stderr",
     "output_type": "stream",
     "text": [
      "2022-09-26 14:11:31,924 - /Users/durian/Nutstore Files/Research/ID-SLP/public_code/approach/base_slp.py[line:108] - INFO: Set parameter MIPGap to value 0.01\n"
     ]
    },
    {
     "name": "stdout",
     "output_type": "stream",
     "text": [
      "Set parameter MIPGap to value 0.01\n"
     ]
    },
    {
     "name": "stderr",
     "output_type": "stream",
     "text": [
      "2022-09-26 14:11:32,026 - /Users/durian/Nutstore Files/Research/ID-SLP/public_code/approach/base_slp.py[line:108] - INFO: Set parameter MIPGap to value 0.01\n"
     ]
    },
    {
     "name": "stdout",
     "output_type": "stream",
     "text": [
      "Set parameter MIPGap to value 0.01\n"
     ]
    },
    {
     "name": "stderr",
     "output_type": "stream",
     "text": [
      "2022-09-26 14:11:32,058 - /Users/durian/Nutstore Files/Research/ID-SLP/public_code/approach/base_slp.py[line:108] - INFO: Set parameter MIPGap to value 0.01\n"
     ]
    },
    {
     "name": "stdout",
     "output_type": "stream",
     "text": [
      "This graph can be decomposed\n",
      "Set parameter MIPGap to value 0.01\n"
     ]
    },
    {
     "name": "stderr",
     "output_type": "stream",
     "text": [
      "2022-09-26 14:11:32,112 - /Users/durian/Nutstore Files/Research/ID-SLP/public_code/approach/base_slp.py[line:108] - INFO: Set parameter MIPGap to value 0.01\n"
     ]
    },
    {
     "name": "stdout",
     "output_type": "stream",
     "text": [
      "Set parameter MIPGap to value 0.01\n"
     ]
    },
    {
     "name": "stderr",
     "output_type": "stream",
     "text": [
      "2022-09-26 14:11:32,145 - /Users/durian/Nutstore Files/Research/ID-SLP/public_code/approach/base_slp.py[line:108] - INFO: Set parameter MIPGap to value 0.01\n"
     ]
    },
    {
     "name": "stdout",
     "output_type": "stream",
     "text": [
      "Set parameter MIPGap to value 0.01\n"
     ]
    },
    {
     "name": "stderr",
     "output_type": "stream",
     "text": [
      "2022-09-26 14:11:32,176 - /Users/durian/Nutstore Files/Research/ID-SLP/public_code/approach/base_slp.py[line:108] - INFO: Set parameter MIPGap to value 0.01\n"
     ]
    },
    {
     "name": "stdout",
     "output_type": "stream",
     "text": [
      "Set parameter MIPGap to value 0.01\n"
     ]
    },
    {
     "name": "stderr",
     "output_type": "stream",
     "text": [
      "2022-09-26 14:11:32,208 - /Users/durian/Nutstore Files/Research/ID-SLP/public_code/approach/base_slp.py[line:108] - INFO: Set parameter MIPGap to value 0.01\n"
     ]
    },
    {
     "name": "stdout",
     "output_type": "stream",
     "text": [
      "Set parameter MIPGap to value 0.01\n"
     ]
    },
    {
     "name": "stderr",
     "output_type": "stream",
     "text": [
      "2022-09-26 14:11:32,239 - /Users/durian/Nutstore Files/Research/ID-SLP/public_code/approach/base_slp.py[line:108] - INFO: Set parameter MIPGap to value 0.01\n"
     ]
    },
    {
     "name": "stdout",
     "output_type": "stream",
     "text": [
      "Set parameter MIPGap to value 0.01\n"
     ]
    },
    {
     "name": "stderr",
     "output_type": "stream",
     "text": [
      "2022-09-26 14:11:32,270 - /Users/durian/Nutstore Files/Research/ID-SLP/public_code/approach/base_slp.py[line:108] - INFO: Set parameter MIPGap to value 0.01\n"
     ]
    },
    {
     "name": "stdout",
     "output_type": "stream",
     "text": [
      "Set parameter MIPGap to value 0.01\n"
     ]
    },
    {
     "name": "stderr",
     "output_type": "stream",
     "text": [
      "2022-09-26 14:11:32,302 - /Users/durian/Nutstore Files/Research/ID-SLP/public_code/approach/base_slp.py[line:108] - INFO: Set parameter MIPGap to value 0.01\n"
     ]
    },
    {
     "name": "stdout",
     "output_type": "stream",
     "text": [
      "Set parameter MIPGap to value 0.01\n"
     ]
    },
    {
     "name": "stderr",
     "output_type": "stream",
     "text": [
      "2022-09-26 14:11:32,334 - /Users/durian/Nutstore Files/Research/ID-SLP/public_code/approach/base_slp.py[line:108] - INFO: Set parameter MIPGap to value 0.01\n"
     ]
    },
    {
     "name": "stdout",
     "output_type": "stream",
     "text": [
      "Set parameter MIPGap to value 0.01\n"
     ]
    },
    {
     "name": "stderr",
     "output_type": "stream",
     "text": [
      "2022-09-26 14:11:32,365 - /Users/durian/Nutstore Files/Research/ID-SLP/public_code/approach/base_slp.py[line:108] - INFO: Set parameter MIPGap to value 0.01\n"
     ]
    },
    {
     "name": "stdout",
     "output_type": "stream",
     "text": [
      "Set parameter MIPGap to value 0.01\n"
     ]
    },
    {
     "name": "stderr",
     "output_type": "stream",
     "text": [
      "2022-09-26 14:11:32,397 - /Users/durian/Nutstore Files/Research/ID-SLP/public_code/approach/base_slp.py[line:108] - INFO: Set parameter MIPGap to value 0.01\n"
     ]
    },
    {
     "name": "stdout",
     "output_type": "stream",
     "text": [
      "Set parameter MIPGap to value 0.01\n"
     ]
    },
    {
     "name": "stderr",
     "output_type": "stream",
     "text": [
      "2022-09-26 14:11:32,429 - /Users/durian/Nutstore Files/Research/ID-SLP/public_code/approach/base_slp.py[line:108] - INFO: Set parameter MIPGap to value 0.01\n"
     ]
    },
    {
     "name": "stdout",
     "output_type": "stream",
     "text": [
      "Set parameter MIPGap to value 0.01\n"
     ]
    },
    {
     "name": "stderr",
     "output_type": "stream",
     "text": [
      "2022-09-26 14:11:32,461 - /Users/durian/Nutstore Files/Research/ID-SLP/public_code/approach/base_slp.py[line:108] - INFO: Set parameter MIPGap to value 0.01\n"
     ]
    },
    {
     "name": "stdout",
     "output_type": "stream",
     "text": [
      "Set parameter MIPGap to value 0.01\n"
     ]
    },
    {
     "name": "stderr",
     "output_type": "stream",
     "text": [
      "2022-09-26 14:11:32,493 - /Users/durian/Nutstore Files/Research/ID-SLP/public_code/approach/base_slp.py[line:108] - INFO: Set parameter MIPGap to value 0.01\n"
     ]
    },
    {
     "name": "stdout",
     "output_type": "stream",
     "text": [
      "Set parameter MIPGap to value 0.01\n"
     ]
    },
    {
     "name": "stderr",
     "output_type": "stream",
     "text": [
      "2022-09-26 14:11:32,524 - /Users/durian/Nutstore Files/Research/ID-SLP/public_code/approach/base_slp.py[line:108] - INFO: Set parameter MIPGap to value 0.01\n"
     ]
    },
    {
     "name": "stdout",
     "output_type": "stream",
     "text": [
      "Set parameter MIPGap to value 0.01\n"
     ]
    },
    {
     "name": "stderr",
     "output_type": "stream",
     "text": [
      "2022-09-26 14:11:32,556 - /Users/durian/Nutstore Files/Research/ID-SLP/public_code/approach/base_slp.py[line:108] - INFO: Set parameter MIPGap to value 0.01\n"
     ]
    },
    {
     "name": "stdout",
     "output_type": "stream",
     "text": [
      "Set parameter MIPGap to value 0.01\n"
     ]
    },
    {
     "name": "stderr",
     "output_type": "stream",
     "text": [
      "2022-09-26 14:11:32,588 - /Users/durian/Nutstore Files/Research/ID-SLP/public_code/approach/base_slp.py[line:108] - INFO: Set parameter MIPGap to value 0.01\n"
     ]
    },
    {
     "name": "stdout",
     "output_type": "stream",
     "text": [
      "Set parameter MIPGap to value 0.01\n"
     ]
    },
    {
     "name": "stderr",
     "output_type": "stream",
     "text": [
      "2022-09-26 14:11:32,620 - /Users/durian/Nutstore Files/Research/ID-SLP/public_code/approach/base_slp.py[line:108] - INFO: Set parameter MIPGap to value 0.01\n"
     ]
    },
    {
     "name": "stdout",
     "output_type": "stream",
     "text": [
      "Set parameter MIPGap to value 0.01\n"
     ]
    },
    {
     "name": "stderr",
     "output_type": "stream",
     "text": [
      "2022-09-26 14:11:32,652 - /Users/durian/Nutstore Files/Research/ID-SLP/public_code/approach/base_slp.py[line:108] - INFO: Set parameter MIPGap to value 0.01\n"
     ]
    },
    {
     "name": "stdout",
     "output_type": "stream",
     "text": [
      "Set parameter MIPGap to value 0.01\n"
     ]
    },
    {
     "name": "stderr",
     "output_type": "stream",
     "text": [
      "2022-09-26 14:11:32,685 - /Users/durian/Nutstore Files/Research/ID-SLP/public_code/approach/base_slp.py[line:108] - INFO: Set parameter MIPGap to value 0.01\n"
     ]
    },
    {
     "name": "stdout",
     "output_type": "stream",
     "text": [
      "Set parameter MIPGap to value 0.01\n"
     ]
    },
    {
     "name": "stderr",
     "output_type": "stream",
     "text": [
      "2022-09-26 14:11:32,717 - /Users/durian/Nutstore Files/Research/ID-SLP/public_code/approach/base_slp.py[line:108] - INFO: Set parameter MIPGap to value 0.01\n"
     ]
    },
    {
     "name": "stdout",
     "output_type": "stream",
     "text": [
      "Set parameter MIPGap to value 0.01\n"
     ]
    },
    {
     "name": "stderr",
     "output_type": "stream",
     "text": [
      "2022-09-26 14:11:32,749 - /Users/durian/Nutstore Files/Research/ID-SLP/public_code/approach/base_slp.py[line:108] - INFO: Set parameter MIPGap to value 0.01\n"
     ]
    },
    {
     "name": "stdout",
     "output_type": "stream",
     "text": [
      "Set parameter MIPGap to value 0.01\n"
     ]
    },
    {
     "name": "stderr",
     "output_type": "stream",
     "text": [
      "2022-09-26 14:11:32,781 - /Users/durian/Nutstore Files/Research/ID-SLP/public_code/approach/base_slp.py[line:108] - INFO: Set parameter MIPGap to value 0.01\n"
     ]
    },
    {
     "name": "stdout",
     "output_type": "stream",
     "text": [
      "Set parameter MIPGap to value 0.01\n"
     ]
    },
    {
     "name": "stderr",
     "output_type": "stream",
     "text": [
      "2022-09-26 14:11:32,813 - /Users/durian/Nutstore Files/Research/ID-SLP/public_code/approach/base_slp.py[line:108] - INFO: Set parameter MIPGap to value 0.01\n"
     ]
    },
    {
     "name": "stdout",
     "output_type": "stream",
     "text": [
      "Set parameter MIPGap to value 0.01\n"
     ]
    },
    {
     "name": "stderr",
     "output_type": "stream",
     "text": [
      "2022-09-26 14:11:32,845 - /Users/durian/Nutstore Files/Research/ID-SLP/public_code/approach/base_slp.py[line:108] - INFO: Set parameter MIPGap to value 0.01\n"
     ]
    },
    {
     "name": "stdout",
     "output_type": "stream",
     "text": [
      "Set parameter MIPGap to value 0.01\n"
     ]
    },
    {
     "name": "stderr",
     "output_type": "stream",
     "text": [
      "2022-09-26 14:11:32,877 - /Users/durian/Nutstore Files/Research/ID-SLP/public_code/approach/base_slp.py[line:108] - INFO: Set parameter MIPGap to value 0.01\n"
     ]
    },
    {
     "name": "stdout",
     "output_type": "stream",
     "text": [
      "Set parameter MIPGap to value 0.01\n"
     ]
    },
    {
     "name": "stderr",
     "output_type": "stream",
     "text": [
      "2022-09-26 14:11:32,909 - /Users/durian/Nutstore Files/Research/ID-SLP/public_code/approach/base_slp.py[line:108] - INFO: Set parameter MIPGap to value 0.01\n"
     ]
    },
    {
     "name": "stdout",
     "output_type": "stream",
     "text": [
      "Set parameter MIPGap to value 0.01\n"
     ]
    },
    {
     "name": "stderr",
     "output_type": "stream",
     "text": [
      "2022-09-26 14:11:32,942 - /Users/durian/Nutstore Files/Research/ID-SLP/public_code/approach/base_slp.py[line:108] - INFO: Set parameter MIPGap to value 0.01\n"
     ]
    },
    {
     "name": "stdout",
     "output_type": "stream",
     "text": [
      "Set parameter MIPGap to value 0.01\n"
     ]
    },
    {
     "name": "stderr",
     "output_type": "stream",
     "text": [
      "2022-09-26 14:11:32,980 - /Users/durian/Nutstore Files/Research/ID-SLP/public_code/approach/base_slp.py[line:108] - INFO: Set parameter MIPGap to value 0.01\n"
     ]
    },
    {
     "name": "stdout",
     "output_type": "stream",
     "text": [
      "Set parameter MIPGap to value 0.01\n"
     ]
    },
    {
     "name": "stderr",
     "output_type": "stream",
     "text": [
      "2022-09-26 14:11:33,014 - /Users/durian/Nutstore Files/Research/ID-SLP/public_code/approach/base_slp.py[line:108] - INFO: Set parameter MIPGap to value 0.01\n"
     ]
    },
    {
     "name": "stdout",
     "output_type": "stream",
     "text": [
      "Set parameter MIPGap to value 0.01\n"
     ]
    },
    {
     "name": "stderr",
     "output_type": "stream",
     "text": [
      "2022-09-26 14:11:33,048 - /Users/durian/Nutstore Files/Research/ID-SLP/public_code/approach/base_slp.py[line:108] - INFO: Set parameter MIPGap to value 0.01\n"
     ]
    },
    {
     "name": "stdout",
     "output_type": "stream",
     "text": [
      "Set parameter MIPGap to value 0.01\n"
     ]
    },
    {
     "name": "stderr",
     "output_type": "stream",
     "text": [
      "2022-09-26 14:11:33,082 - /Users/durian/Nutstore Files/Research/ID-SLP/public_code/approach/base_slp.py[line:108] - INFO: Set parameter MIPGap to value 0.01\n"
     ]
    },
    {
     "name": "stdout",
     "output_type": "stream",
     "text": [
      "Set parameter MIPGap to value 0.01\n"
     ]
    },
    {
     "name": "stderr",
     "output_type": "stream",
     "text": [
      "2022-09-26 14:11:33,115 - /Users/durian/Nutstore Files/Research/ID-SLP/public_code/approach/base_slp.py[line:108] - INFO: Set parameter MIPGap to value 0.01\n"
     ]
    },
    {
     "name": "stdout",
     "output_type": "stream",
     "text": [
      "Set parameter MIPGap to value 0.01\n"
     ]
    },
    {
     "name": "stderr",
     "output_type": "stream",
     "text": [
      "2022-09-26 14:11:33,148 - /Users/durian/Nutstore Files/Research/ID-SLP/public_code/approach/base_slp.py[line:108] - INFO: Set parameter MIPGap to value 0.01\n"
     ]
    },
    {
     "name": "stdout",
     "output_type": "stream",
     "text": [
      "Set parameter MIPGap to value 0.01\n"
     ]
    },
    {
     "name": "stderr",
     "output_type": "stream",
     "text": [
      "2022-09-26 14:11:33,182 - /Users/durian/Nutstore Files/Research/ID-SLP/public_code/approach/base_slp.py[line:108] - INFO: Set parameter MIPGap to value 0.01\n"
     ]
    },
    {
     "name": "stdout",
     "output_type": "stream",
     "text": [
      "This graph can be decomposed\n",
      "Set parameter MIPGap to value 0.01\n"
     ]
    },
    {
     "name": "stderr",
     "output_type": "stream",
     "text": [
      "2022-09-26 14:11:33,240 - /Users/durian/Nutstore Files/Research/ID-SLP/public_code/approach/base_slp.py[line:108] - INFO: Set parameter MIPGap to value 0.01\n"
     ]
    },
    {
     "name": "stdout",
     "output_type": "stream",
     "text": [
      "Set parameter MIPGap to value 0.01\n"
     ]
    },
    {
     "name": "stderr",
     "output_type": "stream",
     "text": [
      "2022-09-26 14:11:33,273 - /Users/durian/Nutstore Files/Research/ID-SLP/public_code/approach/base_slp.py[line:108] - INFO: Set parameter MIPGap to value 0.01\n"
     ]
    },
    {
     "name": "stdout",
     "output_type": "stream",
     "text": [
      "Set parameter MIPGap to value 0.01\n"
     ]
    },
    {
     "name": "stderr",
     "output_type": "stream",
     "text": [
      "2022-09-26 14:11:33,306 - /Users/durian/Nutstore Files/Research/ID-SLP/public_code/approach/base_slp.py[line:108] - INFO: Set parameter MIPGap to value 0.01\n"
     ]
    },
    {
     "name": "stdout",
     "output_type": "stream",
     "text": [
      "Set parameter MIPGap to value 0.01\n"
     ]
    },
    {
     "name": "stderr",
     "output_type": "stream",
     "text": [
      "2022-09-26 14:11:33,337 - /Users/durian/Nutstore Files/Research/ID-SLP/public_code/approach/base_slp.py[line:108] - INFO: Set parameter MIPGap to value 0.01\n"
     ]
    },
    {
     "name": "stdout",
     "output_type": "stream",
     "text": [
      "Set parameter MIPGap to value 0.01\n"
     ]
    },
    {
     "name": "stderr",
     "output_type": "stream",
     "text": [
      "2022-09-26 14:11:33,369 - /Users/durian/Nutstore Files/Research/ID-SLP/public_code/approach/base_slp.py[line:108] - INFO: Set parameter MIPGap to value 0.01\n"
     ]
    },
    {
     "name": "stdout",
     "output_type": "stream",
     "text": [
      "Set parameter MIPGap to value 0.01\n"
     ]
    },
    {
     "name": "stderr",
     "output_type": "stream",
     "text": [
      "2022-09-26 14:11:33,408 - /Users/durian/Nutstore Files/Research/ID-SLP/public_code/approach/base_slp.py[line:108] - INFO: Set parameter MIPGap to value 0.01\n"
     ]
    },
    {
     "name": "stdout",
     "output_type": "stream",
     "text": [
      "Set parameter MIPGap to value 0.01\n"
     ]
    },
    {
     "name": "stderr",
     "output_type": "stream",
     "text": [
      "2022-09-26 14:11:33,441 - /Users/durian/Nutstore Files/Research/ID-SLP/public_code/approach/base_slp.py[line:108] - INFO: Set parameter MIPGap to value 0.01\n"
     ]
    },
    {
     "name": "stdout",
     "output_type": "stream",
     "text": [
      "Set parameter MIPGap to value 0.01\n"
     ]
    },
    {
     "name": "stderr",
     "output_type": "stream",
     "text": [
      "2022-09-26 14:11:33,472 - /Users/durian/Nutstore Files/Research/ID-SLP/public_code/approach/base_slp.py[line:108] - INFO: Set parameter MIPGap to value 0.01\n"
     ]
    },
    {
     "name": "stdout",
     "output_type": "stream",
     "text": [
      "Set parameter MIPGap to value 0.01\n"
     ]
    },
    {
     "name": "stderr",
     "output_type": "stream",
     "text": [
      "2022-09-26 14:11:33,503 - /Users/durian/Nutstore Files/Research/ID-SLP/public_code/approach/base_slp.py[line:108] - INFO: Set parameter MIPGap to value 0.01\n"
     ]
    },
    {
     "name": "stdout",
     "output_type": "stream",
     "text": [
      "Set parameter MIPGap to value 0.01\n"
     ]
    },
    {
     "name": "stderr",
     "output_type": "stream",
     "text": [
      "2022-09-26 14:11:33,533 - /Users/durian/Nutstore Files/Research/ID-SLP/public_code/approach/base_slp.py[line:108] - INFO: Set parameter MIPGap to value 0.01\n"
     ]
    },
    {
     "name": "stdout",
     "output_type": "stream",
     "text": [
      "Set parameter MIPGap to value 0.01\n"
     ]
    },
    {
     "name": "stderr",
     "output_type": "stream",
     "text": [
      "2022-09-26 14:11:33,564 - /Users/durian/Nutstore Files/Research/ID-SLP/public_code/approach/base_slp.py[line:108] - INFO: Set parameter MIPGap to value 0.01\n"
     ]
    },
    {
     "name": "stdout",
     "output_type": "stream",
     "text": [
      "Set parameter MIPGap to value 0.01\n"
     ]
    },
    {
     "name": "stderr",
     "output_type": "stream",
     "text": [
      "2022-09-26 14:11:33,595 - /Users/durian/Nutstore Files/Research/ID-SLP/public_code/approach/base_slp.py[line:108] - INFO: Set parameter MIPGap to value 0.01\n"
     ]
    },
    {
     "name": "stdout",
     "output_type": "stream",
     "text": [
      "Set parameter MIPGap to value 0.01\n"
     ]
    },
    {
     "name": "stderr",
     "output_type": "stream",
     "text": [
      "2022-09-26 14:11:33,626 - /Users/durian/Nutstore Files/Research/ID-SLP/public_code/approach/base_slp.py[line:108] - INFO: Set parameter MIPGap to value 0.01\n"
     ]
    },
    {
     "name": "stdout",
     "output_type": "stream",
     "text": [
      "Set parameter MIPGap to value 0.01\n"
     ]
    },
    {
     "name": "stderr",
     "output_type": "stream",
     "text": [
      "2022-09-26 14:11:33,656 - /Users/durian/Nutstore Files/Research/ID-SLP/public_code/approach/base_slp.py[line:108] - INFO: Set parameter MIPGap to value 0.01\n"
     ]
    },
    {
     "name": "stdout",
     "output_type": "stream",
     "text": [
      "Set parameter MIPGap to value 0.01\n"
     ]
    },
    {
     "name": "stderr",
     "output_type": "stream",
     "text": [
      "2022-09-26 14:11:33,687 - /Users/durian/Nutstore Files/Research/ID-SLP/public_code/approach/base_slp.py[line:108] - INFO: Set parameter MIPGap to value 0.01\n"
     ]
    },
    {
     "name": "stdout",
     "output_type": "stream",
     "text": [
      "Set parameter MIPGap to value 0.01\n"
     ]
    },
    {
     "name": "stderr",
     "output_type": "stream",
     "text": [
      "2022-09-26 14:11:33,718 - /Users/durian/Nutstore Files/Research/ID-SLP/public_code/approach/base_slp.py[line:108] - INFO: Set parameter MIPGap to value 0.01\n"
     ]
    },
    {
     "name": "stdout",
     "output_type": "stream",
     "text": [
      "Set parameter MIPGap to value 0.01\n"
     ]
    },
    {
     "name": "stderr",
     "output_type": "stream",
     "text": [
      "2022-09-26 14:11:33,749 - /Users/durian/Nutstore Files/Research/ID-SLP/public_code/approach/base_slp.py[line:108] - INFO: Set parameter MIPGap to value 0.01\n"
     ]
    },
    {
     "name": "stdout",
     "output_type": "stream",
     "text": [
      "Set parameter MIPGap to value 0.01\n"
     ]
    },
    {
     "name": "stderr",
     "output_type": "stream",
     "text": [
      "2022-09-26 14:11:33,780 - /Users/durian/Nutstore Files/Research/ID-SLP/public_code/approach/base_slp.py[line:108] - INFO: Set parameter MIPGap to value 0.01\n"
     ]
    },
    {
     "name": "stdout",
     "output_type": "stream",
     "text": [
      "Set parameter MIPGap to value 0.01\n"
     ]
    },
    {
     "name": "stderr",
     "output_type": "stream",
     "text": [
      "2022-09-26 14:11:33,810 - /Users/durian/Nutstore Files/Research/ID-SLP/public_code/approach/base_slp.py[line:108] - INFO: Set parameter MIPGap to value 0.01\n"
     ]
    },
    {
     "name": "stdout",
     "output_type": "stream",
     "text": [
      "Set parameter MIPGap to value 0.01\n"
     ]
    },
    {
     "name": "stderr",
     "output_type": "stream",
     "text": [
      "2022-09-26 14:11:33,841 - /Users/durian/Nutstore Files/Research/ID-SLP/public_code/approach/base_slp.py[line:108] - INFO: Set parameter MIPGap to value 0.01\n"
     ]
    },
    {
     "name": "stdout",
     "output_type": "stream",
     "text": [
      "Set parameter MIPGap to value 0.01\n"
     ]
    },
    {
     "name": "stderr",
     "output_type": "stream",
     "text": [
      "2022-09-26 14:11:33,872 - /Users/durian/Nutstore Files/Research/ID-SLP/public_code/approach/base_slp.py[line:108] - INFO: Set parameter MIPGap to value 0.01\n"
     ]
    },
    {
     "name": "stdout",
     "output_type": "stream",
     "text": [
      "Set parameter MIPGap to value 0.01\n"
     ]
    },
    {
     "name": "stderr",
     "output_type": "stream",
     "text": [
      "2022-09-26 14:11:33,903 - /Users/durian/Nutstore Files/Research/ID-SLP/public_code/approach/base_slp.py[line:108] - INFO: Set parameter MIPGap to value 0.01\n"
     ]
    },
    {
     "name": "stdout",
     "output_type": "stream",
     "text": [
      "Set parameter MIPGap to value 0.01\n"
     ]
    },
    {
     "name": "stderr",
     "output_type": "stream",
     "text": [
      "2022-09-26 14:11:33,935 - /Users/durian/Nutstore Files/Research/ID-SLP/public_code/approach/base_slp.py[line:108] - INFO: Set parameter MIPGap to value 0.01\n"
     ]
    },
    {
     "name": "stdout",
     "output_type": "stream",
     "text": [
      "Set parameter MIPGap to value 0.01\n"
     ]
    },
    {
     "name": "stderr",
     "output_type": "stream",
     "text": [
      "2022-09-26 14:11:33,966 - /Users/durian/Nutstore Files/Research/ID-SLP/public_code/approach/base_slp.py[line:108] - INFO: Set parameter MIPGap to value 0.01\n"
     ]
    },
    {
     "name": "stdout",
     "output_type": "stream",
     "text": [
      "Set parameter MIPGap to value 0.01\n"
     ]
    },
    {
     "name": "stderr",
     "output_type": "stream",
     "text": [
      "2022-09-26 14:11:33,997 - /Users/durian/Nutstore Files/Research/ID-SLP/public_code/approach/base_slp.py[line:108] - INFO: Set parameter MIPGap to value 0.01\n"
     ]
    },
    {
     "name": "stdout",
     "output_type": "stream",
     "text": [
      "Set parameter MIPGap to value 0.01\n"
     ]
    },
    {
     "name": "stderr",
     "output_type": "stream",
     "text": [
      "2022-09-26 14:11:34,028 - /Users/durian/Nutstore Files/Research/ID-SLP/public_code/approach/base_slp.py[line:108] - INFO: Set parameter MIPGap to value 0.01\n"
     ]
    },
    {
     "name": "stdout",
     "output_type": "stream",
     "text": [
      "Set parameter MIPGap to value 0.01\n"
     ]
    },
    {
     "name": "stderr",
     "output_type": "stream",
     "text": [
      "2022-09-26 14:11:34,059 - /Users/durian/Nutstore Files/Research/ID-SLP/public_code/approach/base_slp.py[line:108] - INFO: Set parameter MIPGap to value 0.01\n"
     ]
    },
    {
     "name": "stdout",
     "output_type": "stream",
     "text": [
      "Set parameter MIPGap to value 0.01\n"
     ]
    },
    {
     "name": "stderr",
     "output_type": "stream",
     "text": [
      "2022-09-26 14:11:34,090 - /Users/durian/Nutstore Files/Research/ID-SLP/public_code/approach/base_slp.py[line:108] - INFO: Set parameter MIPGap to value 0.01\n"
     ]
    },
    {
     "name": "stdout",
     "output_type": "stream",
     "text": [
      "Set parameter MIPGap to value 0.01\n"
     ]
    },
    {
     "name": "stderr",
     "output_type": "stream",
     "text": [
      "2022-09-26 14:11:34,122 - /Users/durian/Nutstore Files/Research/ID-SLP/public_code/approach/base_slp.py[line:108] - INFO: Set parameter MIPGap to value 0.01\n"
     ]
    },
    {
     "name": "stdout",
     "output_type": "stream",
     "text": [
      "Set parameter MIPGap to value 0.01\n"
     ]
    },
    {
     "name": "stderr",
     "output_type": "stream",
     "text": [
      "2022-09-26 14:11:34,153 - /Users/durian/Nutstore Files/Research/ID-SLP/public_code/approach/base_slp.py[line:108] - INFO: Set parameter MIPGap to value 0.01\n"
     ]
    },
    {
     "name": "stdout",
     "output_type": "stream",
     "text": [
      "Set parameter MIPGap to value 0.01\n"
     ]
    },
    {
     "name": "stderr",
     "output_type": "stream",
     "text": [
      "2022-09-26 14:11:34,184 - /Users/durian/Nutstore Files/Research/ID-SLP/public_code/approach/base_slp.py[line:108] - INFO: Set parameter MIPGap to value 0.01\n"
     ]
    },
    {
     "name": "stdout",
     "output_type": "stream",
     "text": [
      "Set parameter MIPGap to value 0.01\n"
     ]
    },
    {
     "name": "stderr",
     "output_type": "stream",
     "text": [
      "2022-09-26 14:11:34,219 - /Users/durian/Nutstore Files/Research/ID-SLP/public_code/approach/base_slp.py[line:108] - INFO: Set parameter MIPGap to value 0.01\n"
     ]
    },
    {
     "name": "stdout",
     "output_type": "stream",
     "text": [
      "Set parameter MIPGap to value 0.01\n"
     ]
    },
    {
     "name": "stderr",
     "output_type": "stream",
     "text": [
      "2022-09-26 14:11:34,265 - /Users/durian/Nutstore Files/Research/ID-SLP/public_code/approach/base_slp.py[line:108] - INFO: Set parameter MIPGap to value 0.01\n"
     ]
    },
    {
     "name": "stdout",
     "output_type": "stream",
     "text": [
      "Set parameter MIPGap to value 0.01\n"
     ]
    },
    {
     "name": "stderr",
     "output_type": "stream",
     "text": [
      "2022-09-26 14:11:34,296 - /Users/durian/Nutstore Files/Research/ID-SLP/public_code/approach/base_slp.py[line:108] - INFO: Set parameter MIPGap to value 0.01\n"
     ]
    },
    {
     "name": "stdout",
     "output_type": "stream",
     "text": [
      "Set parameter MIPGap to value 0.01\n"
     ]
    },
    {
     "name": "stderr",
     "output_type": "stream",
     "text": [
      "2022-09-26 14:11:34,327 - /Users/durian/Nutstore Files/Research/ID-SLP/public_code/approach/base_slp.py[line:108] - INFO: Set parameter MIPGap to value 0.01\n"
     ]
    },
    {
     "name": "stdout",
     "output_type": "stream",
     "text": [
      "Set parameter MIPGap to value 0.01\n"
     ]
    },
    {
     "name": "stderr",
     "output_type": "stream",
     "text": [
      "2022-09-26 14:11:34,357 - /Users/durian/Nutstore Files/Research/ID-SLP/public_code/approach/base_slp.py[line:108] - INFO: Set parameter MIPGap to value 0.01\n"
     ]
    },
    {
     "name": "stdout",
     "output_type": "stream",
     "text": [
      "This graph can be decomposed\n",
      "Set parameter MIPGap to value 0.01\n"
     ]
    },
    {
     "name": "stderr",
     "output_type": "stream",
     "text": [
      "2022-09-26 14:11:34,409 - /Users/durian/Nutstore Files/Research/ID-SLP/public_code/approach/base_slp.py[line:108] - INFO: Set parameter MIPGap to value 0.01\n"
     ]
    },
    {
     "name": "stdout",
     "output_type": "stream",
     "text": [
      "Set parameter MIPGap to value 0.01\n"
     ]
    },
    {
     "name": "stderr",
     "output_type": "stream",
     "text": [
      "2022-09-26 14:11:34,440 - /Users/durian/Nutstore Files/Research/ID-SLP/public_code/approach/base_slp.py[line:108] - INFO: Set parameter MIPGap to value 0.01\n"
     ]
    },
    {
     "name": "stdout",
     "output_type": "stream",
     "text": [
      "Set parameter MIPGap to value 0.01\n"
     ]
    },
    {
     "name": "stderr",
     "output_type": "stream",
     "text": [
      "2022-09-26 14:11:34,470 - /Users/durian/Nutstore Files/Research/ID-SLP/public_code/approach/base_slp.py[line:108] - INFO: Set parameter MIPGap to value 0.01\n"
     ]
    },
    {
     "name": "stdout",
     "output_type": "stream",
     "text": [
      "Set parameter MIPGap to value 0.01\n"
     ]
    },
    {
     "name": "stderr",
     "output_type": "stream",
     "text": [
      "2022-09-26 14:11:34,500 - /Users/durian/Nutstore Files/Research/ID-SLP/public_code/approach/base_slp.py[line:108] - INFO: Set parameter MIPGap to value 0.01\n"
     ]
    },
    {
     "name": "stdout",
     "output_type": "stream",
     "text": [
      "Set parameter MIPGap to value 0.01\n"
     ]
    },
    {
     "name": "stderr",
     "output_type": "stream",
     "text": [
      "2022-09-26 14:11:34,530 - /Users/durian/Nutstore Files/Research/ID-SLP/public_code/approach/base_slp.py[line:108] - INFO: Set parameter MIPGap to value 0.01\n"
     ]
    },
    {
     "name": "stdout",
     "output_type": "stream",
     "text": [
      "Set parameter MIPGap to value 0.01\n"
     ]
    },
    {
     "name": "stderr",
     "output_type": "stream",
     "text": [
      "2022-09-26 14:11:34,560 - /Users/durian/Nutstore Files/Research/ID-SLP/public_code/approach/base_slp.py[line:108] - INFO: Set parameter MIPGap to value 0.01\n"
     ]
    },
    {
     "name": "stdout",
     "output_type": "stream",
     "text": [
      "Set parameter MIPGap to value 0.01\n"
     ]
    },
    {
     "name": "stderr",
     "output_type": "stream",
     "text": [
      "2022-09-26 14:11:34,590 - /Users/durian/Nutstore Files/Research/ID-SLP/public_code/approach/base_slp.py[line:108] - INFO: Set parameter MIPGap to value 0.01\n"
     ]
    },
    {
     "name": "stdout",
     "output_type": "stream",
     "text": [
      "Set parameter MIPGap to value 0.01\n"
     ]
    },
    {
     "name": "stderr",
     "output_type": "stream",
     "text": [
      "2022-09-26 14:11:34,620 - /Users/durian/Nutstore Files/Research/ID-SLP/public_code/approach/base_slp.py[line:108] - INFO: Set parameter MIPGap to value 0.01\n"
     ]
    },
    {
     "name": "stdout",
     "output_type": "stream",
     "text": [
      "Set parameter MIPGap to value 0.01\n"
     ]
    },
    {
     "name": "stderr",
     "output_type": "stream",
     "text": [
      "2022-09-26 14:11:34,650 - /Users/durian/Nutstore Files/Research/ID-SLP/public_code/approach/base_slp.py[line:108] - INFO: Set parameter MIPGap to value 0.01\n"
     ]
    },
    {
     "name": "stdout",
     "output_type": "stream",
     "text": [
      "Set parameter MIPGap to value 0.01\n"
     ]
    },
    {
     "name": "stderr",
     "output_type": "stream",
     "text": [
      "2022-09-26 14:11:34,681 - /Users/durian/Nutstore Files/Research/ID-SLP/public_code/approach/base_slp.py[line:108] - INFO: Set parameter MIPGap to value 0.01\n"
     ]
    },
    {
     "name": "stdout",
     "output_type": "stream",
     "text": [
      "Set parameter MIPGap to value 0.01\n"
     ]
    },
    {
     "name": "stderr",
     "output_type": "stream",
     "text": [
      "2022-09-26 14:11:34,711 - /Users/durian/Nutstore Files/Research/ID-SLP/public_code/approach/base_slp.py[line:108] - INFO: Set parameter MIPGap to value 0.01\n"
     ]
    },
    {
     "name": "stdout",
     "output_type": "stream",
     "text": [
      "Set parameter MIPGap to value 0.01\n"
     ]
    },
    {
     "name": "stderr",
     "output_type": "stream",
     "text": [
      "2022-09-26 14:11:34,742 - /Users/durian/Nutstore Files/Research/ID-SLP/public_code/approach/base_slp.py[line:108] - INFO: Set parameter MIPGap to value 0.01\n"
     ]
    },
    {
     "name": "stdout",
     "output_type": "stream",
     "text": [
      "Set parameter MIPGap to value 0.01\n"
     ]
    },
    {
     "name": "stderr",
     "output_type": "stream",
     "text": [
      "2022-09-26 14:11:34,774 - /Users/durian/Nutstore Files/Research/ID-SLP/public_code/approach/base_slp.py[line:108] - INFO: Set parameter MIPGap to value 0.01\n"
     ]
    },
    {
     "name": "stdout",
     "output_type": "stream",
     "text": [
      "Set parameter MIPGap to value 0.01\n"
     ]
    },
    {
     "name": "stderr",
     "output_type": "stream",
     "text": [
      "2022-09-26 14:11:34,806 - /Users/durian/Nutstore Files/Research/ID-SLP/public_code/approach/base_slp.py[line:108] - INFO: Set parameter MIPGap to value 0.01\n"
     ]
    },
    {
     "name": "stdout",
     "output_type": "stream",
     "text": [
      "Set parameter MIPGap to value 0.01\n"
     ]
    },
    {
     "name": "stderr",
     "output_type": "stream",
     "text": [
      "2022-09-26 14:11:34,839 - /Users/durian/Nutstore Files/Research/ID-SLP/public_code/approach/base_slp.py[line:108] - INFO: Set parameter MIPGap to value 0.01\n"
     ]
    },
    {
     "name": "stdout",
     "output_type": "stream",
     "text": [
      "Set parameter MIPGap to value 0.01\n"
     ]
    },
    {
     "name": "stderr",
     "output_type": "stream",
     "text": [
      "2022-09-26 14:11:34,871 - /Users/durian/Nutstore Files/Research/ID-SLP/public_code/approach/base_slp.py[line:108] - INFO: Set parameter MIPGap to value 0.01\n"
     ]
    },
    {
     "name": "stdout",
     "output_type": "stream",
     "text": [
      "Set parameter MIPGap to value 0.01\n"
     ]
    },
    {
     "name": "stderr",
     "output_type": "stream",
     "text": [
      "2022-09-26 14:11:34,902 - /Users/durian/Nutstore Files/Research/ID-SLP/public_code/approach/base_slp.py[line:108] - INFO: Set parameter MIPGap to value 0.01\n"
     ]
    },
    {
     "name": "stdout",
     "output_type": "stream",
     "text": [
      "Set parameter MIPGap to value 0.01\n"
     ]
    },
    {
     "name": "stderr",
     "output_type": "stream",
     "text": [
      "2022-09-26 14:11:34,933 - /Users/durian/Nutstore Files/Research/ID-SLP/public_code/approach/base_slp.py[line:108] - INFO: Set parameter MIPGap to value 0.01\n"
     ]
    },
    {
     "name": "stdout",
     "output_type": "stream",
     "text": [
      "Set parameter MIPGap to value 0.01\n"
     ]
    },
    {
     "name": "stderr",
     "output_type": "stream",
     "text": [
      "2022-09-26 14:11:34,963 - /Users/durian/Nutstore Files/Research/ID-SLP/public_code/approach/base_slp.py[line:108] - INFO: Set parameter MIPGap to value 0.01\n"
     ]
    },
    {
     "name": "stdout",
     "output_type": "stream",
     "text": [
      "Set parameter MIPGap to value 0.01\n"
     ]
    },
    {
     "name": "stderr",
     "output_type": "stream",
     "text": [
      "2022-09-26 14:11:34,993 - /Users/durian/Nutstore Files/Research/ID-SLP/public_code/approach/base_slp.py[line:108] - INFO: Set parameter MIPGap to value 0.01\n"
     ]
    },
    {
     "name": "stdout",
     "output_type": "stream",
     "text": [
      "Set parameter MIPGap to value 0.01\n"
     ]
    },
    {
     "name": "stderr",
     "output_type": "stream",
     "text": [
      "2022-09-26 14:11:35,023 - /Users/durian/Nutstore Files/Research/ID-SLP/public_code/approach/base_slp.py[line:108] - INFO: Set parameter MIPGap to value 0.01\n"
     ]
    },
    {
     "name": "stdout",
     "output_type": "stream",
     "text": [
      "Set parameter MIPGap to value 0.01\n"
     ]
    },
    {
     "name": "stderr",
     "output_type": "stream",
     "text": [
      "2022-09-26 14:11:35,053 - /Users/durian/Nutstore Files/Research/ID-SLP/public_code/approach/base_slp.py[line:108] - INFO: Set parameter MIPGap to value 0.01\n"
     ]
    },
    {
     "name": "stdout",
     "output_type": "stream",
     "text": [
      "Set parameter MIPGap to value 0.01\n"
     ]
    },
    {
     "name": "stderr",
     "output_type": "stream",
     "text": [
      "2022-09-26 14:11:35,083 - /Users/durian/Nutstore Files/Research/ID-SLP/public_code/approach/base_slp.py[line:108] - INFO: Set parameter MIPGap to value 0.01\n"
     ]
    },
    {
     "name": "stdout",
     "output_type": "stream",
     "text": [
      "Set parameter MIPGap to value 0.01\n"
     ]
    },
    {
     "name": "stderr",
     "output_type": "stream",
     "text": [
      "2022-09-26 14:11:35,113 - /Users/durian/Nutstore Files/Research/ID-SLP/public_code/approach/base_slp.py[line:108] - INFO: Set parameter MIPGap to value 0.01\n"
     ]
    },
    {
     "name": "stdout",
     "output_type": "stream",
     "text": [
      "Set parameter MIPGap to value 0.01\n"
     ]
    },
    {
     "name": "stderr",
     "output_type": "stream",
     "text": [
      "2022-09-26 14:11:35,143 - /Users/durian/Nutstore Files/Research/ID-SLP/public_code/approach/base_slp.py[line:108] - INFO: Set parameter MIPGap to value 0.01\n"
     ]
    },
    {
     "name": "stdout",
     "output_type": "stream",
     "text": [
      "Set parameter MIPGap to value 0.01\n"
     ]
    },
    {
     "name": "stderr",
     "output_type": "stream",
     "text": [
      "2022-09-26 14:11:35,245 - /Users/durian/Nutstore Files/Research/ID-SLP/public_code/approach/base_slp.py[line:108] - INFO: Set parameter MIPGap to value 0.01\n"
     ]
    },
    {
     "name": "stdout",
     "output_type": "stream",
     "text": [
      "Set parameter MIPGap to value 0.01\n"
     ]
    },
    {
     "name": "stderr",
     "output_type": "stream",
     "text": [
      "2022-09-26 14:11:35,275 - /Users/durian/Nutstore Files/Research/ID-SLP/public_code/approach/base_slp.py[line:108] - INFO: Set parameter MIPGap to value 0.01\n"
     ]
    },
    {
     "name": "stdout",
     "output_type": "stream",
     "text": [
      "Set parameter MIPGap to value 0.01\n"
     ]
    },
    {
     "name": "stderr",
     "output_type": "stream",
     "text": [
      "2022-09-26 14:11:35,306 - /Users/durian/Nutstore Files/Research/ID-SLP/public_code/approach/base_slp.py[line:108] - INFO: Set parameter MIPGap to value 0.01\n"
     ]
    },
    {
     "name": "stdout",
     "output_type": "stream",
     "text": [
      "Set parameter MIPGap to value 0.01\n"
     ]
    },
    {
     "name": "stderr",
     "output_type": "stream",
     "text": [
      "2022-09-26 14:11:35,336 - /Users/durian/Nutstore Files/Research/ID-SLP/public_code/approach/base_slp.py[line:108] - INFO: Set parameter MIPGap to value 0.01\n"
     ]
    },
    {
     "name": "stdout",
     "output_type": "stream",
     "text": [
      "Set parameter MIPGap to value 0.01\n"
     ]
    },
    {
     "name": "stderr",
     "output_type": "stream",
     "text": [
      "2022-09-26 14:11:35,372 - /Users/durian/Nutstore Files/Research/ID-SLP/public_code/approach/base_slp.py[line:108] - INFO: Set parameter MIPGap to value 0.01\n"
     ]
    },
    {
     "name": "stdout",
     "output_type": "stream",
     "text": [
      "Set parameter MIPGap to value 0.01\n"
     ]
    },
    {
     "name": "stderr",
     "output_type": "stream",
     "text": [
      "2022-09-26 14:11:35,409 - /Users/durian/Nutstore Files/Research/ID-SLP/public_code/approach/base_slp.py[line:108] - INFO: Set parameter MIPGap to value 0.01\n"
     ]
    },
    {
     "name": "stdout",
     "output_type": "stream",
     "text": [
      "Set parameter MIPGap to value 0.01\n"
     ]
    },
    {
     "name": "stderr",
     "output_type": "stream",
     "text": [
      "2022-09-26 14:11:35,440 - /Users/durian/Nutstore Files/Research/ID-SLP/public_code/approach/base_slp.py[line:108] - INFO: Set parameter MIPGap to value 0.01\n"
     ]
    },
    {
     "name": "stdout",
     "output_type": "stream",
     "text": [
      "Set parameter MIPGap to value 0.01\n"
     ]
    },
    {
     "name": "stderr",
     "output_type": "stream",
     "text": [
      "2022-09-26 14:11:35,471 - /Users/durian/Nutstore Files/Research/ID-SLP/public_code/approach/base_slp.py[line:108] - INFO: Set parameter MIPGap to value 0.01\n"
     ]
    },
    {
     "name": "stdout",
     "output_type": "stream",
     "text": [
      "Set parameter MIPGap to value 0.01\n"
     ]
    },
    {
     "name": "stderr",
     "output_type": "stream",
     "text": [
      "2022-09-26 14:11:35,502 - /Users/durian/Nutstore Files/Research/ID-SLP/public_code/approach/base_slp.py[line:108] - INFO: Set parameter MIPGap to value 0.01\n"
     ]
    },
    {
     "name": "stdout",
     "output_type": "stream",
     "text": [
      "Set parameter MIPGap to value 0.01\n"
     ]
    },
    {
     "name": "stderr",
     "output_type": "stream",
     "text": [
      "2022-09-26 14:11:35,533 - /Users/durian/Nutstore Files/Research/ID-SLP/public_code/approach/base_slp.py[line:108] - INFO: Set parameter MIPGap to value 0.01\n"
     ]
    },
    {
     "name": "stdout",
     "output_type": "stream",
     "text": [
      "Set parameter MIPGap to value 0.01\n"
     ]
    },
    {
     "name": "stderr",
     "output_type": "stream",
     "text": [
      "2022-09-26 14:11:35,563 - /Users/durian/Nutstore Files/Research/ID-SLP/public_code/approach/base_slp.py[line:108] - INFO: Set parameter MIPGap to value 0.01\n"
     ]
    },
    {
     "name": "stdout",
     "output_type": "stream",
     "text": [
      "Set parameter MIPGap to value 0.01\n"
     ]
    },
    {
     "name": "stderr",
     "output_type": "stream",
     "text": [
      "2022-09-26 14:11:35,593 - /Users/durian/Nutstore Files/Research/ID-SLP/public_code/approach/base_slp.py[line:108] - INFO: Set parameter MIPGap to value 0.01\n"
     ]
    },
    {
     "name": "stdout",
     "output_type": "stream",
     "text": [
      "Set parameter MIPGap to value 0.01\n"
     ]
    },
    {
     "name": "stderr",
     "output_type": "stream",
     "text": [
      "2022-09-26 14:11:35,623 - /Users/durian/Nutstore Files/Research/ID-SLP/public_code/approach/base_slp.py[line:108] - INFO: Set parameter MIPGap to value 0.01\n"
     ]
    },
    {
     "name": "stdout",
     "output_type": "stream",
     "text": [
      "This graph can be decomposed\n",
      "Set parameter MIPGap to value 0.01\n"
     ]
    },
    {
     "name": "stderr",
     "output_type": "stream",
     "text": [
      "2022-09-26 14:11:35,674 - /Users/durian/Nutstore Files/Research/ID-SLP/public_code/approach/base_slp.py[line:108] - INFO: Set parameter MIPGap to value 0.01\n"
     ]
    },
    {
     "name": "stdout",
     "output_type": "stream",
     "text": [
      "Set parameter MIPGap to value 0.01\n"
     ]
    },
    {
     "name": "stderr",
     "output_type": "stream",
     "text": [
      "2022-09-26 14:11:35,702 - /Users/durian/Nutstore Files/Research/ID-SLP/public_code/approach/base_slp.py[line:108] - INFO: Set parameter MIPGap to value 0.01\n"
     ]
    },
    {
     "name": "stdout",
     "output_type": "stream",
     "text": [
      "Set parameter MIPGap to value 0.01\n"
     ]
    },
    {
     "name": "stderr",
     "output_type": "stream",
     "text": [
      "2022-09-26 14:11:35,730 - /Users/durian/Nutstore Files/Research/ID-SLP/public_code/approach/base_slp.py[line:108] - INFO: Set parameter MIPGap to value 0.01\n"
     ]
    },
    {
     "name": "stdout",
     "output_type": "stream",
     "text": [
      "Set parameter MIPGap to value 0.01\n"
     ]
    },
    {
     "name": "stderr",
     "output_type": "stream",
     "text": [
      "2022-09-26 14:11:35,759 - /Users/durian/Nutstore Files/Research/ID-SLP/public_code/approach/base_slp.py[line:108] - INFO: Set parameter MIPGap to value 0.01\n"
     ]
    },
    {
     "name": "stdout",
     "output_type": "stream",
     "text": [
      "Set parameter MIPGap to value 0.01\n"
     ]
    },
    {
     "name": "stderr",
     "output_type": "stream",
     "text": [
      "2022-09-26 14:11:35,787 - /Users/durian/Nutstore Files/Research/ID-SLP/public_code/approach/base_slp.py[line:108] - INFO: Set parameter MIPGap to value 0.01\n"
     ]
    },
    {
     "name": "stdout",
     "output_type": "stream",
     "text": [
      "Set parameter MIPGap to value 0.01\n"
     ]
    },
    {
     "name": "stderr",
     "output_type": "stream",
     "text": [
      "2022-09-26 14:11:35,815 - /Users/durian/Nutstore Files/Research/ID-SLP/public_code/approach/base_slp.py[line:108] - INFO: Set parameter MIPGap to value 0.01\n"
     ]
    },
    {
     "name": "stdout",
     "output_type": "stream",
     "text": [
      "Set parameter MIPGap to value 0.01\n"
     ]
    },
    {
     "name": "stderr",
     "output_type": "stream",
     "text": [
      "2022-09-26 14:11:35,843 - /Users/durian/Nutstore Files/Research/ID-SLP/public_code/approach/base_slp.py[line:108] - INFO: Set parameter MIPGap to value 0.01\n"
     ]
    },
    {
     "name": "stdout",
     "output_type": "stream",
     "text": [
      "Set parameter MIPGap to value 0.01\n"
     ]
    },
    {
     "name": "stderr",
     "output_type": "stream",
     "text": [
      "2022-09-26 14:11:35,871 - /Users/durian/Nutstore Files/Research/ID-SLP/public_code/approach/base_slp.py[line:108] - INFO: Set parameter MIPGap to value 0.01\n"
     ]
    },
    {
     "name": "stdout",
     "output_type": "stream",
     "text": [
      "Set parameter MIPGap to value 0.01\n"
     ]
    },
    {
     "name": "stderr",
     "output_type": "stream",
     "text": [
      "2022-09-26 14:11:35,899 - /Users/durian/Nutstore Files/Research/ID-SLP/public_code/approach/base_slp.py[line:108] - INFO: Set parameter MIPGap to value 0.01\n"
     ]
    },
    {
     "name": "stdout",
     "output_type": "stream",
     "text": [
      "Set parameter MIPGap to value 0.01\n"
     ]
    },
    {
     "name": "stderr",
     "output_type": "stream",
     "text": [
      "2022-09-26 14:11:35,927 - /Users/durian/Nutstore Files/Research/ID-SLP/public_code/approach/base_slp.py[line:108] - INFO: Set parameter MIPGap to value 0.01\n"
     ]
    },
    {
     "name": "stdout",
     "output_type": "stream",
     "text": [
      "Set parameter MIPGap to value 0.01\n"
     ]
    },
    {
     "name": "stderr",
     "output_type": "stream",
     "text": [
      "2022-09-26 14:11:35,954 - /Users/durian/Nutstore Files/Research/ID-SLP/public_code/approach/base_slp.py[line:108] - INFO: Set parameter MIPGap to value 0.01\n"
     ]
    },
    {
     "name": "stdout",
     "output_type": "stream",
     "text": [
      "Set parameter MIPGap to value 0.01\n"
     ]
    },
    {
     "name": "stderr",
     "output_type": "stream",
     "text": [
      "2022-09-26 14:11:35,983 - /Users/durian/Nutstore Files/Research/ID-SLP/public_code/approach/base_slp.py[line:108] - INFO: Set parameter MIPGap to value 0.01\n"
     ]
    },
    {
     "name": "stdout",
     "output_type": "stream",
     "text": [
      "Set parameter MIPGap to value 0.01\n"
     ]
    },
    {
     "name": "stderr",
     "output_type": "stream",
     "text": [
      "2022-09-26 14:11:36,011 - /Users/durian/Nutstore Files/Research/ID-SLP/public_code/approach/base_slp.py[line:108] - INFO: Set parameter MIPGap to value 0.01\n"
     ]
    },
    {
     "name": "stdout",
     "output_type": "stream",
     "text": [
      "Set parameter MIPGap to value 0.01\n"
     ]
    },
    {
     "name": "stderr",
     "output_type": "stream",
     "text": [
      "2022-09-26 14:11:36,039 - /Users/durian/Nutstore Files/Research/ID-SLP/public_code/approach/base_slp.py[line:108] - INFO: Set parameter MIPGap to value 0.01\n"
     ]
    },
    {
     "name": "stdout",
     "output_type": "stream",
     "text": [
      "Set parameter MIPGap to value 0.01\n"
     ]
    },
    {
     "name": "stderr",
     "output_type": "stream",
     "text": [
      "2022-09-26 14:11:36,070 - /Users/durian/Nutstore Files/Research/ID-SLP/public_code/approach/base_slp.py[line:108] - INFO: Set parameter MIPGap to value 0.01\n"
     ]
    },
    {
     "name": "stdout",
     "output_type": "stream",
     "text": [
      "Set parameter MIPGap to value 0.01\n"
     ]
    },
    {
     "name": "stderr",
     "output_type": "stream",
     "text": [
      "2022-09-26 14:11:36,108 - /Users/durian/Nutstore Files/Research/ID-SLP/public_code/approach/base_slp.py[line:108] - INFO: Set parameter MIPGap to value 0.01\n"
     ]
    },
    {
     "name": "stdout",
     "output_type": "stream",
     "text": [
      "Set parameter MIPGap to value 0.01\n"
     ]
    },
    {
     "name": "stderr",
     "output_type": "stream",
     "text": [
      "2022-09-26 14:11:36,140 - /Users/durian/Nutstore Files/Research/ID-SLP/public_code/approach/base_slp.py[line:108] - INFO: Set parameter MIPGap to value 0.01\n"
     ]
    },
    {
     "name": "stdout",
     "output_type": "stream",
     "text": [
      "Set parameter MIPGap to value 0.01\n"
     ]
    },
    {
     "name": "stderr",
     "output_type": "stream",
     "text": [
      "2022-09-26 14:11:36,169 - /Users/durian/Nutstore Files/Research/ID-SLP/public_code/approach/base_slp.py[line:108] - INFO: Set parameter MIPGap to value 0.01\n"
     ]
    },
    {
     "name": "stdout",
     "output_type": "stream",
     "text": [
      "Set parameter MIPGap to value 0.01\n"
     ]
    },
    {
     "name": "stderr",
     "output_type": "stream",
     "text": [
      "2022-09-26 14:11:36,198 - /Users/durian/Nutstore Files/Research/ID-SLP/public_code/approach/base_slp.py[line:108] - INFO: Set parameter MIPGap to value 0.01\n"
     ]
    },
    {
     "name": "stdout",
     "output_type": "stream",
     "text": [
      "Set parameter MIPGap to value 0.01\n"
     ]
    },
    {
     "name": "stderr",
     "output_type": "stream",
     "text": [
      "2022-09-26 14:11:36,226 - /Users/durian/Nutstore Files/Research/ID-SLP/public_code/approach/base_slp.py[line:108] - INFO: Set parameter MIPGap to value 0.01\n"
     ]
    },
    {
     "name": "stdout",
     "output_type": "stream",
     "text": [
      "Set parameter MIPGap to value 0.01\n"
     ]
    },
    {
     "name": "stderr",
     "output_type": "stream",
     "text": [
      "2022-09-26 14:11:36,254 - /Users/durian/Nutstore Files/Research/ID-SLP/public_code/approach/base_slp.py[line:108] - INFO: Set parameter MIPGap to value 0.01\n"
     ]
    },
    {
     "name": "stdout",
     "output_type": "stream",
     "text": [
      "Set parameter MIPGap to value 0.01\n"
     ]
    },
    {
     "name": "stderr",
     "output_type": "stream",
     "text": [
      "2022-09-26 14:11:36,283 - /Users/durian/Nutstore Files/Research/ID-SLP/public_code/approach/base_slp.py[line:108] - INFO: Set parameter MIPGap to value 0.01\n"
     ]
    },
    {
     "name": "stdout",
     "output_type": "stream",
     "text": [
      "Set parameter MIPGap to value 0.01\n"
     ]
    },
    {
     "name": "stderr",
     "output_type": "stream",
     "text": [
      "2022-09-26 14:11:36,311 - /Users/durian/Nutstore Files/Research/ID-SLP/public_code/approach/base_slp.py[line:108] - INFO: Set parameter MIPGap to value 0.01\n"
     ]
    },
    {
     "name": "stdout",
     "output_type": "stream",
     "text": [
      "Set parameter MIPGap to value 0.01\n"
     ]
    },
    {
     "name": "stderr",
     "output_type": "stream",
     "text": [
      "2022-09-26 14:11:36,340 - /Users/durian/Nutstore Files/Research/ID-SLP/public_code/approach/base_slp.py[line:108] - INFO: Set parameter MIPGap to value 0.01\n"
     ]
    },
    {
     "name": "stdout",
     "output_type": "stream",
     "text": [
      "Set parameter MIPGap to value 0.01\n"
     ]
    },
    {
     "name": "stderr",
     "output_type": "stream",
     "text": [
      "2022-09-26 14:11:36,368 - /Users/durian/Nutstore Files/Research/ID-SLP/public_code/approach/base_slp.py[line:108] - INFO: Set parameter MIPGap to value 0.01\n"
     ]
    },
    {
     "name": "stdout",
     "output_type": "stream",
     "text": [
      "Set parameter MIPGap to value 0.01\n"
     ]
    },
    {
     "name": "stderr",
     "output_type": "stream",
     "text": [
      "2022-09-26 14:11:36,396 - /Users/durian/Nutstore Files/Research/ID-SLP/public_code/approach/base_slp.py[line:108] - INFO: Set parameter MIPGap to value 0.01\n"
     ]
    },
    {
     "name": "stdout",
     "output_type": "stream",
     "text": [
      "Set parameter MIPGap to value 0.01\n"
     ]
    },
    {
     "name": "stderr",
     "output_type": "stream",
     "text": [
      "2022-09-26 14:11:36,425 - /Users/durian/Nutstore Files/Research/ID-SLP/public_code/approach/base_slp.py[line:108] - INFO: Set parameter MIPGap to value 0.01\n"
     ]
    },
    {
     "name": "stdout",
     "output_type": "stream",
     "text": [
      "Set parameter MIPGap to value 0.01\n"
     ]
    },
    {
     "name": "stderr",
     "output_type": "stream",
     "text": [
      "2022-09-26 14:11:36,454 - /Users/durian/Nutstore Files/Research/ID-SLP/public_code/approach/base_slp.py[line:108] - INFO: Set parameter MIPGap to value 0.01\n"
     ]
    },
    {
     "name": "stdout",
     "output_type": "stream",
     "text": [
      "Set parameter MIPGap to value 0.01\n"
     ]
    },
    {
     "name": "stderr",
     "output_type": "stream",
     "text": [
      "2022-09-26 14:11:36,483 - /Users/durian/Nutstore Files/Research/ID-SLP/public_code/approach/base_slp.py[line:108] - INFO: Set parameter MIPGap to value 0.01\n"
     ]
    },
    {
     "name": "stdout",
     "output_type": "stream",
     "text": [
      "Set parameter MIPGap to value 0.01\n"
     ]
    },
    {
     "name": "stderr",
     "output_type": "stream",
     "text": [
      "2022-09-26 14:11:36,512 - /Users/durian/Nutstore Files/Research/ID-SLP/public_code/approach/base_slp.py[line:108] - INFO: Set parameter MIPGap to value 0.01\n"
     ]
    },
    {
     "name": "stdout",
     "output_type": "stream",
     "text": [
      "Set parameter MIPGap to value 0.01\n"
     ]
    },
    {
     "name": "stderr",
     "output_type": "stream",
     "text": [
      "2022-09-26 14:11:36,541 - /Users/durian/Nutstore Files/Research/ID-SLP/public_code/approach/base_slp.py[line:108] - INFO: Set parameter MIPGap to value 0.01\n"
     ]
    },
    {
     "name": "stdout",
     "output_type": "stream",
     "text": [
      "Set parameter MIPGap to value 0.01\n"
     ]
    },
    {
     "name": "stderr",
     "output_type": "stream",
     "text": [
      "2022-09-26 14:11:36,571 - /Users/durian/Nutstore Files/Research/ID-SLP/public_code/approach/base_slp.py[line:108] - INFO: Set parameter MIPGap to value 0.01\n"
     ]
    },
    {
     "name": "stdout",
     "output_type": "stream",
     "text": [
      "Set parameter MIPGap to value 0.01\n"
     ]
    },
    {
     "name": "stderr",
     "output_type": "stream",
     "text": [
      "2022-09-26 14:11:36,602 - /Users/durian/Nutstore Files/Research/ID-SLP/public_code/approach/base_slp.py[line:108] - INFO: Set parameter MIPGap to value 0.01\n"
     ]
    },
    {
     "name": "stdout",
     "output_type": "stream",
     "text": [
      "This graph can be decomposed\n",
      "Set parameter MIPGap to value 0.01\n"
     ]
    },
    {
     "name": "stderr",
     "output_type": "stream",
     "text": [
      "2022-09-26 14:11:36,652 - /Users/durian/Nutstore Files/Research/ID-SLP/public_code/approach/base_slp.py[line:108] - INFO: Set parameter MIPGap to value 0.01\n"
     ]
    },
    {
     "name": "stdout",
     "output_type": "stream",
     "text": [
      "Set parameter MIPGap to value 0.01\n"
     ]
    },
    {
     "name": "stderr",
     "output_type": "stream",
     "text": [
      "2022-09-26 14:11:36,681 - /Users/durian/Nutstore Files/Research/ID-SLP/public_code/approach/base_slp.py[line:108] - INFO: Set parameter MIPGap to value 0.01\n"
     ]
    },
    {
     "name": "stdout",
     "output_type": "stream",
     "text": [
      "Set parameter MIPGap to value 0.01\n"
     ]
    },
    {
     "name": "stderr",
     "output_type": "stream",
     "text": [
      "2022-09-26 14:11:36,717 - /Users/durian/Nutstore Files/Research/ID-SLP/public_code/approach/base_slp.py[line:108] - INFO: Set parameter MIPGap to value 0.01\n"
     ]
    },
    {
     "name": "stdout",
     "output_type": "stream",
     "text": [
      "Set parameter MIPGap to value 0.01\n"
     ]
    },
    {
     "name": "stderr",
     "output_type": "stream",
     "text": [
      "2022-09-26 14:11:36,766 - /Users/durian/Nutstore Files/Research/ID-SLP/public_code/approach/base_slp.py[line:108] - INFO: Set parameter MIPGap to value 0.01\n"
     ]
    },
    {
     "name": "stdout",
     "output_type": "stream",
     "text": [
      "Set parameter MIPGap to value 0.01\n"
     ]
    },
    {
     "name": "stderr",
     "output_type": "stream",
     "text": [
      "2022-09-26 14:11:36,806 - /Users/durian/Nutstore Files/Research/ID-SLP/public_code/approach/base_slp.py[line:108] - INFO: Set parameter MIPGap to value 0.01\n"
     ]
    },
    {
     "name": "stdout",
     "output_type": "stream",
     "text": [
      "Set parameter MIPGap to value 0.01\n"
     ]
    },
    {
     "name": "stderr",
     "output_type": "stream",
     "text": [
      "2022-09-26 14:11:36,837 - /Users/durian/Nutstore Files/Research/ID-SLP/public_code/approach/base_slp.py[line:108] - INFO: Set parameter MIPGap to value 0.01\n"
     ]
    },
    {
     "name": "stdout",
     "output_type": "stream",
     "text": [
      "Set parameter MIPGap to value 0.01\n"
     ]
    },
    {
     "name": "stderr",
     "output_type": "stream",
     "text": [
      "2022-09-26 14:11:36,872 - /Users/durian/Nutstore Files/Research/ID-SLP/public_code/approach/base_slp.py[line:108] - INFO: Set parameter MIPGap to value 0.01\n"
     ]
    },
    {
     "name": "stdout",
     "output_type": "stream",
     "text": [
      "Set parameter MIPGap to value 0.01\n"
     ]
    },
    {
     "name": "stderr",
     "output_type": "stream",
     "text": [
      "2022-09-26 14:11:36,927 - /Users/durian/Nutstore Files/Research/ID-SLP/public_code/approach/base_slp.py[line:108] - INFO: Set parameter MIPGap to value 0.01\n"
     ]
    },
    {
     "name": "stdout",
     "output_type": "stream",
     "text": [
      "Set parameter MIPGap to value 0.01\n"
     ]
    },
    {
     "name": "stderr",
     "output_type": "stream",
     "text": [
      "2022-09-26 14:11:36,976 - /Users/durian/Nutstore Files/Research/ID-SLP/public_code/approach/base_slp.py[line:108] - INFO: Set parameter MIPGap to value 0.01\n"
     ]
    },
    {
     "name": "stdout",
     "output_type": "stream",
     "text": [
      "Set parameter MIPGap to value 0.01\n"
     ]
    },
    {
     "name": "stderr",
     "output_type": "stream",
     "text": [
      "2022-09-26 14:11:37,010 - /Users/durian/Nutstore Files/Research/ID-SLP/public_code/approach/base_slp.py[line:108] - INFO: Set parameter MIPGap to value 0.01\n"
     ]
    },
    {
     "name": "stdout",
     "output_type": "stream",
     "text": [
      "Set parameter MIPGap to value 0.01\n"
     ]
    },
    {
     "name": "stderr",
     "output_type": "stream",
     "text": [
      "2022-09-26 14:11:37,038 - /Users/durian/Nutstore Files/Research/ID-SLP/public_code/approach/base_slp.py[line:108] - INFO: Set parameter MIPGap to value 0.01\n"
     ]
    },
    {
     "name": "stdout",
     "output_type": "stream",
     "text": [
      "Set parameter MIPGap to value 0.01\n"
     ]
    },
    {
     "name": "stderr",
     "output_type": "stream",
     "text": [
      "2022-09-26 14:11:37,071 - /Users/durian/Nutstore Files/Research/ID-SLP/public_code/approach/base_slp.py[line:108] - INFO: Set parameter MIPGap to value 0.01\n"
     ]
    },
    {
     "name": "stdout",
     "output_type": "stream",
     "text": [
      "Set parameter MIPGap to value 0.01\n"
     ]
    },
    {
     "name": "stderr",
     "output_type": "stream",
     "text": [
      "2022-09-26 14:11:37,105 - /Users/durian/Nutstore Files/Research/ID-SLP/public_code/approach/base_slp.py[line:108] - INFO: Set parameter MIPGap to value 0.01\n"
     ]
    },
    {
     "name": "stdout",
     "output_type": "stream",
     "text": [
      "Set parameter MIPGap to value 0.01\n"
     ]
    },
    {
     "name": "stderr",
     "output_type": "stream",
     "text": [
      "2022-09-26 14:11:37,136 - /Users/durian/Nutstore Files/Research/ID-SLP/public_code/approach/base_slp.py[line:108] - INFO: Set parameter MIPGap to value 0.01\n"
     ]
    },
    {
     "name": "stdout",
     "output_type": "stream",
     "text": [
      "Set parameter MIPGap to value 0.01\n"
     ]
    },
    {
     "name": "stderr",
     "output_type": "stream",
     "text": [
      "2022-09-26 14:11:37,190 - /Users/durian/Nutstore Files/Research/ID-SLP/public_code/approach/base_slp.py[line:108] - INFO: Set parameter MIPGap to value 0.01\n"
     ]
    },
    {
     "name": "stdout",
     "output_type": "stream",
     "text": [
      "Set parameter MIPGap to value 0.01\n"
     ]
    },
    {
     "name": "stderr",
     "output_type": "stream",
     "text": [
      "2022-09-26 14:11:37,261 - /Users/durian/Nutstore Files/Research/ID-SLP/public_code/approach/base_slp.py[line:108] - INFO: Set parameter MIPGap to value 0.01\n"
     ]
    },
    {
     "name": "stdout",
     "output_type": "stream",
     "text": [
      "Set parameter MIPGap to value 0.01\n"
     ]
    },
    {
     "name": "stderr",
     "output_type": "stream",
     "text": [
      "2022-09-26 14:11:37,303 - /Users/durian/Nutstore Files/Research/ID-SLP/public_code/approach/base_slp.py[line:108] - INFO: Set parameter MIPGap to value 0.01\n"
     ]
    },
    {
     "name": "stdout",
     "output_type": "stream",
     "text": [
      "Set parameter MIPGap to value 0.01\n"
     ]
    },
    {
     "name": "stderr",
     "output_type": "stream",
     "text": [
      "2022-09-26 14:11:37,333 - /Users/durian/Nutstore Files/Research/ID-SLP/public_code/approach/base_slp.py[line:108] - INFO: Set parameter MIPGap to value 0.01\n"
     ]
    },
    {
     "name": "stdout",
     "output_type": "stream",
     "text": [
      "Set parameter MIPGap to value 0.01\n"
     ]
    },
    {
     "name": "stderr",
     "output_type": "stream",
     "text": [
      "2022-09-26 14:11:37,365 - /Users/durian/Nutstore Files/Research/ID-SLP/public_code/approach/base_slp.py[line:108] - INFO: Set parameter MIPGap to value 0.01\n"
     ]
    },
    {
     "name": "stdout",
     "output_type": "stream",
     "text": [
      "Set parameter MIPGap to value 0.01\n"
     ]
    },
    {
     "name": "stderr",
     "output_type": "stream",
     "text": [
      "2022-09-26 14:11:37,394 - /Users/durian/Nutstore Files/Research/ID-SLP/public_code/approach/base_slp.py[line:108] - INFO: Set parameter MIPGap to value 0.01\n"
     ]
    },
    {
     "name": "stdout",
     "output_type": "stream",
     "text": [
      "Set parameter MIPGap to value 0.01\n"
     ]
    },
    {
     "name": "stderr",
     "output_type": "stream",
     "text": [
      "2022-09-26 14:11:37,423 - /Users/durian/Nutstore Files/Research/ID-SLP/public_code/approach/base_slp.py[line:108] - INFO: Set parameter MIPGap to value 0.01\n"
     ]
    },
    {
     "name": "stdout",
     "output_type": "stream",
     "text": [
      "Set parameter MIPGap to value 0.01\n"
     ]
    },
    {
     "name": "stderr",
     "output_type": "stream",
     "text": [
      "2022-09-26 14:11:37,452 - /Users/durian/Nutstore Files/Research/ID-SLP/public_code/approach/base_slp.py[line:108] - INFO: Set parameter MIPGap to value 0.01\n"
     ]
    },
    {
     "name": "stdout",
     "output_type": "stream",
     "text": [
      "Set parameter MIPGap to value 0.01\n"
     ]
    },
    {
     "name": "stderr",
     "output_type": "stream",
     "text": [
      "2022-09-26 14:11:37,481 - /Users/durian/Nutstore Files/Research/ID-SLP/public_code/approach/base_slp.py[line:108] - INFO: Set parameter MIPGap to value 0.01\n"
     ]
    },
    {
     "name": "stdout",
     "output_type": "stream",
     "text": [
      "Set parameter MIPGap to value 0.01\n"
     ]
    },
    {
     "name": "stderr",
     "output_type": "stream",
     "text": [
      "2022-09-26 14:11:37,509 - /Users/durian/Nutstore Files/Research/ID-SLP/public_code/approach/base_slp.py[line:108] - INFO: Set parameter MIPGap to value 0.01\n"
     ]
    },
    {
     "name": "stdout",
     "output_type": "stream",
     "text": [
      "Set parameter MIPGap to value 0.01\n"
     ]
    },
    {
     "name": "stderr",
     "output_type": "stream",
     "text": [
      "2022-09-26 14:11:37,537 - /Users/durian/Nutstore Files/Research/ID-SLP/public_code/approach/base_slp.py[line:108] - INFO: Set parameter MIPGap to value 0.01\n"
     ]
    },
    {
     "name": "stdout",
     "output_type": "stream",
     "text": [
      "Set parameter MIPGap to value 0.01\n"
     ]
    },
    {
     "name": "stderr",
     "output_type": "stream",
     "text": [
      "2022-09-26 14:11:37,565 - /Users/durian/Nutstore Files/Research/ID-SLP/public_code/approach/base_slp.py[line:108] - INFO: Set parameter MIPGap to value 0.01\n"
     ]
    },
    {
     "name": "stdout",
     "output_type": "stream",
     "text": [
      "Set parameter MIPGap to value 0.01\n"
     ]
    },
    {
     "name": "stderr",
     "output_type": "stream",
     "text": [
      "2022-09-26 14:11:37,595 - /Users/durian/Nutstore Files/Research/ID-SLP/public_code/approach/base_slp.py[line:108] - INFO: Set parameter MIPGap to value 0.01\n"
     ]
    },
    {
     "name": "stdout",
     "output_type": "stream",
     "text": [
      "Set parameter MIPGap to value 0.01\n"
     ]
    },
    {
     "name": "stderr",
     "output_type": "stream",
     "text": [
      "2022-09-26 14:11:37,632 - /Users/durian/Nutstore Files/Research/ID-SLP/public_code/approach/base_slp.py[line:108] - INFO: Set parameter MIPGap to value 0.01\n"
     ]
    },
    {
     "name": "stdout",
     "output_type": "stream",
     "text": [
      "Set parameter MIPGap to value 0.01\n"
     ]
    },
    {
     "name": "stderr",
     "output_type": "stream",
     "text": [
      "2022-09-26 14:11:37,662 - /Users/durian/Nutstore Files/Research/ID-SLP/public_code/approach/base_slp.py[line:108] - INFO: Set parameter MIPGap to value 0.01\n"
     ]
    },
    {
     "name": "stdout",
     "output_type": "stream",
     "text": [
      "Set parameter MIPGap to value 0.01\n"
     ]
    },
    {
     "name": "stderr",
     "output_type": "stream",
     "text": [
      "2022-09-26 14:11:37,693 - /Users/durian/Nutstore Files/Research/ID-SLP/public_code/approach/base_slp.py[line:108] - INFO: Set parameter MIPGap to value 0.01\n"
     ]
    },
    {
     "name": "stdout",
     "output_type": "stream",
     "text": [
      "Set parameter MIPGap to value 0.01\n"
     ]
    },
    {
     "name": "stderr",
     "output_type": "stream",
     "text": [
      "2022-09-26 14:11:37,724 - /Users/durian/Nutstore Files/Research/ID-SLP/public_code/approach/base_slp.py[line:108] - INFO: Set parameter MIPGap to value 0.01\n"
     ]
    },
    {
     "name": "stdout",
     "output_type": "stream",
     "text": [
      "This graph can be decomposed\n",
      "Set parameter MIPGap to value 0.01\n"
     ]
    },
    {
     "name": "stderr",
     "output_type": "stream",
     "text": [
      "2022-09-26 14:11:37,775 - /Users/durian/Nutstore Files/Research/ID-SLP/public_code/approach/base_slp.py[line:108] - INFO: Set parameter MIPGap to value 0.01\n"
     ]
    },
    {
     "name": "stdout",
     "output_type": "stream",
     "text": [
      "Set parameter MIPGap to value 0.01\n"
     ]
    },
    {
     "name": "stderr",
     "output_type": "stream",
     "text": [
      "2022-09-26 14:11:37,805 - /Users/durian/Nutstore Files/Research/ID-SLP/public_code/approach/base_slp.py[line:108] - INFO: Set parameter MIPGap to value 0.01\n"
     ]
    },
    {
     "name": "stdout",
     "output_type": "stream",
     "text": [
      "Set parameter MIPGap to value 0.01\n"
     ]
    },
    {
     "name": "stderr",
     "output_type": "stream",
     "text": [
      "2022-09-26 14:11:37,833 - /Users/durian/Nutstore Files/Research/ID-SLP/public_code/approach/base_slp.py[line:108] - INFO: Set parameter MIPGap to value 0.01\n"
     ]
    },
    {
     "name": "stdout",
     "output_type": "stream",
     "text": [
      "Set parameter MIPGap to value 0.01\n"
     ]
    },
    {
     "name": "stderr",
     "output_type": "stream",
     "text": [
      "2022-09-26 14:11:37,861 - /Users/durian/Nutstore Files/Research/ID-SLP/public_code/approach/base_slp.py[line:108] - INFO: Set parameter MIPGap to value 0.01\n"
     ]
    },
    {
     "name": "stdout",
     "output_type": "stream",
     "text": [
      "Set parameter MIPGap to value 0.01\n"
     ]
    },
    {
     "name": "stderr",
     "output_type": "stream",
     "text": [
      "2022-09-26 14:11:37,889 - /Users/durian/Nutstore Files/Research/ID-SLP/public_code/approach/base_slp.py[line:108] - INFO: Set parameter MIPGap to value 0.01\n"
     ]
    },
    {
     "name": "stdout",
     "output_type": "stream",
     "text": [
      "Set parameter MIPGap to value 0.01\n"
     ]
    },
    {
     "name": "stderr",
     "output_type": "stream",
     "text": [
      "2022-09-26 14:11:37,916 - /Users/durian/Nutstore Files/Research/ID-SLP/public_code/approach/base_slp.py[line:108] - INFO: Set parameter MIPGap to value 0.01\n"
     ]
    },
    {
     "name": "stdout",
     "output_type": "stream",
     "text": [
      "Set parameter MIPGap to value 0.01\n"
     ]
    },
    {
     "name": "stderr",
     "output_type": "stream",
     "text": [
      "2022-09-26 14:11:37,944 - /Users/durian/Nutstore Files/Research/ID-SLP/public_code/approach/base_slp.py[line:108] - INFO: Set parameter MIPGap to value 0.01\n"
     ]
    },
    {
     "name": "stdout",
     "output_type": "stream",
     "text": [
      "Set parameter MIPGap to value 0.01\n"
     ]
    },
    {
     "name": "stderr",
     "output_type": "stream",
     "text": [
      "2022-09-26 14:11:37,973 - /Users/durian/Nutstore Files/Research/ID-SLP/public_code/approach/base_slp.py[line:108] - INFO: Set parameter MIPGap to value 0.01\n"
     ]
    },
    {
     "name": "stdout",
     "output_type": "stream",
     "text": [
      "Set parameter MIPGap to value 0.01\n"
     ]
    },
    {
     "name": "stderr",
     "output_type": "stream",
     "text": [
      "2022-09-26 14:11:38,003 - /Users/durian/Nutstore Files/Research/ID-SLP/public_code/approach/base_slp.py[line:108] - INFO: Set parameter MIPGap to value 0.01\n"
     ]
    },
    {
     "name": "stdout",
     "output_type": "stream",
     "text": [
      "Set parameter MIPGap to value 0.01\n"
     ]
    },
    {
     "name": "stderr",
     "output_type": "stream",
     "text": [
      "2022-09-26 14:11:38,034 - /Users/durian/Nutstore Files/Research/ID-SLP/public_code/approach/base_slp.py[line:108] - INFO: Set parameter MIPGap to value 0.01\n"
     ]
    },
    {
     "name": "stdout",
     "output_type": "stream",
     "text": [
      "Set parameter MIPGap to value 0.01\n"
     ]
    },
    {
     "name": "stderr",
     "output_type": "stream",
     "text": [
      "2022-09-26 14:11:38,061 - /Users/durian/Nutstore Files/Research/ID-SLP/public_code/approach/base_slp.py[line:108] - INFO: Set parameter MIPGap to value 0.01\n"
     ]
    },
    {
     "name": "stdout",
     "output_type": "stream",
     "text": [
      "Set parameter MIPGap to value 0.01\n"
     ]
    },
    {
     "name": "stderr",
     "output_type": "stream",
     "text": [
      "2022-09-26 14:11:38,089 - /Users/durian/Nutstore Files/Research/ID-SLP/public_code/approach/base_slp.py[line:108] - INFO: Set parameter MIPGap to value 0.01\n"
     ]
    },
    {
     "name": "stdout",
     "output_type": "stream",
     "text": [
      "Set parameter MIPGap to value 0.01\n"
     ]
    },
    {
     "name": "stderr",
     "output_type": "stream",
     "text": [
      "2022-09-26 14:11:38,116 - /Users/durian/Nutstore Files/Research/ID-SLP/public_code/approach/base_slp.py[line:108] - INFO: Set parameter MIPGap to value 0.01\n"
     ]
    },
    {
     "name": "stdout",
     "output_type": "stream",
     "text": [
      "Set parameter MIPGap to value 0.01\n"
     ]
    },
    {
     "name": "stderr",
     "output_type": "stream",
     "text": [
      "2022-09-26 14:11:38,150 - /Users/durian/Nutstore Files/Research/ID-SLP/public_code/approach/base_slp.py[line:108] - INFO: Set parameter MIPGap to value 0.01\n"
     ]
    },
    {
     "name": "stdout",
     "output_type": "stream",
     "text": [
      "Set parameter MIPGap to value 0.01\n"
     ]
    },
    {
     "name": "stderr",
     "output_type": "stream",
     "text": [
      "2022-09-26 14:11:38,192 - /Users/durian/Nutstore Files/Research/ID-SLP/public_code/approach/base_slp.py[line:108] - INFO: Set parameter MIPGap to value 0.01\n"
     ]
    },
    {
     "name": "stdout",
     "output_type": "stream",
     "text": [
      "Set parameter MIPGap to value 0.01\n"
     ]
    },
    {
     "name": "stderr",
     "output_type": "stream",
     "text": [
      "2022-09-26 14:11:38,229 - /Users/durian/Nutstore Files/Research/ID-SLP/public_code/approach/base_slp.py[line:108] - INFO: Set parameter MIPGap to value 0.01\n"
     ]
    },
    {
     "name": "stdout",
     "output_type": "stream",
     "text": [
      "Set parameter MIPGap to value 0.01\n"
     ]
    },
    {
     "name": "stderr",
     "output_type": "stream",
     "text": [
      "2022-09-26 14:11:38,256 - /Users/durian/Nutstore Files/Research/ID-SLP/public_code/approach/base_slp.py[line:108] - INFO: Set parameter MIPGap to value 0.01\n"
     ]
    },
    {
     "name": "stdout",
     "output_type": "stream",
     "text": [
      "Set parameter MIPGap to value 0.01\n"
     ]
    },
    {
     "name": "stderr",
     "output_type": "stream",
     "text": [
      "2022-09-26 14:11:38,284 - /Users/durian/Nutstore Files/Research/ID-SLP/public_code/approach/base_slp.py[line:108] - INFO: Set parameter MIPGap to value 0.01\n"
     ]
    },
    {
     "name": "stdout",
     "output_type": "stream",
     "text": [
      "Set parameter MIPGap to value 0.01\n"
     ]
    },
    {
     "name": "stderr",
     "output_type": "stream",
     "text": [
      "2022-09-26 14:11:38,314 - /Users/durian/Nutstore Files/Research/ID-SLP/public_code/approach/base_slp.py[line:108] - INFO: Set parameter MIPGap to value 0.01\n"
     ]
    },
    {
     "name": "stdout",
     "output_type": "stream",
     "text": [
      "Set parameter MIPGap to value 0.01\n"
     ]
    },
    {
     "name": "stderr",
     "output_type": "stream",
     "text": [
      "2022-09-26 14:11:38,341 - /Users/durian/Nutstore Files/Research/ID-SLP/public_code/approach/base_slp.py[line:108] - INFO: Set parameter MIPGap to value 0.01\n"
     ]
    },
    {
     "name": "stdout",
     "output_type": "stream",
     "text": [
      "Set parameter MIPGap to value 0.01\n"
     ]
    },
    {
     "name": "stderr",
     "output_type": "stream",
     "text": [
      "2022-09-26 14:11:38,368 - /Users/durian/Nutstore Files/Research/ID-SLP/public_code/approach/base_slp.py[line:108] - INFO: Set parameter MIPGap to value 0.01\n"
     ]
    },
    {
     "name": "stdout",
     "output_type": "stream",
     "text": [
      "Set parameter MIPGap to value 0.01\n"
     ]
    },
    {
     "name": "stderr",
     "output_type": "stream",
     "text": [
      "2022-09-26 14:11:38,395 - /Users/durian/Nutstore Files/Research/ID-SLP/public_code/approach/base_slp.py[line:108] - INFO: Set parameter MIPGap to value 0.01\n"
     ]
    },
    {
     "name": "stdout",
     "output_type": "stream",
     "text": [
      "Set parameter MIPGap to value 0.01\n"
     ]
    },
    {
     "name": "stderr",
     "output_type": "stream",
     "text": [
      "2022-09-26 14:11:38,424 - /Users/durian/Nutstore Files/Research/ID-SLP/public_code/approach/base_slp.py[line:108] - INFO: Set parameter MIPGap to value 0.01\n"
     ]
    },
    {
     "name": "stdout",
     "output_type": "stream",
     "text": [
      "Set parameter MIPGap to value 0.01\n"
     ]
    },
    {
     "name": "stderr",
     "output_type": "stream",
     "text": [
      "2022-09-26 14:11:38,452 - /Users/durian/Nutstore Files/Research/ID-SLP/public_code/approach/base_slp.py[line:108] - INFO: Set parameter MIPGap to value 0.01\n"
     ]
    },
    {
     "name": "stdout",
     "output_type": "stream",
     "text": [
      "Set parameter MIPGap to value 0.01\n"
     ]
    },
    {
     "name": "stderr",
     "output_type": "stream",
     "text": [
      "2022-09-26 14:11:38,481 - /Users/durian/Nutstore Files/Research/ID-SLP/public_code/approach/base_slp.py[line:108] - INFO: Set parameter MIPGap to value 0.01\n"
     ]
    },
    {
     "name": "stdout",
     "output_type": "stream",
     "text": [
      "Set parameter MIPGap to value 0.01\n"
     ]
    },
    {
     "name": "stderr",
     "output_type": "stream",
     "text": [
      "2022-09-26 14:11:38,508 - /Users/durian/Nutstore Files/Research/ID-SLP/public_code/approach/base_slp.py[line:108] - INFO: Set parameter MIPGap to value 0.01\n"
     ]
    },
    {
     "name": "stdout",
     "output_type": "stream",
     "text": [
      "Set parameter MIPGap to value 0.01\n"
     ]
    },
    {
     "name": "stderr",
     "output_type": "stream",
     "text": [
      "2022-09-26 14:11:38,534 - /Users/durian/Nutstore Files/Research/ID-SLP/public_code/approach/base_slp.py[line:108] - INFO: Set parameter MIPGap to value 0.01\n"
     ]
    },
    {
     "name": "stdout",
     "output_type": "stream",
     "text": [
      "Set parameter MIPGap to value 0.01\n"
     ]
    },
    {
     "name": "stderr",
     "output_type": "stream",
     "text": [
      "2022-09-26 14:11:38,562 - /Users/durian/Nutstore Files/Research/ID-SLP/public_code/approach/base_slp.py[line:108] - INFO: Set parameter MIPGap to value 0.01\n"
     ]
    },
    {
     "name": "stdout",
     "output_type": "stream",
     "text": [
      "Set parameter MIPGap to value 0.01\n"
     ]
    },
    {
     "name": "stderr",
     "output_type": "stream",
     "text": [
      "2022-09-26 14:11:38,590 - /Users/durian/Nutstore Files/Research/ID-SLP/public_code/approach/base_slp.py[line:108] - INFO: Set parameter MIPGap to value 0.01\n"
     ]
    },
    {
     "name": "stdout",
     "output_type": "stream",
     "text": [
      "Set parameter MIPGap to value 0.01\n"
     ]
    },
    {
     "name": "stderr",
     "output_type": "stream",
     "text": [
      "2022-09-26 14:11:38,617 - /Users/durian/Nutstore Files/Research/ID-SLP/public_code/approach/base_slp.py[line:108] - INFO: Set parameter MIPGap to value 0.01\n"
     ]
    },
    {
     "name": "stdout",
     "output_type": "stream",
     "text": [
      "Set parameter MIPGap to value 0.01\n"
     ]
    },
    {
     "name": "stderr",
     "output_type": "stream",
     "text": [
      "2022-09-26 14:11:38,644 - /Users/durian/Nutstore Files/Research/ID-SLP/public_code/approach/base_slp.py[line:108] - INFO: Set parameter MIPGap to value 0.01\n"
     ]
    },
    {
     "name": "stdout",
     "output_type": "stream",
     "text": [
      "Set parameter MIPGap to value 0.01\n"
     ]
    },
    {
     "name": "stderr",
     "output_type": "stream",
     "text": [
      "2022-09-26 14:11:38,671 - /Users/durian/Nutstore Files/Research/ID-SLP/public_code/approach/base_slp.py[line:108] - INFO: Set parameter MIPGap to value 0.01\n"
     ]
    },
    {
     "name": "stdout",
     "output_type": "stream",
     "text": [
      "Set parameter MIPGap to value 0.01\n"
     ]
    },
    {
     "name": "stderr",
     "output_type": "stream",
     "text": [
      "2022-09-26 14:11:38,701 - /Users/durian/Nutstore Files/Research/ID-SLP/public_code/approach/base_slp.py[line:108] - INFO: Set parameter MIPGap to value 0.01\n"
     ]
    },
    {
     "name": "stdout",
     "output_type": "stream",
     "text": [
      "Set parameter MIPGap to value 0.01\n"
     ]
    },
    {
     "name": "stderr",
     "output_type": "stream",
     "text": [
      "2022-09-26 14:11:38,730 - /Users/durian/Nutstore Files/Research/ID-SLP/public_code/approach/base_slp.py[line:108] - INFO: Set parameter MIPGap to value 0.01\n"
     ]
    },
    {
     "name": "stdout",
     "output_type": "stream",
     "text": [
      "This graph can be decomposed\n",
      "Set parameter MIPGap to value 0.01\n"
     ]
    },
    {
     "name": "stderr",
     "output_type": "stream",
     "text": [
      "2022-09-26 14:11:38,775 - /Users/durian/Nutstore Files/Research/ID-SLP/public_code/approach/base_slp.py[line:108] - INFO: Set parameter MIPGap to value 0.01\n"
     ]
    },
    {
     "name": "stdout",
     "output_type": "stream",
     "text": [
      "Set parameter MIPGap to value 0.01\n"
     ]
    },
    {
     "name": "stderr",
     "output_type": "stream",
     "text": [
      "2022-09-26 14:11:38,801 - /Users/durian/Nutstore Files/Research/ID-SLP/public_code/approach/base_slp.py[line:108] - INFO: Set parameter MIPGap to value 0.01\n"
     ]
    },
    {
     "name": "stdout",
     "output_type": "stream",
     "text": [
      "Set parameter MIPGap to value 0.01\n"
     ]
    },
    {
     "name": "stderr",
     "output_type": "stream",
     "text": [
      "2022-09-26 14:11:38,826 - /Users/durian/Nutstore Files/Research/ID-SLP/public_code/approach/base_slp.py[line:108] - INFO: Set parameter MIPGap to value 0.01\n"
     ]
    },
    {
     "name": "stdout",
     "output_type": "stream",
     "text": [
      "Set parameter MIPGap to value 0.01\n"
     ]
    },
    {
     "name": "stderr",
     "output_type": "stream",
     "text": [
      "2022-09-26 14:11:38,852 - /Users/durian/Nutstore Files/Research/ID-SLP/public_code/approach/base_slp.py[line:108] - INFO: Set parameter MIPGap to value 0.01\n"
     ]
    },
    {
     "name": "stdout",
     "output_type": "stream",
     "text": [
      "Set parameter MIPGap to value 0.01\n"
     ]
    },
    {
     "name": "stderr",
     "output_type": "stream",
     "text": [
      "2022-09-26 14:11:38,878 - /Users/durian/Nutstore Files/Research/ID-SLP/public_code/approach/base_slp.py[line:108] - INFO: Set parameter MIPGap to value 0.01\n"
     ]
    },
    {
     "name": "stdout",
     "output_type": "stream",
     "text": [
      "Set parameter MIPGap to value 0.01\n"
     ]
    },
    {
     "name": "stderr",
     "output_type": "stream",
     "text": [
      "2022-09-26 14:11:38,903 - /Users/durian/Nutstore Files/Research/ID-SLP/public_code/approach/base_slp.py[line:108] - INFO: Set parameter MIPGap to value 0.01\n"
     ]
    },
    {
     "name": "stdout",
     "output_type": "stream",
     "text": [
      "Set parameter MIPGap to value 0.01\n"
     ]
    },
    {
     "name": "stderr",
     "output_type": "stream",
     "text": [
      "2022-09-26 14:11:38,929 - /Users/durian/Nutstore Files/Research/ID-SLP/public_code/approach/base_slp.py[line:108] - INFO: Set parameter MIPGap to value 0.01\n"
     ]
    },
    {
     "name": "stdout",
     "output_type": "stream",
     "text": [
      "Set parameter MIPGap to value 0.01\n"
     ]
    },
    {
     "name": "stderr",
     "output_type": "stream",
     "text": [
      "2022-09-26 14:11:38,956 - /Users/durian/Nutstore Files/Research/ID-SLP/public_code/approach/base_slp.py[line:108] - INFO: Set parameter MIPGap to value 0.01\n"
     ]
    },
    {
     "name": "stdout",
     "output_type": "stream",
     "text": [
      "Set parameter MIPGap to value 0.01\n"
     ]
    },
    {
     "name": "stderr",
     "output_type": "stream",
     "text": [
      "2022-09-26 14:11:38,982 - /Users/durian/Nutstore Files/Research/ID-SLP/public_code/approach/base_slp.py[line:108] - INFO: Set parameter MIPGap to value 0.01\n"
     ]
    },
    {
     "name": "stdout",
     "output_type": "stream",
     "text": [
      "Set parameter MIPGap to value 0.01\n"
     ]
    },
    {
     "name": "stderr",
     "output_type": "stream",
     "text": [
      "2022-09-26 14:11:39,009 - /Users/durian/Nutstore Files/Research/ID-SLP/public_code/approach/base_slp.py[line:108] - INFO: Set parameter MIPGap to value 0.01\n"
     ]
    },
    {
     "name": "stdout",
     "output_type": "stream",
     "text": [
      "Set parameter MIPGap to value 0.01\n"
     ]
    },
    {
     "name": "stderr",
     "output_type": "stream",
     "text": [
      "2022-09-26 14:11:39,035 - /Users/durian/Nutstore Files/Research/ID-SLP/public_code/approach/base_slp.py[line:108] - INFO: Set parameter MIPGap to value 0.01\n"
     ]
    },
    {
     "name": "stdout",
     "output_type": "stream",
     "text": [
      "Set parameter MIPGap to value 0.01\n"
     ]
    },
    {
     "name": "stderr",
     "output_type": "stream",
     "text": [
      "2022-09-26 14:11:39,062 - /Users/durian/Nutstore Files/Research/ID-SLP/public_code/approach/base_slp.py[line:108] - INFO: Set parameter MIPGap to value 0.01\n"
     ]
    },
    {
     "name": "stdout",
     "output_type": "stream",
     "text": [
      "Set parameter MIPGap to value 0.01\n"
     ]
    },
    {
     "name": "stderr",
     "output_type": "stream",
     "text": [
      "2022-09-26 14:11:39,088 - /Users/durian/Nutstore Files/Research/ID-SLP/public_code/approach/base_slp.py[line:108] - INFO: Set parameter MIPGap to value 0.01\n"
     ]
    },
    {
     "name": "stdout",
     "output_type": "stream",
     "text": [
      "Set parameter MIPGap to value 0.01\n"
     ]
    },
    {
     "name": "stderr",
     "output_type": "stream",
     "text": [
      "2022-09-26 14:11:39,116 - /Users/durian/Nutstore Files/Research/ID-SLP/public_code/approach/base_slp.py[line:108] - INFO: Set parameter MIPGap to value 0.01\n"
     ]
    },
    {
     "name": "stdout",
     "output_type": "stream",
     "text": [
      "Set parameter MIPGap to value 0.01\n"
     ]
    },
    {
     "name": "stderr",
     "output_type": "stream",
     "text": [
      "2022-09-26 14:11:39,148 - /Users/durian/Nutstore Files/Research/ID-SLP/public_code/approach/base_slp.py[line:108] - INFO: Set parameter MIPGap to value 0.01\n"
     ]
    },
    {
     "name": "stdout",
     "output_type": "stream",
     "text": [
      "Set parameter MIPGap to value 0.01\n"
     ]
    },
    {
     "name": "stderr",
     "output_type": "stream",
     "text": [
      "2022-09-26 14:11:39,185 - /Users/durian/Nutstore Files/Research/ID-SLP/public_code/approach/base_slp.py[line:108] - INFO: Set parameter MIPGap to value 0.01\n"
     ]
    },
    {
     "name": "stdout",
     "output_type": "stream",
     "text": [
      "Set parameter MIPGap to value 0.01\n"
     ]
    },
    {
     "name": "stderr",
     "output_type": "stream",
     "text": [
      "2022-09-26 14:11:39,211 - /Users/durian/Nutstore Files/Research/ID-SLP/public_code/approach/base_slp.py[line:108] - INFO: Set parameter MIPGap to value 0.01\n"
     ]
    },
    {
     "name": "stdout",
     "output_type": "stream",
     "text": [
      "Set parameter MIPGap to value 0.01\n"
     ]
    },
    {
     "name": "stderr",
     "output_type": "stream",
     "text": [
      "2022-09-26 14:11:39,236 - /Users/durian/Nutstore Files/Research/ID-SLP/public_code/approach/base_slp.py[line:108] - INFO: Set parameter MIPGap to value 0.01\n"
     ]
    },
    {
     "name": "stdout",
     "output_type": "stream",
     "text": [
      "Set parameter MIPGap to value 0.01\n"
     ]
    },
    {
     "name": "stderr",
     "output_type": "stream",
     "text": [
      "2022-09-26 14:11:39,261 - /Users/durian/Nutstore Files/Research/ID-SLP/public_code/approach/base_slp.py[line:108] - INFO: Set parameter MIPGap to value 0.01\n"
     ]
    },
    {
     "name": "stdout",
     "output_type": "stream",
     "text": [
      "Set parameter MIPGap to value 0.01\n"
     ]
    },
    {
     "name": "stderr",
     "output_type": "stream",
     "text": [
      "2022-09-26 14:11:39,287 - /Users/durian/Nutstore Files/Research/ID-SLP/public_code/approach/base_slp.py[line:108] - INFO: Set parameter MIPGap to value 0.01\n"
     ]
    },
    {
     "name": "stdout",
     "output_type": "stream",
     "text": [
      "Set parameter MIPGap to value 0.01\n"
     ]
    },
    {
     "name": "stderr",
     "output_type": "stream",
     "text": [
      "2022-09-26 14:11:39,312 - /Users/durian/Nutstore Files/Research/ID-SLP/public_code/approach/base_slp.py[line:108] - INFO: Set parameter MIPGap to value 0.01\n"
     ]
    },
    {
     "name": "stdout",
     "output_type": "stream",
     "text": [
      "Set parameter MIPGap to value 0.01\n"
     ]
    },
    {
     "name": "stderr",
     "output_type": "stream",
     "text": [
      "2022-09-26 14:11:39,337 - /Users/durian/Nutstore Files/Research/ID-SLP/public_code/approach/base_slp.py[line:108] - INFO: Set parameter MIPGap to value 0.01\n"
     ]
    },
    {
     "name": "stdout",
     "output_type": "stream",
     "text": [
      "Set parameter MIPGap to value 0.01\n"
     ]
    },
    {
     "name": "stderr",
     "output_type": "stream",
     "text": [
      "2022-09-26 14:11:39,362 - /Users/durian/Nutstore Files/Research/ID-SLP/public_code/approach/base_slp.py[line:108] - INFO: Set parameter MIPGap to value 0.01\n"
     ]
    },
    {
     "name": "stdout",
     "output_type": "stream",
     "text": [
      "Set parameter MIPGap to value 0.01\n"
     ]
    },
    {
     "name": "stderr",
     "output_type": "stream",
     "text": [
      "2022-09-26 14:11:39,387 - /Users/durian/Nutstore Files/Research/ID-SLP/public_code/approach/base_slp.py[line:108] - INFO: Set parameter MIPGap to value 0.01\n"
     ]
    },
    {
     "name": "stdout",
     "output_type": "stream",
     "text": [
      "Set parameter MIPGap to value 0.01\n"
     ]
    },
    {
     "name": "stderr",
     "output_type": "stream",
     "text": [
      "2022-09-26 14:11:39,413 - /Users/durian/Nutstore Files/Research/ID-SLP/public_code/approach/base_slp.py[line:108] - INFO: Set parameter MIPGap to value 0.01\n"
     ]
    },
    {
     "name": "stdout",
     "output_type": "stream",
     "text": [
      "Set parameter MIPGap to value 0.01\n"
     ]
    },
    {
     "name": "stderr",
     "output_type": "stream",
     "text": [
      "2022-09-26 14:11:39,535 - /Users/durian/Nutstore Files/Research/ID-SLP/public_code/approach/base_slp.py[line:108] - INFO: Set parameter MIPGap to value 0.01\n"
     ]
    },
    {
     "name": "stdout",
     "output_type": "stream",
     "text": [
      "Set parameter MIPGap to value 0.01\n"
     ]
    },
    {
     "name": "stderr",
     "output_type": "stream",
     "text": [
      "2022-09-26 14:11:39,560 - /Users/durian/Nutstore Files/Research/ID-SLP/public_code/approach/base_slp.py[line:108] - INFO: Set parameter MIPGap to value 0.01\n"
     ]
    },
    {
     "name": "stdout",
     "output_type": "stream",
     "text": [
      "Set parameter MIPGap to value 0.01\n"
     ]
    },
    {
     "name": "stderr",
     "output_type": "stream",
     "text": [
      "2022-09-26 14:11:39,585 - /Users/durian/Nutstore Files/Research/ID-SLP/public_code/approach/base_slp.py[line:108] - INFO: Set parameter MIPGap to value 0.01\n"
     ]
    },
    {
     "name": "stdout",
     "output_type": "stream",
     "text": [
      "This graph can be decomposed\n",
      "Set parameter MIPGap to value 0.01\n"
     ]
    },
    {
     "name": "stderr",
     "output_type": "stream",
     "text": [
      "2022-09-26 14:11:39,629 - /Users/durian/Nutstore Files/Research/ID-SLP/public_code/approach/base_slp.py[line:108] - INFO: Set parameter MIPGap to value 0.01\n"
     ]
    },
    {
     "name": "stdout",
     "output_type": "stream",
     "text": [
      "Set parameter MIPGap to value 0.01\n"
     ]
    },
    {
     "name": "stderr",
     "output_type": "stream",
     "text": [
      "2022-09-26 14:11:39,654 - /Users/durian/Nutstore Files/Research/ID-SLP/public_code/approach/base_slp.py[line:108] - INFO: Set parameter MIPGap to value 0.01\n"
     ]
    },
    {
     "name": "stdout",
     "output_type": "stream",
     "text": [
      "Set parameter MIPGap to value 0.01\n"
     ]
    },
    {
     "name": "stderr",
     "output_type": "stream",
     "text": [
      "2022-09-26 14:11:39,680 - /Users/durian/Nutstore Files/Research/ID-SLP/public_code/approach/base_slp.py[line:108] - INFO: Set parameter MIPGap to value 0.01\n"
     ]
    },
    {
     "name": "stdout",
     "output_type": "stream",
     "text": [
      "Set parameter MIPGap to value 0.01\n"
     ]
    },
    {
     "name": "stderr",
     "output_type": "stream",
     "text": [
      "2022-09-26 14:11:39,707 - /Users/durian/Nutstore Files/Research/ID-SLP/public_code/approach/base_slp.py[line:108] - INFO: Set parameter MIPGap to value 0.01\n"
     ]
    },
    {
     "name": "stdout",
     "output_type": "stream",
     "text": [
      "Set parameter MIPGap to value 0.01\n"
     ]
    },
    {
     "name": "stderr",
     "output_type": "stream",
     "text": [
      "2022-09-26 14:11:39,735 - /Users/durian/Nutstore Files/Research/ID-SLP/public_code/approach/base_slp.py[line:108] - INFO: Set parameter MIPGap to value 0.01\n"
     ]
    },
    {
     "name": "stdout",
     "output_type": "stream",
     "text": [
      "Set parameter MIPGap to value 0.01\n"
     ]
    },
    {
     "name": "stderr",
     "output_type": "stream",
     "text": [
      "2022-09-26 14:11:39,763 - /Users/durian/Nutstore Files/Research/ID-SLP/public_code/approach/base_slp.py[line:108] - INFO: Set parameter MIPGap to value 0.01\n"
     ]
    },
    {
     "name": "stdout",
     "output_type": "stream",
     "text": [
      "Set parameter MIPGap to value 0.01\n"
     ]
    },
    {
     "name": "stderr",
     "output_type": "stream",
     "text": [
      "2022-09-26 14:11:39,794 - /Users/durian/Nutstore Files/Research/ID-SLP/public_code/approach/base_slp.py[line:108] - INFO: Set parameter MIPGap to value 0.01\n"
     ]
    },
    {
     "name": "stdout",
     "output_type": "stream",
     "text": [
      "Set parameter MIPGap to value 0.01\n"
     ]
    },
    {
     "name": "stderr",
     "output_type": "stream",
     "text": [
      "2022-09-26 14:11:39,830 - /Users/durian/Nutstore Files/Research/ID-SLP/public_code/approach/base_slp.py[line:108] - INFO: Set parameter MIPGap to value 0.01\n"
     ]
    },
    {
     "name": "stdout",
     "output_type": "stream",
     "text": [
      "Set parameter MIPGap to value 0.01\n"
     ]
    },
    {
     "name": "stderr",
     "output_type": "stream",
     "text": [
      "2022-09-26 14:11:39,856 - /Users/durian/Nutstore Files/Research/ID-SLP/public_code/approach/base_slp.py[line:108] - INFO: Set parameter MIPGap to value 0.01\n"
     ]
    },
    {
     "name": "stdout",
     "output_type": "stream",
     "text": [
      "Set parameter MIPGap to value 0.01\n"
     ]
    },
    {
     "name": "stderr",
     "output_type": "stream",
     "text": [
      "2022-09-26 14:11:39,881 - /Users/durian/Nutstore Files/Research/ID-SLP/public_code/approach/base_slp.py[line:108] - INFO: Set parameter MIPGap to value 0.01\n"
     ]
    },
    {
     "name": "stdout",
     "output_type": "stream",
     "text": [
      "Set parameter MIPGap to value 0.01\n"
     ]
    },
    {
     "name": "stderr",
     "output_type": "stream",
     "text": [
      "2022-09-26 14:11:39,906 - /Users/durian/Nutstore Files/Research/ID-SLP/public_code/approach/base_slp.py[line:108] - INFO: Set parameter MIPGap to value 0.01\n"
     ]
    },
    {
     "name": "stdout",
     "output_type": "stream",
     "text": [
      "Set parameter MIPGap to value 0.01\n"
     ]
    },
    {
     "name": "stderr",
     "output_type": "stream",
     "text": [
      "2022-09-26 14:11:39,932 - /Users/durian/Nutstore Files/Research/ID-SLP/public_code/approach/base_slp.py[line:108] - INFO: Set parameter MIPGap to value 0.01\n"
     ]
    },
    {
     "name": "stdout",
     "output_type": "stream",
     "text": [
      "Set parameter MIPGap to value 0.01\n"
     ]
    },
    {
     "name": "stderr",
     "output_type": "stream",
     "text": [
      "2022-09-26 14:11:39,961 - /Users/durian/Nutstore Files/Research/ID-SLP/public_code/approach/base_slp.py[line:108] - INFO: Set parameter MIPGap to value 0.01\n"
     ]
    },
    {
     "name": "stdout",
     "output_type": "stream",
     "text": [
      "Set parameter MIPGap to value 0.01\n"
     ]
    },
    {
     "name": "stderr",
     "output_type": "stream",
     "text": [
      "2022-09-26 14:11:39,990 - /Users/durian/Nutstore Files/Research/ID-SLP/public_code/approach/base_slp.py[line:108] - INFO: Set parameter MIPGap to value 0.01\n"
     ]
    },
    {
     "name": "stdout",
     "output_type": "stream",
     "text": [
      "Set parameter MIPGap to value 0.01\n"
     ]
    },
    {
     "name": "stderr",
     "output_type": "stream",
     "text": [
      "2022-09-26 14:11:40,016 - /Users/durian/Nutstore Files/Research/ID-SLP/public_code/approach/base_slp.py[line:108] - INFO: Set parameter MIPGap to value 0.01\n"
     ]
    },
    {
     "name": "stdout",
     "output_type": "stream",
     "text": [
      "Set parameter MIPGap to value 0.01\n"
     ]
    },
    {
     "name": "stderr",
     "output_type": "stream",
     "text": [
      "2022-09-26 14:11:40,043 - /Users/durian/Nutstore Files/Research/ID-SLP/public_code/approach/base_slp.py[line:108] - INFO: Set parameter MIPGap to value 0.01\n"
     ]
    },
    {
     "name": "stdout",
     "output_type": "stream",
     "text": [
      "Set parameter MIPGap to value 0.01\n"
     ]
    },
    {
     "name": "stderr",
     "output_type": "stream",
     "text": [
      "2022-09-26 14:11:40,069 - /Users/durian/Nutstore Files/Research/ID-SLP/public_code/approach/base_slp.py[line:108] - INFO: Set parameter MIPGap to value 0.01\n"
     ]
    },
    {
     "name": "stdout",
     "output_type": "stream",
     "text": [
      "Set parameter MIPGap to value 0.01\n"
     ]
    },
    {
     "name": "stderr",
     "output_type": "stream",
     "text": [
      "2022-09-26 14:11:40,096 - /Users/durian/Nutstore Files/Research/ID-SLP/public_code/approach/base_slp.py[line:108] - INFO: Set parameter MIPGap to value 0.01\n"
     ]
    },
    {
     "name": "stdout",
     "output_type": "stream",
     "text": [
      "Set parameter MIPGap to value 0.01\n"
     ]
    },
    {
     "name": "stderr",
     "output_type": "stream",
     "text": [
      "2022-09-26 14:11:40,122 - /Users/durian/Nutstore Files/Research/ID-SLP/public_code/approach/base_slp.py[line:108] - INFO: Set parameter MIPGap to value 0.01\n"
     ]
    },
    {
     "name": "stdout",
     "output_type": "stream",
     "text": [
      "Set parameter MIPGap to value 0.01\n"
     ]
    },
    {
     "name": "stderr",
     "output_type": "stream",
     "text": [
      "2022-09-26 14:11:40,151 - /Users/durian/Nutstore Files/Research/ID-SLP/public_code/approach/base_slp.py[line:108] - INFO: Set parameter MIPGap to value 0.01\n"
     ]
    },
    {
     "name": "stdout",
     "output_type": "stream",
     "text": [
      "Set parameter MIPGap to value 0.01\n"
     ]
    },
    {
     "name": "stderr",
     "output_type": "stream",
     "text": [
      "2022-09-26 14:11:40,192 - /Users/durian/Nutstore Files/Research/ID-SLP/public_code/approach/base_slp.py[line:108] - INFO: Set parameter MIPGap to value 0.01\n"
     ]
    },
    {
     "name": "stdout",
     "output_type": "stream",
     "text": [
      "Set parameter MIPGap to value 0.01\n"
     ]
    },
    {
     "name": "stderr",
     "output_type": "stream",
     "text": [
      "2022-09-26 14:11:40,224 - /Users/durian/Nutstore Files/Research/ID-SLP/public_code/approach/base_slp.py[line:108] - INFO: Set parameter MIPGap to value 0.01\n"
     ]
    },
    {
     "name": "stdout",
     "output_type": "stream",
     "text": [
      "Set parameter MIPGap to value 0.01\n"
     ]
    },
    {
     "name": "stderr",
     "output_type": "stream",
     "text": [
      "2022-09-26 14:11:40,249 - /Users/durian/Nutstore Files/Research/ID-SLP/public_code/approach/base_slp.py[line:108] - INFO: Set parameter MIPGap to value 0.01\n"
     ]
    },
    {
     "name": "stdout",
     "output_type": "stream",
     "text": [
      "Set parameter MIPGap to value 0.01\n"
     ]
    },
    {
     "name": "stderr",
     "output_type": "stream",
     "text": [
      "2022-09-26 14:11:40,275 - /Users/durian/Nutstore Files/Research/ID-SLP/public_code/approach/base_slp.py[line:108] - INFO: Set parameter MIPGap to value 0.01\n"
     ]
    },
    {
     "name": "stdout",
     "output_type": "stream",
     "text": [
      "Set parameter MIPGap to value 0.01\n"
     ]
    },
    {
     "name": "stderr",
     "output_type": "stream",
     "text": [
      "2022-09-26 14:11:40,300 - /Users/durian/Nutstore Files/Research/ID-SLP/public_code/approach/base_slp.py[line:108] - INFO: Set parameter MIPGap to value 0.01\n"
     ]
    },
    {
     "name": "stdout",
     "output_type": "stream",
     "text": [
      "Set parameter MIPGap to value 0.01\n"
     ]
    },
    {
     "name": "stderr",
     "output_type": "stream",
     "text": [
      "2022-09-26 14:11:40,325 - /Users/durian/Nutstore Files/Research/ID-SLP/public_code/approach/base_slp.py[line:108] - INFO: Set parameter MIPGap to value 0.01\n"
     ]
    },
    {
     "name": "stdout",
     "output_type": "stream",
     "text": [
      "Set parameter MIPGap to value 0.01\n"
     ]
    },
    {
     "name": "stderr",
     "output_type": "stream",
     "text": [
      "2022-09-26 14:11:40,351 - /Users/durian/Nutstore Files/Research/ID-SLP/public_code/approach/base_slp.py[line:108] - INFO: Set parameter MIPGap to value 0.01\n"
     ]
    },
    {
     "name": "stdout",
     "output_type": "stream",
     "text": [
      "Set parameter MIPGap to value 0.01\n"
     ]
    },
    {
     "name": "stderr",
     "output_type": "stream",
     "text": [
      "2022-09-26 14:11:40,376 - /Users/durian/Nutstore Files/Research/ID-SLP/public_code/approach/base_slp.py[line:108] - INFO: Set parameter MIPGap to value 0.01\n"
     ]
    },
    {
     "name": "stdout",
     "output_type": "stream",
     "text": [
      "Set parameter MIPGap to value 0.01\n"
     ]
    },
    {
     "name": "stderr",
     "output_type": "stream",
     "text": [
      "2022-09-26 14:11:40,404 - /Users/durian/Nutstore Files/Research/ID-SLP/public_code/approach/base_slp.py[line:108] - INFO: Set parameter MIPGap to value 0.01\n"
     ]
    },
    {
     "name": "stdout",
     "output_type": "stream",
     "text": [
      "Set parameter MIPGap to value 0.01\n"
     ]
    },
    {
     "name": "stderr",
     "output_type": "stream",
     "text": [
      "2022-09-26 14:11:40,430 - /Users/durian/Nutstore Files/Research/ID-SLP/public_code/approach/base_slp.py[line:108] - INFO: Set parameter MIPGap to value 0.01\n"
     ]
    },
    {
     "name": "stdout",
     "output_type": "stream",
     "text": [
      "Set parameter MIPGap to value 0.01\n"
     ]
    },
    {
     "name": "stderr",
     "output_type": "stream",
     "text": [
      "2022-09-26 14:11:40,455 - /Users/durian/Nutstore Files/Research/ID-SLP/public_code/approach/base_slp.py[line:108] - INFO: Set parameter MIPGap to value 0.01\n"
     ]
    },
    {
     "name": "stdout",
     "output_type": "stream",
     "text": [
      "Set parameter MIPGap to value 0.01\n"
     ]
    },
    {
     "name": "stderr",
     "output_type": "stream",
     "text": [
      "2022-09-26 14:11:40,479 - /Users/durian/Nutstore Files/Research/ID-SLP/public_code/approach/base_slp.py[line:108] - INFO: Set parameter MIPGap to value 0.01\n"
     ]
    },
    {
     "name": "stdout",
     "output_type": "stream",
     "text": [
      "Set parameter MIPGap to value 0.01\n"
     ]
    },
    {
     "name": "stderr",
     "output_type": "stream",
     "text": [
      "2022-09-26 14:11:40,505 - /Users/durian/Nutstore Files/Research/ID-SLP/public_code/approach/base_slp.py[line:108] - INFO: Set parameter MIPGap to value 0.01\n"
     ]
    },
    {
     "name": "stdout",
     "output_type": "stream",
     "text": [
      "Set parameter MIPGap to value 0.01\n"
     ]
    },
    {
     "name": "stderr",
     "output_type": "stream",
     "text": [
      "2022-09-26 14:11:40,530 - /Users/durian/Nutstore Files/Research/ID-SLP/public_code/approach/base_slp.py[line:108] - INFO: Set parameter MIPGap to value 0.01\n"
     ]
    },
    {
     "name": "stdout",
     "output_type": "stream",
     "text": [
      "This graph can be decomposed\n",
      "Set parameter MIPGap to value 0.01\n"
     ]
    },
    {
     "name": "stderr",
     "output_type": "stream",
     "text": [
      "2022-09-26 14:11:40,581 - /Users/durian/Nutstore Files/Research/ID-SLP/public_code/approach/base_slp.py[line:108] - INFO: Set parameter MIPGap to value 0.01\n"
     ]
    },
    {
     "name": "stdout",
     "output_type": "stream",
     "text": [
      "Set parameter MIPGap to value 0.01\n"
     ]
    },
    {
     "name": "stderr",
     "output_type": "stream",
     "text": [
      "2022-09-26 14:11:40,612 - /Users/durian/Nutstore Files/Research/ID-SLP/public_code/approach/base_slp.py[line:108] - INFO: Set parameter MIPGap to value 0.01\n"
     ]
    },
    {
     "name": "stdout",
     "output_type": "stream",
     "text": [
      "Set parameter MIPGap to value 0.01\n"
     ]
    },
    {
     "name": "stderr",
     "output_type": "stream",
     "text": [
      "2022-09-26 14:11:40,637 - /Users/durian/Nutstore Files/Research/ID-SLP/public_code/approach/base_slp.py[line:108] - INFO: Set parameter MIPGap to value 0.01\n"
     ]
    },
    {
     "name": "stdout",
     "output_type": "stream",
     "text": [
      "Set parameter MIPGap to value 0.01\n"
     ]
    },
    {
     "name": "stderr",
     "output_type": "stream",
     "text": [
      "2022-09-26 14:11:40,660 - /Users/durian/Nutstore Files/Research/ID-SLP/public_code/approach/base_slp.py[line:108] - INFO: Set parameter MIPGap to value 0.01\n"
     ]
    },
    {
     "name": "stdout",
     "output_type": "stream",
     "text": [
      "Set parameter MIPGap to value 0.01\n"
     ]
    },
    {
     "name": "stderr",
     "output_type": "stream",
     "text": [
      "2022-09-26 14:11:40,685 - /Users/durian/Nutstore Files/Research/ID-SLP/public_code/approach/base_slp.py[line:108] - INFO: Set parameter MIPGap to value 0.01\n"
     ]
    },
    {
     "name": "stdout",
     "output_type": "stream",
     "text": [
      "Set parameter MIPGap to value 0.01\n"
     ]
    },
    {
     "name": "stderr",
     "output_type": "stream",
     "text": [
      "2022-09-26 14:11:40,709 - /Users/durian/Nutstore Files/Research/ID-SLP/public_code/approach/base_slp.py[line:108] - INFO: Set parameter MIPGap to value 0.01\n"
     ]
    },
    {
     "name": "stdout",
     "output_type": "stream",
     "text": [
      "Set parameter MIPGap to value 0.01\n"
     ]
    },
    {
     "name": "stderr",
     "output_type": "stream",
     "text": [
      "2022-09-26 14:11:40,735 - /Users/durian/Nutstore Files/Research/ID-SLP/public_code/approach/base_slp.py[line:108] - INFO: Set parameter MIPGap to value 0.01\n"
     ]
    },
    {
     "name": "stdout",
     "output_type": "stream",
     "text": [
      "Set parameter MIPGap to value 0.01\n"
     ]
    },
    {
     "name": "stderr",
     "output_type": "stream",
     "text": [
      "2022-09-26 14:11:40,760 - /Users/durian/Nutstore Files/Research/ID-SLP/public_code/approach/base_slp.py[line:108] - INFO: Set parameter MIPGap to value 0.01\n"
     ]
    },
    {
     "name": "stdout",
     "output_type": "stream",
     "text": [
      "Set parameter MIPGap to value 0.01\n"
     ]
    },
    {
     "name": "stderr",
     "output_type": "stream",
     "text": [
      "2022-09-26 14:11:40,785 - /Users/durian/Nutstore Files/Research/ID-SLP/public_code/approach/base_slp.py[line:108] - INFO: Set parameter MIPGap to value 0.01\n"
     ]
    },
    {
     "name": "stdout",
     "output_type": "stream",
     "text": [
      "Set parameter MIPGap to value 0.01\n"
     ]
    },
    {
     "name": "stderr",
     "output_type": "stream",
     "text": [
      "2022-09-26 14:11:40,810 - /Users/durian/Nutstore Files/Research/ID-SLP/public_code/approach/base_slp.py[line:108] - INFO: Set parameter MIPGap to value 0.01\n"
     ]
    },
    {
     "name": "stdout",
     "output_type": "stream",
     "text": [
      "Set parameter MIPGap to value 0.01\n"
     ]
    },
    {
     "name": "stderr",
     "output_type": "stream",
     "text": [
      "2022-09-26 14:11:40,835 - /Users/durian/Nutstore Files/Research/ID-SLP/public_code/approach/base_slp.py[line:108] - INFO: Set parameter MIPGap to value 0.01\n"
     ]
    },
    {
     "name": "stdout",
     "output_type": "stream",
     "text": [
      "Set parameter MIPGap to value 0.01\n"
     ]
    },
    {
     "name": "stderr",
     "output_type": "stream",
     "text": [
      "2022-09-26 14:11:40,859 - /Users/durian/Nutstore Files/Research/ID-SLP/public_code/approach/base_slp.py[line:108] - INFO: Set parameter MIPGap to value 0.01\n"
     ]
    },
    {
     "name": "stdout",
     "output_type": "stream",
     "text": [
      "Set parameter MIPGap to value 0.01\n"
     ]
    },
    {
     "name": "stderr",
     "output_type": "stream",
     "text": [
      "2022-09-26 14:11:40,884 - /Users/durian/Nutstore Files/Research/ID-SLP/public_code/approach/base_slp.py[line:108] - INFO: Set parameter MIPGap to value 0.01\n"
     ]
    },
    {
     "name": "stdout",
     "output_type": "stream",
     "text": [
      "Set parameter MIPGap to value 0.01\n"
     ]
    },
    {
     "name": "stderr",
     "output_type": "stream",
     "text": [
      "2022-09-26 14:11:40,910 - /Users/durian/Nutstore Files/Research/ID-SLP/public_code/approach/base_slp.py[line:108] - INFO: Set parameter MIPGap to value 0.01\n"
     ]
    },
    {
     "name": "stdout",
     "output_type": "stream",
     "text": [
      "Set parameter MIPGap to value 0.01\n"
     ]
    },
    {
     "name": "stderr",
     "output_type": "stream",
     "text": [
      "2022-09-26 14:11:40,936 - /Users/durian/Nutstore Files/Research/ID-SLP/public_code/approach/base_slp.py[line:108] - INFO: Set parameter MIPGap to value 0.01\n"
     ]
    },
    {
     "name": "stdout",
     "output_type": "stream",
     "text": [
      "Set parameter MIPGap to value 0.01\n"
     ]
    },
    {
     "name": "stderr",
     "output_type": "stream",
     "text": [
      "2022-09-26 14:11:40,961 - /Users/durian/Nutstore Files/Research/ID-SLP/public_code/approach/base_slp.py[line:108] - INFO: Set parameter MIPGap to value 0.01\n"
     ]
    },
    {
     "name": "stdout",
     "output_type": "stream",
     "text": [
      "Set parameter MIPGap to value 0.01\n"
     ]
    },
    {
     "name": "stderr",
     "output_type": "stream",
     "text": [
      "2022-09-26 14:11:40,986 - /Users/durian/Nutstore Files/Research/ID-SLP/public_code/approach/base_slp.py[line:108] - INFO: Set parameter MIPGap to value 0.01\n"
     ]
    },
    {
     "name": "stdout",
     "output_type": "stream",
     "text": [
      "Set parameter MIPGap to value 0.01\n"
     ]
    },
    {
     "name": "stderr",
     "output_type": "stream",
     "text": [
      "2022-09-26 14:11:41,013 - /Users/durian/Nutstore Files/Research/ID-SLP/public_code/approach/base_slp.py[line:108] - INFO: Set parameter MIPGap to value 0.01\n"
     ]
    },
    {
     "name": "stdout",
     "output_type": "stream",
     "text": [
      "Set parameter MIPGap to value 0.01\n"
     ]
    },
    {
     "name": "stderr",
     "output_type": "stream",
     "text": [
      "2022-09-26 14:11:41,038 - /Users/durian/Nutstore Files/Research/ID-SLP/public_code/approach/base_slp.py[line:108] - INFO: Set parameter MIPGap to value 0.01\n"
     ]
    },
    {
     "name": "stdout",
     "output_type": "stream",
     "text": [
      "Set parameter MIPGap to value 0.01\n"
     ]
    },
    {
     "name": "stderr",
     "output_type": "stream",
     "text": [
      "2022-09-26 14:11:41,070 - /Users/durian/Nutstore Files/Research/ID-SLP/public_code/approach/base_slp.py[line:108] - INFO: Set parameter MIPGap to value 0.01\n"
     ]
    },
    {
     "name": "stdout",
     "output_type": "stream",
     "text": [
      "Set parameter MIPGap to value 0.01\n"
     ]
    },
    {
     "name": "stderr",
     "output_type": "stream",
     "text": [
      "2022-09-26 14:11:41,115 - /Users/durian/Nutstore Files/Research/ID-SLP/public_code/approach/base_slp.py[line:108] - INFO: Set parameter MIPGap to value 0.01\n"
     ]
    },
    {
     "name": "stdout",
     "output_type": "stream",
     "text": [
      "Set parameter MIPGap to value 0.01\n"
     ]
    },
    {
     "name": "stderr",
     "output_type": "stream",
     "text": [
      "2022-09-26 14:11:41,155 - /Users/durian/Nutstore Files/Research/ID-SLP/public_code/approach/base_slp.py[line:108] - INFO: Set parameter MIPGap to value 0.01\n"
     ]
    },
    {
     "name": "stdout",
     "output_type": "stream",
     "text": [
      "Set parameter MIPGap to value 0.01\n"
     ]
    },
    {
     "name": "stderr",
     "output_type": "stream",
     "text": [
      "2022-09-26 14:11:41,179 - /Users/durian/Nutstore Files/Research/ID-SLP/public_code/approach/base_slp.py[line:108] - INFO: Set parameter MIPGap to value 0.01\n"
     ]
    },
    {
     "name": "stdout",
     "output_type": "stream",
     "text": [
      "Set parameter MIPGap to value 0.01\n"
     ]
    },
    {
     "name": "stderr",
     "output_type": "stream",
     "text": [
      "2022-09-26 14:11:41,203 - /Users/durian/Nutstore Files/Research/ID-SLP/public_code/approach/base_slp.py[line:108] - INFO: Set parameter MIPGap to value 0.01\n"
     ]
    },
    {
     "name": "stdout",
     "output_type": "stream",
     "text": [
      "Set parameter MIPGap to value 0.01\n"
     ]
    },
    {
     "name": "stderr",
     "output_type": "stream",
     "text": [
      "2022-09-26 14:11:41,227 - /Users/durian/Nutstore Files/Research/ID-SLP/public_code/approach/base_slp.py[line:108] - INFO: Set parameter MIPGap to value 0.01\n"
     ]
    },
    {
     "name": "stdout",
     "output_type": "stream",
     "text": [
      "Set parameter MIPGap to value 0.01\n"
     ]
    },
    {
     "name": "stderr",
     "output_type": "stream",
     "text": [
      "2022-09-26 14:11:41,250 - /Users/durian/Nutstore Files/Research/ID-SLP/public_code/approach/base_slp.py[line:108] - INFO: Set parameter MIPGap to value 0.01\n"
     ]
    },
    {
     "name": "stdout",
     "output_type": "stream",
     "text": [
      "Set parameter MIPGap to value 0.01\n"
     ]
    },
    {
     "name": "stderr",
     "output_type": "stream",
     "text": [
      "2022-09-26 14:11:41,274 - /Users/durian/Nutstore Files/Research/ID-SLP/public_code/approach/base_slp.py[line:108] - INFO: Set parameter MIPGap to value 0.01\n"
     ]
    },
    {
     "name": "stdout",
     "output_type": "stream",
     "text": [
      "Set parameter MIPGap to value 0.01\n"
     ]
    },
    {
     "name": "stderr",
     "output_type": "stream",
     "text": [
      "2022-09-26 14:11:41,299 - /Users/durian/Nutstore Files/Research/ID-SLP/public_code/approach/base_slp.py[line:108] - INFO: Set parameter MIPGap to value 0.01\n"
     ]
    },
    {
     "name": "stdout",
     "output_type": "stream",
     "text": [
      "Set parameter MIPGap to value 0.01\n"
     ]
    },
    {
     "name": "stderr",
     "output_type": "stream",
     "text": [
      "2022-09-26 14:11:41,324 - /Users/durian/Nutstore Files/Research/ID-SLP/public_code/approach/base_slp.py[line:108] - INFO: Set parameter MIPGap to value 0.01\n"
     ]
    },
    {
     "name": "stdout",
     "output_type": "stream",
     "text": [
      "Set parameter MIPGap to value 0.01\n"
     ]
    },
    {
     "name": "stderr",
     "output_type": "stream",
     "text": [
      "2022-09-26 14:11:41,350 - /Users/durian/Nutstore Files/Research/ID-SLP/public_code/approach/base_slp.py[line:108] - INFO: Set parameter MIPGap to value 0.01\n"
     ]
    },
    {
     "name": "stdout",
     "output_type": "stream",
     "text": [
      "Set parameter MIPGap to value 0.01\n"
     ]
    },
    {
     "name": "stderr",
     "output_type": "stream",
     "text": [
      "2022-09-26 14:11:41,375 - /Users/durian/Nutstore Files/Research/ID-SLP/public_code/approach/base_slp.py[line:108] - INFO: Set parameter MIPGap to value 0.01\n"
     ]
    },
    {
     "name": "stdout",
     "output_type": "stream",
     "text": [
      "Set parameter MIPGap to value 0.01\n"
     ]
    },
    {
     "name": "stderr",
     "output_type": "stream",
     "text": [
      "2022-09-26 14:11:41,400 - /Users/durian/Nutstore Files/Research/ID-SLP/public_code/approach/base_slp.py[line:108] - INFO: Set parameter MIPGap to value 0.01\n"
     ]
    },
    {
     "name": "stdout",
     "output_type": "stream",
     "text": [
      "This graph can be decomposed\n",
      "Set parameter MIPGap to value 0.01\n"
     ]
    },
    {
     "name": "stderr",
     "output_type": "stream",
     "text": [
      "2022-09-26 14:11:41,443 - /Users/durian/Nutstore Files/Research/ID-SLP/public_code/approach/base_slp.py[line:108] - INFO: Set parameter MIPGap to value 0.01\n"
     ]
    },
    {
     "name": "stdout",
     "output_type": "stream",
     "text": [
      "Set parameter MIPGap to value 0.01\n"
     ]
    },
    {
     "name": "stderr",
     "output_type": "stream",
     "text": [
      "2022-09-26 14:11:41,467 - /Users/durian/Nutstore Files/Research/ID-SLP/public_code/approach/base_slp.py[line:108] - INFO: Set parameter MIPGap to value 0.01\n"
     ]
    },
    {
     "name": "stdout",
     "output_type": "stream",
     "text": [
      "Set parameter MIPGap to value 0.01\n"
     ]
    },
    {
     "name": "stderr",
     "output_type": "stream",
     "text": [
      "2022-09-26 14:11:41,492 - /Users/durian/Nutstore Files/Research/ID-SLP/public_code/approach/base_slp.py[line:108] - INFO: Set parameter MIPGap to value 0.01\n"
     ]
    },
    {
     "name": "stdout",
     "output_type": "stream",
     "text": [
      "Set parameter MIPGap to value 0.01\n"
     ]
    },
    {
     "name": "stderr",
     "output_type": "stream",
     "text": [
      "2022-09-26 14:11:41,515 - /Users/durian/Nutstore Files/Research/ID-SLP/public_code/approach/base_slp.py[line:108] - INFO: Set parameter MIPGap to value 0.01\n"
     ]
    },
    {
     "name": "stdout",
     "output_type": "stream",
     "text": [
      "Set parameter MIPGap to value 0.01\n"
     ]
    },
    {
     "name": "stderr",
     "output_type": "stream",
     "text": [
      "2022-09-26 14:11:41,540 - /Users/durian/Nutstore Files/Research/ID-SLP/public_code/approach/base_slp.py[line:108] - INFO: Set parameter MIPGap to value 0.01\n"
     ]
    },
    {
     "name": "stdout",
     "output_type": "stream",
     "text": [
      "Set parameter MIPGap to value 0.01\n"
     ]
    },
    {
     "name": "stderr",
     "output_type": "stream",
     "text": [
      "2022-09-26 14:11:41,570 - /Users/durian/Nutstore Files/Research/ID-SLP/public_code/approach/base_slp.py[line:108] - INFO: Set parameter MIPGap to value 0.01\n"
     ]
    },
    {
     "name": "stdout",
     "output_type": "stream",
     "text": [
      "Set parameter MIPGap to value 0.01\n"
     ]
    },
    {
     "name": "stderr",
     "output_type": "stream",
     "text": [
      "2022-09-26 14:11:41,602 - /Users/durian/Nutstore Files/Research/ID-SLP/public_code/approach/base_slp.py[line:108] - INFO: Set parameter MIPGap to value 0.01\n"
     ]
    },
    {
     "name": "stdout",
     "output_type": "stream",
     "text": [
      "Set parameter MIPGap to value 0.01\n"
     ]
    },
    {
     "name": "stderr",
     "output_type": "stream",
     "text": [
      "2022-09-26 14:11:41,625 - /Users/durian/Nutstore Files/Research/ID-SLP/public_code/approach/base_slp.py[line:108] - INFO: Set parameter MIPGap to value 0.01\n"
     ]
    },
    {
     "name": "stdout",
     "output_type": "stream",
     "text": [
      "Set parameter MIPGap to value 0.01\n"
     ]
    },
    {
     "name": "stderr",
     "output_type": "stream",
     "text": [
      "2022-09-26 14:11:41,648 - /Users/durian/Nutstore Files/Research/ID-SLP/public_code/approach/base_slp.py[line:108] - INFO: Set parameter MIPGap to value 0.01\n"
     ]
    },
    {
     "name": "stdout",
     "output_type": "stream",
     "text": [
      "Set parameter MIPGap to value 0.01\n"
     ]
    },
    {
     "name": "stderr",
     "output_type": "stream",
     "text": [
      "2022-09-26 14:11:41,671 - /Users/durian/Nutstore Files/Research/ID-SLP/public_code/approach/base_slp.py[line:108] - INFO: Set parameter MIPGap to value 0.01\n"
     ]
    },
    {
     "name": "stdout",
     "output_type": "stream",
     "text": [
      "Set parameter MIPGap to value 0.01\n"
     ]
    },
    {
     "name": "stderr",
     "output_type": "stream",
     "text": [
      "2022-09-26 14:11:41,694 - /Users/durian/Nutstore Files/Research/ID-SLP/public_code/approach/base_slp.py[line:108] - INFO: Set parameter MIPGap to value 0.01\n"
     ]
    },
    {
     "name": "stdout",
     "output_type": "stream",
     "text": [
      "Set parameter MIPGap to value 0.01\n"
     ]
    },
    {
     "name": "stderr",
     "output_type": "stream",
     "text": [
      "2022-09-26 14:11:41,717 - /Users/durian/Nutstore Files/Research/ID-SLP/public_code/approach/base_slp.py[line:108] - INFO: Set parameter MIPGap to value 0.01\n"
     ]
    },
    {
     "name": "stdout",
     "output_type": "stream",
     "text": [
      "Set parameter MIPGap to value 0.01\n"
     ]
    },
    {
     "name": "stderr",
     "output_type": "stream",
     "text": [
      "2022-09-26 14:11:41,740 - /Users/durian/Nutstore Files/Research/ID-SLP/public_code/approach/base_slp.py[line:108] - INFO: Set parameter MIPGap to value 0.01\n"
     ]
    },
    {
     "name": "stdout",
     "output_type": "stream",
     "text": [
      "Set parameter MIPGap to value 0.01\n"
     ]
    },
    {
     "name": "stderr",
     "output_type": "stream",
     "text": [
      "2022-09-26 14:11:41,763 - /Users/durian/Nutstore Files/Research/ID-SLP/public_code/approach/base_slp.py[line:108] - INFO: Set parameter MIPGap to value 0.01\n"
     ]
    },
    {
     "name": "stdout",
     "output_type": "stream",
     "text": [
      "Set parameter MIPGap to value 0.01\n"
     ]
    },
    {
     "name": "stderr",
     "output_type": "stream",
     "text": [
      "2022-09-26 14:11:41,786 - /Users/durian/Nutstore Files/Research/ID-SLP/public_code/approach/base_slp.py[line:108] - INFO: Set parameter MIPGap to value 0.01\n"
     ]
    },
    {
     "name": "stdout",
     "output_type": "stream",
     "text": [
      "Set parameter MIPGap to value 0.01\n"
     ]
    },
    {
     "name": "stderr",
     "output_type": "stream",
     "text": [
      "2022-09-26 14:11:41,809 - /Users/durian/Nutstore Files/Research/ID-SLP/public_code/approach/base_slp.py[line:108] - INFO: Set parameter MIPGap to value 0.01\n"
     ]
    },
    {
     "name": "stdout",
     "output_type": "stream",
     "text": [
      "Set parameter MIPGap to value 0.01\n"
     ]
    },
    {
     "name": "stderr",
     "output_type": "stream",
     "text": [
      "2022-09-26 14:11:41,832 - /Users/durian/Nutstore Files/Research/ID-SLP/public_code/approach/base_slp.py[line:108] - INFO: Set parameter MIPGap to value 0.01\n"
     ]
    },
    {
     "name": "stdout",
     "output_type": "stream",
     "text": [
      "Set parameter MIPGap to value 0.01\n"
     ]
    },
    {
     "name": "stderr",
     "output_type": "stream",
     "text": [
      "2022-09-26 14:11:41,855 - /Users/durian/Nutstore Files/Research/ID-SLP/public_code/approach/base_slp.py[line:108] - INFO: Set parameter MIPGap to value 0.01\n"
     ]
    },
    {
     "name": "stdout",
     "output_type": "stream",
     "text": [
      "Set parameter MIPGap to value 0.01\n"
     ]
    },
    {
     "name": "stderr",
     "output_type": "stream",
     "text": [
      "2022-09-26 14:11:41,878 - /Users/durian/Nutstore Files/Research/ID-SLP/public_code/approach/base_slp.py[line:108] - INFO: Set parameter MIPGap to value 0.01\n"
     ]
    },
    {
     "name": "stdout",
     "output_type": "stream",
     "text": [
      "Set parameter MIPGap to value 0.01\n"
     ]
    },
    {
     "name": "stderr",
     "output_type": "stream",
     "text": [
      "2022-09-26 14:11:41,901 - /Users/durian/Nutstore Files/Research/ID-SLP/public_code/approach/base_slp.py[line:108] - INFO: Set parameter MIPGap to value 0.01\n"
     ]
    },
    {
     "name": "stdout",
     "output_type": "stream",
     "text": [
      "Set parameter MIPGap to value 0.01\n"
     ]
    },
    {
     "name": "stderr",
     "output_type": "stream",
     "text": [
      "2022-09-26 14:11:41,924 - /Users/durian/Nutstore Files/Research/ID-SLP/public_code/approach/base_slp.py[line:108] - INFO: Set parameter MIPGap to value 0.01\n"
     ]
    },
    {
     "name": "stdout",
     "output_type": "stream",
     "text": [
      "Set parameter MIPGap to value 0.01\n"
     ]
    },
    {
     "name": "stderr",
     "output_type": "stream",
     "text": [
      "2022-09-26 14:11:41,947 - /Users/durian/Nutstore Files/Research/ID-SLP/public_code/approach/base_slp.py[line:108] - INFO: Set parameter MIPGap to value 0.01\n"
     ]
    },
    {
     "name": "stdout",
     "output_type": "stream",
     "text": [
      "Set parameter MIPGap to value 0.01\n"
     ]
    },
    {
     "name": "stderr",
     "output_type": "stream",
     "text": [
      "2022-09-26 14:11:41,970 - /Users/durian/Nutstore Files/Research/ID-SLP/public_code/approach/base_slp.py[line:108] - INFO: Set parameter MIPGap to value 0.01\n"
     ]
    },
    {
     "name": "stdout",
     "output_type": "stream",
     "text": [
      "Set parameter MIPGap to value 0.01\n"
     ]
    },
    {
     "name": "stderr",
     "output_type": "stream",
     "text": [
      "2022-09-26 14:11:41,993 - /Users/durian/Nutstore Files/Research/ID-SLP/public_code/approach/base_slp.py[line:108] - INFO: Set parameter MIPGap to value 0.01\n"
     ]
    },
    {
     "name": "stdout",
     "output_type": "stream",
     "text": [
      "Set parameter MIPGap to value 0.01\n"
     ]
    },
    {
     "name": "stderr",
     "output_type": "stream",
     "text": [
      "2022-09-26 14:11:42,016 - /Users/durian/Nutstore Files/Research/ID-SLP/public_code/approach/base_slp.py[line:108] - INFO: Set parameter MIPGap to value 0.01\n"
     ]
    },
    {
     "name": "stdout",
     "output_type": "stream",
     "text": [
      "Set parameter MIPGap to value 0.01\n"
     ]
    },
    {
     "name": "stderr",
     "output_type": "stream",
     "text": [
      "2022-09-26 14:11:42,039 - /Users/durian/Nutstore Files/Research/ID-SLP/public_code/approach/base_slp.py[line:108] - INFO: Set parameter MIPGap to value 0.01\n"
     ]
    },
    {
     "name": "stdout",
     "output_type": "stream",
     "text": [
      "Set parameter MIPGap to value 0.01\n"
     ]
    },
    {
     "name": "stderr",
     "output_type": "stream",
     "text": [
      "2022-09-26 14:11:42,062 - /Users/durian/Nutstore Files/Research/ID-SLP/public_code/approach/base_slp.py[line:108] - INFO: Set parameter MIPGap to value 0.01\n"
     ]
    },
    {
     "name": "stdout",
     "output_type": "stream",
     "text": [
      "Set parameter MIPGap to value 0.01\n"
     ]
    },
    {
     "name": "stderr",
     "output_type": "stream",
     "text": [
      "2022-09-26 14:11:42,085 - /Users/durian/Nutstore Files/Research/ID-SLP/public_code/approach/base_slp.py[line:108] - INFO: Set parameter MIPGap to value 0.01\n"
     ]
    },
    {
     "name": "stdout",
     "output_type": "stream",
     "text": [
      "Set parameter MIPGap to value 0.01\n"
     ]
    },
    {
     "name": "stderr",
     "output_type": "stream",
     "text": [
      "2022-09-26 14:11:42,108 - /Users/durian/Nutstore Files/Research/ID-SLP/public_code/approach/base_slp.py[line:108] - INFO: Set parameter MIPGap to value 0.01\n"
     ]
    },
    {
     "name": "stdout",
     "output_type": "stream",
     "text": [
      "Set parameter MIPGap to value 0.01\n"
     ]
    },
    {
     "name": "stderr",
     "output_type": "stream",
     "text": [
      "2022-09-26 14:11:42,131 - /Users/durian/Nutstore Files/Research/ID-SLP/public_code/approach/base_slp.py[line:108] - INFO: Set parameter MIPGap to value 0.01\n"
     ]
    },
    {
     "name": "stdout",
     "output_type": "stream",
     "text": [
      "This graph can be decomposed\n",
      "Set parameter MIPGap to value 0.01\n"
     ]
    },
    {
     "name": "stderr",
     "output_type": "stream",
     "text": [
      "2022-09-26 14:11:42,169 - /Users/durian/Nutstore Files/Research/ID-SLP/public_code/approach/base_slp.py[line:108] - INFO: Set parameter MIPGap to value 0.01\n"
     ]
    },
    {
     "name": "stdout",
     "output_type": "stream",
     "text": [
      "Set parameter MIPGap to value 0.01\n"
     ]
    },
    {
     "name": "stderr",
     "output_type": "stream",
     "text": [
      "2022-09-26 14:11:42,191 - /Users/durian/Nutstore Files/Research/ID-SLP/public_code/approach/base_slp.py[line:108] - INFO: Set parameter MIPGap to value 0.01\n"
     ]
    },
    {
     "name": "stdout",
     "output_type": "stream",
     "text": [
      "Set parameter MIPGap to value 0.01\n"
     ]
    },
    {
     "name": "stderr",
     "output_type": "stream",
     "text": [
      "2022-09-26 14:11:42,214 - /Users/durian/Nutstore Files/Research/ID-SLP/public_code/approach/base_slp.py[line:108] - INFO: Set parameter MIPGap to value 0.01\n"
     ]
    },
    {
     "name": "stdout",
     "output_type": "stream",
     "text": [
      "Set parameter MIPGap to value 0.01\n"
     ]
    },
    {
     "name": "stderr",
     "output_type": "stream",
     "text": [
      "2022-09-26 14:11:42,237 - /Users/durian/Nutstore Files/Research/ID-SLP/public_code/approach/base_slp.py[line:108] - INFO: Set parameter MIPGap to value 0.01\n"
     ]
    },
    {
     "name": "stdout",
     "output_type": "stream",
     "text": [
      "Set parameter MIPGap to value 0.01\n"
     ]
    },
    {
     "name": "stderr",
     "output_type": "stream",
     "text": [
      "2022-09-26 14:11:42,260 - /Users/durian/Nutstore Files/Research/ID-SLP/public_code/approach/base_slp.py[line:108] - INFO: Set parameter MIPGap to value 0.01\n"
     ]
    },
    {
     "name": "stdout",
     "output_type": "stream",
     "text": [
      "Set parameter MIPGap to value 0.01\n"
     ]
    },
    {
     "name": "stderr",
     "output_type": "stream",
     "text": [
      "2022-09-26 14:11:42,282 - /Users/durian/Nutstore Files/Research/ID-SLP/public_code/approach/base_slp.py[line:108] - INFO: Set parameter MIPGap to value 0.01\n"
     ]
    },
    {
     "name": "stdout",
     "output_type": "stream",
     "text": [
      "Set parameter MIPGap to value 0.01\n"
     ]
    },
    {
     "name": "stderr",
     "output_type": "stream",
     "text": [
      "2022-09-26 14:11:42,305 - /Users/durian/Nutstore Files/Research/ID-SLP/public_code/approach/base_slp.py[line:108] - INFO: Set parameter MIPGap to value 0.01\n"
     ]
    },
    {
     "name": "stdout",
     "output_type": "stream",
     "text": [
      "Set parameter MIPGap to value 0.01\n"
     ]
    },
    {
     "name": "stderr",
     "output_type": "stream",
     "text": [
      "2022-09-26 14:11:42,328 - /Users/durian/Nutstore Files/Research/ID-SLP/public_code/approach/base_slp.py[line:108] - INFO: Set parameter MIPGap to value 0.01\n"
     ]
    },
    {
     "name": "stdout",
     "output_type": "stream",
     "text": [
      "Set parameter MIPGap to value 0.01\n"
     ]
    },
    {
     "name": "stderr",
     "output_type": "stream",
     "text": [
      "2022-09-26 14:11:42,350 - /Users/durian/Nutstore Files/Research/ID-SLP/public_code/approach/base_slp.py[line:108] - INFO: Set parameter MIPGap to value 0.01\n"
     ]
    },
    {
     "name": "stdout",
     "output_type": "stream",
     "text": [
      "Set parameter MIPGap to value 0.01\n"
     ]
    },
    {
     "name": "stderr",
     "output_type": "stream",
     "text": [
      "2022-09-26 14:11:42,373 - /Users/durian/Nutstore Files/Research/ID-SLP/public_code/approach/base_slp.py[line:108] - INFO: Set parameter MIPGap to value 0.01\n"
     ]
    },
    {
     "name": "stdout",
     "output_type": "stream",
     "text": [
      "Set parameter MIPGap to value 0.01\n"
     ]
    },
    {
     "name": "stderr",
     "output_type": "stream",
     "text": [
      "2022-09-26 14:11:42,396 - /Users/durian/Nutstore Files/Research/ID-SLP/public_code/approach/base_slp.py[line:108] - INFO: Set parameter MIPGap to value 0.01\n"
     ]
    },
    {
     "name": "stdout",
     "output_type": "stream",
     "text": [
      "Set parameter MIPGap to value 0.01\n"
     ]
    },
    {
     "name": "stderr",
     "output_type": "stream",
     "text": [
      "2022-09-26 14:11:42,418 - /Users/durian/Nutstore Files/Research/ID-SLP/public_code/approach/base_slp.py[line:108] - INFO: Set parameter MIPGap to value 0.01\n"
     ]
    },
    {
     "name": "stdout",
     "output_type": "stream",
     "text": [
      "Set parameter MIPGap to value 0.01\n"
     ]
    },
    {
     "name": "stderr",
     "output_type": "stream",
     "text": [
      "2022-09-26 14:11:42,441 - /Users/durian/Nutstore Files/Research/ID-SLP/public_code/approach/base_slp.py[line:108] - INFO: Set parameter MIPGap to value 0.01\n"
     ]
    },
    {
     "name": "stdout",
     "output_type": "stream",
     "text": [
      "Set parameter MIPGap to value 0.01\n"
     ]
    },
    {
     "name": "stderr",
     "output_type": "stream",
     "text": [
      "2022-09-26 14:11:42,464 - /Users/durian/Nutstore Files/Research/ID-SLP/public_code/approach/base_slp.py[line:108] - INFO: Set parameter MIPGap to value 0.01\n"
     ]
    },
    {
     "name": "stdout",
     "output_type": "stream",
     "text": [
      "Set parameter MIPGap to value 0.01\n"
     ]
    },
    {
     "name": "stderr",
     "output_type": "stream",
     "text": [
      "2022-09-26 14:11:42,486 - /Users/durian/Nutstore Files/Research/ID-SLP/public_code/approach/base_slp.py[line:108] - INFO: Set parameter MIPGap to value 0.01\n"
     ]
    },
    {
     "name": "stdout",
     "output_type": "stream",
     "text": [
      "Set parameter MIPGap to value 0.01\n"
     ]
    },
    {
     "name": "stderr",
     "output_type": "stream",
     "text": [
      "2022-09-26 14:11:42,509 - /Users/durian/Nutstore Files/Research/ID-SLP/public_code/approach/base_slp.py[line:108] - INFO: Set parameter MIPGap to value 0.01\n"
     ]
    },
    {
     "name": "stdout",
     "output_type": "stream",
     "text": [
      "Set parameter MIPGap to value 0.01\n"
     ]
    },
    {
     "name": "stderr",
     "output_type": "stream",
     "text": [
      "2022-09-26 14:11:42,531 - /Users/durian/Nutstore Files/Research/ID-SLP/public_code/approach/base_slp.py[line:108] - INFO: Set parameter MIPGap to value 0.01\n"
     ]
    },
    {
     "name": "stdout",
     "output_type": "stream",
     "text": [
      "Set parameter MIPGap to value 0.01\n"
     ]
    },
    {
     "name": "stderr",
     "output_type": "stream",
     "text": [
      "2022-09-26 14:11:42,553 - /Users/durian/Nutstore Files/Research/ID-SLP/public_code/approach/base_slp.py[line:108] - INFO: Set parameter MIPGap to value 0.01\n"
     ]
    },
    {
     "name": "stdout",
     "output_type": "stream",
     "text": [
      "Set parameter MIPGap to value 0.01\n"
     ]
    },
    {
     "name": "stderr",
     "output_type": "stream",
     "text": [
      "2022-09-26 14:11:42,576 - /Users/durian/Nutstore Files/Research/ID-SLP/public_code/approach/base_slp.py[line:108] - INFO: Set parameter MIPGap to value 0.01\n"
     ]
    },
    {
     "name": "stdout",
     "output_type": "stream",
     "text": [
      "Set parameter MIPGap to value 0.01\n"
     ]
    },
    {
     "name": "stderr",
     "output_type": "stream",
     "text": [
      "2022-09-26 14:11:42,598 - /Users/durian/Nutstore Files/Research/ID-SLP/public_code/approach/base_slp.py[line:108] - INFO: Set parameter MIPGap to value 0.01\n"
     ]
    },
    {
     "name": "stdout",
     "output_type": "stream",
     "text": [
      "Set parameter MIPGap to value 0.01\n"
     ]
    },
    {
     "name": "stderr",
     "output_type": "stream",
     "text": [
      "2022-09-26 14:11:42,620 - /Users/durian/Nutstore Files/Research/ID-SLP/public_code/approach/base_slp.py[line:108] - INFO: Set parameter MIPGap to value 0.01\n"
     ]
    },
    {
     "name": "stdout",
     "output_type": "stream",
     "text": [
      "Set parameter MIPGap to value 0.01\n"
     ]
    },
    {
     "name": "stderr",
     "output_type": "stream",
     "text": [
      "2022-09-26 14:11:42,643 - /Users/durian/Nutstore Files/Research/ID-SLP/public_code/approach/base_slp.py[line:108] - INFO: Set parameter MIPGap to value 0.01\n"
     ]
    },
    {
     "name": "stdout",
     "output_type": "stream",
     "text": [
      "Set parameter MIPGap to value 0.01\n"
     ]
    },
    {
     "name": "stderr",
     "output_type": "stream",
     "text": [
      "2022-09-26 14:11:42,666 - /Users/durian/Nutstore Files/Research/ID-SLP/public_code/approach/base_slp.py[line:108] - INFO: Set parameter MIPGap to value 0.01\n"
     ]
    },
    {
     "name": "stdout",
     "output_type": "stream",
     "text": [
      "Set parameter MIPGap to value 0.01\n"
     ]
    },
    {
     "name": "stderr",
     "output_type": "stream",
     "text": [
      "2022-09-26 14:11:42,688 - /Users/durian/Nutstore Files/Research/ID-SLP/public_code/approach/base_slp.py[line:108] - INFO: Set parameter MIPGap to value 0.01\n"
     ]
    },
    {
     "name": "stdout",
     "output_type": "stream",
     "text": [
      "Set parameter MIPGap to value 0.01\n"
     ]
    },
    {
     "name": "stderr",
     "output_type": "stream",
     "text": [
      "2022-09-26 14:11:42,711 - /Users/durian/Nutstore Files/Research/ID-SLP/public_code/approach/base_slp.py[line:108] - INFO: Set parameter MIPGap to value 0.01\n"
     ]
    },
    {
     "name": "stdout",
     "output_type": "stream",
     "text": [
      "Set parameter MIPGap to value 0.01\n"
     ]
    },
    {
     "name": "stderr",
     "output_type": "stream",
     "text": [
      "2022-09-26 14:11:42,734 - /Users/durian/Nutstore Files/Research/ID-SLP/public_code/approach/base_slp.py[line:108] - INFO: Set parameter MIPGap to value 0.01\n"
     ]
    },
    {
     "name": "stdout",
     "output_type": "stream",
     "text": [
      "Set parameter MIPGap to value 0.01\n"
     ]
    },
    {
     "name": "stderr",
     "output_type": "stream",
     "text": [
      "2022-09-26 14:11:42,756 - /Users/durian/Nutstore Files/Research/ID-SLP/public_code/approach/base_slp.py[line:108] - INFO: Set parameter MIPGap to value 0.01\n"
     ]
    },
    {
     "name": "stdout",
     "output_type": "stream",
     "text": [
      "Set parameter MIPGap to value 0.01\n"
     ]
    },
    {
     "name": "stderr",
     "output_type": "stream",
     "text": [
      "2022-09-26 14:11:42,779 - /Users/durian/Nutstore Files/Research/ID-SLP/public_code/approach/base_slp.py[line:108] - INFO: Set parameter MIPGap to value 0.01\n"
     ]
    },
    {
     "name": "stdout",
     "output_type": "stream",
     "text": [
      "Set parameter MIPGap to value 0.01\n"
     ]
    },
    {
     "name": "stderr",
     "output_type": "stream",
     "text": [
      "2022-09-26 14:11:42,802 - /Users/durian/Nutstore Files/Research/ID-SLP/public_code/approach/base_slp.py[line:108] - INFO: Set parameter MIPGap to value 0.01\n"
     ]
    },
    {
     "name": "stdout",
     "output_type": "stream",
     "text": [
      "Set parameter MIPGap to value 0.01\n"
     ]
    },
    {
     "name": "stderr",
     "output_type": "stream",
     "text": [
      "2022-09-26 14:11:42,825 - /Users/durian/Nutstore Files/Research/ID-SLP/public_code/approach/base_slp.py[line:108] - INFO: Set parameter MIPGap to value 0.01\n"
     ]
    },
    {
     "name": "stdout",
     "output_type": "stream",
     "text": [
      "Set parameter MIPGap to value 0.01\n"
     ]
    },
    {
     "name": "stderr",
     "output_type": "stream",
     "text": [
      "2022-09-26 14:11:42,847 - /Users/durian/Nutstore Files/Research/ID-SLP/public_code/approach/base_slp.py[line:108] - INFO: Set parameter MIPGap to value 0.01\n"
     ]
    },
    {
     "name": "stdout",
     "output_type": "stream",
     "text": [
      "Set parameter MIPGap to value 0.01\n"
     ]
    },
    {
     "name": "stderr",
     "output_type": "stream",
     "text": [
      "2022-09-26 14:11:42,869 - /Users/durian/Nutstore Files/Research/ID-SLP/public_code/approach/base_slp.py[line:108] - INFO: Set parameter MIPGap to value 0.01\n"
     ]
    },
    {
     "name": "stdout",
     "output_type": "stream",
     "text": [
      "This graph can be decomposed\n",
      "Set parameter MIPGap to value 0.01\n"
     ]
    },
    {
     "name": "stderr",
     "output_type": "stream",
     "text": [
      "2022-09-26 14:11:42,908 - /Users/durian/Nutstore Files/Research/ID-SLP/public_code/approach/base_slp.py[line:108] - INFO: Set parameter MIPGap to value 0.01\n"
     ]
    },
    {
     "name": "stdout",
     "output_type": "stream",
     "text": [
      "Set parameter MIPGap to value 0.01\n"
     ]
    },
    {
     "name": "stderr",
     "output_type": "stream",
     "text": [
      "2022-09-26 14:11:42,930 - /Users/durian/Nutstore Files/Research/ID-SLP/public_code/approach/base_slp.py[line:108] - INFO: Set parameter MIPGap to value 0.01\n"
     ]
    },
    {
     "name": "stdout",
     "output_type": "stream",
     "text": [
      "Set parameter MIPGap to value 0.01\n"
     ]
    },
    {
     "name": "stderr",
     "output_type": "stream",
     "text": [
      "2022-09-26 14:11:42,953 - /Users/durian/Nutstore Files/Research/ID-SLP/public_code/approach/base_slp.py[line:108] - INFO: Set parameter MIPGap to value 0.01\n"
     ]
    },
    {
     "name": "stdout",
     "output_type": "stream",
     "text": [
      "Set parameter MIPGap to value 0.01\n"
     ]
    },
    {
     "name": "stderr",
     "output_type": "stream",
     "text": [
      "2022-09-26 14:11:42,977 - /Users/durian/Nutstore Files/Research/ID-SLP/public_code/approach/base_slp.py[line:108] - INFO: Set parameter MIPGap to value 0.01\n"
     ]
    },
    {
     "name": "stdout",
     "output_type": "stream",
     "text": [
      "Set parameter MIPGap to value 0.01\n"
     ]
    },
    {
     "name": "stderr",
     "output_type": "stream",
     "text": [
      "2022-09-26 14:11:42,999 - /Users/durian/Nutstore Files/Research/ID-SLP/public_code/approach/base_slp.py[line:108] - INFO: Set parameter MIPGap to value 0.01\n"
     ]
    },
    {
     "name": "stdout",
     "output_type": "stream",
     "text": [
      "Set parameter MIPGap to value 0.01\n"
     ]
    },
    {
     "name": "stderr",
     "output_type": "stream",
     "text": [
      "2022-09-26 14:11:43,021 - /Users/durian/Nutstore Files/Research/ID-SLP/public_code/approach/base_slp.py[line:108] - INFO: Set parameter MIPGap to value 0.01\n"
     ]
    },
    {
     "name": "stdout",
     "output_type": "stream",
     "text": [
      "Set parameter MIPGap to value 0.01\n"
     ]
    },
    {
     "name": "stderr",
     "output_type": "stream",
     "text": [
      "2022-09-26 14:11:43,044 - /Users/durian/Nutstore Files/Research/ID-SLP/public_code/approach/base_slp.py[line:108] - INFO: Set parameter MIPGap to value 0.01\n"
     ]
    },
    {
     "name": "stdout",
     "output_type": "stream",
     "text": [
      "Set parameter MIPGap to value 0.01\n"
     ]
    },
    {
     "name": "stderr",
     "output_type": "stream",
     "text": [
      "2022-09-26 14:11:43,067 - /Users/durian/Nutstore Files/Research/ID-SLP/public_code/approach/base_slp.py[line:108] - INFO: Set parameter MIPGap to value 0.01\n"
     ]
    },
    {
     "name": "stdout",
     "output_type": "stream",
     "text": [
      "Set parameter MIPGap to value 0.01\n"
     ]
    },
    {
     "name": "stderr",
     "output_type": "stream",
     "text": [
      "2022-09-26 14:11:43,089 - /Users/durian/Nutstore Files/Research/ID-SLP/public_code/approach/base_slp.py[line:108] - INFO: Set parameter MIPGap to value 0.01\n"
     ]
    },
    {
     "name": "stdout",
     "output_type": "stream",
     "text": [
      "Set parameter MIPGap to value 0.01\n"
     ]
    },
    {
     "name": "stderr",
     "output_type": "stream",
     "text": [
      "2022-09-26 14:11:43,111 - /Users/durian/Nutstore Files/Research/ID-SLP/public_code/approach/base_slp.py[line:108] - INFO: Set parameter MIPGap to value 0.01\n"
     ]
    },
    {
     "name": "stdout",
     "output_type": "stream",
     "text": [
      "Set parameter MIPGap to value 0.01\n"
     ]
    },
    {
     "name": "stderr",
     "output_type": "stream",
     "text": [
      "2022-09-26 14:11:43,133 - /Users/durian/Nutstore Files/Research/ID-SLP/public_code/approach/base_slp.py[line:108] - INFO: Set parameter MIPGap to value 0.01\n"
     ]
    },
    {
     "name": "stdout",
     "output_type": "stream",
     "text": [
      "Set parameter MIPGap to value 0.01\n"
     ]
    },
    {
     "name": "stderr",
     "output_type": "stream",
     "text": [
      "2022-09-26 14:11:43,156 - /Users/durian/Nutstore Files/Research/ID-SLP/public_code/approach/base_slp.py[line:108] - INFO: Set parameter MIPGap to value 0.01\n"
     ]
    },
    {
     "name": "stdout",
     "output_type": "stream",
     "text": [
      "Set parameter MIPGap to value 0.01\n"
     ]
    },
    {
     "name": "stderr",
     "output_type": "stream",
     "text": [
      "2022-09-26 14:11:43,178 - /Users/durian/Nutstore Files/Research/ID-SLP/public_code/approach/base_slp.py[line:108] - INFO: Set parameter MIPGap to value 0.01\n"
     ]
    },
    {
     "name": "stdout",
     "output_type": "stream",
     "text": [
      "Set parameter MIPGap to value 0.01\n"
     ]
    },
    {
     "name": "stderr",
     "output_type": "stream",
     "text": [
      "2022-09-26 14:11:43,200 - /Users/durian/Nutstore Files/Research/ID-SLP/public_code/approach/base_slp.py[line:108] - INFO: Set parameter MIPGap to value 0.01\n"
     ]
    },
    {
     "name": "stdout",
     "output_type": "stream",
     "text": [
      "Set parameter MIPGap to value 0.01\n"
     ]
    },
    {
     "name": "stderr",
     "output_type": "stream",
     "text": [
      "2022-09-26 14:11:43,222 - /Users/durian/Nutstore Files/Research/ID-SLP/public_code/approach/base_slp.py[line:108] - INFO: Set parameter MIPGap to value 0.01\n"
     ]
    },
    {
     "name": "stdout",
     "output_type": "stream",
     "text": [
      "Set parameter MIPGap to value 0.01\n"
     ]
    },
    {
     "name": "stderr",
     "output_type": "stream",
     "text": [
      "2022-09-26 14:11:43,245 - /Users/durian/Nutstore Files/Research/ID-SLP/public_code/approach/base_slp.py[line:108] - INFO: Set parameter MIPGap to value 0.01\n"
     ]
    },
    {
     "name": "stdout",
     "output_type": "stream",
     "text": [
      "Set parameter MIPGap to value 0.01\n"
     ]
    },
    {
     "name": "stderr",
     "output_type": "stream",
     "text": [
      "2022-09-26 14:11:43,267 - /Users/durian/Nutstore Files/Research/ID-SLP/public_code/approach/base_slp.py[line:108] - INFO: Set parameter MIPGap to value 0.01\n"
     ]
    },
    {
     "name": "stdout",
     "output_type": "stream",
     "text": [
      "Set parameter MIPGap to value 0.01\n"
     ]
    },
    {
     "name": "stderr",
     "output_type": "stream",
     "text": [
      "2022-09-26 14:11:43,289 - /Users/durian/Nutstore Files/Research/ID-SLP/public_code/approach/base_slp.py[line:108] - INFO: Set parameter MIPGap to value 0.01\n"
     ]
    },
    {
     "name": "stdout",
     "output_type": "stream",
     "text": [
      "Set parameter MIPGap to value 0.01\n"
     ]
    },
    {
     "name": "stderr",
     "output_type": "stream",
     "text": [
      "2022-09-26 14:11:43,311 - /Users/durian/Nutstore Files/Research/ID-SLP/public_code/approach/base_slp.py[line:108] - INFO: Set parameter MIPGap to value 0.01\n"
     ]
    },
    {
     "name": "stdout",
     "output_type": "stream",
     "text": [
      "Set parameter MIPGap to value 0.01\n"
     ]
    },
    {
     "name": "stderr",
     "output_type": "stream",
     "text": [
      "2022-09-26 14:11:43,334 - /Users/durian/Nutstore Files/Research/ID-SLP/public_code/approach/base_slp.py[line:108] - INFO: Set parameter MIPGap to value 0.01\n"
     ]
    },
    {
     "name": "stdout",
     "output_type": "stream",
     "text": [
      "Set parameter MIPGap to value 0.01\n"
     ]
    },
    {
     "name": "stderr",
     "output_type": "stream",
     "text": [
      "2022-09-26 14:11:43,356 - /Users/durian/Nutstore Files/Research/ID-SLP/public_code/approach/base_slp.py[line:108] - INFO: Set parameter MIPGap to value 0.01\n"
     ]
    },
    {
     "name": "stdout",
     "output_type": "stream",
     "text": [
      "Set parameter MIPGap to value 0.01\n"
     ]
    },
    {
     "name": "stderr",
     "output_type": "stream",
     "text": [
      "2022-09-26 14:11:43,378 - /Users/durian/Nutstore Files/Research/ID-SLP/public_code/approach/base_slp.py[line:108] - INFO: Set parameter MIPGap to value 0.01\n"
     ]
    },
    {
     "name": "stdout",
     "output_type": "stream",
     "text": [
      "Set parameter MIPGap to value 0.01\n"
     ]
    },
    {
     "name": "stderr",
     "output_type": "stream",
     "text": [
      "2022-09-26 14:11:43,401 - /Users/durian/Nutstore Files/Research/ID-SLP/public_code/approach/base_slp.py[line:108] - INFO: Set parameter MIPGap to value 0.01\n"
     ]
    },
    {
     "name": "stdout",
     "output_type": "stream",
     "text": [
      "Set parameter MIPGap to value 0.01\n"
     ]
    },
    {
     "name": "stderr",
     "output_type": "stream",
     "text": [
      "2022-09-26 14:11:43,423 - /Users/durian/Nutstore Files/Research/ID-SLP/public_code/approach/base_slp.py[line:108] - INFO: Set parameter MIPGap to value 0.01\n"
     ]
    },
    {
     "name": "stdout",
     "output_type": "stream",
     "text": [
      "Set parameter MIPGap to value 0.01\n"
     ]
    },
    {
     "name": "stderr",
     "output_type": "stream",
     "text": [
      "2022-09-26 14:11:43,445 - /Users/durian/Nutstore Files/Research/ID-SLP/public_code/approach/base_slp.py[line:108] - INFO: Set parameter MIPGap to value 0.01\n"
     ]
    },
    {
     "name": "stdout",
     "output_type": "stream",
     "text": [
      "Set parameter MIPGap to value 0.01\n"
     ]
    },
    {
     "name": "stderr",
     "output_type": "stream",
     "text": [
      "2022-09-26 14:11:43,467 - /Users/durian/Nutstore Files/Research/ID-SLP/public_code/approach/base_slp.py[line:108] - INFO: Set parameter MIPGap to value 0.01\n"
     ]
    },
    {
     "name": "stdout",
     "output_type": "stream",
     "text": [
      "Set parameter MIPGap to value 0.01\n"
     ]
    },
    {
     "name": "stderr",
     "output_type": "stream",
     "text": [
      "2022-09-26 14:11:43,489 - /Users/durian/Nutstore Files/Research/ID-SLP/public_code/approach/base_slp.py[line:108] - INFO: Set parameter MIPGap to value 0.01\n"
     ]
    },
    {
     "name": "stdout",
     "output_type": "stream",
     "text": [
      "Set parameter MIPGap to value 0.01\n"
     ]
    },
    {
     "name": "stderr",
     "output_type": "stream",
     "text": [
      "2022-09-26 14:11:43,511 - /Users/durian/Nutstore Files/Research/ID-SLP/public_code/approach/base_slp.py[line:108] - INFO: Set parameter MIPGap to value 0.01\n"
     ]
    },
    {
     "name": "stdout",
     "output_type": "stream",
     "text": [
      "Set parameter MIPGap to value 0.01\n"
     ]
    },
    {
     "name": "stderr",
     "output_type": "stream",
     "text": [
      "2022-09-26 14:11:43,534 - /Users/durian/Nutstore Files/Research/ID-SLP/public_code/approach/base_slp.py[line:108] - INFO: Set parameter MIPGap to value 0.01\n"
     ]
    },
    {
     "name": "stdout",
     "output_type": "stream",
     "text": [
      "Set parameter MIPGap to value 0.01\n"
     ]
    },
    {
     "name": "stderr",
     "output_type": "stream",
     "text": [
      "2022-09-26 14:11:43,556 - /Users/durian/Nutstore Files/Research/ID-SLP/public_code/approach/base_slp.py[line:108] - INFO: Set parameter MIPGap to value 0.01\n"
     ]
    },
    {
     "name": "stdout",
     "output_type": "stream",
     "text": [
      "Set parameter MIPGap to value 0.01\n"
     ]
    },
    {
     "name": "stderr",
     "output_type": "stream",
     "text": [
      "2022-09-26 14:11:43,579 - /Users/durian/Nutstore Files/Research/ID-SLP/public_code/approach/base_slp.py[line:108] - INFO: Set parameter MIPGap to value 0.01\n"
     ]
    },
    {
     "name": "stdout",
     "output_type": "stream",
     "text": [
      "Set parameter MIPGap to value 0.01\n"
     ]
    },
    {
     "name": "stderr",
     "output_type": "stream",
     "text": [
      "2022-09-26 14:11:43,600 - /Users/durian/Nutstore Files/Research/ID-SLP/public_code/approach/base_slp.py[line:108] - INFO: Set parameter MIPGap to value 0.01\n",
      "2022-09-26 14:11:43,619 - /Users/durian/Nutstore Files/Research/ID-SLP/public_code/utils/gsm_utils.py[line:7] - INFO: ID-SLP_GRB_safety stock cost is 42893412604.58\n",
      "2022-09-26 14:11:43,621 - /Users/durian/Nutstore Files/Research/ID-SLP/public_code/utils/utils.py[line:31] - DEBUG: func @get_policy use 31.66556 (s)\n"
     ]
    },
    {
     "name": "stdout",
     "output_type": "stream",
     "text": [
      "This graph can not be decomposed\n"
     ]
    }
   ],
   "source": [
    "task.run(solver='GRB')\n",
    "task_data_dir = instance_data_dir + task_id + '/'\n",
    "task.write_to_csv(data_dir=task_data_dir)"
   ]
  },
  {
   "cell_type": "markdown",
   "id": "448d1526",
   "metadata": {},
   "source": [
    "## Reference\n",
    "- Eruguz AS, Sahin E, Jemai Z, Dallery Y (2016) A comprehensive survey of guaranteed-service models for multi-echelon inventory optimization. International Journal of Production Economics 172:110–125. https://doi.org/10.1016/j.ijpe.2015.11.017\n",
    "- Graves SC, Willems SP (2000) Optimizing strategic safety stock placement in supply chains. M&SOM 2:68–83. https://doi.org/10.1287/msom.2.1.68.23267\n",
    "- Huang D, Yu J, Yang C (2022) Optimizing Large-scale Inventory Networks: An Iterative Decomposition Approach.\n",
    "- Humair S, Willems SP (2011) TECHNICAL NOTE—Optimizing Strategic Safety Stock Placement in General Acyclic Networks. Operations Research 59:781–787. https://doi.org/10.1287/opre.1100.0913\n",
    "- Magnanti TL, Shen Z-JM, Shu J, et al (2006) Inventory placement in acyclic supply chain networks. Operations Research Letters 34:228–238\n",
    "- Shu J, Karimi IA (2009) Efficient heuristics for inventory placement in acyclic networks. Computers & Operations Research 36:2899–2904. https://doi.org/10.1016/j.cor.2009.01.001\n"
   ]
  },
  {
   "cell_type": "markdown",
   "id": "27744db6",
   "metadata": {},
   "source": []
  }
 ],
 "metadata": {
  "kernelspec": {
   "display_name": "py39",
   "language": "python",
   "name": "py39"
  },
  "language_info": {
   "codemirror_mode": {
    "name": "ipython",
    "version": 3
   },
   "file_extension": ".py",
   "mimetype": "text/x-python",
   "name": "python",
   "nbconvert_exporter": "python",
   "pygments_lexer": "ipython3",
   "version": "3.9.10"
  }
 },
 "nbformat": 4,
 "nbformat_minor": 5
}
