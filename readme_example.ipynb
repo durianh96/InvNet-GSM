{
 "cells": [
  {
   "cell_type": "markdown",
   "id": "e3e3bff0",
   "metadata": {
    "pycharm": {
     "name": "#%% md\n"
    }
   },
   "source": [
    "# Inventory Network Optimization (InvNet) GSM-Lab"
   ]
  },
  {
   "cell_type": "markdown",
   "id": "b50a63fc",
   "metadata": {},
   "source": [
    "This library is based on our paper:\n",
    "- Huang D, Yu J, Yang C, Optimizing large-scale inventory networks: An iterative decomposition approach (Revision at EJOR).\n",
    "\n",
    "This library provides the Python codes for data loading, data generation and all methods considered in this paper.\n",
    "\n",
    "If you encounter any significant bugs, then please contact [Diyuan Huang](huang.diyuan96@gmail.com)."
   ]
  },
  {
   "cell_type": "markdown",
   "id": "81bbc364",
   "metadata": {},
   "source": [
    "Optimizing safety stock placement on a large-scale inventory network is challenging since it may involve a massive number of nodes and many shared materials. \n",
    "\n",
    "From a structural perspective, a supply chain can be viewed as a collection of connected facilities, ranging from suppliers' warehouses, factories, and distribution centers to the end sales channels.\n",
    "The flow of materials through these facilities can be modeled as an inventory network. \n",
    "The following figure shows some inventory networks with different structures. The blue cycles represent facilities.\n",
    "\n",
    "![Different network structures for inventory networks](pics/net_ex1.png)\n"
   ]
  },
  {
   "cell_type": "markdown",
   "id": "3c09b176",
   "metadata": {},
   "source": [
    "The material at each facility is a potential inventory stocking node. We abbreviate it as \"node\", indicated as black dots in figures. \n",
    "The transportation and assembly relationships are modeled as directed edges (grey arrows). \n",
    "From a topological point of view, the inventory network is a directed acyclic graph (DAG) composed of these nodes and edges.\n",
    "\n",
    "In practice, the inventory network is complex and usually not a simple tree structure, especially when the production process is incorporated into the network. This process often has many components, which are shared to produce different assemblies. \n",
    "\n",
    "Coping with uncertainty is one of the most significant issues for real-world supply chain management. The optimization of where to place decoupling inventories that protect one part of the supply chain from another can effectively enhance the resilience of the supply network to deal with uncertainties, and improve the operational efficiency of the network. \n",
    "However, inventory management for networks under uncertainty is challenging even for the tree structure. \n",
    "\n",
    "Deriving optimal structural policies for pure distribution and assembly network is intractable due to the complex non-linearity of the cost functions and the well-known curse of dimensionality in dynamic programming (de Kok et al. 2018). \n",
    "\n",
    "Unfortunately, real-world problems usually have a general network structure and often contain a large number of nodes.\n",
    "\"General\" means a node can have multiple upstream nodes and multiple downstream nodes.\n",
    "In the management of such networks, it is necessary to consider both the distribution of materials and the assembly relationships. \n",
    "\n",
    "![Prototype of an inventory network](pics/net_ex2.png)"
   ]
  },
  {
   "cell_type": "markdown",
   "id": "dc552f7c",
   "metadata": {},
   "source": [
    "Two critical issues that arise for inventory networks are:\n",
    "- choosing which nodes to place inventory \n",
    "- how much to set"
   ]
  },
  {
   "cell_type": "markdown",
   "id": "b3727704",
   "metadata": {},
   "source": [
    "The guaranteed service model (GSM) is one of the main approaches to optimizing network inventory policy. \n",
    "We recommend the users to (Graves and Willems 2000), (Eruguz et al. 2016) and (Huang et al. 2022) for more details about the basics of GSM.\n"
   ]
  },
  {
   "cell_type": "markdown",
   "id": "e0fa665c",
   "metadata": {},
   "source": [
    "## Approaches considered in this library"
   ]
  },
  {
   "cell_type": "markdown",
   "id": "ae93dd3c",
   "metadata": {},
   "source": [
    "This library provides several approaches to solve the GSM to optimize network inventory policy.\n",
    "Readers can either input a GSM instance or specify several parameters to generate an instance, and then run the different methods to find solutions and compare their performance."
   ]
  },
  {
   "cell_type": "markdown",
   "id": "7756664b",
   "metadata": {},
   "source": [
    "We design a novel approach, called the **iterative decomposition (ID-SLP) approach**, to efficiently solve the guaranteed service model (GSM) to optimize the inventory policy for large-scale inventory networks.\n",
    "\n",
    "This approach decomposes the problem iteratively by analyzing local solutions obtained from a non-convex optimization method (sequential linear programming) and selecting the appropriate algorithm to solve each sub-problem based on its specific network structure.\n",
    "\n",
    "This figure shows the framework of our iterative decomposition approach:\n",
    "\n",
    "![The framework of the Iterative Decomposition Approach](pics/id.png)"
   ]
  },
  {
   "cell_type": "markdown",
   "id": "1d280664",
   "metadata": {},
   "source": [
    "It has three main steps: \n",
    "\n",
    "1. Finding local solutions for general structure GSM Instance.\n",
    "\n",
    "    In this step, we use sequential linear programming (SLP, also called successive linear programming), a local optimization method that iteratively approximates the original non-convex GSM problem with linear sub-problems to find local solutions. The parameter *local sol num* stands for how many local solutions need to be found.\n",
    "\n",
    "2. Finding stable nodes from local solutions.\n",
    "   \n",
    "    We try to find stable nodes by selecting those nodes whose variable values are consistent across the local solutions. \n",
    "    We use the coefficient of variation (CV, the ratio of the standard deviation to the mean) to assess whether a node is stable. \n",
    "    *Stability threshold* is a parameter need to be tuned in practice.\n",
    "    It determines whether the network can be decomposed. \n",
    "\n",
    "3. Decompose the GSM instance from stable nodes and build sub-instances.\n",
    "\n",
    "For more details, please refer to our paper (Huang et al. 2022)."
   ]
  },
  {
   "cell_type": "markdown",
   "id": "f1667af5",
   "metadata": {
    "pycharm": {
     "name": "#%% md\n"
    }
   },
   "source": [
    "Other seven approaches of solving GSM are provided in this library: \n",
    "\n",
    "- **Dynamic programming (GW-DP)** from (Graves and Willems 2000).\n",
    "  This approach was designed for tree networks; it takes advantage of the fact that in any tree, each node can be labeled with a unique index such that every node except one has at most one adjacent node with an index higher than its own.\n",
    "\n",
    "- **Heuristic general networks algorithm (HGNA)** from (Humair and Willems 2011).\n",
    "  This paper combines the GW-DP algorithm with a branch-and-bound scheme and provides an exact solution approach called the **general networks algorithm (GNA)**.\n",
    "  GNA can find optimal solutions for general networks, but takes a long time to find the solution for large-scale problems (the authors provide an example 2,025-node problem that takes 577,190.78 seconds to find the optimal solution). The authors also provide two faster heuristics: **HGNA** and **TGNA**. \n",
    "  HGNA is motivated by the structure of the formulation's dual space, whereas TGNA simply terminates the optimization algorithm after a fixed number of iterations.\n",
    "  We found that compared with TGNA, HGNA takes a long time to find solutions to large-scale problems but is able to find a lower-cost solution.  \n",
    "  We add a parameter *max iter num* to terminate HGNA after a fixed number of iterations, like TGNA. \n",
    "  With larger *max iter num*, the quality of the solution will be higher, while the solution time will increase.\n",
    "\n",
    "- **Piecewise linear approximation (PWL)** from (Magnanti et al. 2006).\n",
    "  This approach uses piecewise linear functions to approximate the GSM's objective function. This turns the original GSM into a mixed integer programming (MIP) problem that can be solved with an MIP solver. We will terminate the solver and return the results when the gap between the lower and upper objective bounds is less than *opt gap*, times the absolute value of the incumbent objective value.\n",
    "  With smaller *opt gap*, the quality of the solution will be higher, while the solution time will increase.\n",
    "\n",
    "- **Dynamic sloping (DS)** and **iterative mixed integer programming (IMIP)** from (Shu and Karimi 2009). \n",
    "  This paper provides two efficient iterative heuristics, DS and IMIP. The DS uses continuous approximation, while the IMIP employs a two-piece linear approximation to approximate the concave objective function. Accordingly, the DS needs to solve a linear problem and the IMIP needs to solve a MIP problem iteratively.  In their numerical studies, the IMIP outperforms the DS in solution quality consistently and the latter outperforms the former in solution speed consistently. A noteworthy feature of these two approaches is that the quality of solutions does not deteriorate with an increase in network size.   \n",
    "\n",
    "- **Simulated annealing (SA)** from (Grahl et al. 2016).\n",
    "  This paper investigates the performance of three meta-heuristics, local search, genetic algorithm, and simulated annealing on solving GSM. SA outperforms the other two meta-heuristics with respect to speed and solution quality. \n",
    "  Therefore we choose SA as a representative of meta-heuristics. \n",
    "\n",
    "- **Simple sequential linear programming (Simple-SLP)** from (Huang et al. 2022).\n",
    "  In the ID approach, if the underlying graph can not be decomposed, we then simply output the local solution with the smallest total inventory cost. \n",
    "  We can also apply this approach directly to solve for GSM without decomposition.\n",
    "  We call this approach **Simple-SLP**. The parameter *local sol num* stands for how many local solutions need to be found. With larger *local sol num*, more local solutions will be found.\n",
    "  Therefore, the possibility of finding a lower-cost solution will also be higher. "
   ]
  },
  {
   "cell_type": "markdown",
   "id": "6f540c28",
   "metadata": {},
   "source": [
    "## Data loading and  generating"
   ]
  },
  {
   "cell_type": "markdown",
   "id": "bf18f4a0",
   "metadata": {},
   "source": [
    "A GSM instance $i$ contains a graph $\\mathcal{G}_i = (\\mathcal{N}_i, \\mathcal{A}_i)$, all properties of nodes and edges related to GSM, including demand functions, unit holding costs, lead times, and service time requirements for demand nodes.\n",
    "\n",
    "The reader can input the number of edges and nodes and the network structure to generate a graph, then generate properties on the generated graph. Or input a graph and then generate properties.\n",
    "\n",
    "We highly recommend generating related data at least once to understand how to prepare their own instance for users who want to import their self-data."
   ]
  },
  {
   "cell_type": "markdown",
   "id": "f42afc21",
   "metadata": {},
   "source": [
    "First, we import some functions for data processing:"
   ]
  },
  {
   "cell_type": "code",
   "execution_count": 1,
   "id": "9f6bd054",
   "metadata": {},
   "outputs": [],
   "source": [
    "from utils.edges_loader import edges_loading_from_willems, edges_loading_from_huang\n",
    "from utils.edges_generator import edges_generating_by_type\n",
    "from gsm.generator.gsm_instance_generator import gsm_instance_generating_given_paras_ranges"
   ]
  },
  {
   "cell_type": "markdown",
   "id": "211c5dab",
   "metadata": {},
   "source": [
    "User can load their own edges or generating edges then building an instance. \n",
    "We provide two exist graph resource for papers. And provide a edges generation function for users."
   ]
  },
  {
   "cell_type": "markdown",
   "id": "11c04f5f",
   "metadata": {},
   "source": [
    "We provide function **'edges_loading_from_willems'** to load edges from (Willems 2008).\n",
    "This paper provides 38 real supply chains, which all have a general network structure.\n",
    "They are also used in Section 4.1 of (Huang et al. 2022).\n",
    "The parameter *data_id* stands for the index of their chains.\n",
    "\n",
    "Take chain 10 as an example, we can load the edges with the following codes:"
   ]
  },
  {
   "cell_type": "code",
   "execution_count": 2,
   "id": "b03041e4",
   "metadata": {},
   "outputs": [
    {
     "name": "stdout",
     "output_type": "stream",
     "text": [
      "[('N006', 'N054'), ('N026', 'N053'), ('N001', 'N055'), ('N012', 'N052'), ('N050', 'N056')]\n"
     ]
    }
   ],
   "source": [
    "willems_edges = edges_loading_from_willems(data_id=10)\n",
    "print(willems_edges[:5])"
   ]
  },
  {
   "cell_type": "markdown",
   "id": "8d7efc98",
   "metadata": {},
   "source": [
    " We provide function **'edges_loading_from_huang'** to load edges presented in Table 4 of (Huang et al. 2022).\n",
    " the parameter *avg degree* stands for the average degree of those four graphs.\n",
    " \n",
    " To load the corresponding edges with average degree equals to 5, we can:"
   ]
  },
  {
   "cell_type": "code",
   "execution_count": 3,
   "id": "9e7e0fa6",
   "metadata": {},
   "outputs": [],
   "source": [
    "huang_edges = edges_loading_from_huang(avg_deg=5)"
   ]
  },
  {
   "cell_type": "markdown",
   "id": "ac7e3f75",
   "metadata": {},
   "source": [
    "We provide function **'edges_generating_by_type'** to generate graphs with the specified number of nodes, number of edges, and network structure. \n",
    "\n",
    "The idea is presented in Section 4.2 of (Huang et al. 2022). \n",
    "To use it, users need to specify the following three parameters:\n",
    "\n",
    "- *nodes num*: the number of nodes.\n",
    "- *edges num*: the number of edges (can be empty for serial, assembly, and distribution graph).\n",
    "- *graph type*: the graph structure, it can be 'serial', 'assembly', 'distribution' and 'general'."
   ]
  },
  {
   "cell_type": "markdown",
   "id": "88173732",
   "metadata": {},
   "source": [
    "For example, we can generate a general structure graph with 1000 nodes and 5000 edges: "
   ]
  },
  {
   "cell_type": "code",
   "execution_count": 4,
   "id": "b0a9d02a",
   "metadata": {},
   "outputs": [],
   "source": [
    "nodes_num = 1000\n",
    "edges_num = 5000\n",
    "graph_type = 'GENERAL'\n",
    "random_edges = edges_generating_by_type(nodes_num=nodes_num, edges_num=edges_num, graph_type=graph_type)"
   ]
  },
  {
   "cell_type": "markdown",
   "id": "7ef68475",
   "metadata": {},
   "source": [
    "We provide function **'gsm_instance_generating_given_paras_ranges'** to generate random properties and build an GSM instance. The idea is presented in Appendix A of (Huang et al. 2022).\n",
    "To use it, users need to specify the following parameters:\n",
    "\n",
    "- *qty lb* and *qty ub*: the edge proportion range that are set to 1 and 3 as default;\n",
    "- *lt lb* and *lt ub*: the lead time range that are set to 1 and 10 as default;\n",
    "- *hc lb* and *hc ub*: the holding cost range that are set to 0 and 1 as default;\n",
    "- *sla lt lb* and *sla lt ub*: the service time requirement range that are set to 0 and 10 as default;\n",
    "- *demand mean lb* and *demand mean ub*: the demand mean range that are set to 50 and 100 as default;\n",
    "- *demand std lb* and *demand std ub*: the demand standard deviation range that are set to 1 and 10 as default;\n",
    "- *tau*: the service level that is set to 0.95 as the default."
   ]
  },
  {
   "cell_type": "markdown",
   "id": "0d635a77",
   "metadata": {},
   "source": [
    "With this function and the default parameters, we can generate three instances for the above three edges: "
   ]
  },
  {
   "cell_type": "code",
   "execution_count": 5,
   "id": "401e599d",
   "metadata": {},
   "outputs": [],
   "source": [
    "willems_gsm_instance = gsm_instance_generating_given_paras_ranges(instance_id='INSTANCE_01', edges=willems_edges)\n",
    "huang_gsm_instance = gsm_instance_generating_given_paras_ranges(instance_id='INSTANCE_02', edges=huang_edges)\n",
    "random_gsm_instance = gsm_instance_generating_given_paras_ranges(instance_id='INSTANCE_03', edges=random_edges)"
   ]
  },
  {
   "cell_type": "markdown",
   "id": "61e2029d",
   "metadata": {
    "pycharm": {
     "name": "#%% md\n"
    }
   },
   "source": [
    "## Inventory policy optimizing"
   ]
  },
  {
   "cell_type": "markdown",
   "id": "bc36a5e8",
   "metadata": {
    "pycharm": {
     "name": "#%% md\n"
    }
   },
   "source": [
    "To optimize the inventory policy on given instance, users first need to create a task, and specify:\n",
    "- *task id*: the unique index of the task.\n",
    "- *gsm_instance*: the instance that need to optimized.\n",
    "- *approach name*: the solving approach. \n",
    "\n",
    "As mentioned before, for general structure problems, we provide seven approaches:\n",
    "- 'HGNA'\n",
    "- 'PWL'\n",
    "- 'DS'\n",
    "- 'IMIP'\n",
    "- 'SA'\n",
    "- 'Simple-SLP'\n",
    "- 'ID-SLP'\n",
    "\n",
    "The default parameters of these approaches is given in 'solving_default_paras.py'. More details about them can be found in (Huang et al. 2022)."
   ]
  },
  {
   "cell_type": "markdown",
   "id": "0fd1ccdc",
   "metadata": {},
   "source": [
    "For example, we can create three tasks from above instances with HGNA, DS and ID-SLP, respectively."
   ]
  },
  {
   "cell_type": "code",
   "execution_count": 7,
   "id": "a90cdc12",
   "metadata": {},
   "outputs": [],
   "source": [
    "from gsm.gsm_task import GSMTask\n",
    "willems_task = GSMTask(task_id='TASK_01', gsm_instance=willems_gsm_instance, approach_name='HGNA')\n",
    "huang_task = GSMTask(task_id='TASK_02', gsm_instance=huang_gsm_instance, approach_name='DS')\n",
    "random_task = GSMTask(task_id='TASK_03', gsm_instance=huang_gsm_instance, approach_name='ID-SLP')"
   ]
  },
  {
   "cell_type": "markdown",
   "id": "552f9a6b",
   "metadata": {},
   "source": [
    "For the first task loaded, we optimize the inventory policy with HGNA:"
   ]
  },
  {
   "cell_type": "code",
   "execution_count": 8,
   "id": "5be67f32",
   "metadata": {},
   "outputs": [
    {
     "name": "stderr",
     "output_type": "stream",
     "text": [
      "2023-03-08 20:25:53,277 - /Users/durian/Nutstore Files/Research/InvNet/gsm/gsm_sol.py[line:249] - INFO: HGNA_safety stock cost is 1507.64\n",
      "2023-03-08 20:25:53,278 - /Users/durian/Nutstore Files/Research/InvNet/utils/system_utils.py[line:29] - DEBUG: func @get_policy use 1.16721 (s)\n"
     ]
    }
   ],
   "source": [
    "willems_task.run()"
   ]
  },
  {
   "cell_type": "markdown",
   "id": "af976d95",
   "metadata": {
    "pycharm": {
     "name": "#%% md\n"
    }
   },
   "source": [
    "Except for the HGNA and SA, users can specify the solver for other approaches that involve solving linear or integer programming problems. \n",
    "We provide Gurobi (https://www.gurobi.com/) and COPT (https://www.shanshu.ai/copt) choices with their naive Python interface. We also use pyomo 6.4.2 for unified modeling in our library so that the reader can use any solver supported by pyomo."
   ]
  },
  {
   "cell_type": "markdown",
   "id": "c2892469",
   "metadata": {
    "pycharm": {
     "name": "#%% md\n"
    }
   },
   "source": [
    "We provide five choices of solver:\n",
    "- *GRB* uses the Gurobi interface of Python.\n",
    "- *COPT* uses the COPT interface of Python.\n",
    "- *PYO_GRB* uses the pyomo to model and solve with Gurobi.\n",
    "- *PYO_COPT* uses the pyomo to model and solve with COPT.\n",
    "- *PYO_CBC* uses the pyomo to model and solve with COIN-CBC."
   ]
  },
  {
   "cell_type": "markdown",
   "id": "c11f1f81",
   "metadata": {
    "pycharm": {
     "name": "#%% md\n"
    }
   },
   "source": [
    "For more solvers such as Cplex, GLPK and SCIP, users can slightly modify the code of approach to add support."
   ]
  },
  {
   "cell_type": "markdown",
   "id": "9e16a30c",
   "metadata": {
    "pycharm": {
     "name": "#%% md\n"
    }
   },
   "source": [
    "Here, for the left two tasks generated from (Huang et al. 2022), we use Gurobi to optimize the policy with DS and ID-SLP approach: "
   ]
  },
  {
   "cell_type": "code",
   "execution_count": 9,
   "id": "402584f7",
   "metadata": {
    "pycharm": {
     "name": "#%%\n"
    }
   },
   "outputs": [
    {
     "name": "stdout",
     "output_type": "stream",
     "text": [
      "Set parameter MIPGap to value 0.01\n"
     ]
    },
    {
     "name": "stderr",
     "output_type": "stream",
     "text": [
      "2023-03-08 20:26:02,993 - /Users/durian/Nutstore Files/Research/InvNet/gsm/gsm_solving_approach/ds.py[line:118] - INFO: Set parameter MIPGap to value 0.01\n"
     ]
    },
    {
     "name": "stdout",
     "output_type": "stream",
     "text": [
      "Set parameter MIPGap to value 0.01\n"
     ]
    },
    {
     "name": "stderr",
     "output_type": "stream",
     "text": [
      "2023-03-08 20:26:03,351 - /Users/durian/Nutstore Files/Research/InvNet/gsm/gsm_solving_approach/ds.py[line:118] - INFO: Set parameter MIPGap to value 0.01\n"
     ]
    },
    {
     "name": "stdout",
     "output_type": "stream",
     "text": [
      "Set parameter MIPGap to value 0.01\n"
     ]
    },
    {
     "name": "stderr",
     "output_type": "stream",
     "text": [
      "2023-03-08 20:26:03,857 - /Users/durian/Nutstore Files/Research/InvNet/gsm/gsm_solving_approach/ds.py[line:118] - INFO: Set parameter MIPGap to value 0.01\n"
     ]
    },
    {
     "name": "stdout",
     "output_type": "stream",
     "text": [
      "Set parameter MIPGap to value 0.01\n"
     ]
    },
    {
     "name": "stderr",
     "output_type": "stream",
     "text": [
      "2023-03-08 20:26:04,297 - /Users/durian/Nutstore Files/Research/InvNet/gsm/gsm_solving_approach/ds.py[line:118] - INFO: Set parameter MIPGap to value 0.01\n"
     ]
    },
    {
     "name": "stdout",
     "output_type": "stream",
     "text": [
      "Set parameter MIPGap to value 0.01\n"
     ]
    },
    {
     "name": "stderr",
     "output_type": "stream",
     "text": [
      "2023-03-08 20:26:04,806 - /Users/durian/Nutstore Files/Research/InvNet/gsm/gsm_solving_approach/ds.py[line:118] - INFO: Set parameter MIPGap to value 0.01\n"
     ]
    },
    {
     "name": "stdout",
     "output_type": "stream",
     "text": [
      "Set parameter MIPGap to value 0.01\n"
     ]
    },
    {
     "name": "stderr",
     "output_type": "stream",
     "text": [
      "2023-03-08 20:26:05,196 - /Users/durian/Nutstore Files/Research/InvNet/gsm/gsm_solving_approach/ds.py[line:118] - INFO: Set parameter MIPGap to value 0.01\n"
     ]
    },
    {
     "name": "stdout",
     "output_type": "stream",
     "text": [
      "Set parameter MIPGap to value 0.01\n"
     ]
    },
    {
     "name": "stderr",
     "output_type": "stream",
     "text": [
      "2023-03-08 20:26:05,532 - /Users/durian/Nutstore Files/Research/InvNet/gsm/gsm_solving_approach/ds.py[line:118] - INFO: Set parameter MIPGap to value 0.01\n"
     ]
    },
    {
     "name": "stdout",
     "output_type": "stream",
     "text": [
      "Set parameter MIPGap to value 0.01\n"
     ]
    },
    {
     "name": "stderr",
     "output_type": "stream",
     "text": [
      "2023-03-08 20:26:05,888 - /Users/durian/Nutstore Files/Research/InvNet/gsm/gsm_solving_approach/ds.py[line:118] - INFO: Set parameter MIPGap to value 0.01\n"
     ]
    },
    {
     "name": "stdout",
     "output_type": "stream",
     "text": [
      "Set parameter MIPGap to value 0.01\n"
     ]
    },
    {
     "name": "stderr",
     "output_type": "stream",
     "text": [
      "2023-03-08 20:26:06,291 - /Users/durian/Nutstore Files/Research/InvNet/gsm/gsm_solving_approach/ds.py[line:118] - INFO: Set parameter MIPGap to value 0.01\n"
     ]
    },
    {
     "name": "stdout",
     "output_type": "stream",
     "text": [
      "Set parameter MIPGap to value 0.01\n"
     ]
    },
    {
     "name": "stderr",
     "output_type": "stream",
     "text": [
      "2023-03-08 20:26:06,620 - /Users/durian/Nutstore Files/Research/InvNet/gsm/gsm_solving_approach/ds.py[line:118] - INFO: Set parameter MIPGap to value 0.01\n"
     ]
    },
    {
     "name": "stdout",
     "output_type": "stream",
     "text": [
      "Set parameter MIPGap to value 0.01\n"
     ]
    },
    {
     "name": "stderr",
     "output_type": "stream",
     "text": [
      "2023-03-08 20:26:06,972 - /Users/durian/Nutstore Files/Research/InvNet/gsm/gsm_solving_approach/ds.py[line:118] - INFO: Set parameter MIPGap to value 0.01\n"
     ]
    },
    {
     "name": "stdout",
     "output_type": "stream",
     "text": [
      "Set parameter MIPGap to value 0.01\n"
     ]
    },
    {
     "name": "stderr",
     "output_type": "stream",
     "text": [
      "2023-03-08 20:26:07,423 - /Users/durian/Nutstore Files/Research/InvNet/gsm/gsm_solving_approach/ds.py[line:118] - INFO: Set parameter MIPGap to value 0.01\n",
      "2023-03-08 20:26:07,654 - /Users/durian/Nutstore Files/Research/InvNet/gsm/gsm_sol.py[line:249] - INFO: DynamicSloping_GRB_safety stock cost is 81552684.31\n",
      "2023-03-08 20:26:07,656 - /Users/durian/Nutstore Files/Research/InvNet/utils/system_utils.py[line:29] - DEBUG: func @get_policy use 4.849629 (s)\n"
     ]
    }
   ],
   "source": [
    "huang_task.run(solver='GRB')"
   ]
  },
  {
   "cell_type": "code",
   "execution_count": 10,
   "id": "53d475a1",
   "metadata": {},
   "outputs": [
    {
     "name": "stdout",
     "output_type": "stream",
     "text": [
      "Set parameter MIPGap to value 0.01\n"
     ]
    },
    {
     "name": "stderr",
     "output_type": "stream",
     "text": [
      "2023-03-08 20:26:10,585 - /Users/durian/Nutstore Files/Research/InvNet/gsm/gsm_solving_approach/base_slp.py[line:147] - INFO: Set parameter MIPGap to value 0.01\n"
     ]
    },
    {
     "name": "stdout",
     "output_type": "stream",
     "text": [
      "Set parameter MIPGap to value 0.01\n"
     ]
    },
    {
     "name": "stderr",
     "output_type": "stream",
     "text": [
      "2023-03-08 20:26:11,041 - /Users/durian/Nutstore Files/Research/InvNet/gsm/gsm_solving_approach/base_slp.py[line:147] - INFO: Set parameter MIPGap to value 0.01\n"
     ]
    },
    {
     "name": "stdout",
     "output_type": "stream",
     "text": [
      "Set parameter MIPGap to value 0.01\n"
     ]
    },
    {
     "name": "stderr",
     "output_type": "stream",
     "text": [
      "2023-03-08 20:26:11,365 - /Users/durian/Nutstore Files/Research/InvNet/gsm/gsm_solving_approach/base_slp.py[line:147] - INFO: Set parameter MIPGap to value 0.01\n"
     ]
    },
    {
     "name": "stdout",
     "output_type": "stream",
     "text": [
      "Set parameter MIPGap to value 0.01\n"
     ]
    },
    {
     "name": "stderr",
     "output_type": "stream",
     "text": [
      "2023-03-08 20:26:11,694 - /Users/durian/Nutstore Files/Research/InvNet/gsm/gsm_solving_approach/base_slp.py[line:147] - INFO: Set parameter MIPGap to value 0.01\n"
     ]
    },
    {
     "name": "stdout",
     "output_type": "stream",
     "text": [
      "Set parameter MIPGap to value 0.01\n"
     ]
    },
    {
     "name": "stderr",
     "output_type": "stream",
     "text": [
      "2023-03-08 20:26:12,003 - /Users/durian/Nutstore Files/Research/InvNet/gsm/gsm_solving_approach/base_slp.py[line:147] - INFO: Set parameter MIPGap to value 0.01\n"
     ]
    },
    {
     "name": "stdout",
     "output_type": "stream",
     "text": [
      "Set parameter MIPGap to value 0.01\n"
     ]
    },
    {
     "name": "stderr",
     "output_type": "stream",
     "text": [
      "2023-03-08 20:26:12,377 - /Users/durian/Nutstore Files/Research/InvNet/gsm/gsm_solving_approach/base_slp.py[line:147] - INFO: Set parameter MIPGap to value 0.01\n"
     ]
    },
    {
     "name": "stdout",
     "output_type": "stream",
     "text": [
      "Set parameter MIPGap to value 0.01\n"
     ]
    },
    {
     "name": "stderr",
     "output_type": "stream",
     "text": [
      "2023-03-08 20:26:12,679 - /Users/durian/Nutstore Files/Research/InvNet/gsm/gsm_solving_approach/base_slp.py[line:147] - INFO: Set parameter MIPGap to value 0.01\n"
     ]
    },
    {
     "name": "stdout",
     "output_type": "stream",
     "text": [
      "Set parameter MIPGap to value 0.01\n"
     ]
    },
    {
     "name": "stderr",
     "output_type": "stream",
     "text": [
      "2023-03-08 20:26:13,060 - /Users/durian/Nutstore Files/Research/InvNet/gsm/gsm_solving_approach/base_slp.py[line:147] - INFO: Set parameter MIPGap to value 0.01\n"
     ]
    },
    {
     "name": "stdout",
     "output_type": "stream",
     "text": [
      "Set parameter MIPGap to value 0.01\n"
     ]
    },
    {
     "name": "stderr",
     "output_type": "stream",
     "text": [
      "2023-03-08 20:26:13,470 - /Users/durian/Nutstore Files/Research/InvNet/gsm/gsm_solving_approach/base_slp.py[line:147] - INFO: Set parameter MIPGap to value 0.01\n"
     ]
    },
    {
     "name": "stdout",
     "output_type": "stream",
     "text": [
      "Set parameter MIPGap to value 0.01\n"
     ]
    },
    {
     "name": "stderr",
     "output_type": "stream",
     "text": [
      "2023-03-08 20:26:13,780 - /Users/durian/Nutstore Files/Research/InvNet/gsm/gsm_solving_approach/base_slp.py[line:147] - INFO: Set parameter MIPGap to value 0.01\n"
     ]
    },
    {
     "name": "stdout",
     "output_type": "stream",
     "text": [
      "Set parameter MIPGap to value 0.01\n"
     ]
    },
    {
     "name": "stderr",
     "output_type": "stream",
     "text": [
      "2023-03-08 20:26:14,140 - /Users/durian/Nutstore Files/Research/InvNet/gsm/gsm_solving_approach/base_slp.py[line:147] - INFO: Set parameter MIPGap to value 0.01\n"
     ]
    },
    {
     "name": "stdout",
     "output_type": "stream",
     "text": [
      "Set parameter MIPGap to value 0.01\n"
     ]
    },
    {
     "name": "stderr",
     "output_type": "stream",
     "text": [
      "2023-03-08 20:26:14,591 - /Users/durian/Nutstore Files/Research/InvNet/gsm/gsm_solving_approach/base_slp.py[line:147] - INFO: Set parameter MIPGap to value 0.01\n"
     ]
    },
    {
     "name": "stdout",
     "output_type": "stream",
     "text": [
      "Set parameter MIPGap to value 0.01\n"
     ]
    },
    {
     "name": "stderr",
     "output_type": "stream",
     "text": [
      "2023-03-08 20:26:14,916 - /Users/durian/Nutstore Files/Research/InvNet/gsm/gsm_solving_approach/base_slp.py[line:147] - INFO: Set parameter MIPGap to value 0.01\n"
     ]
    },
    {
     "name": "stdout",
     "output_type": "stream",
     "text": [
      "Set parameter MIPGap to value 0.01\n"
     ]
    },
    {
     "name": "stderr",
     "output_type": "stream",
     "text": [
      "2023-03-08 20:26:15,234 - /Users/durian/Nutstore Files/Research/InvNet/gsm/gsm_solving_approach/base_slp.py[line:147] - INFO: Set parameter MIPGap to value 0.01\n"
     ]
    },
    {
     "name": "stdout",
     "output_type": "stream",
     "text": [
      "Set parameter MIPGap to value 0.01\n"
     ]
    },
    {
     "name": "stderr",
     "output_type": "stream",
     "text": [
      "2023-03-08 20:26:15,628 - /Users/durian/Nutstore Files/Research/InvNet/gsm/gsm_solving_approach/base_slp.py[line:147] - INFO: Set parameter MIPGap to value 0.01\n"
     ]
    },
    {
     "name": "stdout",
     "output_type": "stream",
     "text": [
      "Set parameter MIPGap to value 0.01\n"
     ]
    },
    {
     "name": "stderr",
     "output_type": "stream",
     "text": [
      "2023-03-08 20:26:15,948 - /Users/durian/Nutstore Files/Research/InvNet/gsm/gsm_solving_approach/base_slp.py[line:147] - INFO: Set parameter MIPGap to value 0.01\n"
     ]
    },
    {
     "name": "stdout",
     "output_type": "stream",
     "text": [
      "Set parameter MIPGap to value 0.01\n"
     ]
    },
    {
     "name": "stderr",
     "output_type": "stream",
     "text": [
      "2023-03-08 20:26:16,278 - /Users/durian/Nutstore Files/Research/InvNet/gsm/gsm_solving_approach/base_slp.py[line:147] - INFO: Set parameter MIPGap to value 0.01\n"
     ]
    },
    {
     "name": "stdout",
     "output_type": "stream",
     "text": [
      "Set parameter MIPGap to value 0.01\n"
     ]
    },
    {
     "name": "stderr",
     "output_type": "stream",
     "text": [
      "2023-03-08 20:26:16,666 - /Users/durian/Nutstore Files/Research/InvNet/gsm/gsm_solving_approach/base_slp.py[line:147] - INFO: Set parameter MIPGap to value 0.01\n"
     ]
    },
    {
     "name": "stdout",
     "output_type": "stream",
     "text": [
      "Set parameter MIPGap to value 0.01\n"
     ]
    },
    {
     "name": "stderr",
     "output_type": "stream",
     "text": [
      "2023-03-08 20:26:16,972 - /Users/durian/Nutstore Files/Research/InvNet/gsm/gsm_solving_approach/base_slp.py[line:147] - INFO: Set parameter MIPGap to value 0.01\n"
     ]
    },
    {
     "name": "stdout",
     "output_type": "stream",
     "text": [
      "Set parameter MIPGap to value 0.01\n"
     ]
    },
    {
     "name": "stderr",
     "output_type": "stream",
     "text": [
      "2023-03-08 20:26:17,289 - /Users/durian/Nutstore Files/Research/InvNet/gsm/gsm_solving_approach/base_slp.py[line:147] - INFO: Set parameter MIPGap to value 0.01\n"
     ]
    },
    {
     "name": "stdout",
     "output_type": "stream",
     "text": [
      "Set parameter MIPGap to value 0.01\n"
     ]
    },
    {
     "name": "stderr",
     "output_type": "stream",
     "text": [
      "2023-03-08 20:26:17,665 - /Users/durian/Nutstore Files/Research/InvNet/gsm/gsm_solving_approach/base_slp.py[line:147] - INFO: Set parameter MIPGap to value 0.01\n"
     ]
    },
    {
     "name": "stdout",
     "output_type": "stream",
     "text": [
      "Set parameter MIPGap to value 0.01\n"
     ]
    },
    {
     "name": "stderr",
     "output_type": "stream",
     "text": [
      "2023-03-08 20:26:18,085 - /Users/durian/Nutstore Files/Research/InvNet/gsm/gsm_solving_approach/base_slp.py[line:147] - INFO: Set parameter MIPGap to value 0.01\n"
     ]
    },
    {
     "name": "stdout",
     "output_type": "stream",
     "text": [
      "Set parameter MIPGap to value 0.01\n"
     ]
    },
    {
     "name": "stderr",
     "output_type": "stream",
     "text": [
      "2023-03-08 20:26:18,389 - /Users/durian/Nutstore Files/Research/InvNet/gsm/gsm_solving_approach/base_slp.py[line:147] - INFO: Set parameter MIPGap to value 0.01\n"
     ]
    },
    {
     "name": "stdout",
     "output_type": "stream",
     "text": [
      "Set parameter MIPGap to value 0.01\n"
     ]
    },
    {
     "name": "stderr",
     "output_type": "stream",
     "text": [
      "2023-03-08 20:26:18,696 - /Users/durian/Nutstore Files/Research/InvNet/gsm/gsm_solving_approach/base_slp.py[line:147] - INFO: Set parameter MIPGap to value 0.01\n"
     ]
    },
    {
     "name": "stdout",
     "output_type": "stream",
     "text": [
      "Set parameter MIPGap to value 0.01\n"
     ]
    },
    {
     "name": "stderr",
     "output_type": "stream",
     "text": [
      "2023-03-08 20:26:19,038 - /Users/durian/Nutstore Files/Research/InvNet/gsm/gsm_solving_approach/base_slp.py[line:147] - INFO: Set parameter MIPGap to value 0.01\n"
     ]
    },
    {
     "name": "stdout",
     "output_type": "stream",
     "text": [
      "Set parameter MIPGap to value 0.01\n"
     ]
    },
    {
     "name": "stderr",
     "output_type": "stream",
     "text": [
      "2023-03-08 20:26:19,382 - /Users/durian/Nutstore Files/Research/InvNet/gsm/gsm_solving_approach/base_slp.py[line:147] - INFO: Set parameter MIPGap to value 0.01\n"
     ]
    },
    {
     "name": "stdout",
     "output_type": "stream",
     "text": [
      "Set parameter MIPGap to value 0.01\n"
     ]
    },
    {
     "name": "stderr",
     "output_type": "stream",
     "text": [
      "2023-03-08 20:26:19,742 - /Users/durian/Nutstore Files/Research/InvNet/gsm/gsm_solving_approach/base_slp.py[line:147] - INFO: Set parameter MIPGap to value 0.01\n"
     ]
    },
    {
     "name": "stdout",
     "output_type": "stream",
     "text": [
      "Set parameter MIPGap to value 0.01\n"
     ]
    },
    {
     "name": "stderr",
     "output_type": "stream",
     "text": [
      "2023-03-08 20:26:20,136 - /Users/durian/Nutstore Files/Research/InvNet/gsm/gsm_solving_approach/base_slp.py[line:147] - INFO: Set parameter MIPGap to value 0.01\n"
     ]
    },
    {
     "name": "stdout",
     "output_type": "stream",
     "text": [
      "Set parameter MIPGap to value 0.01\n"
     ]
    },
    {
     "name": "stderr",
     "output_type": "stream",
     "text": [
      "2023-03-08 20:26:20,680 - /Users/durian/Nutstore Files/Research/InvNet/gsm/gsm_solving_approach/base_slp.py[line:147] - INFO: Set parameter MIPGap to value 0.01\n"
     ]
    },
    {
     "name": "stdout",
     "output_type": "stream",
     "text": [
      "Set parameter MIPGap to value 0.01\n"
     ]
    },
    {
     "name": "stderr",
     "output_type": "stream",
     "text": [
      "2023-03-08 20:26:21,002 - /Users/durian/Nutstore Files/Research/InvNet/gsm/gsm_solving_approach/base_slp.py[line:147] - INFO: Set parameter MIPGap to value 0.01\n"
     ]
    },
    {
     "name": "stdout",
     "output_type": "stream",
     "text": [
      "Set parameter MIPGap to value 0.01\n"
     ]
    },
    {
     "name": "stderr",
     "output_type": "stream",
     "text": [
      "2023-03-08 20:26:21,475 - /Users/durian/Nutstore Files/Research/InvNet/gsm/gsm_solving_approach/base_slp.py[line:147] - INFO: Set parameter MIPGap to value 0.01\n"
     ]
    },
    {
     "name": "stdout",
     "output_type": "stream",
     "text": [
      "Set parameter MIPGap to value 0.01\n"
     ]
    },
    {
     "name": "stderr",
     "output_type": "stream",
     "text": [
      "2023-03-08 20:26:21,887 - /Users/durian/Nutstore Files/Research/InvNet/gsm/gsm_solving_approach/base_slp.py[line:147] - INFO: Set parameter MIPGap to value 0.01\n"
     ]
    },
    {
     "name": "stdout",
     "output_type": "stream",
     "text": [
      "Set parameter MIPGap to value 0.01\n"
     ]
    },
    {
     "name": "stderr",
     "output_type": "stream",
     "text": [
      "2023-03-08 20:26:22,245 - /Users/durian/Nutstore Files/Research/InvNet/gsm/gsm_solving_approach/base_slp.py[line:147] - INFO: Set parameter MIPGap to value 0.01\n"
     ]
    },
    {
     "name": "stdout",
     "output_type": "stream",
     "text": [
      "Set parameter MIPGap to value 0.01\n"
     ]
    },
    {
     "name": "stderr",
     "output_type": "stream",
     "text": [
      "2023-03-08 20:26:22,628 - /Users/durian/Nutstore Files/Research/InvNet/gsm/gsm_solving_approach/base_slp.py[line:147] - INFO: Set parameter MIPGap to value 0.01\n"
     ]
    },
    {
     "name": "stdout",
     "output_type": "stream",
     "text": [
      "Set parameter MIPGap to value 0.01\n"
     ]
    },
    {
     "name": "stderr",
     "output_type": "stream",
     "text": [
      "2023-03-08 20:26:23,125 - /Users/durian/Nutstore Files/Research/InvNet/gsm/gsm_solving_approach/base_slp.py[line:147] - INFO: Set parameter MIPGap to value 0.01\n"
     ]
    },
    {
     "name": "stdout",
     "output_type": "stream",
     "text": [
      "Set parameter MIPGap to value 0.01\n"
     ]
    },
    {
     "name": "stderr",
     "output_type": "stream",
     "text": [
      "2023-03-08 20:26:23,441 - /Users/durian/Nutstore Files/Research/InvNet/gsm/gsm_solving_approach/base_slp.py[line:147] - INFO: Set parameter MIPGap to value 0.01\n"
     ]
    },
    {
     "name": "stdout",
     "output_type": "stream",
     "text": [
      "Set parameter MIPGap to value 0.01\n"
     ]
    },
    {
     "name": "stderr",
     "output_type": "stream",
     "text": [
      "2023-03-08 20:26:23,855 - /Users/durian/Nutstore Files/Research/InvNet/gsm/gsm_solving_approach/base_slp.py[line:147] - INFO: Set parameter MIPGap to value 0.01\n"
     ]
    },
    {
     "name": "stdout",
     "output_type": "stream",
     "text": [
      "Set parameter MIPGap to value 0.01\n"
     ]
    },
    {
     "name": "stderr",
     "output_type": "stream",
     "text": [
      "2023-03-08 20:26:24,463 - /Users/durian/Nutstore Files/Research/InvNet/gsm/gsm_solving_approach/base_slp.py[line:147] - INFO: Set parameter MIPGap to value 0.01\n"
     ]
    },
    {
     "name": "stdout",
     "output_type": "stream",
     "text": [
      "Set parameter MIPGap to value 0.01\n"
     ]
    },
    {
     "name": "stderr",
     "output_type": "stream",
     "text": [
      "2023-03-08 20:26:24,841 - /Users/durian/Nutstore Files/Research/InvNet/gsm/gsm_solving_approach/base_slp.py[line:147] - INFO: Set parameter MIPGap to value 0.01\n"
     ]
    },
    {
     "name": "stdout",
     "output_type": "stream",
     "text": [
      "Set parameter MIPGap to value 0.01\n"
     ]
    },
    {
     "name": "stderr",
     "output_type": "stream",
     "text": [
      "2023-03-08 20:26:25,376 - /Users/durian/Nutstore Files/Research/InvNet/gsm/gsm_solving_approach/base_slp.py[line:147] - INFO: Set parameter MIPGap to value 0.01\n"
     ]
    },
    {
     "name": "stdout",
     "output_type": "stream",
     "text": [
      "Set parameter MIPGap to value 0.01\n"
     ]
    },
    {
     "name": "stderr",
     "output_type": "stream",
     "text": [
      "2023-03-08 20:26:25,985 - /Users/durian/Nutstore Files/Research/InvNet/gsm/gsm_solving_approach/base_slp.py[line:147] - INFO: Set parameter MIPGap to value 0.01\n"
     ]
    },
    {
     "name": "stdout",
     "output_type": "stream",
     "text": [
      "Set parameter MIPGap to value 0.01\n"
     ]
    },
    {
     "name": "stderr",
     "output_type": "stream",
     "text": [
      "2023-03-08 20:26:26,484 - /Users/durian/Nutstore Files/Research/InvNet/gsm/gsm_solving_approach/base_slp.py[line:147] - INFO: Set parameter MIPGap to value 0.01\n"
     ]
    },
    {
     "name": "stdout",
     "output_type": "stream",
     "text": [
      "Set parameter MIPGap to value 0.01\n"
     ]
    },
    {
     "name": "stderr",
     "output_type": "stream",
     "text": [
      "2023-03-08 20:26:26,844 - /Users/durian/Nutstore Files/Research/InvNet/gsm/gsm_solving_approach/base_slp.py[line:147] - INFO: Set parameter MIPGap to value 0.01\n"
     ]
    },
    {
     "name": "stdout",
     "output_type": "stream",
     "text": [
      "Set parameter MIPGap to value 0.01\n"
     ]
    },
    {
     "name": "stderr",
     "output_type": "stream",
     "text": [
      "2023-03-08 20:26:27,200 - /Users/durian/Nutstore Files/Research/InvNet/gsm/gsm_solving_approach/base_slp.py[line:147] - INFO: Set parameter MIPGap to value 0.01\n"
     ]
    },
    {
     "name": "stdout",
     "output_type": "stream",
     "text": [
      "Set parameter MIPGap to value 0.01\n"
     ]
    },
    {
     "name": "stderr",
     "output_type": "stream",
     "text": [
      "2023-03-08 20:26:27,493 - /Users/durian/Nutstore Files/Research/InvNet/gsm/gsm_solving_approach/base_slp.py[line:147] - INFO: Set parameter MIPGap to value 0.01\n"
     ]
    },
    {
     "name": "stdout",
     "output_type": "stream",
     "text": [
      "Set parameter MIPGap to value 0.01\n"
     ]
    },
    {
     "name": "stderr",
     "output_type": "stream",
     "text": [
      "2023-03-08 20:26:27,798 - /Users/durian/Nutstore Files/Research/InvNet/gsm/gsm_solving_approach/base_slp.py[line:147] - INFO: Set parameter MIPGap to value 0.01\n"
     ]
    },
    {
     "name": "stdout",
     "output_type": "stream",
     "text": [
      "This graph can be decomposed\n",
      "Set parameter MIPGap to value 0.01\n"
     ]
    },
    {
     "name": "stderr",
     "output_type": "stream",
     "text": [
      "2023-03-08 20:26:29,219 - /Users/durian/Nutstore Files/Research/InvNet/gsm/gsm_solving_approach/base_slp.py[line:147] - INFO: Set parameter MIPGap to value 0.01\n"
     ]
    },
    {
     "name": "stdout",
     "output_type": "stream",
     "text": [
      "Set parameter MIPGap to value 0.01\n"
     ]
    },
    {
     "name": "stderr",
     "output_type": "stream",
     "text": [
      "2023-03-08 20:26:29,407 - /Users/durian/Nutstore Files/Research/InvNet/gsm/gsm_solving_approach/base_slp.py[line:147] - INFO: Set parameter MIPGap to value 0.01\n"
     ]
    },
    {
     "name": "stdout",
     "output_type": "stream",
     "text": [
      "Set parameter MIPGap to value 0.01\n"
     ]
    },
    {
     "name": "stderr",
     "output_type": "stream",
     "text": [
      "2023-03-08 20:26:29,594 - /Users/durian/Nutstore Files/Research/InvNet/gsm/gsm_solving_approach/base_slp.py[line:147] - INFO: Set parameter MIPGap to value 0.01\n"
     ]
    },
    {
     "name": "stdout",
     "output_type": "stream",
     "text": [
      "Set parameter MIPGap to value 0.01\n"
     ]
    },
    {
     "name": "stderr",
     "output_type": "stream",
     "text": [
      "2023-03-08 20:26:29,834 - /Users/durian/Nutstore Files/Research/InvNet/gsm/gsm_solving_approach/base_slp.py[line:147] - INFO: Set parameter MIPGap to value 0.01\n"
     ]
    },
    {
     "name": "stdout",
     "output_type": "stream",
     "text": [
      "Set parameter MIPGap to value 0.01\n"
     ]
    },
    {
     "name": "stderr",
     "output_type": "stream",
     "text": [
      "2023-03-08 20:26:30,018 - /Users/durian/Nutstore Files/Research/InvNet/gsm/gsm_solving_approach/base_slp.py[line:147] - INFO: Set parameter MIPGap to value 0.01\n"
     ]
    },
    {
     "name": "stdout",
     "output_type": "stream",
     "text": [
      "Set parameter MIPGap to value 0.01\n"
     ]
    },
    {
     "name": "stderr",
     "output_type": "stream",
     "text": [
      "2023-03-08 20:26:30,216 - /Users/durian/Nutstore Files/Research/InvNet/gsm/gsm_solving_approach/base_slp.py[line:147] - INFO: Set parameter MIPGap to value 0.01\n"
     ]
    },
    {
     "name": "stdout",
     "output_type": "stream",
     "text": [
      "Set parameter MIPGap to value 0.01\n"
     ]
    },
    {
     "name": "stderr",
     "output_type": "stream",
     "text": [
      "2023-03-08 20:26:30,402 - /Users/durian/Nutstore Files/Research/InvNet/gsm/gsm_solving_approach/base_slp.py[line:147] - INFO: Set parameter MIPGap to value 0.01\n"
     ]
    },
    {
     "name": "stdout",
     "output_type": "stream",
     "text": [
      "Set parameter MIPGap to value 0.01\n"
     ]
    },
    {
     "name": "stderr",
     "output_type": "stream",
     "text": [
      "2023-03-08 20:26:30,586 - /Users/durian/Nutstore Files/Research/InvNet/gsm/gsm_solving_approach/base_slp.py[line:147] - INFO: Set parameter MIPGap to value 0.01\n"
     ]
    },
    {
     "name": "stdout",
     "output_type": "stream",
     "text": [
      "Set parameter MIPGap to value 0.01\n"
     ]
    },
    {
     "name": "stderr",
     "output_type": "stream",
     "text": [
      "2023-03-08 20:26:30,824 - /Users/durian/Nutstore Files/Research/InvNet/gsm/gsm_solving_approach/base_slp.py[line:147] - INFO: Set parameter MIPGap to value 0.01\n"
     ]
    },
    {
     "name": "stdout",
     "output_type": "stream",
     "text": [
      "Set parameter MIPGap to value 0.01\n"
     ]
    },
    {
     "name": "stderr",
     "output_type": "stream",
     "text": [
      "2023-03-08 20:26:31,001 - /Users/durian/Nutstore Files/Research/InvNet/gsm/gsm_solving_approach/base_slp.py[line:147] - INFO: Set parameter MIPGap to value 0.01\n"
     ]
    },
    {
     "name": "stdout",
     "output_type": "stream",
     "text": [
      "Set parameter MIPGap to value 0.01\n"
     ]
    },
    {
     "name": "stderr",
     "output_type": "stream",
     "text": [
      "2023-03-08 20:26:31,190 - /Users/durian/Nutstore Files/Research/InvNet/gsm/gsm_solving_approach/base_slp.py[line:147] - INFO: Set parameter MIPGap to value 0.01\n"
     ]
    },
    {
     "name": "stdout",
     "output_type": "stream",
     "text": [
      "Set parameter MIPGap to value 0.01\n"
     ]
    },
    {
     "name": "stderr",
     "output_type": "stream",
     "text": [
      "2023-03-08 20:26:31,378 - /Users/durian/Nutstore Files/Research/InvNet/gsm/gsm_solving_approach/base_slp.py[line:147] - INFO: Set parameter MIPGap to value 0.01\n"
     ]
    },
    {
     "name": "stdout",
     "output_type": "stream",
     "text": [
      "Set parameter MIPGap to value 0.01\n"
     ]
    },
    {
     "name": "stderr",
     "output_type": "stream",
     "text": [
      "2023-03-08 20:26:31,621 - /Users/durian/Nutstore Files/Research/InvNet/gsm/gsm_solving_approach/base_slp.py[line:147] - INFO: Set parameter MIPGap to value 0.01\n"
     ]
    },
    {
     "name": "stdout",
     "output_type": "stream",
     "text": [
      "Set parameter MIPGap to value 0.01\n"
     ]
    },
    {
     "name": "stderr",
     "output_type": "stream",
     "text": [
      "2023-03-08 20:26:31,807 - /Users/durian/Nutstore Files/Research/InvNet/gsm/gsm_solving_approach/base_slp.py[line:147] - INFO: Set parameter MIPGap to value 0.01\n"
     ]
    },
    {
     "name": "stdout",
     "output_type": "stream",
     "text": [
      "Set parameter MIPGap to value 0.01\n"
     ]
    },
    {
     "name": "stderr",
     "output_type": "stream",
     "text": [
      "2023-03-08 20:26:31,992 - /Users/durian/Nutstore Files/Research/InvNet/gsm/gsm_solving_approach/base_slp.py[line:147] - INFO: Set parameter MIPGap to value 0.01\n"
     ]
    },
    {
     "name": "stdout",
     "output_type": "stream",
     "text": [
      "Set parameter MIPGap to value 0.01\n"
     ]
    },
    {
     "name": "stderr",
     "output_type": "stream",
     "text": [
      "2023-03-08 20:26:32,177 - /Users/durian/Nutstore Files/Research/InvNet/gsm/gsm_solving_approach/base_slp.py[line:147] - INFO: Set parameter MIPGap to value 0.01\n"
     ]
    },
    {
     "name": "stdout",
     "output_type": "stream",
     "text": [
      "Set parameter MIPGap to value 0.01\n"
     ]
    },
    {
     "name": "stderr",
     "output_type": "stream",
     "text": [
      "2023-03-08 20:26:32,354 - /Users/durian/Nutstore Files/Research/InvNet/gsm/gsm_solving_approach/base_slp.py[line:147] - INFO: Set parameter MIPGap to value 0.01\n"
     ]
    },
    {
     "name": "stdout",
     "output_type": "stream",
     "text": [
      "Set parameter MIPGap to value 0.01\n"
     ]
    },
    {
     "name": "stderr",
     "output_type": "stream",
     "text": [
      "2023-03-08 20:26:32,594 - /Users/durian/Nutstore Files/Research/InvNet/gsm/gsm_solving_approach/base_slp.py[line:147] - INFO: Set parameter MIPGap to value 0.01\n"
     ]
    },
    {
     "name": "stdout",
     "output_type": "stream",
     "text": [
      "Set parameter MIPGap to value 0.01\n"
     ]
    },
    {
     "name": "stderr",
     "output_type": "stream",
     "text": [
      "2023-03-08 20:26:32,785 - /Users/durian/Nutstore Files/Research/InvNet/gsm/gsm_solving_approach/base_slp.py[line:147] - INFO: Set parameter MIPGap to value 0.01\n"
     ]
    },
    {
     "name": "stdout",
     "output_type": "stream",
     "text": [
      "Set parameter MIPGap to value 0.01\n"
     ]
    },
    {
     "name": "stderr",
     "output_type": "stream",
     "text": [
      "2023-03-08 20:26:32,986 - /Users/durian/Nutstore Files/Research/InvNet/gsm/gsm_solving_approach/base_slp.py[line:147] - INFO: Set parameter MIPGap to value 0.01\n"
     ]
    },
    {
     "name": "stdout",
     "output_type": "stream",
     "text": [
      "Set parameter MIPGap to value 0.01\n"
     ]
    },
    {
     "name": "stderr",
     "output_type": "stream",
     "text": [
      "2023-03-08 20:26:33,172 - /Users/durian/Nutstore Files/Research/InvNet/gsm/gsm_solving_approach/base_slp.py[line:147] - INFO: Set parameter MIPGap to value 0.01\n"
     ]
    },
    {
     "name": "stdout",
     "output_type": "stream",
     "text": [
      "Set parameter MIPGap to value 0.01\n"
     ]
    },
    {
     "name": "stderr",
     "output_type": "stream",
     "text": [
      "2023-03-08 20:26:33,415 - /Users/durian/Nutstore Files/Research/InvNet/gsm/gsm_solving_approach/base_slp.py[line:147] - INFO: Set parameter MIPGap to value 0.01\n"
     ]
    },
    {
     "name": "stdout",
     "output_type": "stream",
     "text": [
      "Set parameter MIPGap to value 0.01\n"
     ]
    },
    {
     "name": "stderr",
     "output_type": "stream",
     "text": [
      "2023-03-08 20:26:33,603 - /Users/durian/Nutstore Files/Research/InvNet/gsm/gsm_solving_approach/base_slp.py[line:147] - INFO: Set parameter MIPGap to value 0.01\n"
     ]
    },
    {
     "name": "stdout",
     "output_type": "stream",
     "text": [
      "Set parameter MIPGap to value 0.01\n"
     ]
    },
    {
     "name": "stderr",
     "output_type": "stream",
     "text": [
      "2023-03-08 20:26:33,790 - /Users/durian/Nutstore Files/Research/InvNet/gsm/gsm_solving_approach/base_slp.py[line:147] - INFO: Set parameter MIPGap to value 0.01\n"
     ]
    },
    {
     "name": "stdout",
     "output_type": "stream",
     "text": [
      "Set parameter MIPGap to value 0.01\n"
     ]
    },
    {
     "name": "stderr",
     "output_type": "stream",
     "text": [
      "2023-03-08 20:26:33,982 - /Users/durian/Nutstore Files/Research/InvNet/gsm/gsm_solving_approach/base_slp.py[line:147] - INFO: Set parameter MIPGap to value 0.01\n"
     ]
    },
    {
     "name": "stdout",
     "output_type": "stream",
     "text": [
      "Set parameter MIPGap to value 0.01\n"
     ]
    },
    {
     "name": "stderr",
     "output_type": "stream",
     "text": [
      "2023-03-08 20:26:34,224 - /Users/durian/Nutstore Files/Research/InvNet/gsm/gsm_solving_approach/base_slp.py[line:147] - INFO: Set parameter MIPGap to value 0.01\n"
     ]
    },
    {
     "name": "stdout",
     "output_type": "stream",
     "text": [
      "Set parameter MIPGap to value 0.01\n"
     ]
    },
    {
     "name": "stderr",
     "output_type": "stream",
     "text": [
      "2023-03-08 20:26:34,419 - /Users/durian/Nutstore Files/Research/InvNet/gsm/gsm_solving_approach/base_slp.py[line:147] - INFO: Set parameter MIPGap to value 0.01\n"
     ]
    },
    {
     "name": "stdout",
     "output_type": "stream",
     "text": [
      "Set parameter MIPGap to value 0.01\n"
     ]
    },
    {
     "name": "stderr",
     "output_type": "stream",
     "text": [
      "2023-03-08 20:26:34,608 - /Users/durian/Nutstore Files/Research/InvNet/gsm/gsm_solving_approach/base_slp.py[line:147] - INFO: Set parameter MIPGap to value 0.01\n"
     ]
    },
    {
     "name": "stdout",
     "output_type": "stream",
     "text": [
      "Set parameter MIPGap to value 0.01\n"
     ]
    },
    {
     "name": "stderr",
     "output_type": "stream",
     "text": [
      "2023-03-08 20:26:34,797 - /Users/durian/Nutstore Files/Research/InvNet/gsm/gsm_solving_approach/base_slp.py[line:147] - INFO: Set parameter MIPGap to value 0.01\n"
     ]
    },
    {
     "name": "stdout",
     "output_type": "stream",
     "text": [
      "Set parameter MIPGap to value 0.01\n"
     ]
    },
    {
     "name": "stderr",
     "output_type": "stream",
     "text": [
      "2023-03-08 20:26:34,991 - /Users/durian/Nutstore Files/Research/InvNet/gsm/gsm_solving_approach/base_slp.py[line:147] - INFO: Set parameter MIPGap to value 0.01\n"
     ]
    },
    {
     "name": "stdout",
     "output_type": "stream",
     "text": [
      "Set parameter MIPGap to value 0.01\n"
     ]
    },
    {
     "name": "stderr",
     "output_type": "stream",
     "text": [
      "2023-03-08 20:26:35,247 - /Users/durian/Nutstore Files/Research/InvNet/gsm/gsm_solving_approach/base_slp.py[line:147] - INFO: Set parameter MIPGap to value 0.01\n"
     ]
    },
    {
     "name": "stdout",
     "output_type": "stream",
     "text": [
      "Set parameter MIPGap to value 0.01\n"
     ]
    },
    {
     "name": "stderr",
     "output_type": "stream",
     "text": [
      "2023-03-08 20:26:35,443 - /Users/durian/Nutstore Files/Research/InvNet/gsm/gsm_solving_approach/base_slp.py[line:147] - INFO: Set parameter MIPGap to value 0.01\n"
     ]
    },
    {
     "name": "stdout",
     "output_type": "stream",
     "text": [
      "Set parameter MIPGap to value 0.01\n"
     ]
    },
    {
     "name": "stderr",
     "output_type": "stream",
     "text": [
      "2023-03-08 20:26:35,650 - /Users/durian/Nutstore Files/Research/InvNet/gsm/gsm_solving_approach/base_slp.py[line:147] - INFO: Set parameter MIPGap to value 0.01\n"
     ]
    },
    {
     "name": "stdout",
     "output_type": "stream",
     "text": [
      "Set parameter MIPGap to value 0.01\n"
     ]
    },
    {
     "name": "stderr",
     "output_type": "stream",
     "text": [
      "2023-03-08 20:26:35,842 - /Users/durian/Nutstore Files/Research/InvNet/gsm/gsm_solving_approach/base_slp.py[line:147] - INFO: Set parameter MIPGap to value 0.01\n"
     ]
    },
    {
     "name": "stdout",
     "output_type": "stream",
     "text": [
      "Set parameter MIPGap to value 0.01\n"
     ]
    },
    {
     "name": "stderr",
     "output_type": "stream",
     "text": [
      "2023-03-08 20:26:36,044 - /Users/durian/Nutstore Files/Research/InvNet/gsm/gsm_solving_approach/base_slp.py[line:147] - INFO: Set parameter MIPGap to value 0.01\n"
     ]
    },
    {
     "name": "stdout",
     "output_type": "stream",
     "text": [
      "Set parameter MIPGap to value 0.01\n"
     ]
    },
    {
     "name": "stderr",
     "output_type": "stream",
     "text": [
      "2023-03-08 20:26:36,298 - /Users/durian/Nutstore Files/Research/InvNet/gsm/gsm_solving_approach/base_slp.py[line:147] - INFO: Set parameter MIPGap to value 0.01\n"
     ]
    },
    {
     "name": "stdout",
     "output_type": "stream",
     "text": [
      "Set parameter MIPGap to value 0.01\n"
     ]
    },
    {
     "name": "stderr",
     "output_type": "stream",
     "text": [
      "2023-03-08 20:26:36,488 - /Users/durian/Nutstore Files/Research/InvNet/gsm/gsm_solving_approach/base_slp.py[line:147] - INFO: Set parameter MIPGap to value 0.01\n"
     ]
    },
    {
     "name": "stdout",
     "output_type": "stream",
     "text": [
      "Set parameter MIPGap to value 0.01\n"
     ]
    },
    {
     "name": "stderr",
     "output_type": "stream",
     "text": [
      "2023-03-08 20:26:36,682 - /Users/durian/Nutstore Files/Research/InvNet/gsm/gsm_solving_approach/base_slp.py[line:147] - INFO: Set parameter MIPGap to value 0.01\n"
     ]
    },
    {
     "name": "stdout",
     "output_type": "stream",
     "text": [
      "Set parameter MIPGap to value 0.01\n"
     ]
    },
    {
     "name": "stderr",
     "output_type": "stream",
     "text": [
      "2023-03-08 20:26:36,903 - /Users/durian/Nutstore Files/Research/InvNet/gsm/gsm_solving_approach/base_slp.py[line:147] - INFO: Set parameter MIPGap to value 0.01\n"
     ]
    },
    {
     "name": "stdout",
     "output_type": "stream",
     "text": [
      "Set parameter MIPGap to value 0.01\n"
     ]
    },
    {
     "name": "stderr",
     "output_type": "stream",
     "text": [
      "2023-03-08 20:26:37,184 - /Users/durian/Nutstore Files/Research/InvNet/gsm/gsm_solving_approach/base_slp.py[line:147] - INFO: Set parameter MIPGap to value 0.01\n"
     ]
    },
    {
     "name": "stdout",
     "output_type": "stream",
     "text": [
      "Set parameter MIPGap to value 0.01\n"
     ]
    },
    {
     "name": "stderr",
     "output_type": "stream",
     "text": [
      "2023-03-08 20:26:37,416 - /Users/durian/Nutstore Files/Research/InvNet/gsm/gsm_solving_approach/base_slp.py[line:147] - INFO: Set parameter MIPGap to value 0.01\n"
     ]
    },
    {
     "name": "stdout",
     "output_type": "stream",
     "text": [
      "This graph can be decomposed\n",
      "Set parameter MIPGap to value 0.01\n"
     ]
    },
    {
     "name": "stderr",
     "output_type": "stream",
     "text": [
      "2023-03-08 20:26:38,242 - /Users/durian/Nutstore Files/Research/InvNet/gsm/gsm_solving_approach/base_slp.py[line:147] - INFO: Set parameter MIPGap to value 0.01\n"
     ]
    },
    {
     "name": "stdout",
     "output_type": "stream",
     "text": [
      "Set parameter MIPGap to value 0.01\n"
     ]
    },
    {
     "name": "stderr",
     "output_type": "stream",
     "text": [
      "2023-03-08 20:26:38,432 - /Users/durian/Nutstore Files/Research/InvNet/gsm/gsm_solving_approach/base_slp.py[line:147] - INFO: Set parameter MIPGap to value 0.01\n"
     ]
    },
    {
     "name": "stdout",
     "output_type": "stream",
     "text": [
      "Set parameter MIPGap to value 0.01\n"
     ]
    },
    {
     "name": "stderr",
     "output_type": "stream",
     "text": [
      "2023-03-08 20:26:38,674 - /Users/durian/Nutstore Files/Research/InvNet/gsm/gsm_solving_approach/base_slp.py[line:147] - INFO: Set parameter MIPGap to value 0.01\n"
     ]
    },
    {
     "name": "stdout",
     "output_type": "stream",
     "text": [
      "Set parameter MIPGap to value 0.01\n"
     ]
    },
    {
     "name": "stderr",
     "output_type": "stream",
     "text": [
      "2023-03-08 20:26:38,828 - /Users/durian/Nutstore Files/Research/InvNet/gsm/gsm_solving_approach/base_slp.py[line:147] - INFO: Set parameter MIPGap to value 0.01\n"
     ]
    },
    {
     "name": "stdout",
     "output_type": "stream",
     "text": [
      "Set parameter MIPGap to value 0.01\n"
     ]
    },
    {
     "name": "stderr",
     "output_type": "stream",
     "text": [
      "2023-03-08 20:26:38,978 - /Users/durian/Nutstore Files/Research/InvNet/gsm/gsm_solving_approach/base_slp.py[line:147] - INFO: Set parameter MIPGap to value 0.01\n"
     ]
    },
    {
     "name": "stdout",
     "output_type": "stream",
     "text": [
      "Set parameter MIPGap to value 0.01\n"
     ]
    },
    {
     "name": "stderr",
     "output_type": "stream",
     "text": [
      "2023-03-08 20:26:39,151 - /Users/durian/Nutstore Files/Research/InvNet/gsm/gsm_solving_approach/base_slp.py[line:147] - INFO: Set parameter MIPGap to value 0.01\n"
     ]
    },
    {
     "name": "stdout",
     "output_type": "stream",
     "text": [
      "Set parameter MIPGap to value 0.01\n"
     ]
    },
    {
     "name": "stderr",
     "output_type": "stream",
     "text": [
      "2023-03-08 20:26:39,309 - /Users/durian/Nutstore Files/Research/InvNet/gsm/gsm_solving_approach/base_slp.py[line:147] - INFO: Set parameter MIPGap to value 0.01\n"
     ]
    },
    {
     "name": "stdout",
     "output_type": "stream",
     "text": [
      "Set parameter MIPGap to value 0.01\n"
     ]
    },
    {
     "name": "stderr",
     "output_type": "stream",
     "text": [
      "2023-03-08 20:26:39,471 - /Users/durian/Nutstore Files/Research/InvNet/gsm/gsm_solving_approach/base_slp.py[line:147] - INFO: Set parameter MIPGap to value 0.01\n"
     ]
    },
    {
     "name": "stdout",
     "output_type": "stream",
     "text": [
      "Set parameter MIPGap to value 0.01\n"
     ]
    },
    {
     "name": "stderr",
     "output_type": "stream",
     "text": [
      "2023-03-08 20:26:39,718 - /Users/durian/Nutstore Files/Research/InvNet/gsm/gsm_solving_approach/base_slp.py[line:147] - INFO: Set parameter MIPGap to value 0.01\n"
     ]
    },
    {
     "name": "stdout",
     "output_type": "stream",
     "text": [
      "Set parameter MIPGap to value 0.01\n"
     ]
    },
    {
     "name": "stderr",
     "output_type": "stream",
     "text": [
      "2023-03-08 20:26:39,872 - /Users/durian/Nutstore Files/Research/InvNet/gsm/gsm_solving_approach/base_slp.py[line:147] - INFO: Set parameter MIPGap to value 0.01\n"
     ]
    },
    {
     "name": "stdout",
     "output_type": "stream",
     "text": [
      "Set parameter MIPGap to value 0.01\n"
     ]
    },
    {
     "name": "stderr",
     "output_type": "stream",
     "text": [
      "2023-03-08 20:26:40,037 - /Users/durian/Nutstore Files/Research/InvNet/gsm/gsm_solving_approach/base_slp.py[line:147] - INFO: Set parameter MIPGap to value 0.01\n"
     ]
    },
    {
     "name": "stdout",
     "output_type": "stream",
     "text": [
      "Set parameter MIPGap to value 0.01\n"
     ]
    },
    {
     "name": "stderr",
     "output_type": "stream",
     "text": [
      "2023-03-08 20:26:40,191 - /Users/durian/Nutstore Files/Research/InvNet/gsm/gsm_solving_approach/base_slp.py[line:147] - INFO: Set parameter MIPGap to value 0.01\n"
     ]
    },
    {
     "name": "stdout",
     "output_type": "stream",
     "text": [
      "Set parameter MIPGap to value 0.01\n"
     ]
    },
    {
     "name": "stderr",
     "output_type": "stream",
     "text": [
      "2023-03-08 20:26:40,350 - /Users/durian/Nutstore Files/Research/InvNet/gsm/gsm_solving_approach/base_slp.py[line:147] - INFO: Set parameter MIPGap to value 0.01\n"
     ]
    },
    {
     "name": "stdout",
     "output_type": "stream",
     "text": [
      "Set parameter MIPGap to value 0.01\n"
     ]
    },
    {
     "name": "stderr",
     "output_type": "stream",
     "text": [
      "2023-03-08 20:26:40,517 - /Users/durian/Nutstore Files/Research/InvNet/gsm/gsm_solving_approach/base_slp.py[line:147] - INFO: Set parameter MIPGap to value 0.01\n"
     ]
    },
    {
     "name": "stdout",
     "output_type": "stream",
     "text": [
      "Set parameter MIPGap to value 0.01\n"
     ]
    },
    {
     "name": "stderr",
     "output_type": "stream",
     "text": [
      "2023-03-08 20:26:40,672 - /Users/durian/Nutstore Files/Research/InvNet/gsm/gsm_solving_approach/base_slp.py[line:147] - INFO: Set parameter MIPGap to value 0.01\n"
     ]
    },
    {
     "name": "stdout",
     "output_type": "stream",
     "text": [
      "Set parameter MIPGap to value 0.01\n"
     ]
    },
    {
     "name": "stderr",
     "output_type": "stream",
     "text": [
      "2023-03-08 20:26:40,917 - /Users/durian/Nutstore Files/Research/InvNet/gsm/gsm_solving_approach/base_slp.py[line:147] - INFO: Set parameter MIPGap to value 0.01\n"
     ]
    },
    {
     "name": "stdout",
     "output_type": "stream",
     "text": [
      "Set parameter MIPGap to value 0.01\n"
     ]
    },
    {
     "name": "stderr",
     "output_type": "stream",
     "text": [
      "2023-03-08 20:26:41,077 - /Users/durian/Nutstore Files/Research/InvNet/gsm/gsm_solving_approach/base_slp.py[line:147] - INFO: Set parameter MIPGap to value 0.01\n"
     ]
    },
    {
     "name": "stdout",
     "output_type": "stream",
     "text": [
      "Set parameter MIPGap to value 0.01\n"
     ]
    },
    {
     "name": "stderr",
     "output_type": "stream",
     "text": [
      "2023-03-08 20:26:41,270 - /Users/durian/Nutstore Files/Research/InvNet/gsm/gsm_solving_approach/base_slp.py[line:147] - INFO: Set parameter MIPGap to value 0.01\n"
     ]
    },
    {
     "name": "stdout",
     "output_type": "stream",
     "text": [
      "Set parameter MIPGap to value 0.01\n"
     ]
    },
    {
     "name": "stderr",
     "output_type": "stream",
     "text": [
      "2023-03-08 20:26:41,429 - /Users/durian/Nutstore Files/Research/InvNet/gsm/gsm_solving_approach/base_slp.py[line:147] - INFO: Set parameter MIPGap to value 0.01\n"
     ]
    },
    {
     "name": "stdout",
     "output_type": "stream",
     "text": [
      "Set parameter MIPGap to value 0.01\n"
     ]
    },
    {
     "name": "stderr",
     "output_type": "stream",
     "text": [
      "2023-03-08 20:26:41,583 - /Users/durian/Nutstore Files/Research/InvNet/gsm/gsm_solving_approach/base_slp.py[line:147] - INFO: Set parameter MIPGap to value 0.01\n"
     ]
    },
    {
     "name": "stdout",
     "output_type": "stream",
     "text": [
      "Set parameter MIPGap to value 0.01\n"
     ]
    },
    {
     "name": "stderr",
     "output_type": "stream",
     "text": [
      "2023-03-08 20:26:41,739 - /Users/durian/Nutstore Files/Research/InvNet/gsm/gsm_solving_approach/base_slp.py[line:147] - INFO: Set parameter MIPGap to value 0.01\n"
     ]
    },
    {
     "name": "stdout",
     "output_type": "stream",
     "text": [
      "Set parameter MIPGap to value 0.01\n"
     ]
    },
    {
     "name": "stderr",
     "output_type": "stream",
     "text": [
      "2023-03-08 20:26:41,907 - /Users/durian/Nutstore Files/Research/InvNet/gsm/gsm_solving_approach/base_slp.py[line:147] - INFO: Set parameter MIPGap to value 0.01\n"
     ]
    },
    {
     "name": "stdout",
     "output_type": "stream",
     "text": [
      "Set parameter MIPGap to value 0.01\n"
     ]
    },
    {
     "name": "stderr",
     "output_type": "stream",
     "text": [
      "2023-03-08 20:26:42,136 - /Users/durian/Nutstore Files/Research/InvNet/gsm/gsm_solving_approach/base_slp.py[line:147] - INFO: Set parameter MIPGap to value 0.01\n"
     ]
    },
    {
     "name": "stdout",
     "output_type": "stream",
     "text": [
      "Set parameter MIPGap to value 0.01\n"
     ]
    },
    {
     "name": "stderr",
     "output_type": "stream",
     "text": [
      "2023-03-08 20:26:42,328 - /Users/durian/Nutstore Files/Research/InvNet/gsm/gsm_solving_approach/base_slp.py[line:147] - INFO: Set parameter MIPGap to value 0.01\n"
     ]
    },
    {
     "name": "stdout",
     "output_type": "stream",
     "text": [
      "Set parameter MIPGap to value 0.01\n"
     ]
    },
    {
     "name": "stderr",
     "output_type": "stream",
     "text": [
      "2023-03-08 20:26:42,508 - /Users/durian/Nutstore Files/Research/InvNet/gsm/gsm_solving_approach/base_slp.py[line:147] - INFO: Set parameter MIPGap to value 0.01\n"
     ]
    },
    {
     "name": "stdout",
     "output_type": "stream",
     "text": [
      "Set parameter MIPGap to value 0.01\n"
     ]
    },
    {
     "name": "stderr",
     "output_type": "stream",
     "text": [
      "2023-03-08 20:26:42,668 - /Users/durian/Nutstore Files/Research/InvNet/gsm/gsm_solving_approach/base_slp.py[line:147] - INFO: Set parameter MIPGap to value 0.01\n"
     ]
    },
    {
     "name": "stdout",
     "output_type": "stream",
     "text": [
      "Set parameter MIPGap to value 0.01\n"
     ]
    },
    {
     "name": "stderr",
     "output_type": "stream",
     "text": [
      "2023-03-08 20:26:42,815 - /Users/durian/Nutstore Files/Research/InvNet/gsm/gsm_solving_approach/base_slp.py[line:147] - INFO: Set parameter MIPGap to value 0.01\n"
     ]
    },
    {
     "name": "stdout",
     "output_type": "stream",
     "text": [
      "Set parameter MIPGap to value 0.01\n"
     ]
    },
    {
     "name": "stderr",
     "output_type": "stream",
     "text": [
      "2023-03-08 20:26:42,979 - /Users/durian/Nutstore Files/Research/InvNet/gsm/gsm_solving_approach/base_slp.py[line:147] - INFO: Set parameter MIPGap to value 0.01\n"
     ]
    },
    {
     "name": "stdout",
     "output_type": "stream",
     "text": [
      "Set parameter MIPGap to value 0.01\n"
     ]
    },
    {
     "name": "stderr",
     "output_type": "stream",
     "text": [
      "2023-03-08 20:26:43,191 - /Users/durian/Nutstore Files/Research/InvNet/gsm/gsm_solving_approach/base_slp.py[line:147] - INFO: Set parameter MIPGap to value 0.01\n"
     ]
    },
    {
     "name": "stdout",
     "output_type": "stream",
     "text": [
      "Set parameter MIPGap to value 0.01\n"
     ]
    },
    {
     "name": "stderr",
     "output_type": "stream",
     "text": [
      "2023-03-08 20:26:43,348 - /Users/durian/Nutstore Files/Research/InvNet/gsm/gsm_solving_approach/base_slp.py[line:147] - INFO: Set parameter MIPGap to value 0.01\n"
     ]
    },
    {
     "name": "stdout",
     "output_type": "stream",
     "text": [
      "Set parameter MIPGap to value 0.01\n"
     ]
    },
    {
     "name": "stderr",
     "output_type": "stream",
     "text": [
      "2023-03-08 20:26:43,501 - /Users/durian/Nutstore Files/Research/InvNet/gsm/gsm_solving_approach/base_slp.py[line:147] - INFO: Set parameter MIPGap to value 0.01\n"
     ]
    },
    {
     "name": "stdout",
     "output_type": "stream",
     "text": [
      "Set parameter MIPGap to value 0.01\n"
     ]
    },
    {
     "name": "stderr",
     "output_type": "stream",
     "text": [
      "2023-03-08 20:26:43,653 - /Users/durian/Nutstore Files/Research/InvNet/gsm/gsm_solving_approach/base_slp.py[line:147] - INFO: Set parameter MIPGap to value 0.01\n"
     ]
    },
    {
     "name": "stdout",
     "output_type": "stream",
     "text": [
      "Set parameter MIPGap to value 0.01\n"
     ]
    },
    {
     "name": "stderr",
     "output_type": "stream",
     "text": [
      "2023-03-08 20:26:43,805 - /Users/durian/Nutstore Files/Research/InvNet/gsm/gsm_solving_approach/base_slp.py[line:147] - INFO: Set parameter MIPGap to value 0.01\n"
     ]
    },
    {
     "name": "stdout",
     "output_type": "stream",
     "text": [
      "Set parameter MIPGap to value 0.01\n"
     ]
    },
    {
     "name": "stderr",
     "output_type": "stream",
     "text": [
      "2023-03-08 20:26:43,960 - /Users/durian/Nutstore Files/Research/InvNet/gsm/gsm_solving_approach/base_slp.py[line:147] - INFO: Set parameter MIPGap to value 0.01\n"
     ]
    },
    {
     "name": "stdout",
     "output_type": "stream",
     "text": [
      "Set parameter MIPGap to value 0.01\n"
     ]
    },
    {
     "name": "stderr",
     "output_type": "stream",
     "text": [
      "2023-03-08 20:26:44,181 - /Users/durian/Nutstore Files/Research/InvNet/gsm/gsm_solving_approach/base_slp.py[line:147] - INFO: Set parameter MIPGap to value 0.01\n"
     ]
    },
    {
     "name": "stdout",
     "output_type": "stream",
     "text": [
      "Set parameter MIPGap to value 0.01\n"
     ]
    },
    {
     "name": "stderr",
     "output_type": "stream",
     "text": [
      "2023-03-08 20:26:44,336 - /Users/durian/Nutstore Files/Research/InvNet/gsm/gsm_solving_approach/base_slp.py[line:147] - INFO: Set parameter MIPGap to value 0.01\n"
     ]
    },
    {
     "name": "stdout",
     "output_type": "stream",
     "text": [
      "Set parameter MIPGap to value 0.01\n"
     ]
    },
    {
     "name": "stderr",
     "output_type": "stream",
     "text": [
      "2023-03-08 20:26:44,489 - /Users/durian/Nutstore Files/Research/InvNet/gsm/gsm_solving_approach/base_slp.py[line:147] - INFO: Set parameter MIPGap to value 0.01\n"
     ]
    },
    {
     "name": "stdout",
     "output_type": "stream",
     "text": [
      "Set parameter MIPGap to value 0.01\n"
     ]
    },
    {
     "name": "stderr",
     "output_type": "stream",
     "text": [
      "2023-03-08 20:26:44,640 - /Users/durian/Nutstore Files/Research/InvNet/gsm/gsm_solving_approach/base_slp.py[line:147] - INFO: Set parameter MIPGap to value 0.01\n"
     ]
    },
    {
     "name": "stdout",
     "output_type": "stream",
     "text": [
      "Set parameter MIPGap to value 0.01\n"
     ]
    },
    {
     "name": "stderr",
     "output_type": "stream",
     "text": [
      "2023-03-08 20:26:44,801 - /Users/durian/Nutstore Files/Research/InvNet/gsm/gsm_solving_approach/base_slp.py[line:147] - INFO: Set parameter MIPGap to value 0.01\n"
     ]
    },
    {
     "name": "stdout",
     "output_type": "stream",
     "text": [
      "Set parameter MIPGap to value 0.01\n"
     ]
    },
    {
     "name": "stderr",
     "output_type": "stream",
     "text": [
      "2023-03-08 20:26:44,998 - /Users/durian/Nutstore Files/Research/InvNet/gsm/gsm_solving_approach/base_slp.py[line:147] - INFO: Set parameter MIPGap to value 0.01\n"
     ]
    },
    {
     "name": "stdout",
     "output_type": "stream",
     "text": [
      "Set parameter MIPGap to value 0.01\n"
     ]
    },
    {
     "name": "stderr",
     "output_type": "stream",
     "text": [
      "2023-03-08 20:26:45,151 - /Users/durian/Nutstore Files/Research/InvNet/gsm/gsm_solving_approach/base_slp.py[line:147] - INFO: Set parameter MIPGap to value 0.01\n"
     ]
    },
    {
     "name": "stdout",
     "output_type": "stream",
     "text": [
      "Set parameter MIPGap to value 0.01\n"
     ]
    },
    {
     "name": "stderr",
     "output_type": "stream",
     "text": [
      "2023-03-08 20:26:45,399 - /Users/durian/Nutstore Files/Research/InvNet/gsm/gsm_solving_approach/base_slp.py[line:147] - INFO: Set parameter MIPGap to value 0.01\n"
     ]
    },
    {
     "name": "stdout",
     "output_type": "stream",
     "text": [
      "Set parameter MIPGap to value 0.01\n"
     ]
    },
    {
     "name": "stderr",
     "output_type": "stream",
     "text": [
      "2023-03-08 20:26:45,571 - /Users/durian/Nutstore Files/Research/InvNet/gsm/gsm_solving_approach/base_slp.py[line:147] - INFO: Set parameter MIPGap to value 0.01\n"
     ]
    },
    {
     "name": "stdout",
     "output_type": "stream",
     "text": [
      "This graph can be decomposed\n",
      "Set parameter MIPGap to value 0.01\n"
     ]
    },
    {
     "name": "stderr",
     "output_type": "stream",
     "text": [
      "2023-03-08 20:26:46,057 - /Users/durian/Nutstore Files/Research/InvNet/gsm/gsm_solving_approach/base_slp.py[line:147] - INFO: Set parameter MIPGap to value 0.01\n"
     ]
    },
    {
     "name": "stdout",
     "output_type": "stream",
     "text": [
      "Set parameter MIPGap to value 0.01\n"
     ]
    },
    {
     "name": "stderr",
     "output_type": "stream",
     "text": [
      "2023-03-08 20:26:46,229 - /Users/durian/Nutstore Files/Research/InvNet/gsm/gsm_solving_approach/base_slp.py[line:147] - INFO: Set parameter MIPGap to value 0.01\n"
     ]
    },
    {
     "name": "stdout",
     "output_type": "stream",
     "text": [
      "Set parameter MIPGap to value 0.01\n"
     ]
    },
    {
     "name": "stderr",
     "output_type": "stream",
     "text": [
      "2023-03-08 20:26:46,393 - /Users/durian/Nutstore Files/Research/InvNet/gsm/gsm_solving_approach/base_slp.py[line:147] - INFO: Set parameter MIPGap to value 0.01\n"
     ]
    },
    {
     "name": "stdout",
     "output_type": "stream",
     "text": [
      "Set parameter MIPGap to value 0.01\n"
     ]
    },
    {
     "name": "stderr",
     "output_type": "stream",
     "text": [
      "2023-03-08 20:26:46,525 - /Users/durian/Nutstore Files/Research/InvNet/gsm/gsm_solving_approach/base_slp.py[line:147] - INFO: Set parameter MIPGap to value 0.01\n"
     ]
    },
    {
     "name": "stdout",
     "output_type": "stream",
     "text": [
      "Set parameter MIPGap to value 0.01\n"
     ]
    },
    {
     "name": "stderr",
     "output_type": "stream",
     "text": [
      "2023-03-08 20:26:46,762 - /Users/durian/Nutstore Files/Research/InvNet/gsm/gsm_solving_approach/base_slp.py[line:147] - INFO: Set parameter MIPGap to value 0.01\n"
     ]
    },
    {
     "name": "stdout",
     "output_type": "stream",
     "text": [
      "Set parameter MIPGap to value 0.01\n"
     ]
    },
    {
     "name": "stderr",
     "output_type": "stream",
     "text": [
      "2023-03-08 20:26:46,925 - /Users/durian/Nutstore Files/Research/InvNet/gsm/gsm_solving_approach/base_slp.py[line:147] - INFO: Set parameter MIPGap to value 0.01\n"
     ]
    },
    {
     "name": "stdout",
     "output_type": "stream",
     "text": [
      "Set parameter MIPGap to value 0.01\n"
     ]
    },
    {
     "name": "stderr",
     "output_type": "stream",
     "text": [
      "2023-03-08 20:26:47,055 - /Users/durian/Nutstore Files/Research/InvNet/gsm/gsm_solving_approach/base_slp.py[line:147] - INFO: Set parameter MIPGap to value 0.01\n"
     ]
    },
    {
     "name": "stdout",
     "output_type": "stream",
     "text": [
      "Set parameter MIPGap to value 0.01\n"
     ]
    },
    {
     "name": "stderr",
     "output_type": "stream",
     "text": [
      "2023-03-08 20:26:47,191 - /Users/durian/Nutstore Files/Research/InvNet/gsm/gsm_solving_approach/base_slp.py[line:147] - INFO: Set parameter MIPGap to value 0.01\n"
     ]
    },
    {
     "name": "stdout",
     "output_type": "stream",
     "text": [
      "Set parameter MIPGap to value 0.01\n"
     ]
    },
    {
     "name": "stderr",
     "output_type": "stream",
     "text": [
      "2023-03-08 20:26:47,306 - /Users/durian/Nutstore Files/Research/InvNet/gsm/gsm_solving_approach/base_slp.py[line:147] - INFO: Set parameter MIPGap to value 0.01\n"
     ]
    },
    {
     "name": "stdout",
     "output_type": "stream",
     "text": [
      "Set parameter MIPGap to value 0.01\n"
     ]
    },
    {
     "name": "stderr",
     "output_type": "stream",
     "text": [
      "2023-03-08 20:26:47,416 - /Users/durian/Nutstore Files/Research/InvNet/gsm/gsm_solving_approach/base_slp.py[line:147] - INFO: Set parameter MIPGap to value 0.01\n"
     ]
    },
    {
     "name": "stdout",
     "output_type": "stream",
     "text": [
      "Set parameter MIPGap to value 0.01\n"
     ]
    },
    {
     "name": "stderr",
     "output_type": "stream",
     "text": [
      "2023-03-08 20:26:47,537 - /Users/durian/Nutstore Files/Research/InvNet/gsm/gsm_solving_approach/base_slp.py[line:147] - INFO: Set parameter MIPGap to value 0.01\n"
     ]
    },
    {
     "name": "stdout",
     "output_type": "stream",
     "text": [
      "Set parameter MIPGap to value 0.01\n"
     ]
    },
    {
     "name": "stderr",
     "output_type": "stream",
     "text": [
      "2023-03-08 20:26:47,662 - /Users/durian/Nutstore Files/Research/InvNet/gsm/gsm_solving_approach/base_slp.py[line:147] - INFO: Set parameter MIPGap to value 0.01\n"
     ]
    },
    {
     "name": "stdout",
     "output_type": "stream",
     "text": [
      "Set parameter MIPGap to value 0.01\n"
     ]
    },
    {
     "name": "stderr",
     "output_type": "stream",
     "text": [
      "2023-03-08 20:26:47,850 - /Users/durian/Nutstore Files/Research/InvNet/gsm/gsm_solving_approach/base_slp.py[line:147] - INFO: Set parameter MIPGap to value 0.01\n"
     ]
    },
    {
     "name": "stdout",
     "output_type": "stream",
     "text": [
      "Set parameter MIPGap to value 0.01\n"
     ]
    },
    {
     "name": "stderr",
     "output_type": "stream",
     "text": [
      "2023-03-08 20:26:48,004 - /Users/durian/Nutstore Files/Research/InvNet/gsm/gsm_solving_approach/base_slp.py[line:147] - INFO: Set parameter MIPGap to value 0.01\n"
     ]
    },
    {
     "name": "stdout",
     "output_type": "stream",
     "text": [
      "Set parameter MIPGap to value 0.01\n"
     ]
    },
    {
     "name": "stderr",
     "output_type": "stream",
     "text": [
      "2023-03-08 20:26:48,130 - /Users/durian/Nutstore Files/Research/InvNet/gsm/gsm_solving_approach/base_slp.py[line:147] - INFO: Set parameter MIPGap to value 0.01\n"
     ]
    },
    {
     "name": "stdout",
     "output_type": "stream",
     "text": [
      "Set parameter MIPGap to value 0.01\n"
     ]
    },
    {
     "name": "stderr",
     "output_type": "stream",
     "text": [
      "2023-03-08 20:26:48,248 - /Users/durian/Nutstore Files/Research/InvNet/gsm/gsm_solving_approach/base_slp.py[line:147] - INFO: Set parameter MIPGap to value 0.01\n"
     ]
    },
    {
     "name": "stdout",
     "output_type": "stream",
     "text": [
      "Set parameter MIPGap to value 0.01\n"
     ]
    },
    {
     "name": "stderr",
     "output_type": "stream",
     "text": [
      "2023-03-08 20:26:48,369 - /Users/durian/Nutstore Files/Research/InvNet/gsm/gsm_solving_approach/base_slp.py[line:147] - INFO: Set parameter MIPGap to value 0.01\n"
     ]
    },
    {
     "name": "stdout",
     "output_type": "stream",
     "text": [
      "Set parameter MIPGap to value 0.01\n"
     ]
    },
    {
     "name": "stderr",
     "output_type": "stream",
     "text": [
      "2023-03-08 20:26:48,489 - /Users/durian/Nutstore Files/Research/InvNet/gsm/gsm_solving_approach/base_slp.py[line:147] - INFO: Set parameter MIPGap to value 0.01\n"
     ]
    },
    {
     "name": "stdout",
     "output_type": "stream",
     "text": [
      "Set parameter MIPGap to value 0.01\n"
     ]
    },
    {
     "name": "stderr",
     "output_type": "stream",
     "text": [
      "2023-03-08 20:26:48,607 - /Users/durian/Nutstore Files/Research/InvNet/gsm/gsm_solving_approach/base_slp.py[line:147] - INFO: Set parameter MIPGap to value 0.01\n"
     ]
    },
    {
     "name": "stdout",
     "output_type": "stream",
     "text": [
      "Set parameter MIPGap to value 0.01\n"
     ]
    },
    {
     "name": "stderr",
     "output_type": "stream",
     "text": [
      "2023-03-08 20:26:48,727 - /Users/durian/Nutstore Files/Research/InvNet/gsm/gsm_solving_approach/base_slp.py[line:147] - INFO: Set parameter MIPGap to value 0.01\n"
     ]
    },
    {
     "name": "stdout",
     "output_type": "stream",
     "text": [
      "Set parameter MIPGap to value 0.01\n"
     ]
    },
    {
     "name": "stderr",
     "output_type": "stream",
     "text": [
      "2023-03-08 20:26:48,851 - /Users/durian/Nutstore Files/Research/InvNet/gsm/gsm_solving_approach/base_slp.py[line:147] - INFO: Set parameter MIPGap to value 0.01\n"
     ]
    },
    {
     "name": "stdout",
     "output_type": "stream",
     "text": [
      "Set parameter MIPGap to value 0.01\n"
     ]
    },
    {
     "name": "stderr",
     "output_type": "stream",
     "text": [
      "2023-03-08 20:26:49,030 - /Users/durian/Nutstore Files/Research/InvNet/gsm/gsm_solving_approach/base_slp.py[line:147] - INFO: Set parameter MIPGap to value 0.01\n"
     ]
    },
    {
     "name": "stdout",
     "output_type": "stream",
     "text": [
      "Set parameter MIPGap to value 0.01\n"
     ]
    },
    {
     "name": "stderr",
     "output_type": "stream",
     "text": [
      "2023-03-08 20:26:49,170 - /Users/durian/Nutstore Files/Research/InvNet/gsm/gsm_solving_approach/base_slp.py[line:147] - INFO: Set parameter MIPGap to value 0.01\n"
     ]
    },
    {
     "name": "stdout",
     "output_type": "stream",
     "text": [
      "Set parameter MIPGap to value 0.01\n"
     ]
    },
    {
     "name": "stderr",
     "output_type": "stream",
     "text": [
      "2023-03-08 20:26:49,306 - /Users/durian/Nutstore Files/Research/InvNet/gsm/gsm_solving_approach/base_slp.py[line:147] - INFO: Set parameter MIPGap to value 0.01\n"
     ]
    },
    {
     "name": "stdout",
     "output_type": "stream",
     "text": [
      "Set parameter MIPGap to value 0.01\n"
     ]
    },
    {
     "name": "stderr",
     "output_type": "stream",
     "text": [
      "2023-03-08 20:26:49,429 - /Users/durian/Nutstore Files/Research/InvNet/gsm/gsm_solving_approach/base_slp.py[line:147] - INFO: Set parameter MIPGap to value 0.01\n"
     ]
    },
    {
     "name": "stdout",
     "output_type": "stream",
     "text": [
      "Set parameter MIPGap to value 0.01\n"
     ]
    },
    {
     "name": "stderr",
     "output_type": "stream",
     "text": [
      "2023-03-08 20:26:49,554 - /Users/durian/Nutstore Files/Research/InvNet/gsm/gsm_solving_approach/base_slp.py[line:147] - INFO: Set parameter MIPGap to value 0.01\n"
     ]
    },
    {
     "name": "stdout",
     "output_type": "stream",
     "text": [
      "Set parameter MIPGap to value 0.01\n"
     ]
    },
    {
     "name": "stderr",
     "output_type": "stream",
     "text": [
      "2023-03-08 20:26:49,680 - /Users/durian/Nutstore Files/Research/InvNet/gsm/gsm_solving_approach/base_slp.py[line:147] - INFO: Set parameter MIPGap to value 0.01\n"
     ]
    },
    {
     "name": "stdout",
     "output_type": "stream",
     "text": [
      "Set parameter MIPGap to value 0.01\n"
     ]
    },
    {
     "name": "stderr",
     "output_type": "stream",
     "text": [
      "2023-03-08 20:26:49,798 - /Users/durian/Nutstore Files/Research/InvNet/gsm/gsm_solving_approach/base_slp.py[line:147] - INFO: Set parameter MIPGap to value 0.01\n"
     ]
    },
    {
     "name": "stdout",
     "output_type": "stream",
     "text": [
      "Set parameter MIPGap to value 0.01\n"
     ]
    },
    {
     "name": "stderr",
     "output_type": "stream",
     "text": [
      "2023-03-08 20:26:49,922 - /Users/durian/Nutstore Files/Research/InvNet/gsm/gsm_solving_approach/base_slp.py[line:147] - INFO: Set parameter MIPGap to value 0.01\n"
     ]
    },
    {
     "name": "stdout",
     "output_type": "stream",
     "text": [
      "Set parameter MIPGap to value 0.01\n"
     ]
    },
    {
     "name": "stderr",
     "output_type": "stream",
     "text": [
      "2023-03-08 20:26:50,109 - /Users/durian/Nutstore Files/Research/InvNet/gsm/gsm_solving_approach/base_slp.py[line:147] - INFO: Set parameter MIPGap to value 0.01\n"
     ]
    },
    {
     "name": "stdout",
     "output_type": "stream",
     "text": [
      "Set parameter MIPGap to value 0.01\n"
     ]
    },
    {
     "name": "stderr",
     "output_type": "stream",
     "text": [
      "2023-03-08 20:26:50,230 - /Users/durian/Nutstore Files/Research/InvNet/gsm/gsm_solving_approach/base_slp.py[line:147] - INFO: Set parameter MIPGap to value 0.01\n"
     ]
    },
    {
     "name": "stdout",
     "output_type": "stream",
     "text": [
      "Set parameter MIPGap to value 0.01\n"
     ]
    },
    {
     "name": "stderr",
     "output_type": "stream",
     "text": [
      "2023-03-08 20:26:50,350 - /Users/durian/Nutstore Files/Research/InvNet/gsm/gsm_solving_approach/base_slp.py[line:147] - INFO: Set parameter MIPGap to value 0.01\n"
     ]
    },
    {
     "name": "stdout",
     "output_type": "stream",
     "text": [
      "Set parameter MIPGap to value 0.01\n"
     ]
    },
    {
     "name": "stderr",
     "output_type": "stream",
     "text": [
      "2023-03-08 20:26:50,476 - /Users/durian/Nutstore Files/Research/InvNet/gsm/gsm_solving_approach/base_slp.py[line:147] - INFO: Set parameter MIPGap to value 0.01\n"
     ]
    },
    {
     "name": "stdout",
     "output_type": "stream",
     "text": [
      "Set parameter MIPGap to value 0.01\n"
     ]
    },
    {
     "name": "stderr",
     "output_type": "stream",
     "text": [
      "2023-03-08 20:26:50,593 - /Users/durian/Nutstore Files/Research/InvNet/gsm/gsm_solving_approach/base_slp.py[line:147] - INFO: Set parameter MIPGap to value 0.01\n"
     ]
    },
    {
     "name": "stdout",
     "output_type": "stream",
     "text": [
      "Set parameter MIPGap to value 0.01\n"
     ]
    },
    {
     "name": "stderr",
     "output_type": "stream",
     "text": [
      "2023-03-08 20:26:50,710 - /Users/durian/Nutstore Files/Research/InvNet/gsm/gsm_solving_approach/base_slp.py[line:147] - INFO: Set parameter MIPGap to value 0.01\n"
     ]
    },
    {
     "name": "stdout",
     "output_type": "stream",
     "text": [
      "Set parameter MIPGap to value 0.01\n"
     ]
    },
    {
     "name": "stderr",
     "output_type": "stream",
     "text": [
      "2023-03-08 20:26:50,822 - /Users/durian/Nutstore Files/Research/InvNet/gsm/gsm_solving_approach/base_slp.py[line:147] - INFO: Set parameter MIPGap to value 0.01\n"
     ]
    },
    {
     "name": "stdout",
     "output_type": "stream",
     "text": [
      "Set parameter MIPGap to value 0.01\n"
     ]
    },
    {
     "name": "stderr",
     "output_type": "stream",
     "text": [
      "2023-03-08 20:26:50,940 - /Users/durian/Nutstore Files/Research/InvNet/gsm/gsm_solving_approach/base_slp.py[line:147] - INFO: Set parameter MIPGap to value 0.01\n"
     ]
    },
    {
     "name": "stdout",
     "output_type": "stream",
     "text": [
      "Set parameter MIPGap to value 0.01\n"
     ]
    },
    {
     "name": "stderr",
     "output_type": "stream",
     "text": [
      "2023-03-08 20:26:51,058 - /Users/durian/Nutstore Files/Research/InvNet/gsm/gsm_solving_approach/base_slp.py[line:147] - INFO: Set parameter MIPGap to value 0.01\n"
     ]
    },
    {
     "name": "stdout",
     "output_type": "stream",
     "text": [
      "Set parameter MIPGap to value 0.01\n"
     ]
    },
    {
     "name": "stderr",
     "output_type": "stream",
     "text": [
      "2023-03-08 20:26:51,240 - /Users/durian/Nutstore Files/Research/InvNet/gsm/gsm_solving_approach/base_slp.py[line:147] - INFO: Set parameter MIPGap to value 0.01\n"
     ]
    },
    {
     "name": "stdout",
     "output_type": "stream",
     "text": [
      "Set parameter MIPGap to value 0.01\n"
     ]
    },
    {
     "name": "stderr",
     "output_type": "stream",
     "text": [
      "2023-03-08 20:26:51,359 - /Users/durian/Nutstore Files/Research/InvNet/gsm/gsm_solving_approach/base_slp.py[line:147] - INFO: Set parameter MIPGap to value 0.01\n"
     ]
    },
    {
     "name": "stdout",
     "output_type": "stream",
     "text": [
      "Set parameter MIPGap to value 0.01\n"
     ]
    },
    {
     "name": "stderr",
     "output_type": "stream",
     "text": [
      "2023-03-08 20:26:51,479 - /Users/durian/Nutstore Files/Research/InvNet/gsm/gsm_solving_approach/base_slp.py[line:147] - INFO: Set parameter MIPGap to value 0.01\n"
     ]
    },
    {
     "name": "stdout",
     "output_type": "stream",
     "text": [
      "Set parameter MIPGap to value 0.01\n"
     ]
    },
    {
     "name": "stderr",
     "output_type": "stream",
     "text": [
      "2023-03-08 20:26:51,597 - /Users/durian/Nutstore Files/Research/InvNet/gsm/gsm_solving_approach/base_slp.py[line:147] - INFO: Set parameter MIPGap to value 0.01\n"
     ]
    },
    {
     "name": "stdout",
     "output_type": "stream",
     "text": [
      "Set parameter MIPGap to value 0.01\n"
     ]
    },
    {
     "name": "stderr",
     "output_type": "stream",
     "text": [
      "2023-03-08 20:26:51,716 - /Users/durian/Nutstore Files/Research/InvNet/gsm/gsm_solving_approach/base_slp.py[line:147] - INFO: Set parameter MIPGap to value 0.01\n"
     ]
    },
    {
     "name": "stdout",
     "output_type": "stream",
     "text": [
      "This graph can be decomposed\n",
      "Set parameter MIPGap to value 0.01\n"
     ]
    },
    {
     "name": "stderr",
     "output_type": "stream",
     "text": [
      "2023-03-08 20:26:52,059 - /Users/durian/Nutstore Files/Research/InvNet/gsm/gsm_solving_approach/base_slp.py[line:147] - INFO: Set parameter MIPGap to value 0.01\n"
     ]
    },
    {
     "name": "stdout",
     "output_type": "stream",
     "text": [
      "Set parameter MIPGap to value 0.01\n"
     ]
    },
    {
     "name": "stderr",
     "output_type": "stream",
     "text": [
      "2023-03-08 20:26:52,147 - /Users/durian/Nutstore Files/Research/InvNet/gsm/gsm_solving_approach/base_slp.py[line:147] - INFO: Set parameter MIPGap to value 0.01\n"
     ]
    },
    {
     "name": "stdout",
     "output_type": "stream",
     "text": [
      "Set parameter MIPGap to value 0.01\n"
     ]
    },
    {
     "name": "stderr",
     "output_type": "stream",
     "text": [
      "2023-03-08 20:26:52,232 - /Users/durian/Nutstore Files/Research/InvNet/gsm/gsm_solving_approach/base_slp.py[line:147] - INFO: Set parameter MIPGap to value 0.01\n"
     ]
    },
    {
     "name": "stdout",
     "output_type": "stream",
     "text": [
      "Set parameter MIPGap to value 0.01\n"
     ]
    },
    {
     "name": "stderr",
     "output_type": "stream",
     "text": [
      "2023-03-08 20:26:52,388 - /Users/durian/Nutstore Files/Research/InvNet/gsm/gsm_solving_approach/base_slp.py[line:147] - INFO: Set parameter MIPGap to value 0.01\n"
     ]
    },
    {
     "name": "stdout",
     "output_type": "stream",
     "text": [
      "Set parameter MIPGap to value 0.01\n"
     ]
    },
    {
     "name": "stderr",
     "output_type": "stream",
     "text": [
      "2023-03-08 20:26:52,487 - /Users/durian/Nutstore Files/Research/InvNet/gsm/gsm_solving_approach/base_slp.py[line:147] - INFO: Set parameter MIPGap to value 0.01\n"
     ]
    },
    {
     "name": "stdout",
     "output_type": "stream",
     "text": [
      "Set parameter MIPGap to value 0.01\n"
     ]
    },
    {
     "name": "stderr",
     "output_type": "stream",
     "text": [
      "2023-03-08 20:26:52,587 - /Users/durian/Nutstore Files/Research/InvNet/gsm/gsm_solving_approach/base_slp.py[line:147] - INFO: Set parameter MIPGap to value 0.01\n"
     ]
    },
    {
     "name": "stdout",
     "output_type": "stream",
     "text": [
      "Set parameter MIPGap to value 0.01\n"
     ]
    },
    {
     "name": "stderr",
     "output_type": "stream",
     "text": [
      "2023-03-08 20:26:52,674 - /Users/durian/Nutstore Files/Research/InvNet/gsm/gsm_solving_approach/base_slp.py[line:147] - INFO: Set parameter MIPGap to value 0.01\n"
     ]
    },
    {
     "name": "stdout",
     "output_type": "stream",
     "text": [
      "Set parameter MIPGap to value 0.01\n"
     ]
    },
    {
     "name": "stderr",
     "output_type": "stream",
     "text": [
      "2023-03-08 20:26:52,760 - /Users/durian/Nutstore Files/Research/InvNet/gsm/gsm_solving_approach/base_slp.py[line:147] - INFO: Set parameter MIPGap to value 0.01\n"
     ]
    },
    {
     "name": "stdout",
     "output_type": "stream",
     "text": [
      "Set parameter MIPGap to value 0.01\n"
     ]
    },
    {
     "name": "stderr",
     "output_type": "stream",
     "text": [
      "2023-03-08 20:26:52,847 - /Users/durian/Nutstore Files/Research/InvNet/gsm/gsm_solving_approach/base_slp.py[line:147] - INFO: Set parameter MIPGap to value 0.01\n"
     ]
    },
    {
     "name": "stdout",
     "output_type": "stream",
     "text": [
      "Set parameter MIPGap to value 0.01\n"
     ]
    },
    {
     "name": "stderr",
     "output_type": "stream",
     "text": [
      "2023-03-08 20:26:52,948 - /Users/durian/Nutstore Files/Research/InvNet/gsm/gsm_solving_approach/base_slp.py[line:147] - INFO: Set parameter MIPGap to value 0.01\n"
     ]
    },
    {
     "name": "stdout",
     "output_type": "stream",
     "text": [
      "Set parameter MIPGap to value 0.01\n"
     ]
    },
    {
     "name": "stderr",
     "output_type": "stream",
     "text": [
      "2023-03-08 20:26:53,042 - /Users/durian/Nutstore Files/Research/InvNet/gsm/gsm_solving_approach/base_slp.py[line:147] - INFO: Set parameter MIPGap to value 0.01\n"
     ]
    },
    {
     "name": "stdout",
     "output_type": "stream",
     "text": [
      "Set parameter MIPGap to value 0.01\n"
     ]
    },
    {
     "name": "stderr",
     "output_type": "stream",
     "text": [
      "2023-03-08 20:26:53,136 - /Users/durian/Nutstore Files/Research/InvNet/gsm/gsm_solving_approach/base_slp.py[line:147] - INFO: Set parameter MIPGap to value 0.01\n"
     ]
    },
    {
     "name": "stdout",
     "output_type": "stream",
     "text": [
      "Set parameter MIPGap to value 0.01\n"
     ]
    },
    {
     "name": "stderr",
     "output_type": "stream",
     "text": [
      "2023-03-08 20:26:53,227 - /Users/durian/Nutstore Files/Research/InvNet/gsm/gsm_solving_approach/base_slp.py[line:147] - INFO: Set parameter MIPGap to value 0.01\n"
     ]
    },
    {
     "name": "stdout",
     "output_type": "stream",
     "text": [
      "Set parameter MIPGap to value 0.01\n"
     ]
    },
    {
     "name": "stderr",
     "output_type": "stream",
     "text": [
      "2023-03-08 20:26:53,313 - /Users/durian/Nutstore Files/Research/InvNet/gsm/gsm_solving_approach/base_slp.py[line:147] - INFO: Set parameter MIPGap to value 0.01\n"
     ]
    },
    {
     "name": "stdout",
     "output_type": "stream",
     "text": [
      "Set parameter MIPGap to value 0.01\n"
     ]
    },
    {
     "name": "stderr",
     "output_type": "stream",
     "text": [
      "2023-03-08 20:26:53,405 - /Users/durian/Nutstore Files/Research/InvNet/gsm/gsm_solving_approach/base_slp.py[line:147] - INFO: Set parameter MIPGap to value 0.01\n"
     ]
    },
    {
     "name": "stdout",
     "output_type": "stream",
     "text": [
      "Set parameter MIPGap to value 0.01\n"
     ]
    },
    {
     "name": "stderr",
     "output_type": "stream",
     "text": [
      "2023-03-08 20:26:53,490 - /Users/durian/Nutstore Files/Research/InvNet/gsm/gsm_solving_approach/base_slp.py[line:147] - INFO: Set parameter MIPGap to value 0.01\n"
     ]
    },
    {
     "name": "stdout",
     "output_type": "stream",
     "text": [
      "Set parameter MIPGap to value 0.01\n"
     ]
    },
    {
     "name": "stderr",
     "output_type": "stream",
     "text": [
      "2023-03-08 20:26:53,652 - /Users/durian/Nutstore Files/Research/InvNet/gsm/gsm_solving_approach/base_slp.py[line:147] - INFO: Set parameter MIPGap to value 0.01\n"
     ]
    },
    {
     "name": "stdout",
     "output_type": "stream",
     "text": [
      "Set parameter MIPGap to value 0.01\n"
     ]
    },
    {
     "name": "stderr",
     "output_type": "stream",
     "text": [
      "2023-03-08 20:26:53,743 - /Users/durian/Nutstore Files/Research/InvNet/gsm/gsm_solving_approach/base_slp.py[line:147] - INFO: Set parameter MIPGap to value 0.01\n"
     ]
    },
    {
     "name": "stdout",
     "output_type": "stream",
     "text": [
      "Set parameter MIPGap to value 0.01\n"
     ]
    },
    {
     "name": "stderr",
     "output_type": "stream",
     "text": [
      "2023-03-08 20:26:53,832 - /Users/durian/Nutstore Files/Research/InvNet/gsm/gsm_solving_approach/base_slp.py[line:147] - INFO: Set parameter MIPGap to value 0.01\n"
     ]
    },
    {
     "name": "stdout",
     "output_type": "stream",
     "text": [
      "Set parameter MIPGap to value 0.01\n"
     ]
    },
    {
     "name": "stderr",
     "output_type": "stream",
     "text": [
      "2023-03-08 20:26:53,924 - /Users/durian/Nutstore Files/Research/InvNet/gsm/gsm_solving_approach/base_slp.py[line:147] - INFO: Set parameter MIPGap to value 0.01\n"
     ]
    },
    {
     "name": "stdout",
     "output_type": "stream",
     "text": [
      "Set parameter MIPGap to value 0.01\n"
     ]
    },
    {
     "name": "stderr",
     "output_type": "stream",
     "text": [
      "2023-03-08 20:26:54,017 - /Users/durian/Nutstore Files/Research/InvNet/gsm/gsm_solving_approach/base_slp.py[line:147] - INFO: Set parameter MIPGap to value 0.01\n"
     ]
    },
    {
     "name": "stdout",
     "output_type": "stream",
     "text": [
      "Set parameter MIPGap to value 0.01\n"
     ]
    },
    {
     "name": "stderr",
     "output_type": "stream",
     "text": [
      "2023-03-08 20:26:54,105 - /Users/durian/Nutstore Files/Research/InvNet/gsm/gsm_solving_approach/base_slp.py[line:147] - INFO: Set parameter MIPGap to value 0.01\n"
     ]
    },
    {
     "name": "stdout",
     "output_type": "stream",
     "text": [
      "Set parameter MIPGap to value 0.01\n"
     ]
    },
    {
     "name": "stderr",
     "output_type": "stream",
     "text": [
      "2023-03-08 20:26:54,193 - /Users/durian/Nutstore Files/Research/InvNet/gsm/gsm_solving_approach/base_slp.py[line:147] - INFO: Set parameter MIPGap to value 0.01\n"
     ]
    },
    {
     "name": "stdout",
     "output_type": "stream",
     "text": [
      "Set parameter MIPGap to value 0.01\n"
     ]
    },
    {
     "name": "stderr",
     "output_type": "stream",
     "text": [
      "2023-03-08 20:26:54,277 - /Users/durian/Nutstore Files/Research/InvNet/gsm/gsm_solving_approach/base_slp.py[line:147] - INFO: Set parameter MIPGap to value 0.01\n"
     ]
    },
    {
     "name": "stdout",
     "output_type": "stream",
     "text": [
      "Set parameter MIPGap to value 0.01\n"
     ]
    },
    {
     "name": "stderr",
     "output_type": "stream",
     "text": [
      "2023-03-08 20:26:54,369 - /Users/durian/Nutstore Files/Research/InvNet/gsm/gsm_solving_approach/base_slp.py[line:147] - INFO: Set parameter MIPGap to value 0.01\n"
     ]
    },
    {
     "name": "stdout",
     "output_type": "stream",
     "text": [
      "Set parameter MIPGap to value 0.01\n"
     ]
    },
    {
     "name": "stderr",
     "output_type": "stream",
     "text": [
      "2023-03-08 20:26:54,460 - /Users/durian/Nutstore Files/Research/InvNet/gsm/gsm_solving_approach/base_slp.py[line:147] - INFO: Set parameter MIPGap to value 0.01\n"
     ]
    },
    {
     "name": "stdout",
     "output_type": "stream",
     "text": [
      "Set parameter MIPGap to value 0.01\n"
     ]
    },
    {
     "name": "stderr",
     "output_type": "stream",
     "text": [
      "2023-03-08 20:26:54,552 - /Users/durian/Nutstore Files/Research/InvNet/gsm/gsm_solving_approach/base_slp.py[line:147] - INFO: Set parameter MIPGap to value 0.01\n"
     ]
    },
    {
     "name": "stdout",
     "output_type": "stream",
     "text": [
      "Set parameter MIPGap to value 0.01\n"
     ]
    },
    {
     "name": "stderr",
     "output_type": "stream",
     "text": [
      "2023-03-08 20:26:54,643 - /Users/durian/Nutstore Files/Research/InvNet/gsm/gsm_solving_approach/base_slp.py[line:147] - INFO: Set parameter MIPGap to value 0.01\n"
     ]
    },
    {
     "name": "stdout",
     "output_type": "stream",
     "text": [
      "Set parameter MIPGap to value 0.01\n"
     ]
    },
    {
     "name": "stderr",
     "output_type": "stream",
     "text": [
      "2023-03-08 20:26:54,731 - /Users/durian/Nutstore Files/Research/InvNet/gsm/gsm_solving_approach/base_slp.py[line:147] - INFO: Set parameter MIPGap to value 0.01\n"
     ]
    },
    {
     "name": "stdout",
     "output_type": "stream",
     "text": [
      "Set parameter MIPGap to value 0.01\n"
     ]
    },
    {
     "name": "stderr",
     "output_type": "stream",
     "text": [
      "2023-03-08 20:26:54,886 - /Users/durian/Nutstore Files/Research/InvNet/gsm/gsm_solving_approach/base_slp.py[line:147] - INFO: Set parameter MIPGap to value 0.01\n"
     ]
    },
    {
     "name": "stdout",
     "output_type": "stream",
     "text": [
      "Set parameter MIPGap to value 0.01\n"
     ]
    },
    {
     "name": "stderr",
     "output_type": "stream",
     "text": [
      "2023-03-08 20:26:54,971 - /Users/durian/Nutstore Files/Research/InvNet/gsm/gsm_solving_approach/base_slp.py[line:147] - INFO: Set parameter MIPGap to value 0.01\n"
     ]
    },
    {
     "name": "stdout",
     "output_type": "stream",
     "text": [
      "Set parameter MIPGap to value 0.01\n"
     ]
    },
    {
     "name": "stderr",
     "output_type": "stream",
     "text": [
      "2023-03-08 20:26:55,061 - /Users/durian/Nutstore Files/Research/InvNet/gsm/gsm_solving_approach/base_slp.py[line:147] - INFO: Set parameter MIPGap to value 0.01\n"
     ]
    },
    {
     "name": "stdout",
     "output_type": "stream",
     "text": [
      "Set parameter MIPGap to value 0.01\n"
     ]
    },
    {
     "name": "stderr",
     "output_type": "stream",
     "text": [
      "2023-03-08 20:26:55,151 - /Users/durian/Nutstore Files/Research/InvNet/gsm/gsm_solving_approach/base_slp.py[line:147] - INFO: Set parameter MIPGap to value 0.01\n"
     ]
    },
    {
     "name": "stdout",
     "output_type": "stream",
     "text": [
      "Set parameter MIPGap to value 0.01\n"
     ]
    },
    {
     "name": "stderr",
     "output_type": "stream",
     "text": [
      "2023-03-08 20:26:55,242 - /Users/durian/Nutstore Files/Research/InvNet/gsm/gsm_solving_approach/base_slp.py[line:147] - INFO: Set parameter MIPGap to value 0.01\n"
     ]
    },
    {
     "name": "stdout",
     "output_type": "stream",
     "text": [
      "Set parameter MIPGap to value 0.01\n"
     ]
    },
    {
     "name": "stderr",
     "output_type": "stream",
     "text": [
      "2023-03-08 20:26:55,333 - /Users/durian/Nutstore Files/Research/InvNet/gsm/gsm_solving_approach/base_slp.py[line:147] - INFO: Set parameter MIPGap to value 0.01\n"
     ]
    },
    {
     "name": "stdout",
     "output_type": "stream",
     "text": [
      "Set parameter MIPGap to value 0.01\n"
     ]
    },
    {
     "name": "stderr",
     "output_type": "stream",
     "text": [
      "2023-03-08 20:26:55,426 - /Users/durian/Nutstore Files/Research/InvNet/gsm/gsm_solving_approach/base_slp.py[line:147] - INFO: Set parameter MIPGap to value 0.01\n"
     ]
    },
    {
     "name": "stdout",
     "output_type": "stream",
     "text": [
      "Set parameter MIPGap to value 0.01\n"
     ]
    },
    {
     "name": "stderr",
     "output_type": "stream",
     "text": [
      "2023-03-08 20:26:55,516 - /Users/durian/Nutstore Files/Research/InvNet/gsm/gsm_solving_approach/base_slp.py[line:147] - INFO: Set parameter MIPGap to value 0.01\n"
     ]
    },
    {
     "name": "stdout",
     "output_type": "stream",
     "text": [
      "Set parameter MIPGap to value 0.01\n"
     ]
    },
    {
     "name": "stderr",
     "output_type": "stream",
     "text": [
      "2023-03-08 20:26:55,607 - /Users/durian/Nutstore Files/Research/InvNet/gsm/gsm_solving_approach/base_slp.py[line:147] - INFO: Set parameter MIPGap to value 0.01\n"
     ]
    },
    {
     "name": "stdout",
     "output_type": "stream",
     "text": [
      "This graph can be decomposed\n",
      "Set parameter MIPGap to value 0.01\n"
     ]
    },
    {
     "name": "stderr",
     "output_type": "stream",
     "text": [
      "2023-03-08 20:26:55,855 - /Users/durian/Nutstore Files/Research/InvNet/gsm/gsm_solving_approach/base_slp.py[line:147] - INFO: Set parameter MIPGap to value 0.01\n"
     ]
    },
    {
     "name": "stdout",
     "output_type": "stream",
     "text": [
      "Set parameter MIPGap to value 0.01\n"
     ]
    },
    {
     "name": "stderr",
     "output_type": "stream",
     "text": [
      "2023-03-08 20:26:55,916 - /Users/durian/Nutstore Files/Research/InvNet/gsm/gsm_solving_approach/base_slp.py[line:147] - INFO: Set parameter MIPGap to value 0.01\n"
     ]
    },
    {
     "name": "stdout",
     "output_type": "stream",
     "text": [
      "Set parameter MIPGap to value 0.01\n"
     ]
    },
    {
     "name": "stderr",
     "output_type": "stream",
     "text": [
      "2023-03-08 20:26:55,976 - /Users/durian/Nutstore Files/Research/InvNet/gsm/gsm_solving_approach/base_slp.py[line:147] - INFO: Set parameter MIPGap to value 0.01\n"
     ]
    },
    {
     "name": "stdout",
     "output_type": "stream",
     "text": [
      "Set parameter MIPGap to value 0.01\n"
     ]
    },
    {
     "name": "stderr",
     "output_type": "stream",
     "text": [
      "2023-03-08 20:26:56,105 - /Users/durian/Nutstore Files/Research/InvNet/gsm/gsm_solving_approach/base_slp.py[line:147] - INFO: Set parameter MIPGap to value 0.01\n"
     ]
    },
    {
     "name": "stdout",
     "output_type": "stream",
     "text": [
      "Set parameter MIPGap to value 0.01\n"
     ]
    },
    {
     "name": "stderr",
     "output_type": "stream",
     "text": [
      "2023-03-08 20:26:56,164 - /Users/durian/Nutstore Files/Research/InvNet/gsm/gsm_solving_approach/base_slp.py[line:147] - INFO: Set parameter MIPGap to value 0.01\n"
     ]
    },
    {
     "name": "stdout",
     "output_type": "stream",
     "text": [
      "Set parameter MIPGap to value 0.01\n"
     ]
    },
    {
     "name": "stderr",
     "output_type": "stream",
     "text": [
      "2023-03-08 20:26:56,225 - /Users/durian/Nutstore Files/Research/InvNet/gsm/gsm_solving_approach/base_slp.py[line:147] - INFO: Set parameter MIPGap to value 0.01\n"
     ]
    },
    {
     "name": "stdout",
     "output_type": "stream",
     "text": [
      "Set parameter MIPGap to value 0.01\n"
     ]
    },
    {
     "name": "stderr",
     "output_type": "stream",
     "text": [
      "2023-03-08 20:26:56,285 - /Users/durian/Nutstore Files/Research/InvNet/gsm/gsm_solving_approach/base_slp.py[line:147] - INFO: Set parameter MIPGap to value 0.01\n"
     ]
    },
    {
     "name": "stdout",
     "output_type": "stream",
     "text": [
      "Set parameter MIPGap to value 0.01\n"
     ]
    },
    {
     "name": "stderr",
     "output_type": "stream",
     "text": [
      "2023-03-08 20:26:56,346 - /Users/durian/Nutstore Files/Research/InvNet/gsm/gsm_solving_approach/base_slp.py[line:147] - INFO: Set parameter MIPGap to value 0.01\n"
     ]
    },
    {
     "name": "stdout",
     "output_type": "stream",
     "text": [
      "Set parameter MIPGap to value 0.01\n"
     ]
    },
    {
     "name": "stderr",
     "output_type": "stream",
     "text": [
      "2023-03-08 20:26:56,411 - /Users/durian/Nutstore Files/Research/InvNet/gsm/gsm_solving_approach/base_slp.py[line:147] - INFO: Set parameter MIPGap to value 0.01\n"
     ]
    },
    {
     "name": "stdout",
     "output_type": "stream",
     "text": [
      "Set parameter MIPGap to value 0.01\n"
     ]
    },
    {
     "name": "stderr",
     "output_type": "stream",
     "text": [
      "2023-03-08 20:26:56,490 - /Users/durian/Nutstore Files/Research/InvNet/gsm/gsm_solving_approach/base_slp.py[line:147] - INFO: Set parameter MIPGap to value 0.01\n"
     ]
    },
    {
     "name": "stdout",
     "output_type": "stream",
     "text": [
      "Set parameter MIPGap to value 0.01\n"
     ]
    },
    {
     "name": "stderr",
     "output_type": "stream",
     "text": [
      "2023-03-08 20:26:56,555 - /Users/durian/Nutstore Files/Research/InvNet/gsm/gsm_solving_approach/base_slp.py[line:147] - INFO: Set parameter MIPGap to value 0.01\n"
     ]
    },
    {
     "name": "stdout",
     "output_type": "stream",
     "text": [
      "Set parameter MIPGap to value 0.01\n"
     ]
    },
    {
     "name": "stderr",
     "output_type": "stream",
     "text": [
      "2023-03-08 20:26:56,617 - /Users/durian/Nutstore Files/Research/InvNet/gsm/gsm_solving_approach/base_slp.py[line:147] - INFO: Set parameter MIPGap to value 0.01\n"
     ]
    },
    {
     "name": "stdout",
     "output_type": "stream",
     "text": [
      "Set parameter MIPGap to value 0.01\n"
     ]
    },
    {
     "name": "stderr",
     "output_type": "stream",
     "text": [
      "2023-03-08 20:26:56,675 - /Users/durian/Nutstore Files/Research/InvNet/gsm/gsm_solving_approach/base_slp.py[line:147] - INFO: Set parameter MIPGap to value 0.01\n"
     ]
    },
    {
     "name": "stdout",
     "output_type": "stream",
     "text": [
      "Set parameter MIPGap to value 0.01\n"
     ]
    },
    {
     "name": "stderr",
     "output_type": "stream",
     "text": [
      "2023-03-08 20:26:56,736 - /Users/durian/Nutstore Files/Research/InvNet/gsm/gsm_solving_approach/base_slp.py[line:147] - INFO: Set parameter MIPGap to value 0.01\n"
     ]
    },
    {
     "name": "stdout",
     "output_type": "stream",
     "text": [
      "Set parameter MIPGap to value 0.01\n"
     ]
    },
    {
     "name": "stderr",
     "output_type": "stream",
     "text": [
      "2023-03-08 20:26:56,795 - /Users/durian/Nutstore Files/Research/InvNet/gsm/gsm_solving_approach/base_slp.py[line:147] - INFO: Set parameter MIPGap to value 0.01\n"
     ]
    },
    {
     "name": "stdout",
     "output_type": "stream",
     "text": [
      "Set parameter MIPGap to value 0.01\n"
     ]
    },
    {
     "name": "stderr",
     "output_type": "stream",
     "text": [
      "2023-03-08 20:26:56,853 - /Users/durian/Nutstore Files/Research/InvNet/gsm/gsm_solving_approach/base_slp.py[line:147] - INFO: Set parameter MIPGap to value 0.01\n"
     ]
    },
    {
     "name": "stdout",
     "output_type": "stream",
     "text": [
      "Set parameter MIPGap to value 0.01\n"
     ]
    },
    {
     "name": "stderr",
     "output_type": "stream",
     "text": [
      "2023-03-08 20:26:56,913 - /Users/durian/Nutstore Files/Research/InvNet/gsm/gsm_solving_approach/base_slp.py[line:147] - INFO: Set parameter MIPGap to value 0.01\n"
     ]
    },
    {
     "name": "stdout",
     "output_type": "stream",
     "text": [
      "Set parameter MIPGap to value 0.01\n"
     ]
    },
    {
     "name": "stderr",
     "output_type": "stream",
     "text": [
      "2023-03-08 20:26:56,972 - /Users/durian/Nutstore Files/Research/InvNet/gsm/gsm_solving_approach/base_slp.py[line:147] - INFO: Set parameter MIPGap to value 0.01\n"
     ]
    },
    {
     "name": "stdout",
     "output_type": "stream",
     "text": [
      "Set parameter MIPGap to value 0.01\n"
     ]
    },
    {
     "name": "stderr",
     "output_type": "stream",
     "text": [
      "2023-03-08 20:26:57,032 - /Users/durian/Nutstore Files/Research/InvNet/gsm/gsm_solving_approach/base_slp.py[line:147] - INFO: Set parameter MIPGap to value 0.01\n"
     ]
    },
    {
     "name": "stdout",
     "output_type": "stream",
     "text": [
      "Set parameter MIPGap to value 0.01\n"
     ]
    },
    {
     "name": "stderr",
     "output_type": "stream",
     "text": [
      "2023-03-08 20:26:57,091 - /Users/durian/Nutstore Files/Research/InvNet/gsm/gsm_solving_approach/base_slp.py[line:147] - INFO: Set parameter MIPGap to value 0.01\n"
     ]
    },
    {
     "name": "stdout",
     "output_type": "stream",
     "text": [
      "Set parameter MIPGap to value 0.01\n"
     ]
    },
    {
     "name": "stderr",
     "output_type": "stream",
     "text": [
      "2023-03-08 20:26:57,156 - /Users/durian/Nutstore Files/Research/InvNet/gsm/gsm_solving_approach/base_slp.py[line:147] - INFO: Set parameter MIPGap to value 0.01\n"
     ]
    },
    {
     "name": "stdout",
     "output_type": "stream",
     "text": [
      "Set parameter MIPGap to value 0.01\n"
     ]
    },
    {
     "name": "stderr",
     "output_type": "stream",
     "text": [
      "2023-03-08 20:26:57,224 - /Users/durian/Nutstore Files/Research/InvNet/gsm/gsm_solving_approach/base_slp.py[line:147] - INFO: Set parameter MIPGap to value 0.01\n"
     ]
    },
    {
     "name": "stdout",
     "output_type": "stream",
     "text": [
      "Set parameter MIPGap to value 0.01\n"
     ]
    },
    {
     "name": "stderr",
     "output_type": "stream",
     "text": [
      "2023-03-08 20:26:57,283 - /Users/durian/Nutstore Files/Research/InvNet/gsm/gsm_solving_approach/base_slp.py[line:147] - INFO: Set parameter MIPGap to value 0.01\n"
     ]
    },
    {
     "name": "stdout",
     "output_type": "stream",
     "text": [
      "Set parameter MIPGap to value 0.01\n"
     ]
    },
    {
     "name": "stderr",
     "output_type": "stream",
     "text": [
      "2023-03-08 20:26:57,346 - /Users/durian/Nutstore Files/Research/InvNet/gsm/gsm_solving_approach/base_slp.py[line:147] - INFO: Set parameter MIPGap to value 0.01\n"
     ]
    },
    {
     "name": "stdout",
     "output_type": "stream",
     "text": [
      "Set parameter MIPGap to value 0.01\n"
     ]
    },
    {
     "name": "stderr",
     "output_type": "stream",
     "text": [
      "2023-03-08 20:26:57,413 - /Users/durian/Nutstore Files/Research/InvNet/gsm/gsm_solving_approach/base_slp.py[line:147] - INFO: Set parameter MIPGap to value 0.01\n"
     ]
    },
    {
     "name": "stdout",
     "output_type": "stream",
     "text": [
      "Set parameter MIPGap to value 0.01\n"
     ]
    },
    {
     "name": "stderr",
     "output_type": "stream",
     "text": [
      "2023-03-08 20:26:57,544 - /Users/durian/Nutstore Files/Research/InvNet/gsm/gsm_solving_approach/base_slp.py[line:147] - INFO: Set parameter MIPGap to value 0.01\n"
     ]
    },
    {
     "name": "stdout",
     "output_type": "stream",
     "text": [
      "Set parameter MIPGap to value 0.01\n"
     ]
    },
    {
     "name": "stderr",
     "output_type": "stream",
     "text": [
      "2023-03-08 20:26:57,610 - /Users/durian/Nutstore Files/Research/InvNet/gsm/gsm_solving_approach/base_slp.py[line:147] - INFO: Set parameter MIPGap to value 0.01\n"
     ]
    },
    {
     "name": "stdout",
     "output_type": "stream",
     "text": [
      "Set parameter MIPGap to value 0.01\n"
     ]
    },
    {
     "name": "stderr",
     "output_type": "stream",
     "text": [
      "2023-03-08 20:26:57,677 - /Users/durian/Nutstore Files/Research/InvNet/gsm/gsm_solving_approach/base_slp.py[line:147] - INFO: Set parameter MIPGap to value 0.01\n"
     ]
    },
    {
     "name": "stdout",
     "output_type": "stream",
     "text": [
      "Set parameter MIPGap to value 0.01\n"
     ]
    },
    {
     "name": "stderr",
     "output_type": "stream",
     "text": [
      "2023-03-08 20:26:57,746 - /Users/durian/Nutstore Files/Research/InvNet/gsm/gsm_solving_approach/base_slp.py[line:147] - INFO: Set parameter MIPGap to value 0.01\n"
     ]
    },
    {
     "name": "stdout",
     "output_type": "stream",
     "text": [
      "Set parameter MIPGap to value 0.01\n"
     ]
    },
    {
     "name": "stderr",
     "output_type": "stream",
     "text": [
      "2023-03-08 20:26:57,816 - /Users/durian/Nutstore Files/Research/InvNet/gsm/gsm_solving_approach/base_slp.py[line:147] - INFO: Set parameter MIPGap to value 0.01\n"
     ]
    },
    {
     "name": "stdout",
     "output_type": "stream",
     "text": [
      "Set parameter MIPGap to value 0.01\n"
     ]
    },
    {
     "name": "stderr",
     "output_type": "stream",
     "text": [
      "2023-03-08 20:26:57,888 - /Users/durian/Nutstore Files/Research/InvNet/gsm/gsm_solving_approach/base_slp.py[line:147] - INFO: Set parameter MIPGap to value 0.01\n"
     ]
    },
    {
     "name": "stdout",
     "output_type": "stream",
     "text": [
      "Set parameter MIPGap to value 0.01\n"
     ]
    },
    {
     "name": "stderr",
     "output_type": "stream",
     "text": [
      "2023-03-08 20:26:57,963 - /Users/durian/Nutstore Files/Research/InvNet/gsm/gsm_solving_approach/base_slp.py[line:147] - INFO: Set parameter MIPGap to value 0.01\n"
     ]
    },
    {
     "name": "stdout",
     "output_type": "stream",
     "text": [
      "Set parameter MIPGap to value 0.01\n"
     ]
    },
    {
     "name": "stderr",
     "output_type": "stream",
     "text": [
      "2023-03-08 20:26:58,066 - /Users/durian/Nutstore Files/Research/InvNet/gsm/gsm_solving_approach/base_slp.py[line:147] - INFO: Set parameter MIPGap to value 0.01\n"
     ]
    },
    {
     "name": "stdout",
     "output_type": "stream",
     "text": [
      "Set parameter MIPGap to value 0.01\n"
     ]
    },
    {
     "name": "stderr",
     "output_type": "stream",
     "text": [
      "2023-03-08 20:26:58,150 - /Users/durian/Nutstore Files/Research/InvNet/gsm/gsm_solving_approach/base_slp.py[line:147] - INFO: Set parameter MIPGap to value 0.01\n"
     ]
    },
    {
     "name": "stdout",
     "output_type": "stream",
     "text": [
      "Set parameter MIPGap to value 0.01\n"
     ]
    },
    {
     "name": "stderr",
     "output_type": "stream",
     "text": [
      "2023-03-08 20:26:58,218 - /Users/durian/Nutstore Files/Research/InvNet/gsm/gsm_solving_approach/base_slp.py[line:147] - INFO: Set parameter MIPGap to value 0.01\n"
     ]
    },
    {
     "name": "stdout",
     "output_type": "stream",
     "text": [
      "This graph can be decomposed\n",
      "Set parameter MIPGap to value 0.01\n"
     ]
    },
    {
     "name": "stderr",
     "output_type": "stream",
     "text": [
      "2023-03-08 20:26:58,407 - /Users/durian/Nutstore Files/Research/InvNet/gsm/gsm_solving_approach/base_slp.py[line:147] - INFO: Set parameter MIPGap to value 0.01\n"
     ]
    },
    {
     "name": "stdout",
     "output_type": "stream",
     "text": [
      "Set parameter MIPGap to value 0.01\n"
     ]
    },
    {
     "name": "stderr",
     "output_type": "stream",
     "text": [
      "2023-03-08 20:26:58,464 - /Users/durian/Nutstore Files/Research/InvNet/gsm/gsm_solving_approach/base_slp.py[line:147] - INFO: Set parameter MIPGap to value 0.01\n"
     ]
    },
    {
     "name": "stdout",
     "output_type": "stream",
     "text": [
      "Set parameter MIPGap to value 0.01\n"
     ]
    },
    {
     "name": "stderr",
     "output_type": "stream",
     "text": [
      "2023-03-08 20:26:58,522 - /Users/durian/Nutstore Files/Research/InvNet/gsm/gsm_solving_approach/base_slp.py[line:147] - INFO: Set parameter MIPGap to value 0.01\n"
     ]
    },
    {
     "name": "stdout",
     "output_type": "stream",
     "text": [
      "Set parameter MIPGap to value 0.01\n"
     ]
    },
    {
     "name": "stderr",
     "output_type": "stream",
     "text": [
      "2023-03-08 20:26:58,580 - /Users/durian/Nutstore Files/Research/InvNet/gsm/gsm_solving_approach/base_slp.py[line:147] - INFO: Set parameter MIPGap to value 0.01\n"
     ]
    },
    {
     "name": "stdout",
     "output_type": "stream",
     "text": [
      "Set parameter MIPGap to value 0.01\n"
     ]
    },
    {
     "name": "stderr",
     "output_type": "stream",
     "text": [
      "2023-03-08 20:26:58,634 - /Users/durian/Nutstore Files/Research/InvNet/gsm/gsm_solving_approach/base_slp.py[line:147] - INFO: Set parameter MIPGap to value 0.01\n"
     ]
    },
    {
     "name": "stdout",
     "output_type": "stream",
     "text": [
      "Set parameter MIPGap to value 0.01\n"
     ]
    },
    {
     "name": "stderr",
     "output_type": "stream",
     "text": [
      "2023-03-08 20:26:58,694 - /Users/durian/Nutstore Files/Research/InvNet/gsm/gsm_solving_approach/base_slp.py[line:147] - INFO: Set parameter MIPGap to value 0.01\n"
     ]
    },
    {
     "name": "stdout",
     "output_type": "stream",
     "text": [
      "Set parameter MIPGap to value 0.01\n"
     ]
    },
    {
     "name": "stderr",
     "output_type": "stream",
     "text": [
      "2023-03-08 20:26:58,767 - /Users/durian/Nutstore Files/Research/InvNet/gsm/gsm_solving_approach/base_slp.py[line:147] - INFO: Set parameter MIPGap to value 0.01\n"
     ]
    },
    {
     "name": "stdout",
     "output_type": "stream",
     "text": [
      "Set parameter MIPGap to value 0.01\n"
     ]
    },
    {
     "name": "stderr",
     "output_type": "stream",
     "text": [
      "2023-03-08 20:26:58,828 - /Users/durian/Nutstore Files/Research/InvNet/gsm/gsm_solving_approach/base_slp.py[line:147] - INFO: Set parameter MIPGap to value 0.01\n"
     ]
    },
    {
     "name": "stdout",
     "output_type": "stream",
     "text": [
      "Set parameter MIPGap to value 0.01\n"
     ]
    },
    {
     "name": "stderr",
     "output_type": "stream",
     "text": [
      "2023-03-08 20:26:58,876 - /Users/durian/Nutstore Files/Research/InvNet/gsm/gsm_solving_approach/base_slp.py[line:147] - INFO: Set parameter MIPGap to value 0.01\n"
     ]
    },
    {
     "name": "stdout",
     "output_type": "stream",
     "text": [
      "Set parameter MIPGap to value 0.01\n"
     ]
    },
    {
     "name": "stderr",
     "output_type": "stream",
     "text": [
      "2023-03-08 20:26:58,929 - /Users/durian/Nutstore Files/Research/InvNet/gsm/gsm_solving_approach/base_slp.py[line:147] - INFO: Set parameter MIPGap to value 0.01\n"
     ]
    },
    {
     "name": "stdout",
     "output_type": "stream",
     "text": [
      "Set parameter MIPGap to value 0.01\n"
     ]
    },
    {
     "name": "stderr",
     "output_type": "stream",
     "text": [
      "2023-03-08 20:26:58,981 - /Users/durian/Nutstore Files/Research/InvNet/gsm/gsm_solving_approach/base_slp.py[line:147] - INFO: Set parameter MIPGap to value 0.01\n"
     ]
    },
    {
     "name": "stdout",
     "output_type": "stream",
     "text": [
      "Set parameter MIPGap to value 0.01\n"
     ]
    },
    {
     "name": "stderr",
     "output_type": "stream",
     "text": [
      "2023-03-08 20:26:59,030 - /Users/durian/Nutstore Files/Research/InvNet/gsm/gsm_solving_approach/base_slp.py[line:147] - INFO: Set parameter MIPGap to value 0.01\n"
     ]
    },
    {
     "name": "stdout",
     "output_type": "stream",
     "text": [
      "Set parameter MIPGap to value 0.01\n"
     ]
    },
    {
     "name": "stderr",
     "output_type": "stream",
     "text": [
      "2023-03-08 20:26:59,076 - /Users/durian/Nutstore Files/Research/InvNet/gsm/gsm_solving_approach/base_slp.py[line:147] - INFO: Set parameter MIPGap to value 0.01\n"
     ]
    },
    {
     "name": "stdout",
     "output_type": "stream",
     "text": [
      "Set parameter MIPGap to value 0.01\n"
     ]
    },
    {
     "name": "stderr",
     "output_type": "stream",
     "text": [
      "2023-03-08 20:26:59,118 - /Users/durian/Nutstore Files/Research/InvNet/gsm/gsm_solving_approach/base_slp.py[line:147] - INFO: Set parameter MIPGap to value 0.01\n"
     ]
    },
    {
     "name": "stdout",
     "output_type": "stream",
     "text": [
      "Set parameter MIPGap to value 0.01\n"
     ]
    },
    {
     "name": "stderr",
     "output_type": "stream",
     "text": [
      "2023-03-08 20:26:59,166 - /Users/durian/Nutstore Files/Research/InvNet/gsm/gsm_solving_approach/base_slp.py[line:147] - INFO: Set parameter MIPGap to value 0.01\n"
     ]
    },
    {
     "name": "stdout",
     "output_type": "stream",
     "text": [
      "Set parameter MIPGap to value 0.01\n"
     ]
    },
    {
     "name": "stderr",
     "output_type": "stream",
     "text": [
      "2023-03-08 20:26:59,215 - /Users/durian/Nutstore Files/Research/InvNet/gsm/gsm_solving_approach/base_slp.py[line:147] - INFO: Set parameter MIPGap to value 0.01\n"
     ]
    },
    {
     "name": "stdout",
     "output_type": "stream",
     "text": [
      "Set parameter MIPGap to value 0.01\n"
     ]
    },
    {
     "name": "stderr",
     "output_type": "stream",
     "text": [
      "2023-03-08 20:26:59,339 - /Users/durian/Nutstore Files/Research/InvNet/gsm/gsm_solving_approach/base_slp.py[line:147] - INFO: Set parameter MIPGap to value 0.01\n"
     ]
    },
    {
     "name": "stdout",
     "output_type": "stream",
     "text": [
      "Set parameter MIPGap to value 0.01\n"
     ]
    },
    {
     "name": "stderr",
     "output_type": "stream",
     "text": [
      "2023-03-08 20:26:59,386 - /Users/durian/Nutstore Files/Research/InvNet/gsm/gsm_solving_approach/base_slp.py[line:147] - INFO: Set parameter MIPGap to value 0.01\n"
     ]
    },
    {
     "name": "stdout",
     "output_type": "stream",
     "text": [
      "Set parameter MIPGap to value 0.01\n"
     ]
    },
    {
     "name": "stderr",
     "output_type": "stream",
     "text": [
      "2023-03-08 20:26:59,434 - /Users/durian/Nutstore Files/Research/InvNet/gsm/gsm_solving_approach/base_slp.py[line:147] - INFO: Set parameter MIPGap to value 0.01\n"
     ]
    },
    {
     "name": "stdout",
     "output_type": "stream",
     "text": [
      "Set parameter MIPGap to value 0.01\n"
     ]
    },
    {
     "name": "stderr",
     "output_type": "stream",
     "text": [
      "2023-03-08 20:26:59,482 - /Users/durian/Nutstore Files/Research/InvNet/gsm/gsm_solving_approach/base_slp.py[line:147] - INFO: Set parameter MIPGap to value 0.01\n"
     ]
    },
    {
     "name": "stdout",
     "output_type": "stream",
     "text": [
      "Set parameter MIPGap to value 0.01\n"
     ]
    },
    {
     "name": "stderr",
     "output_type": "stream",
     "text": [
      "2023-03-08 20:26:59,527 - /Users/durian/Nutstore Files/Research/InvNet/gsm/gsm_solving_approach/base_slp.py[line:147] - INFO: Set parameter MIPGap to value 0.01\n"
     ]
    },
    {
     "name": "stdout",
     "output_type": "stream",
     "text": [
      "Set parameter MIPGap to value 0.01\n"
     ]
    },
    {
     "name": "stderr",
     "output_type": "stream",
     "text": [
      "2023-03-08 20:26:59,579 - /Users/durian/Nutstore Files/Research/InvNet/gsm/gsm_solving_approach/base_slp.py[line:147] - INFO: Set parameter MIPGap to value 0.01\n"
     ]
    },
    {
     "name": "stdout",
     "output_type": "stream",
     "text": [
      "Set parameter MIPGap to value 0.01\n"
     ]
    },
    {
     "name": "stderr",
     "output_type": "stream",
     "text": [
      "2023-03-08 20:26:59,625 - /Users/durian/Nutstore Files/Research/InvNet/gsm/gsm_solving_approach/base_slp.py[line:147] - INFO: Set parameter MIPGap to value 0.01\n"
     ]
    },
    {
     "name": "stdout",
     "output_type": "stream",
     "text": [
      "Set parameter MIPGap to value 0.01\n"
     ]
    },
    {
     "name": "stderr",
     "output_type": "stream",
     "text": [
      "2023-03-08 20:26:59,671 - /Users/durian/Nutstore Files/Research/InvNet/gsm/gsm_solving_approach/base_slp.py[line:147] - INFO: Set parameter MIPGap to value 0.01\n"
     ]
    },
    {
     "name": "stdout",
     "output_type": "stream",
     "text": [
      "Set parameter MIPGap to value 0.01\n"
     ]
    },
    {
     "name": "stderr",
     "output_type": "stream",
     "text": [
      "2023-03-08 20:26:59,717 - /Users/durian/Nutstore Files/Research/InvNet/gsm/gsm_solving_approach/base_slp.py[line:147] - INFO: Set parameter MIPGap to value 0.01\n"
     ]
    },
    {
     "name": "stdout",
     "output_type": "stream",
     "text": [
      "Set parameter MIPGap to value 0.01\n"
     ]
    },
    {
     "name": "stderr",
     "output_type": "stream",
     "text": [
      "2023-03-08 20:26:59,764 - /Users/durian/Nutstore Files/Research/InvNet/gsm/gsm_solving_approach/base_slp.py[line:147] - INFO: Set parameter MIPGap to value 0.01\n"
     ]
    },
    {
     "name": "stdout",
     "output_type": "stream",
     "text": [
      "Set parameter MIPGap to value 0.01\n"
     ]
    },
    {
     "name": "stderr",
     "output_type": "stream",
     "text": [
      "2023-03-08 20:26:59,814 - /Users/durian/Nutstore Files/Research/InvNet/gsm/gsm_solving_approach/base_slp.py[line:147] - INFO: Set parameter MIPGap to value 0.01\n"
     ]
    },
    {
     "name": "stdout",
     "output_type": "stream",
     "text": [
      "Set parameter MIPGap to value 0.01\n"
     ]
    },
    {
     "name": "stderr",
     "output_type": "stream",
     "text": [
      "2023-03-08 20:26:59,863 - /Users/durian/Nutstore Files/Research/InvNet/gsm/gsm_solving_approach/base_slp.py[line:147] - INFO: Set parameter MIPGap to value 0.01\n"
     ]
    },
    {
     "name": "stdout",
     "output_type": "stream",
     "text": [
      "Set parameter MIPGap to value 0.01\n"
     ]
    },
    {
     "name": "stderr",
     "output_type": "stream",
     "text": [
      "2023-03-08 20:26:59,920 - /Users/durian/Nutstore Files/Research/InvNet/gsm/gsm_solving_approach/base_slp.py[line:147] - INFO: Set parameter MIPGap to value 0.01\n"
     ]
    },
    {
     "name": "stdout",
     "output_type": "stream",
     "text": [
      "Set parameter MIPGap to value 0.01\n"
     ]
    },
    {
     "name": "stderr",
     "output_type": "stream",
     "text": [
      "2023-03-08 20:26:59,983 - /Users/durian/Nutstore Files/Research/InvNet/gsm/gsm_solving_approach/base_slp.py[line:147] - INFO: Set parameter MIPGap to value 0.01\n"
     ]
    },
    {
     "name": "stdout",
     "output_type": "stream",
     "text": [
      "Set parameter MIPGap to value 0.01\n"
     ]
    },
    {
     "name": "stderr",
     "output_type": "stream",
     "text": [
      "2023-03-08 20:27:00,064 - /Users/durian/Nutstore Files/Research/InvNet/gsm/gsm_solving_approach/base_slp.py[line:147] - INFO: Set parameter MIPGap to value 0.01\n"
     ]
    },
    {
     "name": "stdout",
     "output_type": "stream",
     "text": [
      "Set parameter MIPGap to value 0.01\n"
     ]
    },
    {
     "name": "stderr",
     "output_type": "stream",
     "text": [
      "2023-03-08 20:27:00,138 - /Users/durian/Nutstore Files/Research/InvNet/gsm/gsm_solving_approach/base_slp.py[line:147] - INFO: Set parameter MIPGap to value 0.01\n"
     ]
    },
    {
     "name": "stdout",
     "output_type": "stream",
     "text": [
      "This graph can be decomposed\n",
      "Set parameter MIPGap to value 0.01\n"
     ]
    },
    {
     "name": "stderr",
     "output_type": "stream",
     "text": [
      "2023-03-08 20:27:00,353 - /Users/durian/Nutstore Files/Research/InvNet/gsm/gsm_solving_approach/base_slp.py[line:147] - INFO: Set parameter MIPGap to value 0.01\n"
     ]
    },
    {
     "name": "stdout",
     "output_type": "stream",
     "text": [
      "Set parameter MIPGap to value 0.01\n"
     ]
    },
    {
     "name": "stderr",
     "output_type": "stream",
     "text": [
      "2023-03-08 20:27:00,386 - /Users/durian/Nutstore Files/Research/InvNet/gsm/gsm_solving_approach/base_slp.py[line:147] - INFO: Set parameter MIPGap to value 0.01\n"
     ]
    },
    {
     "name": "stdout",
     "output_type": "stream",
     "text": [
      "Set parameter MIPGap to value 0.01\n"
     ]
    },
    {
     "name": "stderr",
     "output_type": "stream",
     "text": [
      "2023-03-08 20:27:00,439 - /Users/durian/Nutstore Files/Research/InvNet/gsm/gsm_solving_approach/base_slp.py[line:147] - INFO: Set parameter MIPGap to value 0.01\n"
     ]
    },
    {
     "name": "stdout",
     "output_type": "stream",
     "text": [
      "Set parameter MIPGap to value 0.01\n"
     ]
    },
    {
     "name": "stderr",
     "output_type": "stream",
     "text": [
      "2023-03-08 20:27:00,495 - /Users/durian/Nutstore Files/Research/InvNet/gsm/gsm_solving_approach/base_slp.py[line:147] - INFO: Set parameter MIPGap to value 0.01\n"
     ]
    },
    {
     "name": "stdout",
     "output_type": "stream",
     "text": [
      "Set parameter MIPGap to value 0.01\n"
     ]
    },
    {
     "name": "stderr",
     "output_type": "stream",
     "text": [
      "2023-03-08 20:27:00,545 - /Users/durian/Nutstore Files/Research/InvNet/gsm/gsm_solving_approach/base_slp.py[line:147] - INFO: Set parameter MIPGap to value 0.01\n"
     ]
    },
    {
     "name": "stdout",
     "output_type": "stream",
     "text": [
      "Set parameter MIPGap to value 0.01\n"
     ]
    },
    {
     "name": "stderr",
     "output_type": "stream",
     "text": [
      "2023-03-08 20:27:00,583 - /Users/durian/Nutstore Files/Research/InvNet/gsm/gsm_solving_approach/base_slp.py[line:147] - INFO: Set parameter MIPGap to value 0.01\n"
     ]
    },
    {
     "name": "stdout",
     "output_type": "stream",
     "text": [
      "Set parameter MIPGap to value 0.01\n"
     ]
    },
    {
     "name": "stderr",
     "output_type": "stream",
     "text": [
      "2023-03-08 20:27:00,619 - /Users/durian/Nutstore Files/Research/InvNet/gsm/gsm_solving_approach/base_slp.py[line:147] - INFO: Set parameter MIPGap to value 0.01\n"
     ]
    },
    {
     "name": "stdout",
     "output_type": "stream",
     "text": [
      "Set parameter MIPGap to value 0.01\n"
     ]
    },
    {
     "name": "stderr",
     "output_type": "stream",
     "text": [
      "2023-03-08 20:27:00,659 - /Users/durian/Nutstore Files/Research/InvNet/gsm/gsm_solving_approach/base_slp.py[line:147] - INFO: Set parameter MIPGap to value 0.01\n"
     ]
    },
    {
     "name": "stdout",
     "output_type": "stream",
     "text": [
      "Set parameter MIPGap to value 0.01\n"
     ]
    },
    {
     "name": "stderr",
     "output_type": "stream",
     "text": [
      "2023-03-08 20:27:00,692 - /Users/durian/Nutstore Files/Research/InvNet/gsm/gsm_solving_approach/base_slp.py[line:147] - INFO: Set parameter MIPGap to value 0.01\n"
     ]
    },
    {
     "name": "stdout",
     "output_type": "stream",
     "text": [
      "Set parameter MIPGap to value 0.01\n"
     ]
    },
    {
     "name": "stderr",
     "output_type": "stream",
     "text": [
      "2023-03-08 20:27:00,730 - /Users/durian/Nutstore Files/Research/InvNet/gsm/gsm_solving_approach/base_slp.py[line:147] - INFO: Set parameter MIPGap to value 0.01\n"
     ]
    },
    {
     "name": "stdout",
     "output_type": "stream",
     "text": [
      "Set parameter MIPGap to value 0.01\n"
     ]
    },
    {
     "name": "stderr",
     "output_type": "stream",
     "text": [
      "2023-03-08 20:27:00,764 - /Users/durian/Nutstore Files/Research/InvNet/gsm/gsm_solving_approach/base_slp.py[line:147] - INFO: Set parameter MIPGap to value 0.01\n"
     ]
    },
    {
     "name": "stdout",
     "output_type": "stream",
     "text": [
      "Set parameter MIPGap to value 0.01\n"
     ]
    },
    {
     "name": "stderr",
     "output_type": "stream",
     "text": [
      "2023-03-08 20:27:00,795 - /Users/durian/Nutstore Files/Research/InvNet/gsm/gsm_solving_approach/base_slp.py[line:147] - INFO: Set parameter MIPGap to value 0.01\n"
     ]
    },
    {
     "name": "stdout",
     "output_type": "stream",
     "text": [
      "Set parameter MIPGap to value 0.01\n"
     ]
    },
    {
     "name": "stderr",
     "output_type": "stream",
     "text": [
      "2023-03-08 20:27:00,847 - /Users/durian/Nutstore Files/Research/InvNet/gsm/gsm_solving_approach/base_slp.py[line:147] - INFO: Set parameter MIPGap to value 0.01\n"
     ]
    },
    {
     "name": "stdout",
     "output_type": "stream",
     "text": [
      "Set parameter MIPGap to value 0.01\n"
     ]
    },
    {
     "name": "stderr",
     "output_type": "stream",
     "text": [
      "2023-03-08 20:27:00,883 - /Users/durian/Nutstore Files/Research/InvNet/gsm/gsm_solving_approach/base_slp.py[line:147] - INFO: Set parameter MIPGap to value 0.01\n"
     ]
    },
    {
     "name": "stdout",
     "output_type": "stream",
     "text": [
      "Set parameter MIPGap to value 0.01\n"
     ]
    },
    {
     "name": "stderr",
     "output_type": "stream",
     "text": [
      "2023-03-08 20:27:00,915 - /Users/durian/Nutstore Files/Research/InvNet/gsm/gsm_solving_approach/base_slp.py[line:147] - INFO: Set parameter MIPGap to value 0.01\n"
     ]
    },
    {
     "name": "stdout",
     "output_type": "stream",
     "text": [
      "Set parameter MIPGap to value 0.01\n"
     ]
    },
    {
     "name": "stderr",
     "output_type": "stream",
     "text": [
      "2023-03-08 20:27:00,957 - /Users/durian/Nutstore Files/Research/InvNet/gsm/gsm_solving_approach/base_slp.py[line:147] - INFO: Set parameter MIPGap to value 0.01\n"
     ]
    },
    {
     "name": "stdout",
     "output_type": "stream",
     "text": [
      "Set parameter MIPGap to value 0.01\n"
     ]
    },
    {
     "name": "stderr",
     "output_type": "stream",
     "text": [
      "2023-03-08 20:27:00,989 - /Users/durian/Nutstore Files/Research/InvNet/gsm/gsm_solving_approach/base_slp.py[line:147] - INFO: Set parameter MIPGap to value 0.01\n"
     ]
    },
    {
     "name": "stdout",
     "output_type": "stream",
     "text": [
      "Set parameter MIPGap to value 0.01\n"
     ]
    },
    {
     "name": "stderr",
     "output_type": "stream",
     "text": [
      "2023-03-08 20:27:01,031 - /Users/durian/Nutstore Files/Research/InvNet/gsm/gsm_solving_approach/base_slp.py[line:147] - INFO: Set parameter MIPGap to value 0.01\n"
     ]
    },
    {
     "name": "stdout",
     "output_type": "stream",
     "text": [
      "Set parameter MIPGap to value 0.01\n"
     ]
    },
    {
     "name": "stderr",
     "output_type": "stream",
     "text": [
      "2023-03-08 20:27:01,074 - /Users/durian/Nutstore Files/Research/InvNet/gsm/gsm_solving_approach/base_slp.py[line:147] - INFO: Set parameter MIPGap to value 0.01\n"
     ]
    },
    {
     "name": "stdout",
     "output_type": "stream",
     "text": [
      "Set parameter MIPGap to value 0.01\n"
     ]
    },
    {
     "name": "stderr",
     "output_type": "stream",
     "text": [
      "2023-03-08 20:27:01,110 - /Users/durian/Nutstore Files/Research/InvNet/gsm/gsm_solving_approach/base_slp.py[line:147] - INFO: Set parameter MIPGap to value 0.01\n"
     ]
    },
    {
     "name": "stdout",
     "output_type": "stream",
     "text": [
      "Set parameter MIPGap to value 0.01\n"
     ]
    },
    {
     "name": "stderr",
     "output_type": "stream",
     "text": [
      "2023-03-08 20:27:01,142 - /Users/durian/Nutstore Files/Research/InvNet/gsm/gsm_solving_approach/base_slp.py[line:147] - INFO: Set parameter MIPGap to value 0.01\n"
     ]
    },
    {
     "name": "stdout",
     "output_type": "stream",
     "text": [
      "Set parameter MIPGap to value 0.01\n"
     ]
    },
    {
     "name": "stderr",
     "output_type": "stream",
     "text": [
      "2023-03-08 20:27:01,178 - /Users/durian/Nutstore Files/Research/InvNet/gsm/gsm_solving_approach/base_slp.py[line:147] - INFO: Set parameter MIPGap to value 0.01\n"
     ]
    },
    {
     "name": "stdout",
     "output_type": "stream",
     "text": [
      "Set parameter MIPGap to value 0.01\n"
     ]
    },
    {
     "name": "stderr",
     "output_type": "stream",
     "text": [
      "2023-03-08 20:27:01,209 - /Users/durian/Nutstore Files/Research/InvNet/gsm/gsm_solving_approach/base_slp.py[line:147] - INFO: Set parameter MIPGap to value 0.01\n"
     ]
    },
    {
     "name": "stdout",
     "output_type": "stream",
     "text": [
      "Set parameter MIPGap to value 0.01\n"
     ]
    },
    {
     "name": "stderr",
     "output_type": "stream",
     "text": [
      "2023-03-08 20:27:01,241 - /Users/durian/Nutstore Files/Research/InvNet/gsm/gsm_solving_approach/base_slp.py[line:147] - INFO: Set parameter MIPGap to value 0.01\n"
     ]
    },
    {
     "name": "stdout",
     "output_type": "stream",
     "text": [
      "Set parameter MIPGap to value 0.01\n"
     ]
    },
    {
     "name": "stderr",
     "output_type": "stream",
     "text": [
      "2023-03-08 20:27:01,274 - /Users/durian/Nutstore Files/Research/InvNet/gsm/gsm_solving_approach/base_slp.py[line:147] - INFO: Set parameter MIPGap to value 0.01\n"
     ]
    },
    {
     "name": "stdout",
     "output_type": "stream",
     "text": [
      "Set parameter MIPGap to value 0.01\n"
     ]
    },
    {
     "name": "stderr",
     "output_type": "stream",
     "text": [
      "2023-03-08 20:27:01,305 - /Users/durian/Nutstore Files/Research/InvNet/gsm/gsm_solving_approach/base_slp.py[line:147] - INFO: Set parameter MIPGap to value 0.01\n"
     ]
    },
    {
     "name": "stdout",
     "output_type": "stream",
     "text": [
      "Set parameter MIPGap to value 0.01\n"
     ]
    },
    {
     "name": "stderr",
     "output_type": "stream",
     "text": [
      "2023-03-08 20:27:01,340 - /Users/durian/Nutstore Files/Research/InvNet/gsm/gsm_solving_approach/base_slp.py[line:147] - INFO: Set parameter MIPGap to value 0.01\n"
     ]
    },
    {
     "name": "stdout",
     "output_type": "stream",
     "text": [
      "Set parameter MIPGap to value 0.01\n"
     ]
    },
    {
     "name": "stderr",
     "output_type": "stream",
     "text": [
      "2023-03-08 20:27:01,374 - /Users/durian/Nutstore Files/Research/InvNet/gsm/gsm_solving_approach/base_slp.py[line:147] - INFO: Set parameter MIPGap to value 0.01\n"
     ]
    },
    {
     "name": "stdout",
     "output_type": "stream",
     "text": [
      "Set parameter MIPGap to value 0.01\n"
     ]
    },
    {
     "name": "stderr",
     "output_type": "stream",
     "text": [
      "2023-03-08 20:27:01,412 - /Users/durian/Nutstore Files/Research/InvNet/gsm/gsm_solving_approach/base_slp.py[line:147] - INFO: Set parameter MIPGap to value 0.01\n"
     ]
    },
    {
     "name": "stdout",
     "output_type": "stream",
     "text": [
      "This graph can be decomposed\n",
      "Set parameter MIPGap to value 0.01\n"
     ]
    },
    {
     "name": "stderr",
     "output_type": "stream",
     "text": [
      "2023-03-08 20:27:01,600 - /Users/durian/Nutstore Files/Research/InvNet/gsm/gsm_solving_approach/base_slp.py[line:147] - INFO: Set parameter MIPGap to value 0.01\n"
     ]
    },
    {
     "name": "stdout",
     "output_type": "stream",
     "text": [
      "Set parameter MIPGap to value 0.01\n"
     ]
    },
    {
     "name": "stderr",
     "output_type": "stream",
     "text": [
      "2023-03-08 20:27:01,630 - /Users/durian/Nutstore Files/Research/InvNet/gsm/gsm_solving_approach/base_slp.py[line:147] - INFO: Set parameter MIPGap to value 0.01\n"
     ]
    },
    {
     "name": "stdout",
     "output_type": "stream",
     "text": [
      "Set parameter MIPGap to value 0.01\n"
     ]
    },
    {
     "name": "stderr",
     "output_type": "stream",
     "text": [
      "2023-03-08 20:27:01,652 - /Users/durian/Nutstore Files/Research/InvNet/gsm/gsm_solving_approach/base_slp.py[line:147] - INFO: Set parameter MIPGap to value 0.01\n"
     ]
    },
    {
     "name": "stdout",
     "output_type": "stream",
     "text": [
      "Set parameter MIPGap to value 0.01\n"
     ]
    },
    {
     "name": "stderr",
     "output_type": "stream",
     "text": [
      "2023-03-08 20:27:01,676 - /Users/durian/Nutstore Files/Research/InvNet/gsm/gsm_solving_approach/base_slp.py[line:147] - INFO: Set parameter MIPGap to value 0.01\n"
     ]
    },
    {
     "name": "stdout",
     "output_type": "stream",
     "text": [
      "Set parameter MIPGap to value 0.01\n"
     ]
    },
    {
     "name": "stderr",
     "output_type": "stream",
     "text": [
      "2023-03-08 20:27:01,698 - /Users/durian/Nutstore Files/Research/InvNet/gsm/gsm_solving_approach/base_slp.py[line:147] - INFO: Set parameter MIPGap to value 0.01\n"
     ]
    },
    {
     "name": "stdout",
     "output_type": "stream",
     "text": [
      "Set parameter MIPGap to value 0.01\n"
     ]
    },
    {
     "name": "stderr",
     "output_type": "stream",
     "text": [
      "2023-03-08 20:27:01,723 - /Users/durian/Nutstore Files/Research/InvNet/gsm/gsm_solving_approach/base_slp.py[line:147] - INFO: Set parameter MIPGap to value 0.01\n"
     ]
    },
    {
     "name": "stdout",
     "output_type": "stream",
     "text": [
      "Set parameter MIPGap to value 0.01\n"
     ]
    },
    {
     "name": "stderr",
     "output_type": "stream",
     "text": [
      "2023-03-08 20:27:01,750 - /Users/durian/Nutstore Files/Research/InvNet/gsm/gsm_solving_approach/base_slp.py[line:147] - INFO: Set parameter MIPGap to value 0.01\n"
     ]
    },
    {
     "name": "stdout",
     "output_type": "stream",
     "text": [
      "Set parameter MIPGap to value 0.01\n"
     ]
    },
    {
     "name": "stderr",
     "output_type": "stream",
     "text": [
      "2023-03-08 20:27:01,775 - /Users/durian/Nutstore Files/Research/InvNet/gsm/gsm_solving_approach/base_slp.py[line:147] - INFO: Set parameter MIPGap to value 0.01\n"
     ]
    },
    {
     "name": "stdout",
     "output_type": "stream",
     "text": [
      "Set parameter MIPGap to value 0.01\n"
     ]
    },
    {
     "name": "stderr",
     "output_type": "stream",
     "text": [
      "2023-03-08 20:27:01,797 - /Users/durian/Nutstore Files/Research/InvNet/gsm/gsm_solving_approach/base_slp.py[line:147] - INFO: Set parameter MIPGap to value 0.01\n"
     ]
    },
    {
     "name": "stdout",
     "output_type": "stream",
     "text": [
      "Set parameter MIPGap to value 0.01\n"
     ]
    },
    {
     "name": "stderr",
     "output_type": "stream",
     "text": [
      "2023-03-08 20:27:01,823 - /Users/durian/Nutstore Files/Research/InvNet/gsm/gsm_solving_approach/base_slp.py[line:147] - INFO: Set parameter MIPGap to value 0.01\n"
     ]
    },
    {
     "name": "stdout",
     "output_type": "stream",
     "text": [
      "Set parameter MIPGap to value 0.01\n"
     ]
    },
    {
     "name": "stderr",
     "output_type": "stream",
     "text": [
      "2023-03-08 20:27:01,847 - /Users/durian/Nutstore Files/Research/InvNet/gsm/gsm_solving_approach/base_slp.py[line:147] - INFO: Set parameter MIPGap to value 0.01\n"
     ]
    },
    {
     "name": "stdout",
     "output_type": "stream",
     "text": [
      "Set parameter MIPGap to value 0.01\n"
     ]
    },
    {
     "name": "stderr",
     "output_type": "stream",
     "text": [
      "2023-03-08 20:27:01,872 - /Users/durian/Nutstore Files/Research/InvNet/gsm/gsm_solving_approach/base_slp.py[line:147] - INFO: Set parameter MIPGap to value 0.01\n"
     ]
    },
    {
     "name": "stdout",
     "output_type": "stream",
     "text": [
      "Set parameter MIPGap to value 0.01\n"
     ]
    },
    {
     "name": "stderr",
     "output_type": "stream",
     "text": [
      "2023-03-08 20:27:01,900 - /Users/durian/Nutstore Files/Research/InvNet/gsm/gsm_solving_approach/base_slp.py[line:147] - INFO: Set parameter MIPGap to value 0.01\n"
     ]
    },
    {
     "name": "stdout",
     "output_type": "stream",
     "text": [
      "Set parameter MIPGap to value 0.01\n"
     ]
    },
    {
     "name": "stderr",
     "output_type": "stream",
     "text": [
      "2023-03-08 20:27:01,923 - /Users/durian/Nutstore Files/Research/InvNet/gsm/gsm_solving_approach/base_slp.py[line:147] - INFO: Set parameter MIPGap to value 0.01\n"
     ]
    },
    {
     "name": "stdout",
     "output_type": "stream",
     "text": [
      "Set parameter MIPGap to value 0.01\n"
     ]
    },
    {
     "name": "stderr",
     "output_type": "stream",
     "text": [
      "2023-03-08 20:27:01,950 - /Users/durian/Nutstore Files/Research/InvNet/gsm/gsm_solving_approach/base_slp.py[line:147] - INFO: Set parameter MIPGap to value 0.01\n"
     ]
    },
    {
     "name": "stdout",
     "output_type": "stream",
     "text": [
      "Set parameter MIPGap to value 0.01\n"
     ]
    },
    {
     "name": "stderr",
     "output_type": "stream",
     "text": [
      "2023-03-08 20:27:01,986 - /Users/durian/Nutstore Files/Research/InvNet/gsm/gsm_solving_approach/base_slp.py[line:147] - INFO: Set parameter MIPGap to value 0.01\n"
     ]
    },
    {
     "name": "stdout",
     "output_type": "stream",
     "text": [
      "Set parameter MIPGap to value 0.01\n"
     ]
    },
    {
     "name": "stderr",
     "output_type": "stream",
     "text": [
      "2023-03-08 20:27:02,082 - /Users/durian/Nutstore Files/Research/InvNet/gsm/gsm_solving_approach/base_slp.py[line:147] - INFO: Set parameter MIPGap to value 0.01\n"
     ]
    },
    {
     "name": "stdout",
     "output_type": "stream",
     "text": [
      "Set parameter MIPGap to value 0.01\n"
     ]
    },
    {
     "name": "stderr",
     "output_type": "stream",
     "text": [
      "2023-03-08 20:27:02,169 - /Users/durian/Nutstore Files/Research/InvNet/gsm/gsm_solving_approach/base_slp.py[line:147] - INFO: Set parameter MIPGap to value 0.01\n"
     ]
    },
    {
     "name": "stdout",
     "output_type": "stream",
     "text": [
      "Set parameter MIPGap to value 0.01\n"
     ]
    },
    {
     "name": "stderr",
     "output_type": "stream",
     "text": [
      "2023-03-08 20:27:02,244 - /Users/durian/Nutstore Files/Research/InvNet/gsm/gsm_solving_approach/base_slp.py[line:147] - INFO: Set parameter MIPGap to value 0.01\n"
     ]
    },
    {
     "name": "stdout",
     "output_type": "stream",
     "text": [
      "Set parameter MIPGap to value 0.01\n"
     ]
    },
    {
     "name": "stderr",
     "output_type": "stream",
     "text": [
      "2023-03-08 20:27:02,278 - /Users/durian/Nutstore Files/Research/InvNet/gsm/gsm_solving_approach/base_slp.py[line:147] - INFO: Set parameter MIPGap to value 0.01\n"
     ]
    },
    {
     "name": "stdout",
     "output_type": "stream",
     "text": [
      "Set parameter MIPGap to value 0.01\n"
     ]
    },
    {
     "name": "stderr",
     "output_type": "stream",
     "text": [
      "2023-03-08 20:27:02,330 - /Users/durian/Nutstore Files/Research/InvNet/gsm/gsm_solving_approach/base_slp.py[line:147] - INFO: Set parameter MIPGap to value 0.01\n"
     ]
    },
    {
     "name": "stdout",
     "output_type": "stream",
     "text": [
      "Set parameter MIPGap to value 0.01\n"
     ]
    },
    {
     "name": "stderr",
     "output_type": "stream",
     "text": [
      "2023-03-08 20:27:02,379 - /Users/durian/Nutstore Files/Research/InvNet/gsm/gsm_solving_approach/base_slp.py[line:147] - INFO: Set parameter MIPGap to value 0.01\n"
     ]
    },
    {
     "name": "stdout",
     "output_type": "stream",
     "text": [
      "Set parameter MIPGap to value 0.01\n"
     ]
    },
    {
     "name": "stderr",
     "output_type": "stream",
     "text": [
      "2023-03-08 20:27:02,436 - /Users/durian/Nutstore Files/Research/InvNet/gsm/gsm_solving_approach/base_slp.py[line:147] - INFO: Set parameter MIPGap to value 0.01\n"
     ]
    },
    {
     "name": "stdout",
     "output_type": "stream",
     "text": [
      "Set parameter MIPGap to value 0.01\n"
     ]
    },
    {
     "name": "stderr",
     "output_type": "stream",
     "text": [
      "2023-03-08 20:27:02,471 - /Users/durian/Nutstore Files/Research/InvNet/gsm/gsm_solving_approach/base_slp.py[line:147] - INFO: Set parameter MIPGap to value 0.01\n"
     ]
    },
    {
     "name": "stdout",
     "output_type": "stream",
     "text": [
      "Set parameter MIPGap to value 0.01\n"
     ]
    },
    {
     "name": "stderr",
     "output_type": "stream",
     "text": [
      "2023-03-08 20:27:02,505 - /Users/durian/Nutstore Files/Research/InvNet/gsm/gsm_solving_approach/base_slp.py[line:147] - INFO: Set parameter MIPGap to value 0.01\n"
     ]
    },
    {
     "name": "stdout",
     "output_type": "stream",
     "text": [
      "This graph can be decomposed\n",
      "Set parameter MIPGap to value 0.01\n"
     ]
    },
    {
     "name": "stderr",
     "output_type": "stream",
     "text": [
      "2023-03-08 20:27:02,663 - /Users/durian/Nutstore Files/Research/InvNet/gsm/gsm_solving_approach/base_slp.py[line:147] - INFO: Set parameter MIPGap to value 0.01\n"
     ]
    },
    {
     "name": "stdout",
     "output_type": "stream",
     "text": [
      "Set parameter MIPGap to value 0.01\n"
     ]
    },
    {
     "name": "stderr",
     "output_type": "stream",
     "text": [
      "2023-03-08 20:27:02,685 - /Users/durian/Nutstore Files/Research/InvNet/gsm/gsm_solving_approach/base_slp.py[line:147] - INFO: Set parameter MIPGap to value 0.01\n"
     ]
    },
    {
     "name": "stdout",
     "output_type": "stream",
     "text": [
      "Set parameter MIPGap to value 0.01\n"
     ]
    },
    {
     "name": "stderr",
     "output_type": "stream",
     "text": [
      "2023-03-08 20:27:02,704 - /Users/durian/Nutstore Files/Research/InvNet/gsm/gsm_solving_approach/base_slp.py[line:147] - INFO: Set parameter MIPGap to value 0.01\n"
     ]
    },
    {
     "name": "stdout",
     "output_type": "stream",
     "text": [
      "Set parameter MIPGap to value 0.01\n"
     ]
    },
    {
     "name": "stderr",
     "output_type": "stream",
     "text": [
      "2023-03-08 20:27:02,725 - /Users/durian/Nutstore Files/Research/InvNet/gsm/gsm_solving_approach/base_slp.py[line:147] - INFO: Set parameter MIPGap to value 0.01\n"
     ]
    },
    {
     "name": "stdout",
     "output_type": "stream",
     "text": [
      "Set parameter MIPGap to value 0.01\n"
     ]
    },
    {
     "name": "stderr",
     "output_type": "stream",
     "text": [
      "2023-03-08 20:27:02,741 - /Users/durian/Nutstore Files/Research/InvNet/gsm/gsm_solving_approach/base_slp.py[line:147] - INFO: Set parameter MIPGap to value 0.01\n"
     ]
    },
    {
     "name": "stdout",
     "output_type": "stream",
     "text": [
      "Set parameter MIPGap to value 0.01\n"
     ]
    },
    {
     "name": "stderr",
     "output_type": "stream",
     "text": [
      "2023-03-08 20:27:02,756 - /Users/durian/Nutstore Files/Research/InvNet/gsm/gsm_solving_approach/base_slp.py[line:147] - INFO: Set parameter MIPGap to value 0.01\n"
     ]
    },
    {
     "name": "stdout",
     "output_type": "stream",
     "text": [
      "Set parameter MIPGap to value 0.01\n"
     ]
    },
    {
     "name": "stderr",
     "output_type": "stream",
     "text": [
      "2023-03-08 20:27:02,774 - /Users/durian/Nutstore Files/Research/InvNet/gsm/gsm_solving_approach/base_slp.py[line:147] - INFO: Set parameter MIPGap to value 0.01\n"
     ]
    },
    {
     "name": "stdout",
     "output_type": "stream",
     "text": [
      "Set parameter MIPGap to value 0.01\n"
     ]
    },
    {
     "name": "stderr",
     "output_type": "stream",
     "text": [
      "2023-03-08 20:27:02,799 - /Users/durian/Nutstore Files/Research/InvNet/gsm/gsm_solving_approach/base_slp.py[line:147] - INFO: Set parameter MIPGap to value 0.01\n"
     ]
    },
    {
     "name": "stdout",
     "output_type": "stream",
     "text": [
      "Set parameter MIPGap to value 0.01\n"
     ]
    },
    {
     "name": "stderr",
     "output_type": "stream",
     "text": [
      "2023-03-08 20:27:02,826 - /Users/durian/Nutstore Files/Research/InvNet/gsm/gsm_solving_approach/base_slp.py[line:147] - INFO: Set parameter MIPGap to value 0.01\n"
     ]
    },
    {
     "name": "stdout",
     "output_type": "stream",
     "text": [
      "Set parameter MIPGap to value 0.01\n"
     ]
    },
    {
     "name": "stderr",
     "output_type": "stream",
     "text": [
      "2023-03-08 20:27:02,841 - /Users/durian/Nutstore Files/Research/InvNet/gsm/gsm_solving_approach/base_slp.py[line:147] - INFO: Set parameter MIPGap to value 0.01\n"
     ]
    },
    {
     "name": "stdout",
     "output_type": "stream",
     "text": [
      "Set parameter MIPGap to value 0.01\n"
     ]
    },
    {
     "name": "stderr",
     "output_type": "stream",
     "text": [
      "2023-03-08 20:27:02,857 - /Users/durian/Nutstore Files/Research/InvNet/gsm/gsm_solving_approach/base_slp.py[line:147] - INFO: Set parameter MIPGap to value 0.01\n"
     ]
    },
    {
     "name": "stdout",
     "output_type": "stream",
     "text": [
      "Set parameter MIPGap to value 0.01\n"
     ]
    },
    {
     "name": "stderr",
     "output_type": "stream",
     "text": [
      "2023-03-08 20:27:02,872 - /Users/durian/Nutstore Files/Research/InvNet/gsm/gsm_solving_approach/base_slp.py[line:147] - INFO: Set parameter MIPGap to value 0.01\n"
     ]
    },
    {
     "name": "stdout",
     "output_type": "stream",
     "text": [
      "Set parameter MIPGap to value 0.01\n"
     ]
    },
    {
     "name": "stderr",
     "output_type": "stream",
     "text": [
      "2023-03-08 20:27:02,894 - /Users/durian/Nutstore Files/Research/InvNet/gsm/gsm_solving_approach/base_slp.py[line:147] - INFO: Set parameter MIPGap to value 0.01\n"
     ]
    },
    {
     "name": "stdout",
     "output_type": "stream",
     "text": [
      "Set parameter MIPGap to value 0.01\n"
     ]
    },
    {
     "name": "stderr",
     "output_type": "stream",
     "text": [
      "2023-03-08 20:27:02,924 - /Users/durian/Nutstore Files/Research/InvNet/gsm/gsm_solving_approach/base_slp.py[line:147] - INFO: Set parameter MIPGap to value 0.01\n"
     ]
    },
    {
     "name": "stdout",
     "output_type": "stream",
     "text": [
      "Set parameter MIPGap to value 0.01\n"
     ]
    },
    {
     "name": "stderr",
     "output_type": "stream",
     "text": [
      "2023-03-08 20:27:02,945 - /Users/durian/Nutstore Files/Research/InvNet/gsm/gsm_solving_approach/base_slp.py[line:147] - INFO: Set parameter MIPGap to value 0.01\n"
     ]
    },
    {
     "name": "stdout",
     "output_type": "stream",
     "text": [
      "Set parameter MIPGap to value 0.01\n"
     ]
    },
    {
     "name": "stderr",
     "output_type": "stream",
     "text": [
      "2023-03-08 20:27:02,981 - /Users/durian/Nutstore Files/Research/InvNet/gsm/gsm_solving_approach/base_slp.py[line:147] - INFO: Set parameter MIPGap to value 0.01\n"
     ]
    },
    {
     "name": "stdout",
     "output_type": "stream",
     "text": [
      "Set parameter MIPGap to value 0.01\n"
     ]
    },
    {
     "name": "stderr",
     "output_type": "stream",
     "text": [
      "2023-03-08 20:27:03,007 - /Users/durian/Nutstore Files/Research/InvNet/gsm/gsm_solving_approach/base_slp.py[line:147] - INFO: Set parameter MIPGap to value 0.01\n"
     ]
    },
    {
     "name": "stdout",
     "output_type": "stream",
     "text": [
      "Set parameter MIPGap to value 0.01\n"
     ]
    },
    {
     "name": "stderr",
     "output_type": "stream",
     "text": [
      "2023-03-08 20:27:03,027 - /Users/durian/Nutstore Files/Research/InvNet/gsm/gsm_solving_approach/base_slp.py[line:147] - INFO: Set parameter MIPGap to value 0.01\n"
     ]
    },
    {
     "name": "stdout",
     "output_type": "stream",
     "text": [
      "Set parameter MIPGap to value 0.01\n"
     ]
    },
    {
     "name": "stderr",
     "output_type": "stream",
     "text": [
      "2023-03-08 20:27:03,044 - /Users/durian/Nutstore Files/Research/InvNet/gsm/gsm_solving_approach/base_slp.py[line:147] - INFO: Set parameter MIPGap to value 0.01\n"
     ]
    },
    {
     "name": "stdout",
     "output_type": "stream",
     "text": [
      "Set parameter MIPGap to value 0.01\n"
     ]
    },
    {
     "name": "stderr",
     "output_type": "stream",
     "text": [
      "2023-03-08 20:27:03,064 - /Users/durian/Nutstore Files/Research/InvNet/gsm/gsm_solving_approach/base_slp.py[line:147] - INFO: Set parameter MIPGap to value 0.01\n"
     ]
    },
    {
     "name": "stdout",
     "output_type": "stream",
     "text": [
      "Set parameter MIPGap to value 0.01\n"
     ]
    },
    {
     "name": "stderr",
     "output_type": "stream",
     "text": [
      "2023-03-08 20:27:03,089 - /Users/durian/Nutstore Files/Research/InvNet/gsm/gsm_solving_approach/base_slp.py[line:147] - INFO: Set parameter MIPGap to value 0.01\n"
     ]
    },
    {
     "name": "stdout",
     "output_type": "stream",
     "text": [
      "Set parameter MIPGap to value 0.01\n"
     ]
    },
    {
     "name": "stderr",
     "output_type": "stream",
     "text": [
      "2023-03-08 20:27:03,107 - /Users/durian/Nutstore Files/Research/InvNet/gsm/gsm_solving_approach/base_slp.py[line:147] - INFO: Set parameter MIPGap to value 0.01\n"
     ]
    },
    {
     "name": "stdout",
     "output_type": "stream",
     "text": [
      "Set parameter MIPGap to value 0.01\n"
     ]
    },
    {
     "name": "stderr",
     "output_type": "stream",
     "text": [
      "2023-03-08 20:27:03,134 - /Users/durian/Nutstore Files/Research/InvNet/gsm/gsm_solving_approach/base_slp.py[line:147] - INFO: Set parameter MIPGap to value 0.01\n"
     ]
    },
    {
     "name": "stdout",
     "output_type": "stream",
     "text": [
      "Set parameter MIPGap to value 0.01\n"
     ]
    },
    {
     "name": "stderr",
     "output_type": "stream",
     "text": [
      "2023-03-08 20:27:03,151 - /Users/durian/Nutstore Files/Research/InvNet/gsm/gsm_solving_approach/base_slp.py[line:147] - INFO: Set parameter MIPGap to value 0.01\n"
     ]
    },
    {
     "name": "stdout",
     "output_type": "stream",
     "text": [
      "Set parameter MIPGap to value 0.01\n"
     ]
    },
    {
     "name": "stderr",
     "output_type": "stream",
     "text": [
      "2023-03-08 20:27:03,179 - /Users/durian/Nutstore Files/Research/InvNet/gsm/gsm_solving_approach/base_slp.py[line:147] - INFO: Set parameter MIPGap to value 0.01\n"
     ]
    },
    {
     "name": "stdout",
     "output_type": "stream",
     "text": [
      "This graph can be decomposed\n",
      "Set parameter MIPGap to value 0.01\n"
     ]
    },
    {
     "name": "stderr",
     "output_type": "stream",
     "text": [
      "2023-03-08 20:27:03,333 - /Users/durian/Nutstore Files/Research/InvNet/gsm/gsm_solving_approach/base_slp.py[line:147] - INFO: Set parameter MIPGap to value 0.01\n"
     ]
    },
    {
     "name": "stdout",
     "output_type": "stream",
     "text": [
      "Set parameter MIPGap to value 0.01\n"
     ]
    },
    {
     "name": "stderr",
     "output_type": "stream",
     "text": [
      "2023-03-08 20:27:03,359 - /Users/durian/Nutstore Files/Research/InvNet/gsm/gsm_solving_approach/base_slp.py[line:147] - INFO: Set parameter MIPGap to value 0.01\n"
     ]
    },
    {
     "name": "stdout",
     "output_type": "stream",
     "text": [
      "Set parameter MIPGap to value 0.01\n"
     ]
    },
    {
     "name": "stderr",
     "output_type": "stream",
     "text": [
      "2023-03-08 20:27:03,379 - /Users/durian/Nutstore Files/Research/InvNet/gsm/gsm_solving_approach/base_slp.py[line:147] - INFO: Set parameter MIPGap to value 0.01\n"
     ]
    },
    {
     "name": "stdout",
     "output_type": "stream",
     "text": [
      "Set parameter MIPGap to value 0.01\n"
     ]
    },
    {
     "name": "stderr",
     "output_type": "stream",
     "text": [
      "2023-03-08 20:27:03,403 - /Users/durian/Nutstore Files/Research/InvNet/gsm/gsm_solving_approach/base_slp.py[line:147] - INFO: Set parameter MIPGap to value 0.01\n"
     ]
    },
    {
     "name": "stdout",
     "output_type": "stream",
     "text": [
      "Set parameter MIPGap to value 0.01\n"
     ]
    },
    {
     "name": "stderr",
     "output_type": "stream",
     "text": [
      "2023-03-08 20:27:03,452 - /Users/durian/Nutstore Files/Research/InvNet/gsm/gsm_solving_approach/base_slp.py[line:147] - INFO: Set parameter MIPGap to value 0.01\n"
     ]
    },
    {
     "name": "stdout",
     "output_type": "stream",
     "text": [
      "Set parameter MIPGap to value 0.01\n"
     ]
    },
    {
     "name": "stderr",
     "output_type": "stream",
     "text": [
      "2023-03-08 20:27:03,474 - /Users/durian/Nutstore Files/Research/InvNet/gsm/gsm_solving_approach/base_slp.py[line:147] - INFO: Set parameter MIPGap to value 0.01\n"
     ]
    },
    {
     "name": "stdout",
     "output_type": "stream",
     "text": [
      "Set parameter MIPGap to value 0.01\n"
     ]
    },
    {
     "name": "stderr",
     "output_type": "stream",
     "text": [
      "2023-03-08 20:27:03,493 - /Users/durian/Nutstore Files/Research/InvNet/gsm/gsm_solving_approach/base_slp.py[line:147] - INFO: Set parameter MIPGap to value 0.01\n"
     ]
    },
    {
     "name": "stdout",
     "output_type": "stream",
     "text": [
      "Set parameter MIPGap to value 0.01\n"
     ]
    },
    {
     "name": "stderr",
     "output_type": "stream",
     "text": [
      "2023-03-08 20:27:03,511 - /Users/durian/Nutstore Files/Research/InvNet/gsm/gsm_solving_approach/base_slp.py[line:147] - INFO: Set parameter MIPGap to value 0.01\n"
     ]
    },
    {
     "name": "stdout",
     "output_type": "stream",
     "text": [
      "Set parameter MIPGap to value 0.01\n"
     ]
    },
    {
     "name": "stderr",
     "output_type": "stream",
     "text": [
      "2023-03-08 20:27:03,521 - /Users/durian/Nutstore Files/Research/InvNet/gsm/gsm_solving_approach/base_slp.py[line:147] - INFO: Set parameter MIPGap to value 0.01\n"
     ]
    },
    {
     "name": "stdout",
     "output_type": "stream",
     "text": [
      "Set parameter MIPGap to value 0.01\n"
     ]
    },
    {
     "name": "stderr",
     "output_type": "stream",
     "text": [
      "2023-03-08 20:27:03,535 - /Users/durian/Nutstore Files/Research/InvNet/gsm/gsm_solving_approach/base_slp.py[line:147] - INFO: Set parameter MIPGap to value 0.01\n"
     ]
    },
    {
     "name": "stdout",
     "output_type": "stream",
     "text": [
      "Set parameter MIPGap to value 0.01\n"
     ]
    },
    {
     "name": "stderr",
     "output_type": "stream",
     "text": [
      "2023-03-08 20:27:03,547 - /Users/durian/Nutstore Files/Research/InvNet/gsm/gsm_solving_approach/base_slp.py[line:147] - INFO: Set parameter MIPGap to value 0.01\n"
     ]
    },
    {
     "name": "stdout",
     "output_type": "stream",
     "text": [
      "Set parameter MIPGap to value 0.01\n"
     ]
    },
    {
     "name": "stderr",
     "output_type": "stream",
     "text": [
      "2023-03-08 20:27:03,557 - /Users/durian/Nutstore Files/Research/InvNet/gsm/gsm_solving_approach/base_slp.py[line:147] - INFO: Set parameter MIPGap to value 0.01\n"
     ]
    },
    {
     "name": "stdout",
     "output_type": "stream",
     "text": [
      "Set parameter MIPGap to value 0.01\n"
     ]
    },
    {
     "name": "stderr",
     "output_type": "stream",
     "text": [
      "2023-03-08 20:27:03,568 - /Users/durian/Nutstore Files/Research/InvNet/gsm/gsm_solving_approach/base_slp.py[line:147] - INFO: Set parameter MIPGap to value 0.01\n"
     ]
    },
    {
     "name": "stdout",
     "output_type": "stream",
     "text": [
      "Set parameter MIPGap to value 0.01\n"
     ]
    },
    {
     "name": "stderr",
     "output_type": "stream",
     "text": [
      "2023-03-08 20:27:03,594 - /Users/durian/Nutstore Files/Research/InvNet/gsm/gsm_solving_approach/base_slp.py[line:147] - INFO: Set parameter MIPGap to value 0.01\n"
     ]
    },
    {
     "name": "stdout",
     "output_type": "stream",
     "text": [
      "Set parameter MIPGap to value 0.01\n"
     ]
    },
    {
     "name": "stderr",
     "output_type": "stream",
     "text": [
      "2023-03-08 20:27:03,611 - /Users/durian/Nutstore Files/Research/InvNet/gsm/gsm_solving_approach/base_slp.py[line:147] - INFO: Set parameter MIPGap to value 0.01\n"
     ]
    },
    {
     "name": "stdout",
     "output_type": "stream",
     "text": [
      "Set parameter MIPGap to value 0.01\n"
     ]
    },
    {
     "name": "stderr",
     "output_type": "stream",
     "text": [
      "2023-03-08 20:27:03,638 - /Users/durian/Nutstore Files/Research/InvNet/gsm/gsm_solving_approach/base_slp.py[line:147] - INFO: Set parameter MIPGap to value 0.01\n"
     ]
    },
    {
     "name": "stdout",
     "output_type": "stream",
     "text": [
      "Set parameter MIPGap to value 0.01\n"
     ]
    },
    {
     "name": "stderr",
     "output_type": "stream",
     "text": [
      "2023-03-08 20:27:03,656 - /Users/durian/Nutstore Files/Research/InvNet/gsm/gsm_solving_approach/base_slp.py[line:147] - INFO: Set parameter MIPGap to value 0.01\n"
     ]
    },
    {
     "name": "stdout",
     "output_type": "stream",
     "text": [
      "Set parameter MIPGap to value 0.01\n"
     ]
    },
    {
     "name": "stderr",
     "output_type": "stream",
     "text": [
      "2023-03-08 20:27:03,669 - /Users/durian/Nutstore Files/Research/InvNet/gsm/gsm_solving_approach/base_slp.py[line:147] - INFO: Set parameter MIPGap to value 0.01\n"
     ]
    },
    {
     "name": "stdout",
     "output_type": "stream",
     "text": [
      "Set parameter MIPGap to value 0.01\n"
     ]
    },
    {
     "name": "stderr",
     "output_type": "stream",
     "text": [
      "2023-03-08 20:27:03,691 - /Users/durian/Nutstore Files/Research/InvNet/gsm/gsm_solving_approach/base_slp.py[line:147] - INFO: Set parameter MIPGap to value 0.01\n"
     ]
    },
    {
     "name": "stdout",
     "output_type": "stream",
     "text": [
      "Set parameter MIPGap to value 0.01\n"
     ]
    },
    {
     "name": "stderr",
     "output_type": "stream",
     "text": [
      "2023-03-08 20:27:03,720 - /Users/durian/Nutstore Files/Research/InvNet/gsm/gsm_solving_approach/base_slp.py[line:147] - INFO: Set parameter MIPGap to value 0.01\n"
     ]
    },
    {
     "name": "stdout",
     "output_type": "stream",
     "text": [
      "Set parameter MIPGap to value 0.01\n"
     ]
    },
    {
     "name": "stderr",
     "output_type": "stream",
     "text": [
      "2023-03-08 20:27:03,734 - /Users/durian/Nutstore Files/Research/InvNet/gsm/gsm_solving_approach/base_slp.py[line:147] - INFO: Set parameter MIPGap to value 0.01\n"
     ]
    },
    {
     "name": "stdout",
     "output_type": "stream",
     "text": [
      "This graph can be decomposed\n",
      "Set parameter MIPGap to value 0.01\n"
     ]
    },
    {
     "name": "stderr",
     "output_type": "stream",
     "text": [
      "2023-03-08 20:27:03,815 - /Users/durian/Nutstore Files/Research/InvNet/gsm/gsm_solving_approach/base_slp.py[line:147] - INFO: Set parameter MIPGap to value 0.01\n"
     ]
    },
    {
     "name": "stdout",
     "output_type": "stream",
     "text": [
      "Set parameter MIPGap to value 0.01\n"
     ]
    },
    {
     "name": "stderr",
     "output_type": "stream",
     "text": [
      "2023-03-08 20:27:03,829 - /Users/durian/Nutstore Files/Research/InvNet/gsm/gsm_solving_approach/base_slp.py[line:147] - INFO: Set parameter MIPGap to value 0.01\n"
     ]
    },
    {
     "name": "stdout",
     "output_type": "stream",
     "text": [
      "Set parameter MIPGap to value 0.01\n"
     ]
    },
    {
     "name": "stderr",
     "output_type": "stream",
     "text": [
      "2023-03-08 20:27:03,843 - /Users/durian/Nutstore Files/Research/InvNet/gsm/gsm_solving_approach/base_slp.py[line:147] - INFO: Set parameter MIPGap to value 0.01\n"
     ]
    },
    {
     "name": "stdout",
     "output_type": "stream",
     "text": [
      "Set parameter MIPGap to value 0.01\n"
     ]
    },
    {
     "name": "stderr",
     "output_type": "stream",
     "text": [
      "2023-03-08 20:27:03,857 - /Users/durian/Nutstore Files/Research/InvNet/gsm/gsm_solving_approach/base_slp.py[line:147] - INFO: Set parameter MIPGap to value 0.01\n"
     ]
    },
    {
     "name": "stdout",
     "output_type": "stream",
     "text": [
      "Set parameter MIPGap to value 0.01\n"
     ]
    },
    {
     "name": "stderr",
     "output_type": "stream",
     "text": [
      "2023-03-08 20:27:03,868 - /Users/durian/Nutstore Files/Research/InvNet/gsm/gsm_solving_approach/base_slp.py[line:147] - INFO: Set parameter MIPGap to value 0.01\n"
     ]
    },
    {
     "name": "stdout",
     "output_type": "stream",
     "text": [
      "Set parameter MIPGap to value 0.01\n"
     ]
    },
    {
     "name": "stderr",
     "output_type": "stream",
     "text": [
      "2023-03-08 20:27:03,875 - /Users/durian/Nutstore Files/Research/InvNet/gsm/gsm_solving_approach/base_slp.py[line:147] - INFO: Set parameter MIPGap to value 0.01\n"
     ]
    },
    {
     "name": "stdout",
     "output_type": "stream",
     "text": [
      "Set parameter MIPGap to value 0.01\n"
     ]
    },
    {
     "name": "stderr",
     "output_type": "stream",
     "text": [
      "2023-03-08 20:27:03,884 - /Users/durian/Nutstore Files/Research/InvNet/gsm/gsm_solving_approach/base_slp.py[line:147] - INFO: Set parameter MIPGap to value 0.01\n"
     ]
    },
    {
     "name": "stdout",
     "output_type": "stream",
     "text": [
      "Set parameter MIPGap to value 0.01\n"
     ]
    },
    {
     "name": "stderr",
     "output_type": "stream",
     "text": [
      "2023-03-08 20:27:03,897 - /Users/durian/Nutstore Files/Research/InvNet/gsm/gsm_solving_approach/base_slp.py[line:147] - INFO: Set parameter MIPGap to value 0.01\n"
     ]
    },
    {
     "name": "stdout",
     "output_type": "stream",
     "text": [
      "Set parameter MIPGap to value 0.01\n"
     ]
    },
    {
     "name": "stderr",
     "output_type": "stream",
     "text": [
      "2023-03-08 20:27:03,915 - /Users/durian/Nutstore Files/Research/InvNet/gsm/gsm_solving_approach/base_slp.py[line:147] - INFO: Set parameter MIPGap to value 0.01\n"
     ]
    },
    {
     "name": "stdout",
     "output_type": "stream",
     "text": [
      "Set parameter MIPGap to value 0.01\n"
     ]
    },
    {
     "name": "stderr",
     "output_type": "stream",
     "text": [
      "2023-03-08 20:27:03,932 - /Users/durian/Nutstore Files/Research/InvNet/gsm/gsm_solving_approach/base_slp.py[line:147] - INFO: Set parameter MIPGap to value 0.01\n"
     ]
    },
    {
     "name": "stdout",
     "output_type": "stream",
     "text": [
      "Set parameter MIPGap to value 0.01\n"
     ]
    },
    {
     "name": "stderr",
     "output_type": "stream",
     "text": [
      "2023-03-08 20:27:03,941 - /Users/durian/Nutstore Files/Research/InvNet/gsm/gsm_solving_approach/base_slp.py[line:147] - INFO: Set parameter MIPGap to value 0.01\n"
     ]
    },
    {
     "name": "stdout",
     "output_type": "stream",
     "text": [
      "Set parameter MIPGap to value 0.01\n"
     ]
    },
    {
     "name": "stderr",
     "output_type": "stream",
     "text": [
      "2023-03-08 20:27:03,955 - /Users/durian/Nutstore Files/Research/InvNet/gsm/gsm_solving_approach/base_slp.py[line:147] - INFO: Set parameter MIPGap to value 0.01\n"
     ]
    },
    {
     "name": "stdout",
     "output_type": "stream",
     "text": [
      "Set parameter MIPGap to value 0.01\n"
     ]
    },
    {
     "name": "stderr",
     "output_type": "stream",
     "text": [
      "2023-03-08 20:27:03,964 - /Users/durian/Nutstore Files/Research/InvNet/gsm/gsm_solving_approach/base_slp.py[line:147] - INFO: Set parameter MIPGap to value 0.01\n"
     ]
    },
    {
     "name": "stdout",
     "output_type": "stream",
     "text": [
      "Set parameter MIPGap to value 0.01\n"
     ]
    },
    {
     "name": "stderr",
     "output_type": "stream",
     "text": [
      "2023-03-08 20:27:03,982 - /Users/durian/Nutstore Files/Research/InvNet/gsm/gsm_solving_approach/base_slp.py[line:147] - INFO: Set parameter MIPGap to value 0.01\n"
     ]
    },
    {
     "name": "stdout",
     "output_type": "stream",
     "text": [
      "Set parameter MIPGap to value 0.01\n"
     ]
    },
    {
     "name": "stderr",
     "output_type": "stream",
     "text": [
      "2023-03-08 20:27:03,999 - /Users/durian/Nutstore Files/Research/InvNet/gsm/gsm_solving_approach/base_slp.py[line:147] - INFO: Set parameter MIPGap to value 0.01\n"
     ]
    },
    {
     "name": "stdout",
     "output_type": "stream",
     "text": [
      "Set parameter MIPGap to value 0.01\n"
     ]
    },
    {
     "name": "stderr",
     "output_type": "stream",
     "text": [
      "2023-03-08 20:27:04,017 - /Users/durian/Nutstore Files/Research/InvNet/gsm/gsm_solving_approach/base_slp.py[line:147] - INFO: Set parameter MIPGap to value 0.01\n"
     ]
    },
    {
     "name": "stdout",
     "output_type": "stream",
     "text": [
      "Set parameter MIPGap to value 0.01\n"
     ]
    },
    {
     "name": "stderr",
     "output_type": "stream",
     "text": [
      "2023-03-08 20:27:04,028 - /Users/durian/Nutstore Files/Research/InvNet/gsm/gsm_solving_approach/base_slp.py[line:147] - INFO: Set parameter MIPGap to value 0.01\n"
     ]
    },
    {
     "name": "stdout",
     "output_type": "stream",
     "text": [
      "Set parameter MIPGap to value 0.01\n"
     ]
    },
    {
     "name": "stderr",
     "output_type": "stream",
     "text": [
      "2023-03-08 20:27:04,043 - /Users/durian/Nutstore Files/Research/InvNet/gsm/gsm_solving_approach/base_slp.py[line:147] - INFO: Set parameter MIPGap to value 0.01\n"
     ]
    },
    {
     "name": "stdout",
     "output_type": "stream",
     "text": [
      "Set parameter MIPGap to value 0.01\n"
     ]
    },
    {
     "name": "stderr",
     "output_type": "stream",
     "text": [
      "2023-03-08 20:27:04,057 - /Users/durian/Nutstore Files/Research/InvNet/gsm/gsm_solving_approach/base_slp.py[line:147] - INFO: Set parameter MIPGap to value 0.01\n"
     ]
    },
    {
     "name": "stdout",
     "output_type": "stream",
     "text": [
      "Set parameter MIPGap to value 0.01\n"
     ]
    },
    {
     "name": "stderr",
     "output_type": "stream",
     "text": [
      "2023-03-08 20:27:04,078 - /Users/durian/Nutstore Files/Research/InvNet/gsm/gsm_solving_approach/base_slp.py[line:147] - INFO: Set parameter MIPGap to value 0.01\n"
     ]
    },
    {
     "name": "stdout",
     "output_type": "stream",
     "text": [
      "This graph can be decomposed\n",
      "Set parameter MIPGap to value 0.01\n"
     ]
    },
    {
     "name": "stderr",
     "output_type": "stream",
     "text": [
      "2023-03-08 20:27:04,130 - /Users/durian/Nutstore Files/Research/InvNet/gsm/gsm_solving_approach/base_slp.py[line:147] - INFO: Set parameter MIPGap to value 0.01\n"
     ]
    },
    {
     "name": "stdout",
     "output_type": "stream",
     "text": [
      "Set parameter MIPGap to value 0.01\n"
     ]
    },
    {
     "name": "stderr",
     "output_type": "stream",
     "text": [
      "2023-03-08 20:27:04,132 - /Users/durian/Nutstore Files/Research/InvNet/gsm/gsm_solving_approach/base_slp.py[line:147] - INFO: Set parameter MIPGap to value 0.01\n"
     ]
    },
    {
     "name": "stdout",
     "output_type": "stream",
     "text": [
      "Set parameter MIPGap to value 0.01\n"
     ]
    },
    {
     "name": "stderr",
     "output_type": "stream",
     "text": [
      "2023-03-08 20:27:04,137 - /Users/durian/Nutstore Files/Research/InvNet/gsm/gsm_solving_approach/base_slp.py[line:147] - INFO: Set parameter MIPGap to value 0.01\n"
     ]
    },
    {
     "name": "stdout",
     "output_type": "stream",
     "text": [
      "Set parameter MIPGap to value 0.01\n"
     ]
    },
    {
     "name": "stderr",
     "output_type": "stream",
     "text": [
      "2023-03-08 20:27:04,140 - /Users/durian/Nutstore Files/Research/InvNet/gsm/gsm_solving_approach/base_slp.py[line:147] - INFO: Set parameter MIPGap to value 0.01\n"
     ]
    },
    {
     "name": "stdout",
     "output_type": "stream",
     "text": [
      "Set parameter MIPGap to value 0.01\n"
     ]
    },
    {
     "name": "stderr",
     "output_type": "stream",
     "text": [
      "2023-03-08 20:27:04,145 - /Users/durian/Nutstore Files/Research/InvNet/gsm/gsm_solving_approach/base_slp.py[line:147] - INFO: Set parameter MIPGap to value 0.01\n"
     ]
    },
    {
     "name": "stdout",
     "output_type": "stream",
     "text": [
      "Set parameter MIPGap to value 0.01\n"
     ]
    },
    {
     "name": "stderr",
     "output_type": "stream",
     "text": [
      "2023-03-08 20:27:04,148 - /Users/durian/Nutstore Files/Research/InvNet/gsm/gsm_solving_approach/base_slp.py[line:147] - INFO: Set parameter MIPGap to value 0.01\n"
     ]
    },
    {
     "name": "stdout",
     "output_type": "stream",
     "text": [
      "Set parameter MIPGap to value 0.01\n"
     ]
    },
    {
     "name": "stderr",
     "output_type": "stream",
     "text": [
      "2023-03-08 20:27:04,153 - /Users/durian/Nutstore Files/Research/InvNet/gsm/gsm_solving_approach/base_slp.py[line:147] - INFO: Set parameter MIPGap to value 0.01\n"
     ]
    },
    {
     "name": "stdout",
     "output_type": "stream",
     "text": [
      "Set parameter MIPGap to value 0.01\n"
     ]
    },
    {
     "name": "stderr",
     "output_type": "stream",
     "text": [
      "2023-03-08 20:27:04,157 - /Users/durian/Nutstore Files/Research/InvNet/gsm/gsm_solving_approach/base_slp.py[line:147] - INFO: Set parameter MIPGap to value 0.01\n"
     ]
    },
    {
     "name": "stdout",
     "output_type": "stream",
     "text": [
      "Set parameter MIPGap to value 0.01\n"
     ]
    },
    {
     "name": "stderr",
     "output_type": "stream",
     "text": [
      "2023-03-08 20:27:04,161 - /Users/durian/Nutstore Files/Research/InvNet/gsm/gsm_solving_approach/base_slp.py[line:147] - INFO: Set parameter MIPGap to value 0.01\n"
     ]
    },
    {
     "name": "stdout",
     "output_type": "stream",
     "text": [
      "Set parameter MIPGap to value 0.01\n"
     ]
    },
    {
     "name": "stderr",
     "output_type": "stream",
     "text": [
      "2023-03-08 20:27:04,171 - /Users/durian/Nutstore Files/Research/InvNet/gsm/gsm_solving_approach/base_slp.py[line:147] - INFO: Set parameter MIPGap to value 0.01\n"
     ]
    },
    {
     "name": "stdout",
     "output_type": "stream",
     "text": [
      "Set parameter MIPGap to value 0.01\n"
     ]
    },
    {
     "name": "stderr",
     "output_type": "stream",
     "text": [
      "2023-03-08 20:27:04,178 - /Users/durian/Nutstore Files/Research/InvNet/gsm/gsm_solving_approach/base_slp.py[line:147] - INFO: Set parameter MIPGap to value 0.01\n"
     ]
    },
    {
     "name": "stdout",
     "output_type": "stream",
     "text": [
      "Set parameter MIPGap to value 0.01\n"
     ]
    },
    {
     "name": "stderr",
     "output_type": "stream",
     "text": [
      "2023-03-08 20:27:04,181 - /Users/durian/Nutstore Files/Research/InvNet/gsm/gsm_solving_approach/base_slp.py[line:147] - INFO: Set parameter MIPGap to value 0.01\n"
     ]
    },
    {
     "name": "stdout",
     "output_type": "stream",
     "text": [
      "Set parameter MIPGap to value 0.01\n"
     ]
    },
    {
     "name": "stderr",
     "output_type": "stream",
     "text": [
      "2023-03-08 20:27:04,186 - /Users/durian/Nutstore Files/Research/InvNet/gsm/gsm_solving_approach/base_slp.py[line:147] - INFO: Set parameter MIPGap to value 0.01\n"
     ]
    },
    {
     "name": "stdout",
     "output_type": "stream",
     "text": [
      "Set parameter MIPGap to value 0.01\n"
     ]
    },
    {
     "name": "stderr",
     "output_type": "stream",
     "text": [
      "2023-03-08 20:27:04,190 - /Users/durian/Nutstore Files/Research/InvNet/gsm/gsm_solving_approach/base_slp.py[line:147] - INFO: Set parameter MIPGap to value 0.01\n"
     ]
    },
    {
     "name": "stdout",
     "output_type": "stream",
     "text": [
      "Set parameter MIPGap to value 0.01\n"
     ]
    },
    {
     "name": "stderr",
     "output_type": "stream",
     "text": [
      "2023-03-08 20:27:04,195 - /Users/durian/Nutstore Files/Research/InvNet/gsm/gsm_solving_approach/base_slp.py[line:147] - INFO: Set parameter MIPGap to value 0.01\n"
     ]
    },
    {
     "name": "stdout",
     "output_type": "stream",
     "text": [
      "This graph can not be decomposed\n",
      "Set parameter MIPGap to value 0.01\n"
     ]
    },
    {
     "name": "stderr",
     "output_type": "stream",
     "text": [
      "2023-03-08 20:27:04,209 - /Users/durian/Nutstore Files/Research/InvNet/gsm/gsm_solving_approach/base_slp.py[line:147] - INFO: Set parameter MIPGap to value 0.01\n"
     ]
    },
    {
     "name": "stdout",
     "output_type": "stream",
     "text": [
      "Set parameter MIPGap to value 0.01\n"
     ]
    },
    {
     "name": "stderr",
     "output_type": "stream",
     "text": [
      "2023-03-08 20:27:04,218 - /Users/durian/Nutstore Files/Research/InvNet/gsm/gsm_solving_approach/base_slp.py[line:147] - INFO: Set parameter MIPGap to value 0.01\n"
     ]
    },
    {
     "name": "stdout",
     "output_type": "stream",
     "text": [
      "Set parameter MIPGap to value 0.01\n"
     ]
    },
    {
     "name": "stderr",
     "output_type": "stream",
     "text": [
      "2023-03-08 20:27:04,226 - /Users/durian/Nutstore Files/Research/InvNet/gsm/gsm_solving_approach/base_slp.py[line:147] - INFO: Set parameter MIPGap to value 0.01\n"
     ]
    },
    {
     "name": "stdout",
     "output_type": "stream",
     "text": [
      "Set parameter MIPGap to value 0.01\n"
     ]
    },
    {
     "name": "stderr",
     "output_type": "stream",
     "text": [
      "2023-03-08 20:27:04,241 - /Users/durian/Nutstore Files/Research/InvNet/gsm/gsm_solving_approach/base_slp.py[line:147] - INFO: Set parameter MIPGap to value 0.01\n"
     ]
    },
    {
     "name": "stdout",
     "output_type": "stream",
     "text": [
      "Set parameter MIPGap to value 0.01\n"
     ]
    },
    {
     "name": "stderr",
     "output_type": "stream",
     "text": [
      "2023-03-08 20:27:04,253 - /Users/durian/Nutstore Files/Research/InvNet/gsm/gsm_solving_approach/base_slp.py[line:147] - INFO: Set parameter MIPGap to value 0.01\n"
     ]
    },
    {
     "name": "stdout",
     "output_type": "stream",
     "text": [
      "Set parameter MIPGap to value 0.01\n"
     ]
    },
    {
     "name": "stderr",
     "output_type": "stream",
     "text": [
      "2023-03-08 20:27:04,260 - /Users/durian/Nutstore Files/Research/InvNet/gsm/gsm_solving_approach/base_slp.py[line:147] - INFO: Set parameter MIPGap to value 0.01\n"
     ]
    },
    {
     "name": "stdout",
     "output_type": "stream",
     "text": [
      "Set parameter MIPGap to value 0.01\n"
     ]
    },
    {
     "name": "stderr",
     "output_type": "stream",
     "text": [
      "2023-03-08 20:27:04,271 - /Users/durian/Nutstore Files/Research/InvNet/gsm/gsm_solving_approach/base_slp.py[line:147] - INFO: Set parameter MIPGap to value 0.01\n"
     ]
    },
    {
     "name": "stdout",
     "output_type": "stream",
     "text": [
      "Set parameter MIPGap to value 0.01\n"
     ]
    },
    {
     "name": "stderr",
     "output_type": "stream",
     "text": [
      "2023-03-08 20:27:04,280 - /Users/durian/Nutstore Files/Research/InvNet/gsm/gsm_solving_approach/base_slp.py[line:147] - INFO: Set parameter MIPGap to value 0.01\n"
     ]
    },
    {
     "name": "stdout",
     "output_type": "stream",
     "text": [
      "Set parameter MIPGap to value 0.01\n"
     ]
    },
    {
     "name": "stderr",
     "output_type": "stream",
     "text": [
      "2023-03-08 20:27:04,298 - /Users/durian/Nutstore Files/Research/InvNet/gsm/gsm_solving_approach/base_slp.py[line:147] - INFO: Set parameter MIPGap to value 0.01\n"
     ]
    },
    {
     "name": "stdout",
     "output_type": "stream",
     "text": [
      "Set parameter MIPGap to value 0.01\n"
     ]
    },
    {
     "name": "stderr",
     "output_type": "stream",
     "text": [
      "2023-03-08 20:27:04,308 - /Users/durian/Nutstore Files/Research/InvNet/gsm/gsm_solving_approach/base_slp.py[line:147] - INFO: Set parameter MIPGap to value 0.01\n"
     ]
    },
    {
     "name": "stdout",
     "output_type": "stream",
     "text": [
      "Set parameter MIPGap to value 0.01\n"
     ]
    },
    {
     "name": "stderr",
     "output_type": "stream",
     "text": [
      "2023-03-08 20:27:04,316 - /Users/durian/Nutstore Files/Research/InvNet/gsm/gsm_solving_approach/base_slp.py[line:147] - INFO: Set parameter MIPGap to value 0.01\n"
     ]
    },
    {
     "name": "stdout",
     "output_type": "stream",
     "text": [
      "Set parameter MIPGap to value 0.01\n"
     ]
    },
    {
     "name": "stderr",
     "output_type": "stream",
     "text": [
      "2023-03-08 20:27:04,336 - /Users/durian/Nutstore Files/Research/InvNet/gsm/gsm_solving_approach/base_slp.py[line:147] - INFO: Set parameter MIPGap to value 0.01\n"
     ]
    },
    {
     "name": "stdout",
     "output_type": "stream",
     "text": [
      "Set parameter MIPGap to value 0.01\n"
     ]
    },
    {
     "name": "stderr",
     "output_type": "stream",
     "text": [
      "2023-03-08 20:27:04,347 - /Users/durian/Nutstore Files/Research/InvNet/gsm/gsm_solving_approach/base_slp.py[line:147] - INFO: Set parameter MIPGap to value 0.01\n"
     ]
    },
    {
     "name": "stdout",
     "output_type": "stream",
     "text": [
      "Set parameter MIPGap to value 0.01\n"
     ]
    },
    {
     "name": "stderr",
     "output_type": "stream",
     "text": [
      "2023-03-08 20:27:04,357 - /Users/durian/Nutstore Files/Research/InvNet/gsm/gsm_solving_approach/base_slp.py[line:147] - INFO: Set parameter MIPGap to value 0.01\n"
     ]
    },
    {
     "name": "stdout",
     "output_type": "stream",
     "text": [
      "Set parameter MIPGap to value 0.01\n"
     ]
    },
    {
     "name": "stderr",
     "output_type": "stream",
     "text": [
      "2023-03-08 20:27:04,367 - /Users/durian/Nutstore Files/Research/InvNet/gsm/gsm_solving_approach/base_slp.py[line:147] - INFO: Set parameter MIPGap to value 0.01\n"
     ]
    },
    {
     "name": "stdout",
     "output_type": "stream",
     "text": [
      "Set parameter MIPGap to value 0.01\n"
     ]
    },
    {
     "name": "stderr",
     "output_type": "stream",
     "text": [
      "2023-03-08 20:27:04,390 - /Users/durian/Nutstore Files/Research/InvNet/gsm/gsm_solving_approach/base_slp.py[line:147] - INFO: Set parameter MIPGap to value 0.01\n"
     ]
    },
    {
     "name": "stdout",
     "output_type": "stream",
     "text": [
      "Set parameter MIPGap to value 0.01\n"
     ]
    },
    {
     "name": "stderr",
     "output_type": "stream",
     "text": [
      "2023-03-08 20:27:04,413 - /Users/durian/Nutstore Files/Research/InvNet/gsm/gsm_solving_approach/base_slp.py[line:147] - INFO: Set parameter MIPGap to value 0.01\n"
     ]
    },
    {
     "name": "stdout",
     "output_type": "stream",
     "text": [
      "Set parameter MIPGap to value 0.01\n"
     ]
    },
    {
     "name": "stderr",
     "output_type": "stream",
     "text": [
      "2023-03-08 20:27:04,424 - /Users/durian/Nutstore Files/Research/InvNet/gsm/gsm_solving_approach/base_slp.py[line:147] - INFO: Set parameter MIPGap to value 0.01\n"
     ]
    },
    {
     "name": "stdout",
     "output_type": "stream",
     "text": [
      "Set parameter MIPGap to value 0.01\n"
     ]
    },
    {
     "name": "stderr",
     "output_type": "stream",
     "text": [
      "2023-03-08 20:27:04,434 - /Users/durian/Nutstore Files/Research/InvNet/gsm/gsm_solving_approach/base_slp.py[line:147] - INFO: Set parameter MIPGap to value 0.01\n"
     ]
    },
    {
     "name": "stdout",
     "output_type": "stream",
     "text": [
      "Set parameter MIPGap to value 0.01\n"
     ]
    },
    {
     "name": "stderr",
     "output_type": "stream",
     "text": [
      "2023-03-08 20:27:04,447 - /Users/durian/Nutstore Files/Research/InvNet/gsm/gsm_solving_approach/base_slp.py[line:147] - INFO: Set parameter MIPGap to value 0.01\n"
     ]
    },
    {
     "name": "stdout",
     "output_type": "stream",
     "text": [
      "Set parameter MIPGap to value 0.01\n"
     ]
    },
    {
     "name": "stderr",
     "output_type": "stream",
     "text": [
      "2023-03-08 20:27:04,477 - /Users/durian/Nutstore Files/Research/InvNet/gsm/gsm_solving_approach/base_slp.py[line:147] - INFO: Set parameter MIPGap to value 0.01\n"
     ]
    },
    {
     "name": "stdout",
     "output_type": "stream",
     "text": [
      "Set parameter MIPGap to value 0.01\n"
     ]
    },
    {
     "name": "stderr",
     "output_type": "stream",
     "text": [
      "2023-03-08 20:27:04,498 - /Users/durian/Nutstore Files/Research/InvNet/gsm/gsm_solving_approach/base_slp.py[line:147] - INFO: Set parameter MIPGap to value 0.01\n"
     ]
    },
    {
     "name": "stdout",
     "output_type": "stream",
     "text": [
      "Set parameter MIPGap to value 0.01\n"
     ]
    },
    {
     "name": "stderr",
     "output_type": "stream",
     "text": [
      "2023-03-08 20:27:04,529 - /Users/durian/Nutstore Files/Research/InvNet/gsm/gsm_solving_approach/base_slp.py[line:147] - INFO: Set parameter MIPGap to value 0.01\n"
     ]
    },
    {
     "name": "stdout",
     "output_type": "stream",
     "text": [
      "Set parameter MIPGap to value 0.01\n"
     ]
    },
    {
     "name": "stderr",
     "output_type": "stream",
     "text": [
      "2023-03-08 20:27:04,551 - /Users/durian/Nutstore Files/Research/InvNet/gsm/gsm_solving_approach/base_slp.py[line:147] - INFO: Set parameter MIPGap to value 0.01\n"
     ]
    },
    {
     "name": "stdout",
     "output_type": "stream",
     "text": [
      "Set parameter MIPGap to value 0.01\n"
     ]
    },
    {
     "name": "stderr",
     "output_type": "stream",
     "text": [
      "2023-03-08 20:27:04,563 - /Users/durian/Nutstore Files/Research/InvNet/gsm/gsm_solving_approach/base_slp.py[line:147] - INFO: Set parameter MIPGap to value 0.01\n"
     ]
    },
    {
     "name": "stdout",
     "output_type": "stream",
     "text": [
      "Set parameter MIPGap to value 0.01\n"
     ]
    },
    {
     "name": "stderr",
     "output_type": "stream",
     "text": [
      "2023-03-08 20:27:04,580 - /Users/durian/Nutstore Files/Research/InvNet/gsm/gsm_solving_approach/base_slp.py[line:147] - INFO: Set parameter MIPGap to value 0.01\n"
     ]
    },
    {
     "name": "stdout",
     "output_type": "stream",
     "text": [
      "This graph can be decomposed\n",
      "Set parameter MIPGap to value 0.01\n"
     ]
    },
    {
     "name": "stderr",
     "output_type": "stream",
     "text": [
      "2023-03-08 20:27:04,613 - /Users/durian/Nutstore Files/Research/InvNet/gsm/gsm_solving_approach/base_slp.py[line:147] - INFO: Set parameter MIPGap to value 0.01\n"
     ]
    },
    {
     "name": "stdout",
     "output_type": "stream",
     "text": [
      "Set parameter MIPGap to value 0.01\n"
     ]
    },
    {
     "name": "stderr",
     "output_type": "stream",
     "text": [
      "2023-03-08 20:27:04,618 - /Users/durian/Nutstore Files/Research/InvNet/gsm/gsm_solving_approach/base_slp.py[line:147] - INFO: Set parameter MIPGap to value 0.01\n"
     ]
    },
    {
     "name": "stdout",
     "output_type": "stream",
     "text": [
      "Set parameter MIPGap to value 0.01\n"
     ]
    },
    {
     "name": "stderr",
     "output_type": "stream",
     "text": [
      "2023-03-08 20:27:04,625 - /Users/durian/Nutstore Files/Research/InvNet/gsm/gsm_solving_approach/base_slp.py[line:147] - INFO: Set parameter MIPGap to value 0.01\n"
     ]
    },
    {
     "name": "stdout",
     "output_type": "stream",
     "text": [
      "Set parameter MIPGap to value 0.01\n"
     ]
    },
    {
     "name": "stderr",
     "output_type": "stream",
     "text": [
      "2023-03-08 20:27:04,632 - /Users/durian/Nutstore Files/Research/InvNet/gsm/gsm_solving_approach/base_slp.py[line:147] - INFO: Set parameter MIPGap to value 0.01\n"
     ]
    },
    {
     "name": "stdout",
     "output_type": "stream",
     "text": [
      "Set parameter MIPGap to value 0.01\n"
     ]
    },
    {
     "name": "stderr",
     "output_type": "stream",
     "text": [
      "2023-03-08 20:27:04,640 - /Users/durian/Nutstore Files/Research/InvNet/gsm/gsm_solving_approach/base_slp.py[line:147] - INFO: Set parameter MIPGap to value 0.01\n"
     ]
    },
    {
     "name": "stdout",
     "output_type": "stream",
     "text": [
      "Set parameter MIPGap to value 0.01\n"
     ]
    },
    {
     "name": "stderr",
     "output_type": "stream",
     "text": [
      "2023-03-08 20:27:04,645 - /Users/durian/Nutstore Files/Research/InvNet/gsm/gsm_solving_approach/base_slp.py[line:147] - INFO: Set parameter MIPGap to value 0.01\n"
     ]
    },
    {
     "name": "stdout",
     "output_type": "stream",
     "text": [
      "Set parameter MIPGap to value 0.01\n"
     ]
    },
    {
     "name": "stderr",
     "output_type": "stream",
     "text": [
      "2023-03-08 20:27:04,652 - /Users/durian/Nutstore Files/Research/InvNet/gsm/gsm_solving_approach/base_slp.py[line:147] - INFO: Set parameter MIPGap to value 0.01\n"
     ]
    },
    {
     "name": "stdout",
     "output_type": "stream",
     "text": [
      "Set parameter MIPGap to value 0.01\n"
     ]
    },
    {
     "name": "stderr",
     "output_type": "stream",
     "text": [
      "2023-03-08 20:27:04,663 - /Users/durian/Nutstore Files/Research/InvNet/gsm/gsm_solving_approach/base_slp.py[line:147] - INFO: Set parameter MIPGap to value 0.01\n"
     ]
    },
    {
     "name": "stdout",
     "output_type": "stream",
     "text": [
      "Set parameter MIPGap to value 0.01\n"
     ]
    },
    {
     "name": "stderr",
     "output_type": "stream",
     "text": [
      "2023-03-08 20:27:04,682 - /Users/durian/Nutstore Files/Research/InvNet/gsm/gsm_solving_approach/base_slp.py[line:147] - INFO: Set parameter MIPGap to value 0.01\n"
     ]
    },
    {
     "name": "stdout",
     "output_type": "stream",
     "text": [
      "Set parameter MIPGap to value 0.01\n"
     ]
    },
    {
     "name": "stderr",
     "output_type": "stream",
     "text": [
      "2023-03-08 20:27:04,694 - /Users/durian/Nutstore Files/Research/InvNet/gsm/gsm_solving_approach/base_slp.py[line:147] - INFO: Set parameter MIPGap to value 0.01\n"
     ]
    },
    {
     "name": "stdout",
     "output_type": "stream",
     "text": [
      "Set parameter MIPGap to value 0.01\n"
     ]
    },
    {
     "name": "stderr",
     "output_type": "stream",
     "text": [
      "2023-03-08 20:27:04,710 - /Users/durian/Nutstore Files/Research/InvNet/gsm/gsm_solving_approach/base_slp.py[line:147] - INFO: Set parameter MIPGap to value 0.01\n"
     ]
    },
    {
     "name": "stdout",
     "output_type": "stream",
     "text": [
      "Set parameter MIPGap to value 0.01\n"
     ]
    },
    {
     "name": "stderr",
     "output_type": "stream",
     "text": [
      "2023-03-08 20:27:04,721 - /Users/durian/Nutstore Files/Research/InvNet/gsm/gsm_solving_approach/base_slp.py[line:147] - INFO: Set parameter MIPGap to value 0.01\n"
     ]
    },
    {
     "name": "stdout",
     "output_type": "stream",
     "text": [
      "Set parameter MIPGap to value 0.01\n"
     ]
    },
    {
     "name": "stderr",
     "output_type": "stream",
     "text": [
      "2023-03-08 20:27:04,731 - /Users/durian/Nutstore Files/Research/InvNet/gsm/gsm_solving_approach/base_slp.py[line:147] - INFO: Set parameter MIPGap to value 0.01\n"
     ]
    },
    {
     "name": "stdout",
     "output_type": "stream",
     "text": [
      "Set parameter MIPGap to value 0.01\n"
     ]
    },
    {
     "name": "stderr",
     "output_type": "stream",
     "text": [
      "2023-03-08 20:27:04,739 - /Users/durian/Nutstore Files/Research/InvNet/gsm/gsm_solving_approach/base_slp.py[line:147] - INFO: Set parameter MIPGap to value 0.01\n"
     ]
    },
    {
     "name": "stdout",
     "output_type": "stream",
     "text": [
      "Set parameter MIPGap to value 0.01\n"
     ]
    },
    {
     "name": "stderr",
     "output_type": "stream",
     "text": [
      "2023-03-08 20:27:04,748 - /Users/durian/Nutstore Files/Research/InvNet/gsm/gsm_solving_approach/base_slp.py[line:147] - INFO: Set parameter MIPGap to value 0.01\n"
     ]
    },
    {
     "name": "stdout",
     "output_type": "stream",
     "text": [
      "Set parameter MIPGap to value 0.01\n"
     ]
    },
    {
     "name": "stderr",
     "output_type": "stream",
     "text": [
      "2023-03-08 20:27:04,758 - /Users/durian/Nutstore Files/Research/InvNet/gsm/gsm_solving_approach/base_slp.py[line:147] - INFO: Set parameter MIPGap to value 0.01\n"
     ]
    },
    {
     "name": "stdout",
     "output_type": "stream",
     "text": [
      "Set parameter MIPGap to value 0.01\n"
     ]
    },
    {
     "name": "stderr",
     "output_type": "stream",
     "text": [
      "2023-03-08 20:27:04,766 - /Users/durian/Nutstore Files/Research/InvNet/gsm/gsm_solving_approach/base_slp.py[line:147] - INFO: Set parameter MIPGap to value 0.01\n"
     ]
    },
    {
     "name": "stdout",
     "output_type": "stream",
     "text": [
      "Set parameter MIPGap to value 0.01\n"
     ]
    },
    {
     "name": "stderr",
     "output_type": "stream",
     "text": [
      "2023-03-08 20:27:04,780 - /Users/durian/Nutstore Files/Research/InvNet/gsm/gsm_solving_approach/base_slp.py[line:147] - INFO: Set parameter MIPGap to value 0.01\n"
     ]
    },
    {
     "name": "stdout",
     "output_type": "stream",
     "text": [
      "This graph can be decomposed\n",
      "Set parameter MIPGap to value 0.01\n"
     ]
    },
    {
     "name": "stderr",
     "output_type": "stream",
     "text": [
      "2023-03-08 20:27:04,806 - /Users/durian/Nutstore Files/Research/InvNet/gsm/gsm_solving_approach/base_slp.py[line:147] - INFO: Set parameter MIPGap to value 0.01\n"
     ]
    },
    {
     "name": "stdout",
     "output_type": "stream",
     "text": [
      "Set parameter MIPGap to value 0.01\n"
     ]
    },
    {
     "name": "stderr",
     "output_type": "stream",
     "text": [
      "2023-03-08 20:27:04,827 - /Users/durian/Nutstore Files/Research/InvNet/gsm/gsm_solving_approach/base_slp.py[line:147] - INFO: Set parameter MIPGap to value 0.01\n"
     ]
    },
    {
     "name": "stdout",
     "output_type": "stream",
     "text": [
      "Set parameter MIPGap to value 0.01\n"
     ]
    },
    {
     "name": "stderr",
     "output_type": "stream",
     "text": [
      "2023-03-08 20:27:04,842 - /Users/durian/Nutstore Files/Research/InvNet/gsm/gsm_solving_approach/base_slp.py[line:147] - INFO: Set parameter MIPGap to value 0.01\n"
     ]
    },
    {
     "name": "stdout",
     "output_type": "stream",
     "text": [
      "Set parameter MIPGap to value 0.01\n"
     ]
    },
    {
     "name": "stderr",
     "output_type": "stream",
     "text": [
      "2023-03-08 20:27:04,848 - /Users/durian/Nutstore Files/Research/InvNet/gsm/gsm_solving_approach/base_slp.py[line:147] - INFO: Set parameter MIPGap to value 0.01\n"
     ]
    },
    {
     "name": "stdout",
     "output_type": "stream",
     "text": [
      "Set parameter MIPGap to value 0.01\n"
     ]
    },
    {
     "name": "stderr",
     "output_type": "stream",
     "text": [
      "2023-03-08 20:27:04,863 - /Users/durian/Nutstore Files/Research/InvNet/gsm/gsm_solving_approach/base_slp.py[line:147] - INFO: Set parameter MIPGap to value 0.01\n"
     ]
    },
    {
     "name": "stdout",
     "output_type": "stream",
     "text": [
      "Set parameter MIPGap to value 0.01\n"
     ]
    },
    {
     "name": "stderr",
     "output_type": "stream",
     "text": [
      "2023-03-08 20:27:04,896 - /Users/durian/Nutstore Files/Research/InvNet/gsm/gsm_solving_approach/base_slp.py[line:147] - INFO: Set parameter MIPGap to value 0.01\n"
     ]
    },
    {
     "name": "stdout",
     "output_type": "stream",
     "text": [
      "Set parameter MIPGap to value 0.01\n"
     ]
    },
    {
     "name": "stderr",
     "output_type": "stream",
     "text": [
      "2023-03-08 20:27:04,916 - /Users/durian/Nutstore Files/Research/InvNet/gsm/gsm_solving_approach/base_slp.py[line:147] - INFO: Set parameter MIPGap to value 0.01\n"
     ]
    },
    {
     "name": "stdout",
     "output_type": "stream",
     "text": [
      "Set parameter MIPGap to value 0.01\n"
     ]
    },
    {
     "name": "stderr",
     "output_type": "stream",
     "text": [
      "2023-03-08 20:27:04,927 - /Users/durian/Nutstore Files/Research/InvNet/gsm/gsm_solving_approach/base_slp.py[line:147] - INFO: Set parameter MIPGap to value 0.01\n"
     ]
    },
    {
     "name": "stdout",
     "output_type": "stream",
     "text": [
      "Set parameter MIPGap to value 0.01\n"
     ]
    },
    {
     "name": "stderr",
     "output_type": "stream",
     "text": [
      "2023-03-08 20:27:04,947 - /Users/durian/Nutstore Files/Research/InvNet/gsm/gsm_solving_approach/base_slp.py[line:147] - INFO: Set parameter MIPGap to value 0.01\n"
     ]
    },
    {
     "name": "stdout",
     "output_type": "stream",
     "text": [
      "Set parameter MIPGap to value 0.01\n"
     ]
    },
    {
     "name": "stderr",
     "output_type": "stream",
     "text": [
      "2023-03-08 20:27:04,964 - /Users/durian/Nutstore Files/Research/InvNet/gsm/gsm_solving_approach/base_slp.py[line:147] - INFO: Set parameter MIPGap to value 0.01\n"
     ]
    },
    {
     "name": "stdout",
     "output_type": "stream",
     "text": [
      "Set parameter MIPGap to value 0.01\n"
     ]
    },
    {
     "name": "stderr",
     "output_type": "stream",
     "text": [
      "2023-03-08 20:27:04,973 - /Users/durian/Nutstore Files/Research/InvNet/gsm/gsm_solving_approach/base_slp.py[line:147] - INFO: Set parameter MIPGap to value 0.01\n"
     ]
    },
    {
     "name": "stdout",
     "output_type": "stream",
     "text": [
      "Set parameter MIPGap to value 0.01\n"
     ]
    },
    {
     "name": "stderr",
     "output_type": "stream",
     "text": [
      "2023-03-08 20:27:04,978 - /Users/durian/Nutstore Files/Research/InvNet/gsm/gsm_solving_approach/base_slp.py[line:147] - INFO: Set parameter MIPGap to value 0.01\n"
     ]
    },
    {
     "name": "stdout",
     "output_type": "stream",
     "text": [
      "Set parameter MIPGap to value 0.01\n"
     ]
    },
    {
     "name": "stderr",
     "output_type": "stream",
     "text": [
      "2023-03-08 20:27:04,999 - /Users/durian/Nutstore Files/Research/InvNet/gsm/gsm_solving_approach/base_slp.py[line:147] - INFO: Set parameter MIPGap to value 0.01\n"
     ]
    },
    {
     "name": "stdout",
     "output_type": "stream",
     "text": [
      "Set parameter MIPGap to value 0.01\n"
     ]
    },
    {
     "name": "stderr",
     "output_type": "stream",
     "text": [
      "2023-03-08 20:27:05,012 - /Users/durian/Nutstore Files/Research/InvNet/gsm/gsm_solving_approach/base_slp.py[line:147] - INFO: Set parameter MIPGap to value 0.01\n"
     ]
    },
    {
     "name": "stdout",
     "output_type": "stream",
     "text": [
      "Set parameter MIPGap to value 0.01\n"
     ]
    },
    {
     "name": "stderr",
     "output_type": "stream",
     "text": [
      "2023-03-08 20:27:05,022 - /Users/durian/Nutstore Files/Research/InvNet/gsm/gsm_solving_approach/base_slp.py[line:147] - INFO: Set parameter MIPGap to value 0.01\n"
     ]
    },
    {
     "name": "stdout",
     "output_type": "stream",
     "text": [
      "Set parameter MIPGap to value 0.01\n"
     ]
    },
    {
     "name": "stderr",
     "output_type": "stream",
     "text": [
      "2023-03-08 20:27:05,035 - /Users/durian/Nutstore Files/Research/InvNet/gsm/gsm_solving_approach/base_slp.py[line:147] - INFO: Set parameter MIPGap to value 0.01\n"
     ]
    },
    {
     "name": "stdout",
     "output_type": "stream",
     "text": [
      "Set parameter MIPGap to value 0.01\n"
     ]
    },
    {
     "name": "stderr",
     "output_type": "stream",
     "text": [
      "2023-03-08 20:27:05,047 - /Users/durian/Nutstore Files/Research/InvNet/gsm/gsm_solving_approach/base_slp.py[line:147] - INFO: Set parameter MIPGap to value 0.01\n"
     ]
    },
    {
     "name": "stdout",
     "output_type": "stream",
     "text": [
      "Set parameter MIPGap to value 0.01\n"
     ]
    },
    {
     "name": "stderr",
     "output_type": "stream",
     "text": [
      "2023-03-08 20:27:05,055 - /Users/durian/Nutstore Files/Research/InvNet/gsm/gsm_solving_approach/base_slp.py[line:147] - INFO: Set parameter MIPGap to value 0.01\n"
     ]
    },
    {
     "name": "stdout",
     "output_type": "stream",
     "text": [
      "Set parameter MIPGap to value 0.01\n"
     ]
    },
    {
     "name": "stderr",
     "output_type": "stream",
     "text": [
      "2023-03-08 20:27:05,066 - /Users/durian/Nutstore Files/Research/InvNet/gsm/gsm_solving_approach/base_slp.py[line:147] - INFO: Set parameter MIPGap to value 0.01\n"
     ]
    },
    {
     "name": "stdout",
     "output_type": "stream",
     "text": [
      "Set parameter MIPGap to value 0.01\n"
     ]
    },
    {
     "name": "stderr",
     "output_type": "stream",
     "text": [
      "2023-03-08 20:27:05,078 - /Users/durian/Nutstore Files/Research/InvNet/gsm/gsm_solving_approach/base_slp.py[line:147] - INFO: Set parameter MIPGap to value 0.01\n"
     ]
    },
    {
     "name": "stdout",
     "output_type": "stream",
     "text": [
      "Set parameter MIPGap to value 0.01\n"
     ]
    },
    {
     "name": "stderr",
     "output_type": "stream",
     "text": [
      "2023-03-08 20:27:05,088 - /Users/durian/Nutstore Files/Research/InvNet/gsm/gsm_solving_approach/base_slp.py[line:147] - INFO: Set parameter MIPGap to value 0.01\n"
     ]
    },
    {
     "name": "stdout",
     "output_type": "stream",
     "text": [
      "Set parameter MIPGap to value 0.01\n"
     ]
    },
    {
     "name": "stderr",
     "output_type": "stream",
     "text": [
      "2023-03-08 20:27:05,095 - /Users/durian/Nutstore Files/Research/InvNet/gsm/gsm_solving_approach/base_slp.py[line:147] - INFO: Set parameter MIPGap to value 0.01\n"
     ]
    },
    {
     "name": "stdout",
     "output_type": "stream",
     "text": [
      "Set parameter MIPGap to value 0.01\n"
     ]
    },
    {
     "name": "stderr",
     "output_type": "stream",
     "text": [
      "2023-03-08 20:27:05,105 - /Users/durian/Nutstore Files/Research/InvNet/gsm/gsm_solving_approach/base_slp.py[line:147] - INFO: Set parameter MIPGap to value 0.01\n"
     ]
    },
    {
     "name": "stdout",
     "output_type": "stream",
     "text": [
      "Set parameter MIPGap to value 0.01\n"
     ]
    },
    {
     "name": "stderr",
     "output_type": "stream",
     "text": [
      "2023-03-08 20:27:05,117 - /Users/durian/Nutstore Files/Research/InvNet/gsm/gsm_solving_approach/base_slp.py[line:147] - INFO: Set parameter MIPGap to value 0.01\n"
     ]
    },
    {
     "name": "stdout",
     "output_type": "stream",
     "text": [
      "Set parameter MIPGap to value 0.01\n"
     ]
    },
    {
     "name": "stderr",
     "output_type": "stream",
     "text": [
      "2023-03-08 20:27:05,128 - /Users/durian/Nutstore Files/Research/InvNet/gsm/gsm_solving_approach/base_slp.py[line:147] - INFO: Set parameter MIPGap to value 0.01\n"
     ]
    },
    {
     "name": "stdout",
     "output_type": "stream",
     "text": [
      "Set parameter MIPGap to value 0.01\n"
     ]
    },
    {
     "name": "stderr",
     "output_type": "stream",
     "text": [
      "2023-03-08 20:27:05,139 - /Users/durian/Nutstore Files/Research/InvNet/gsm/gsm_solving_approach/base_slp.py[line:147] - INFO: Set parameter MIPGap to value 0.01\n"
     ]
    },
    {
     "name": "stdout",
     "output_type": "stream",
     "text": [
      "Set parameter MIPGap to value 0.01\n"
     ]
    },
    {
     "name": "stderr",
     "output_type": "stream",
     "text": [
      "2023-03-08 20:27:05,151 - /Users/durian/Nutstore Files/Research/InvNet/gsm/gsm_solving_approach/base_slp.py[line:147] - INFO: Set parameter MIPGap to value 0.01\n"
     ]
    },
    {
     "name": "stdout",
     "output_type": "stream",
     "text": [
      "This graph can be decomposed\n"
     ]
    },
    {
     "name": "stderr",
     "output_type": "stream",
     "text": [
      "2023-03-08 20:27:05,450 - /Users/durian/Nutstore Files/Research/InvNet/gsm/gsm_sol.py[line:249] - INFO: ID-SLP_GRB_cv_safety stock cost is 38227739.28\n",
      "2023-03-08 20:27:05,453 - /Users/durian/Nutstore Files/Research/InvNet/utils/system_utils.py[line:29] - DEBUG: func @get_policy use 55.076281 (s)\n"
     ]
    }
   ],
   "source": [
    "random_task.run(solver='GRB')"
   ]
  },
  {
   "cell_type": "markdown",
   "id": "448d1526",
   "metadata": {
    "pycharm": {
     "name": "#%% md\n"
    }
   },
   "source": [
    "## Reference\n",
    "- Eruguz AS, Sahin E, Jemai Z, Dallery Y (2016) A comprehensive survey of guaranteed-service models for multi-echelon inventory optimization. International Journal of Production Economics 172:110–125. https://doi.org/10.1016/j.ijpe.2015.11.017\n",
    "- Grahl, J., Minner, S., Dittmar, D., 2016. Meta-heuristics for placing strategic safety stock in multi-echelon inventory with differentiated service times. Annals of Operations Research 242, 489–504.\n",
    "- Graves SC, Willems SP (2000) Optimizing strategic safety stock placement in supply chains. M&SOM 2:68–83. https://doi.org/10.1287/msom.2.1.68.23267\n",
    "- Huang D, Yu J, Yang C (2022) Optimizing Large-scale Inventory Networks: An Iterative Decomposition Approach.\n",
    "- Humair S, Willems SP (2011) TECHNICAL NOTE—Optimizing Strategic Safety Stock Placement in General Acyclic Networks. Operations Research 59:781–787. https://doi.org/10.1287/opre.1100.0913\n",
    "- Magnanti TL, Shen Z-JM, Shu J, et al (2006) Inventory placement in acyclic supply chain networks. Operations Research Letters 34:228–238\n",
    "- Shu J, Karimi IA (2009) Efficient heuristics for inventory placement in acyclic networks. Computers & Operations Research 36:2899–2904. https://doi.org/10.1016/j.cor.2009.01.001\n"
   ]
  }
 ],
 "metadata": {
  "kernelspec": {
   "display_name": "Python 3 (ipykernel)",
   "language": "python",
   "name": "python3"
  },
  "language_info": {
   "codemirror_mode": {
    "name": "ipython",
    "version": 3
   },
   "file_extension": ".py",
   "mimetype": "text/x-python",
   "name": "python",
   "nbconvert_exporter": "python",
   "pygments_lexer": "ipython3",
   "version": "3.9.10"
  },
  "vscode": {
   "interpreter": {
    "hash": "152a299747f615582f6994b31e7565bd00f37c3713b4b408a252f34de6cf6159"
   }
  }
 },
 "nbformat": 4,
 "nbformat_minor": 5
}
